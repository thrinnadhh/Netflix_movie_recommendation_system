{
  "cells": [
    {
      "cell_type": "markdown",
      "metadata": {
        "id": "view-in-github",
        "colab_type": "text"
      },
      "source": [
        "<a href=\"https://colab.research.google.com/github/thrinnadhh/Netflix_movie_recommendation_system/blob/main/NMRS.ipynb\" target=\"_parent\"><img src=\"https://colab.research.google.com/assets/colab-badge.svg\" alt=\"Open In Colab\"/></a>"
      ]
    },
    {
      "cell_type": "code",
      "execution_count": null,
      "metadata": {
        "id": "yotuDYyQaN0e"
      },
      "outputs": [],
      "source": [
        "! mkdir ~/.kaggle"
      ]
    },
    {
      "cell_type": "code",
      "execution_count": null,
      "metadata": {
        "id": "y_Ec-MlbahyJ"
      },
      "outputs": [],
      "source": [
        "! cp kaggle.json ~/.kaggle"
      ]
    },
    {
      "cell_type": "code",
      "execution_count": null,
      "metadata": {
        "id": "PYSEN0Jaatah"
      },
      "outputs": [],
      "source": [
        "! chmod 600 ~/.kaggle/kaggle.json"
      ]
    },
    {
      "cell_type": "code",
      "execution_count": null,
      "metadata": {
        "colab": {
          "base_uri": "https://localhost:8080/"
        },
        "id": "H7V26F2CbC87",
        "outputId": "a090d678-54b8-4637-c091-ea31704a28ce"
      },
      "outputs": [
        {
          "output_type": "stream",
          "name": "stdout",
          "text": [
            "Downloading netflix-prize-data.zip to /content\n",
            " 97% 663M/683M [00:04<00:00, 194MB/s]\n",
            "100% 683M/683M [00:04<00:00, 175MB/s]\n"
          ]
        }
      ],
      "source": [
        "! kaggle datasets download -d netflix-inc/netflix-prize-data"
      ]
    },
    {
      "cell_type": "code",
      "execution_count": null,
      "metadata": {
        "colab": {
          "base_uri": "https://localhost:8080/"
        },
        "id": "HKPMPpkbbTqy",
        "outputId": "1b5b3072-1577-460b-a302-0d1a5c728ad8"
      },
      "outputs": [
        {
          "output_type": "stream",
          "name": "stdout",
          "text": [
            "The zip got extracted\n"
          ]
        }
      ],
      "source": [
        "from zipfile import ZipFile\n",
        "dataset=\"/content/netflix-prize-data.zip\"\n",
        "with ZipFile(dataset,\"r\") as zip:\n",
        "  zip.extractall()\n",
        "print(\"The zip got extracted\")"
      ]
    },
    {
      "cell_type": "markdown",
      "metadata": {
        "id": "thii8lqccCQj"
      },
      "source": [
        "Importing the dependencies"
      ]
    },
    {
      "cell_type": "code",
      "execution_count": null,
      "metadata": {
        "id": "7zF_UvLubs8l"
      },
      "outputs": [],
      "source": [
        "from datetime import datetime\n",
        "import numpy as np\n",
        "import pandas as pd\n",
        "import matplotlib\n",
        "matplotlib.use('nbagg')\n",
        "import matplotlib.pyplot as plt\n",
        "%matplotlib inline\n",
        "import seaborn as sns\n",
        "sns.set_style('whitegrid')\n",
        "import random\n",
        "import os\n",
        "import scipy\n",
        "from scipy import sparse\n",
        "from scipy.sparse import csr_matrix\n",
        "from sklearn.decomposition import TruncatedSVD\n",
        "from sklearn.metrics.pairwise import cosine_similarity"
      ]
    },
    {
      "cell_type": "code",
      "execution_count": null,
      "metadata": {
        "colab": {
          "base_uri": "https://localhost:8080/"
        },
        "id": "anjH4M3Lc4fO",
        "outputId": "b51832c3-abe3-49cd-f44f-bc6307515763"
      },
      "outputs": [
        {
          "output_type": "stream",
          "name": "stdout",
          "text": [
            "Reading the rating from the file /content/combined_data_1.txt\n",
            "Done\n",
            "Reading the rating from the file /content/combined_data_2.txt\n",
            "Done\n",
            "Reading the rating from the file /content/combined_data_3.txt\n",
            "Done\n",
            "Reading the rating from the file /content/combined_data_4.txt\n",
            "Done\n",
            "The data file got closed\n",
            "The time taken for the process is: 0:02:37.689379\n"
          ]
        }
      ],
      "source": [
        "##combining the dataset\n",
        "start_time=datetime.now()\n",
        "if not os.path.isfile('data.csv'):\n",
        "  data=open('data.csv',mode='w')\n",
        "  files=[\"/content/combined_data_1.txt\",\"/content/combined_data_2.txt\",\"/content/combined_data_3.txt\",\"/content/combined_data_4.txt\"]\n",
        "  row=[]\n",
        "  for file in files:\n",
        "    with open(file) as f:\n",
        "      print(\"Reading the rating from the file\",file)\n",
        "      for line in f:\n",
        "        line=line.strip()\n",
        "        if line.endswith(\":\"):\n",
        "          movie_id=line.replace(\":\",\"\")\n",
        "        else:\n",
        "          row=[x for x in line.split(\",\")]\n",
        "          row.insert(0,movie_id)\n",
        "          data.write(\",\".join(row))\n",
        "          data.write(\"\\n\")\n",
        "      print(\"Done\")\n",
        "  data.close()\n",
        "print(\"The data file got closed\")\n",
        "print(\"The time taken for the process is:\",datetime.now()-start_time)\n",
        "\n",
        "\n"
      ]
    },
    {
      "cell_type": "code",
      "execution_count": null,
      "metadata": {
        "colab": {
          "base_uri": "https://localhost:8080/"
        },
        "id": "486qd8xhgSag",
        "outputId": "c5118e84-ba6f-48b9-e7cb-e9f46689d6d9"
      },
      "outputs": [
        {
          "output_type": "stream",
          "name": "stdout",
          "text": [
            "Creating the dataframe from the dataset\n"
          ]
        }
      ],
      "source": [
        "print(\"Creating the dataframe from the dataset\")\n",
        "df=pd.read_csv('/content/data.csv',sep=\",\",names=['movie','user','rating','date'])\n",
        "df.date=pd.to_datetime(df.date)\n",
        "\n"
      ]
    },
    {
      "cell_type": "code",
      "execution_count": null,
      "metadata": {
        "colab": {
          "base_uri": "https://localhost:8080/",
          "height": 206
        },
        "id": "jTIkp1p906-S",
        "outputId": "ea3965e0-bc9c-4b36-aa2a-e3bb34c91014"
      },
      "outputs": [
        {
          "output_type": "execute_result",
          "data": {
            "text/plain": [
              "   movie     user  rating       date\n",
              "0      1  1488844       3 2005-09-06\n",
              "1      1   822109       5 2005-05-13\n",
              "2      1   885013       4 2005-10-19\n",
              "3      1    30878       4 2005-12-26\n",
              "4      1   823519       3 2004-05-03"
            ],
            "text/html": [
              "\n",
              "  <div id=\"df-7d971e7f-99be-4bcf-88b0-51bed80e5e08\">\n",
              "    <div class=\"colab-df-container\">\n",
              "      <div>\n",
              "<style scoped>\n",
              "    .dataframe tbody tr th:only-of-type {\n",
              "        vertical-align: middle;\n",
              "    }\n",
              "\n",
              "    .dataframe tbody tr th {\n",
              "        vertical-align: top;\n",
              "    }\n",
              "\n",
              "    .dataframe thead th {\n",
              "        text-align: right;\n",
              "    }\n",
              "</style>\n",
              "<table border=\"1\" class=\"dataframe\">\n",
              "  <thead>\n",
              "    <tr style=\"text-align: right;\">\n",
              "      <th></th>\n",
              "      <th>movie</th>\n",
              "      <th>user</th>\n",
              "      <th>rating</th>\n",
              "      <th>date</th>\n",
              "    </tr>\n",
              "  </thead>\n",
              "  <tbody>\n",
              "    <tr>\n",
              "      <th>0</th>\n",
              "      <td>1</td>\n",
              "      <td>1488844</td>\n",
              "      <td>3</td>\n",
              "      <td>2005-09-06</td>\n",
              "    </tr>\n",
              "    <tr>\n",
              "      <th>1</th>\n",
              "      <td>1</td>\n",
              "      <td>822109</td>\n",
              "      <td>5</td>\n",
              "      <td>2005-05-13</td>\n",
              "    </tr>\n",
              "    <tr>\n",
              "      <th>2</th>\n",
              "      <td>1</td>\n",
              "      <td>885013</td>\n",
              "      <td>4</td>\n",
              "      <td>2005-10-19</td>\n",
              "    </tr>\n",
              "    <tr>\n",
              "      <th>3</th>\n",
              "      <td>1</td>\n",
              "      <td>30878</td>\n",
              "      <td>4</td>\n",
              "      <td>2005-12-26</td>\n",
              "    </tr>\n",
              "    <tr>\n",
              "      <th>4</th>\n",
              "      <td>1</td>\n",
              "      <td>823519</td>\n",
              "      <td>3</td>\n",
              "      <td>2004-05-03</td>\n",
              "    </tr>\n",
              "  </tbody>\n",
              "</table>\n",
              "</div>\n",
              "      <button class=\"colab-df-convert\" onclick=\"convertToInteractive('df-7d971e7f-99be-4bcf-88b0-51bed80e5e08')\"\n",
              "              title=\"Convert this dataframe to an interactive table.\"\n",
              "              style=\"display:none;\">\n",
              "        \n",
              "  <svg xmlns=\"http://www.w3.org/2000/svg\" height=\"24px\"viewBox=\"0 0 24 24\"\n",
              "       width=\"24px\">\n",
              "    <path d=\"M0 0h24v24H0V0z\" fill=\"none\"/>\n",
              "    <path d=\"M18.56 5.44l.94 2.06.94-2.06 2.06-.94-2.06-.94-.94-2.06-.94 2.06-2.06.94zm-11 1L8.5 8.5l.94-2.06 2.06-.94-2.06-.94L8.5 2.5l-.94 2.06-2.06.94zm10 10l.94 2.06.94-2.06 2.06-.94-2.06-.94-.94-2.06-.94 2.06-2.06.94z\"/><path d=\"M17.41 7.96l-1.37-1.37c-.4-.4-.92-.59-1.43-.59-.52 0-1.04.2-1.43.59L10.3 9.45l-7.72 7.72c-.78.78-.78 2.05 0 2.83L4 21.41c.39.39.9.59 1.41.59.51 0 1.02-.2 1.41-.59l7.78-7.78 2.81-2.81c.8-.78.8-2.07 0-2.86zM5.41 20L4 18.59l7.72-7.72 1.47 1.35L5.41 20z\"/>\n",
              "  </svg>\n",
              "      </button>\n",
              "      \n",
              "  <style>\n",
              "    .colab-df-container {\n",
              "      display:flex;\n",
              "      flex-wrap:wrap;\n",
              "      gap: 12px;\n",
              "    }\n",
              "\n",
              "    .colab-df-convert {\n",
              "      background-color: #E8F0FE;\n",
              "      border: none;\n",
              "      border-radius: 50%;\n",
              "      cursor: pointer;\n",
              "      display: none;\n",
              "      fill: #1967D2;\n",
              "      height: 32px;\n",
              "      padding: 0 0 0 0;\n",
              "      width: 32px;\n",
              "    }\n",
              "\n",
              "    .colab-df-convert:hover {\n",
              "      background-color: #E2EBFA;\n",
              "      box-shadow: 0px 1px 2px rgba(60, 64, 67, 0.3), 0px 1px 3px 1px rgba(60, 64, 67, 0.15);\n",
              "      fill: #174EA6;\n",
              "    }\n",
              "\n",
              "    [theme=dark] .colab-df-convert {\n",
              "      background-color: #3B4455;\n",
              "      fill: #D2E3FC;\n",
              "    }\n",
              "\n",
              "    [theme=dark] .colab-df-convert:hover {\n",
              "      background-color: #434B5C;\n",
              "      box-shadow: 0px 1px 3px 1px rgba(0, 0, 0, 0.15);\n",
              "      filter: drop-shadow(0px 1px 2px rgba(0, 0, 0, 0.3));\n",
              "      fill: #FFFFFF;\n",
              "    }\n",
              "  </style>\n",
              "\n",
              "      <script>\n",
              "        const buttonEl =\n",
              "          document.querySelector('#df-7d971e7f-99be-4bcf-88b0-51bed80e5e08 button.colab-df-convert');\n",
              "        buttonEl.style.display =\n",
              "          google.colab.kernel.accessAllowed ? 'block' : 'none';\n",
              "\n",
              "        async function convertToInteractive(key) {\n",
              "          const element = document.querySelector('#df-7d971e7f-99be-4bcf-88b0-51bed80e5e08');\n",
              "          const dataTable =\n",
              "            await google.colab.kernel.invokeFunction('convertToInteractive',\n",
              "                                                     [key], {});\n",
              "          if (!dataTable) return;\n",
              "\n",
              "          const docLinkHtml = 'Like what you see? Visit the ' +\n",
              "            '<a target=\"_blank\" href=https://colab.research.google.com/notebooks/data_table.ipynb>data table notebook</a>'\n",
              "            + ' to learn more about interactive tables.';\n",
              "          element.innerHTML = '';\n",
              "          dataTable['output_type'] = 'display_data';\n",
              "          await google.colab.output.renderOutput(dataTable, element);\n",
              "          const docLink = document.createElement('div');\n",
              "          docLink.innerHTML = docLinkHtml;\n",
              "          element.appendChild(docLink);\n",
              "        }\n",
              "      </script>\n",
              "    </div>\n",
              "  </div>\n",
              "  "
            ]
          },
          "metadata": {},
          "execution_count": 9
        }
      ],
      "source": [
        "df.head()"
      ]
    },
    {
      "cell_type": "code",
      "execution_count": null,
      "metadata": {
        "colab": {
          "base_uri": "https://localhost:8080/"
        },
        "id": "jiJyVTWk3aGY",
        "outputId": "a1d05085-2d44-4f16-92b7-a17df65b1479"
      },
      "outputs": [
        {
          "output_type": "stream",
          "name": "stdout",
          "text": [
            "sorting values by date\n"
          ]
        }
      ],
      "source": [
        "print('sorting values by date')\n",
        "df.sort_values(by='date',inplace=True)\n",
        "print(\"The values got sorted by date\")"
      ]
    },
    {
      "cell_type": "code",
      "execution_count": null,
      "metadata": {
        "id": "HLfr-aH9ilNc",
        "colab": {
          "base_uri": "https://localhost:8080/",
          "height": 206
        },
        "outputId": "27a5db50-a2a8-42fc-805a-64e478b9dd1c"
      },
      "outputs": [
        {
          "output_type": "execute_result",
          "data": {
            "text/plain": [
              "          movie    user  rating       date\n",
              "56431994  10341  510180       4 1999-11-11\n",
              "9056171    1798  510180       5 1999-11-11\n",
              "58698779  10774  510180       3 1999-11-11\n",
              "48101611   8651  510180       2 1999-11-11\n",
              "81893208  14660  510180       2 1999-11-11"
            ],
            "text/html": [
              "\n",
              "  <div id=\"df-58bdefb0-5558-4f21-9c2f-5ae53c9916a9\">\n",
              "    <div class=\"colab-df-container\">\n",
              "      <div>\n",
              "<style scoped>\n",
              "    .dataframe tbody tr th:only-of-type {\n",
              "        vertical-align: middle;\n",
              "    }\n",
              "\n",
              "    .dataframe tbody tr th {\n",
              "        vertical-align: top;\n",
              "    }\n",
              "\n",
              "    .dataframe thead th {\n",
              "        text-align: right;\n",
              "    }\n",
              "</style>\n",
              "<table border=\"1\" class=\"dataframe\">\n",
              "  <thead>\n",
              "    <tr style=\"text-align: right;\">\n",
              "      <th></th>\n",
              "      <th>movie</th>\n",
              "      <th>user</th>\n",
              "      <th>rating</th>\n",
              "      <th>date</th>\n",
              "    </tr>\n",
              "  </thead>\n",
              "  <tbody>\n",
              "    <tr>\n",
              "      <th>56431994</th>\n",
              "      <td>10341</td>\n",
              "      <td>510180</td>\n",
              "      <td>4</td>\n",
              "      <td>1999-11-11</td>\n",
              "    </tr>\n",
              "    <tr>\n",
              "      <th>9056171</th>\n",
              "      <td>1798</td>\n",
              "      <td>510180</td>\n",
              "      <td>5</td>\n",
              "      <td>1999-11-11</td>\n",
              "    </tr>\n",
              "    <tr>\n",
              "      <th>58698779</th>\n",
              "      <td>10774</td>\n",
              "      <td>510180</td>\n",
              "      <td>3</td>\n",
              "      <td>1999-11-11</td>\n",
              "    </tr>\n",
              "    <tr>\n",
              "      <th>48101611</th>\n",
              "      <td>8651</td>\n",
              "      <td>510180</td>\n",
              "      <td>2</td>\n",
              "      <td>1999-11-11</td>\n",
              "    </tr>\n",
              "    <tr>\n",
              "      <th>81893208</th>\n",
              "      <td>14660</td>\n",
              "      <td>510180</td>\n",
              "      <td>2</td>\n",
              "      <td>1999-11-11</td>\n",
              "    </tr>\n",
              "  </tbody>\n",
              "</table>\n",
              "</div>\n",
              "      <button class=\"colab-df-convert\" onclick=\"convertToInteractive('df-58bdefb0-5558-4f21-9c2f-5ae53c9916a9')\"\n",
              "              title=\"Convert this dataframe to an interactive table.\"\n",
              "              style=\"display:none;\">\n",
              "        \n",
              "  <svg xmlns=\"http://www.w3.org/2000/svg\" height=\"24px\"viewBox=\"0 0 24 24\"\n",
              "       width=\"24px\">\n",
              "    <path d=\"M0 0h24v24H0V0z\" fill=\"none\"/>\n",
              "    <path d=\"M18.56 5.44l.94 2.06.94-2.06 2.06-.94-2.06-.94-.94-2.06-.94 2.06-2.06.94zm-11 1L8.5 8.5l.94-2.06 2.06-.94-2.06-.94L8.5 2.5l-.94 2.06-2.06.94zm10 10l.94 2.06.94-2.06 2.06-.94-2.06-.94-.94-2.06-.94 2.06-2.06.94z\"/><path d=\"M17.41 7.96l-1.37-1.37c-.4-.4-.92-.59-1.43-.59-.52 0-1.04.2-1.43.59L10.3 9.45l-7.72 7.72c-.78.78-.78 2.05 0 2.83L4 21.41c.39.39.9.59 1.41.59.51 0 1.02-.2 1.41-.59l7.78-7.78 2.81-2.81c.8-.78.8-2.07 0-2.86zM5.41 20L4 18.59l7.72-7.72 1.47 1.35L5.41 20z\"/>\n",
              "  </svg>\n",
              "      </button>\n",
              "      \n",
              "  <style>\n",
              "    .colab-df-container {\n",
              "      display:flex;\n",
              "      flex-wrap:wrap;\n",
              "      gap: 12px;\n",
              "    }\n",
              "\n",
              "    .colab-df-convert {\n",
              "      background-color: #E8F0FE;\n",
              "      border: none;\n",
              "      border-radius: 50%;\n",
              "      cursor: pointer;\n",
              "      display: none;\n",
              "      fill: #1967D2;\n",
              "      height: 32px;\n",
              "      padding: 0 0 0 0;\n",
              "      width: 32px;\n",
              "    }\n",
              "\n",
              "    .colab-df-convert:hover {\n",
              "      background-color: #E2EBFA;\n",
              "      box-shadow: 0px 1px 2px rgba(60, 64, 67, 0.3), 0px 1px 3px 1px rgba(60, 64, 67, 0.15);\n",
              "      fill: #174EA6;\n",
              "    }\n",
              "\n",
              "    [theme=dark] .colab-df-convert {\n",
              "      background-color: #3B4455;\n",
              "      fill: #D2E3FC;\n",
              "    }\n",
              "\n",
              "    [theme=dark] .colab-df-convert:hover {\n",
              "      background-color: #434B5C;\n",
              "      box-shadow: 0px 1px 3px 1px rgba(0, 0, 0, 0.15);\n",
              "      filter: drop-shadow(0px 1px 2px rgba(0, 0, 0, 0.3));\n",
              "      fill: #FFFFFF;\n",
              "    }\n",
              "  </style>\n",
              "\n",
              "      <script>\n",
              "        const buttonEl =\n",
              "          document.querySelector('#df-58bdefb0-5558-4f21-9c2f-5ae53c9916a9 button.colab-df-convert');\n",
              "        buttonEl.style.display =\n",
              "          google.colab.kernel.accessAllowed ? 'block' : 'none';\n",
              "\n",
              "        async function convertToInteractive(key) {\n",
              "          const element = document.querySelector('#df-58bdefb0-5558-4f21-9c2f-5ae53c9916a9');\n",
              "          const dataTable =\n",
              "            await google.colab.kernel.invokeFunction('convertToInteractive',\n",
              "                                                     [key], {});\n",
              "          if (!dataTable) return;\n",
              "\n",
              "          const docLinkHtml = 'Like what you see? Visit the ' +\n",
              "            '<a target=\"_blank\" href=https://colab.research.google.com/notebooks/data_table.ipynb>data table notebook</a>'\n",
              "            + ' to learn more about interactive tables.';\n",
              "          element.innerHTML = '';\n",
              "          dataTable['output_type'] = 'display_data';\n",
              "          await google.colab.output.renderOutput(dataTable, element);\n",
              "          const docLink = document.createElement('div');\n",
              "          docLink.innerHTML = docLinkHtml;\n",
              "          element.appendChild(docLink);\n",
              "        }\n",
              "      </script>\n",
              "    </div>\n",
              "  </div>\n",
              "  "
            ]
          },
          "metadata": {},
          "execution_count": 11
        }
      ],
      "source": [
        "df.head()"
      ]
    },
    {
      "cell_type": "code",
      "execution_count": null,
      "metadata": {
        "id": "ALxH_JsbjABk",
        "colab": {
          "base_uri": "https://localhost:8080/"
        },
        "outputId": "ba022c93-ffab-4cb4-fb2c-107075a38f3c"
      },
      "outputs": [
        {
          "output_type": "execute_result",
          "data": {
            "text/plain": [
              "count    1.004805e+08\n",
              "mean     3.604290e+00\n",
              "std      1.085219e+00\n",
              "min      1.000000e+00\n",
              "25%      3.000000e+00\n",
              "50%      4.000000e+00\n",
              "75%      4.000000e+00\n",
              "max      5.000000e+00\n",
              "Name: rating, dtype: float64"
            ]
          },
          "metadata": {},
          "execution_count": 12
        }
      ],
      "source": [
        "df.describe()['rating']"
      ]
    },
    {
      "cell_type": "markdown",
      "metadata": {
        "id": "g0qXvy8YjNcy"
      },
      "source": [
        "From this we can see that 75 and 50 percent of rating are on 4.\n",
        "\n",
        "Mean is 3.6 which indicates that netflix is providing the good content"
      ]
    },
    {
      "cell_type": "markdown",
      "metadata": {
        "id": "1vNVlMKfjwa0"
      },
      "source": [
        "Checking for the nan values"
      ]
    },
    {
      "cell_type": "code",
      "execution_count": null,
      "metadata": {
        "id": "ycJ5YNdkjHA6",
        "colab": {
          "base_uri": "https://localhost:8080/"
        },
        "outputId": "b180eb35-2d4d-473b-d403-c854587e80bb"
      },
      "outputs": [
        {
          "output_type": "stream",
          "name": "stdout",
          "text": [
            "The sum of null values are: 0\n"
          ]
        }
      ],
      "source": [
        "print(\"The sum of null values are:\",sum(df.isnull().any()))"
      ]
    },
    {
      "cell_type": "code",
      "execution_count": null,
      "metadata": {
        "id": "qyBtupVEkJzF",
        "colab": {
          "base_uri": "https://localhost:8080/"
        },
        "outputId": "bb9c5efe-ae2d-47e0-e4a4-7015fa2ca9ea"
      },
      "outputs": [
        {
          "output_type": "stream",
          "name": "stdout",
          "text": [
            "0\n"
          ]
        }
      ],
      "source": [
        "##checking for the duplicates\n",
        "dup_bool=df.duplicated(['movie','user','rating'])\n",
        "print(sum(dup_bool))"
      ]
    },
    {
      "cell_type": "code",
      "execution_count": null,
      "metadata": {
        "id": "JOgeQPZvmD1c",
        "colab": {
          "base_uri": "https://localhost:8080/"
        },
        "outputId": "6c3c6ed8-2924-4720-ce2f-4ae706be62d3"
      },
      "outputs": [
        {
          "output_type": "execute_result",
          "data": {
            "text/plain": [
              "(100480507, 4)"
            ]
          },
          "metadata": {},
          "execution_count": 5
        }
      ],
      "source": [
        "df.shape"
      ]
    },
    {
      "cell_type": "code",
      "execution_count": null,
      "metadata": {
        "id": "By0TG4inlZVC",
        "colab": {
          "base_uri": "https://localhost:8080/"
        },
        "outputId": "0a9efcb3-97fa-43ba-8740-dd6537686c00"
      },
      "outputs": [
        {
          "output_type": "stream",
          "name": "stdout",
          "text": [
            "Total number of training data 100480507\n",
            "**************************************************\n",
            "Total number of unique user 480189\n",
            "Total number of unique movie 17770\n"
          ]
        }
      ],
      "source": [
        "##Basic stats\n",
        "print(\"Total number of training data\",df.shape[0])\n",
        "print(\"*\"*50)\n",
        "print(\"Total number of unique user\",len(np.unique(df.user)))\n",
        "print('Total number of unique movie',len(np.unique(df.movie)))"
      ]
    },
    {
      "cell_type": "code",
      "execution_count": null,
      "metadata": {
        "colab": {
          "base_uri": "https://localhost:8080/"
        },
        "id": "ziH2tMYLmgvD",
        "outputId": "da33bb99-eb89-41c2-ddb7-07b70c99cfc9"
      },
      "outputs": [
        {
          "output_type": "stream",
          "name": "stdout",
          "text": [
            "The time it taken to run this cell is 0:11:04.296792\n"
          ]
        }
      ],
      "source": [
        "##Splitting the data into train and test data\n",
        "starttime=datetime.now()\n",
        "if not os.path.isfile('/content/train.csv'):\n",
        "  df.iloc[:int(df.shape[0]*0.80)].to_csv('train.csv',index=False)\n",
        "if not os.path.isfile('/content/test.csv'):\n",
        "  df.iloc[int(df.shape[0]*0.80):].to_csv('test.csv',index=False)\n",
        "print(\"The time it taken to run this cell is\",datetime.now()-starttime)\n"
      ]
    },
    {
      "cell_type": "code",
      "execution_count": null,
      "metadata": {
        "id": "OVP2venDf0Pl"
      },
      "outputs": [],
      "source": [
        "df=pd.read_csv('/content/train.csv')"
      ]
    },
    {
      "cell_type": "code",
      "execution_count": null,
      "metadata": {
        "colab": {
          "base_uri": "https://localhost:8080/",
          "height": 206
        },
        "id": "SMYygsbjzhOM",
        "outputId": "1ce1141b-5e6e-4b93-a13e-8c22f163f310"
      },
      "outputs": [
        {
          "output_type": "execute_result",
          "data": {
            "text/plain": [
              "   movie    user  rating        date\n",
              "0  10341  510180       4  1999-11-11\n",
              "1   1798  510180       5  1999-11-11\n",
              "2  10774  510180       3  1999-11-11\n",
              "3   8651  510180       2  1999-11-11\n",
              "4  14660  510180       2  1999-11-11"
            ],
            "text/html": [
              "\n",
              "  <div id=\"df-73017fdc-fbae-49c8-83c1-c87ddd71d287\">\n",
              "    <div class=\"colab-df-container\">\n",
              "      <div>\n",
              "<style scoped>\n",
              "    .dataframe tbody tr th:only-of-type {\n",
              "        vertical-align: middle;\n",
              "    }\n",
              "\n",
              "    .dataframe tbody tr th {\n",
              "        vertical-align: top;\n",
              "    }\n",
              "\n",
              "    .dataframe thead th {\n",
              "        text-align: right;\n",
              "    }\n",
              "</style>\n",
              "<table border=\"1\" class=\"dataframe\">\n",
              "  <thead>\n",
              "    <tr style=\"text-align: right;\">\n",
              "      <th></th>\n",
              "      <th>movie</th>\n",
              "      <th>user</th>\n",
              "      <th>rating</th>\n",
              "      <th>date</th>\n",
              "    </tr>\n",
              "  </thead>\n",
              "  <tbody>\n",
              "    <tr>\n",
              "      <th>0</th>\n",
              "      <td>10341</td>\n",
              "      <td>510180</td>\n",
              "      <td>4</td>\n",
              "      <td>1999-11-11</td>\n",
              "    </tr>\n",
              "    <tr>\n",
              "      <th>1</th>\n",
              "      <td>1798</td>\n",
              "      <td>510180</td>\n",
              "      <td>5</td>\n",
              "      <td>1999-11-11</td>\n",
              "    </tr>\n",
              "    <tr>\n",
              "      <th>2</th>\n",
              "      <td>10774</td>\n",
              "      <td>510180</td>\n",
              "      <td>3</td>\n",
              "      <td>1999-11-11</td>\n",
              "    </tr>\n",
              "    <tr>\n",
              "      <th>3</th>\n",
              "      <td>8651</td>\n",
              "      <td>510180</td>\n",
              "      <td>2</td>\n",
              "      <td>1999-11-11</td>\n",
              "    </tr>\n",
              "    <tr>\n",
              "      <th>4</th>\n",
              "      <td>14660</td>\n",
              "      <td>510180</td>\n",
              "      <td>2</td>\n",
              "      <td>1999-11-11</td>\n",
              "    </tr>\n",
              "  </tbody>\n",
              "</table>\n",
              "</div>\n",
              "      <button class=\"colab-df-convert\" onclick=\"convertToInteractive('df-73017fdc-fbae-49c8-83c1-c87ddd71d287')\"\n",
              "              title=\"Convert this dataframe to an interactive table.\"\n",
              "              style=\"display:none;\">\n",
              "        \n",
              "  <svg xmlns=\"http://www.w3.org/2000/svg\" height=\"24px\"viewBox=\"0 0 24 24\"\n",
              "       width=\"24px\">\n",
              "    <path d=\"M0 0h24v24H0V0z\" fill=\"none\"/>\n",
              "    <path d=\"M18.56 5.44l.94 2.06.94-2.06 2.06-.94-2.06-.94-.94-2.06-.94 2.06-2.06.94zm-11 1L8.5 8.5l.94-2.06 2.06-.94-2.06-.94L8.5 2.5l-.94 2.06-2.06.94zm10 10l.94 2.06.94-2.06 2.06-.94-2.06-.94-.94-2.06-.94 2.06-2.06.94z\"/><path d=\"M17.41 7.96l-1.37-1.37c-.4-.4-.92-.59-1.43-.59-.52 0-1.04.2-1.43.59L10.3 9.45l-7.72 7.72c-.78.78-.78 2.05 0 2.83L4 21.41c.39.39.9.59 1.41.59.51 0 1.02-.2 1.41-.59l7.78-7.78 2.81-2.81c.8-.78.8-2.07 0-2.86zM5.41 20L4 18.59l7.72-7.72 1.47 1.35L5.41 20z\"/>\n",
              "  </svg>\n",
              "      </button>\n",
              "      \n",
              "  <style>\n",
              "    .colab-df-container {\n",
              "      display:flex;\n",
              "      flex-wrap:wrap;\n",
              "      gap: 12px;\n",
              "    }\n",
              "\n",
              "    .colab-df-convert {\n",
              "      background-color: #E8F0FE;\n",
              "      border: none;\n",
              "      border-radius: 50%;\n",
              "      cursor: pointer;\n",
              "      display: none;\n",
              "      fill: #1967D2;\n",
              "      height: 32px;\n",
              "      padding: 0 0 0 0;\n",
              "      width: 32px;\n",
              "    }\n",
              "\n",
              "    .colab-df-convert:hover {\n",
              "      background-color: #E2EBFA;\n",
              "      box-shadow: 0px 1px 2px rgba(60, 64, 67, 0.3), 0px 1px 3px 1px rgba(60, 64, 67, 0.15);\n",
              "      fill: #174EA6;\n",
              "    }\n",
              "\n",
              "    [theme=dark] .colab-df-convert {\n",
              "      background-color: #3B4455;\n",
              "      fill: #D2E3FC;\n",
              "    }\n",
              "\n",
              "    [theme=dark] .colab-df-convert:hover {\n",
              "      background-color: #434B5C;\n",
              "      box-shadow: 0px 1px 3px 1px rgba(0, 0, 0, 0.15);\n",
              "      filter: drop-shadow(0px 1px 2px rgba(0, 0, 0, 0.3));\n",
              "      fill: #FFFFFF;\n",
              "    }\n",
              "  </style>\n",
              "\n",
              "      <script>\n",
              "        const buttonEl =\n",
              "          document.querySelector('#df-73017fdc-fbae-49c8-83c1-c87ddd71d287 button.colab-df-convert');\n",
              "        buttonEl.style.display =\n",
              "          google.colab.kernel.accessAllowed ? 'block' : 'none';\n",
              "\n",
              "        async function convertToInteractive(key) {\n",
              "          const element = document.querySelector('#df-73017fdc-fbae-49c8-83c1-c87ddd71d287');\n",
              "          const dataTable =\n",
              "            await google.colab.kernel.invokeFunction('convertToInteractive',\n",
              "                                                     [key], {});\n",
              "          if (!dataTable) return;\n",
              "\n",
              "          const docLinkHtml = 'Like what you see? Visit the ' +\n",
              "            '<a target=\"_blank\" href=https://colab.research.google.com/notebooks/data_table.ipynb>data table notebook</a>'\n",
              "            + ' to learn more about interactive tables.';\n",
              "          element.innerHTML = '';\n",
              "          dataTable['output_type'] = 'display_data';\n",
              "          await google.colab.output.renderOutput(dataTable, element);\n",
              "          const docLink = document.createElement('div');\n",
              "          docLink.innerHTML = docLinkHtml;\n",
              "          element.appendChild(docLink);\n",
              "        }\n",
              "      </script>\n",
              "    </div>\n",
              "  </div>\n",
              "  "
            ]
          },
          "metadata": {},
          "execution_count": 9
        }
      ],
      "source": [
        "df.head()"
      ]
    },
    {
      "cell_type": "code",
      "execution_count": null,
      "metadata": {
        "id": "rg25KEaSdRvm",
        "colab": {
          "base_uri": "https://localhost:8080/",
          "height": 206
        },
        "outputId": "bddbf6b6-0dd9-4fa3-ceb7-c57d67e2ec5b"
      },
      "outputs": [
        {
          "output_type": "execute_result",
          "data": {
            "text/plain": [
              "          movie     user  rating        date\n",
              "80384400  12074  2033618       4  2005-08-08\n",
              "80384401    862  1797061       3  2005-08-08\n",
              "80384402  10986  1498715       5  2005-08-08\n",
              "80384403  14861   500016       4  2005-08-08\n",
              "80384404   5926  1044015       5  2005-08-08"
            ],
            "text/html": [
              "\n",
              "  <div id=\"df-ab2b3d4b-5c42-4333-9281-052dd5985179\">\n",
              "    <div class=\"colab-df-container\">\n",
              "      <div>\n",
              "<style scoped>\n",
              "    .dataframe tbody tr th:only-of-type {\n",
              "        vertical-align: middle;\n",
              "    }\n",
              "\n",
              "    .dataframe tbody tr th {\n",
              "        vertical-align: top;\n",
              "    }\n",
              "\n",
              "    .dataframe thead th {\n",
              "        text-align: right;\n",
              "    }\n",
              "</style>\n",
              "<table border=\"1\" class=\"dataframe\">\n",
              "  <thead>\n",
              "    <tr style=\"text-align: right;\">\n",
              "      <th></th>\n",
              "      <th>movie</th>\n",
              "      <th>user</th>\n",
              "      <th>rating</th>\n",
              "      <th>date</th>\n",
              "    </tr>\n",
              "  </thead>\n",
              "  <tbody>\n",
              "    <tr>\n",
              "      <th>80384400</th>\n",
              "      <td>12074</td>\n",
              "      <td>2033618</td>\n",
              "      <td>4</td>\n",
              "      <td>2005-08-08</td>\n",
              "    </tr>\n",
              "    <tr>\n",
              "      <th>80384401</th>\n",
              "      <td>862</td>\n",
              "      <td>1797061</td>\n",
              "      <td>3</td>\n",
              "      <td>2005-08-08</td>\n",
              "    </tr>\n",
              "    <tr>\n",
              "      <th>80384402</th>\n",
              "      <td>10986</td>\n",
              "      <td>1498715</td>\n",
              "      <td>5</td>\n",
              "      <td>2005-08-08</td>\n",
              "    </tr>\n",
              "    <tr>\n",
              "      <th>80384403</th>\n",
              "      <td>14861</td>\n",
              "      <td>500016</td>\n",
              "      <td>4</td>\n",
              "      <td>2005-08-08</td>\n",
              "    </tr>\n",
              "    <tr>\n",
              "      <th>80384404</th>\n",
              "      <td>5926</td>\n",
              "      <td>1044015</td>\n",
              "      <td>5</td>\n",
              "      <td>2005-08-08</td>\n",
              "    </tr>\n",
              "  </tbody>\n",
              "</table>\n",
              "</div>\n",
              "      <button class=\"colab-df-convert\" onclick=\"convertToInteractive('df-ab2b3d4b-5c42-4333-9281-052dd5985179')\"\n",
              "              title=\"Convert this dataframe to an interactive table.\"\n",
              "              style=\"display:none;\">\n",
              "        \n",
              "  <svg xmlns=\"http://www.w3.org/2000/svg\" height=\"24px\"viewBox=\"0 0 24 24\"\n",
              "       width=\"24px\">\n",
              "    <path d=\"M0 0h24v24H0V0z\" fill=\"none\"/>\n",
              "    <path d=\"M18.56 5.44l.94 2.06.94-2.06 2.06-.94-2.06-.94-.94-2.06-.94 2.06-2.06.94zm-11 1L8.5 8.5l.94-2.06 2.06-.94-2.06-.94L8.5 2.5l-.94 2.06-2.06.94zm10 10l.94 2.06.94-2.06 2.06-.94-2.06-.94-.94-2.06-.94 2.06-2.06.94z\"/><path d=\"M17.41 7.96l-1.37-1.37c-.4-.4-.92-.59-1.43-.59-.52 0-1.04.2-1.43.59L10.3 9.45l-7.72 7.72c-.78.78-.78 2.05 0 2.83L4 21.41c.39.39.9.59 1.41.59.51 0 1.02-.2 1.41-.59l7.78-7.78 2.81-2.81c.8-.78.8-2.07 0-2.86zM5.41 20L4 18.59l7.72-7.72 1.47 1.35L5.41 20z\"/>\n",
              "  </svg>\n",
              "      </button>\n",
              "      \n",
              "  <style>\n",
              "    .colab-df-container {\n",
              "      display:flex;\n",
              "      flex-wrap:wrap;\n",
              "      gap: 12px;\n",
              "    }\n",
              "\n",
              "    .colab-df-convert {\n",
              "      background-color: #E8F0FE;\n",
              "      border: none;\n",
              "      border-radius: 50%;\n",
              "      cursor: pointer;\n",
              "      display: none;\n",
              "      fill: #1967D2;\n",
              "      height: 32px;\n",
              "      padding: 0 0 0 0;\n",
              "      width: 32px;\n",
              "    }\n",
              "\n",
              "    .colab-df-convert:hover {\n",
              "      background-color: #E2EBFA;\n",
              "      box-shadow: 0px 1px 2px rgba(60, 64, 67, 0.3), 0px 1px 3px 1px rgba(60, 64, 67, 0.15);\n",
              "      fill: #174EA6;\n",
              "    }\n",
              "\n",
              "    [theme=dark] .colab-df-convert {\n",
              "      background-color: #3B4455;\n",
              "      fill: #D2E3FC;\n",
              "    }\n",
              "\n",
              "    [theme=dark] .colab-df-convert:hover {\n",
              "      background-color: #434B5C;\n",
              "      box-shadow: 0px 1px 3px 1px rgba(0, 0, 0, 0.15);\n",
              "      filter: drop-shadow(0px 1px 2px rgba(0, 0, 0, 0.3));\n",
              "      fill: #FFFFFF;\n",
              "    }\n",
              "  </style>\n",
              "\n",
              "      <script>\n",
              "        const buttonEl =\n",
              "          document.querySelector('#df-ab2b3d4b-5c42-4333-9281-052dd5985179 button.colab-df-convert');\n",
              "        buttonEl.style.display =\n",
              "          google.colab.kernel.accessAllowed ? 'block' : 'none';\n",
              "\n",
              "        async function convertToInteractive(key) {\n",
              "          const element = document.querySelector('#df-ab2b3d4b-5c42-4333-9281-052dd5985179');\n",
              "          const dataTable =\n",
              "            await google.colab.kernel.invokeFunction('convertToInteractive',\n",
              "                                                     [key], {});\n",
              "          if (!dataTable) return;\n",
              "\n",
              "          const docLinkHtml = 'Like what you see? Visit the ' +\n",
              "            '<a target=\"_blank\" href=https://colab.research.google.com/notebooks/data_table.ipynb>data table notebook</a>'\n",
              "            + ' to learn more about interactive tables.';\n",
              "          element.innerHTML = '';\n",
              "          dataTable['output_type'] = 'display_data';\n",
              "          await google.colab.output.renderOutput(dataTable, element);\n",
              "          const docLink = document.createElement('div');\n",
              "          docLink.innerHTML = docLinkHtml;\n",
              "          element.appendChild(docLink);\n",
              "        }\n",
              "      </script>\n",
              "    </div>\n",
              "  </div>\n",
              "  "
            ]
          },
          "metadata": {},
          "execution_count": 10
        }
      ],
      "source": [
        "df.tail()"
      ]
    },
    {
      "cell_type": "code",
      "execution_count": null,
      "metadata": {
        "id": "oas2s-lg_p6d"
      },
      "outputs": [],
      "source": [
        "df=pd.read_csv('/content/test.csv')"
      ]
    },
    {
      "cell_type": "code",
      "execution_count": null,
      "metadata": {
        "id": "bG56sz-Q7Ybh",
        "colab": {
          "base_uri": "https://localhost:8080/",
          "height": 206
        },
        "outputId": "f5c4fd46-09ce-4bc6-bdce-03dbad99fe23"
      },
      "outputs": [
        {
          "output_type": "execute_result",
          "data": {
            "text/plain": [
              "   movie     user  rating        date\n",
              "0   5926  2294429       2  2005-08-08\n",
              "1  10158  1743373       4  2005-08-08\n",
              "2  17064   381625       5  2005-08-08\n",
              "3   1443  1252933       5  2005-08-08\n",
              "4   1201  1434500       4  2005-08-08"
            ],
            "text/html": [
              "\n",
              "  <div id=\"df-dc4a50a1-15ff-43a9-bdf4-7ba39cc91322\">\n",
              "    <div class=\"colab-df-container\">\n",
              "      <div>\n",
              "<style scoped>\n",
              "    .dataframe tbody tr th:only-of-type {\n",
              "        vertical-align: middle;\n",
              "    }\n",
              "\n",
              "    .dataframe tbody tr th {\n",
              "        vertical-align: top;\n",
              "    }\n",
              "\n",
              "    .dataframe thead th {\n",
              "        text-align: right;\n",
              "    }\n",
              "</style>\n",
              "<table border=\"1\" class=\"dataframe\">\n",
              "  <thead>\n",
              "    <tr style=\"text-align: right;\">\n",
              "      <th></th>\n",
              "      <th>movie</th>\n",
              "      <th>user</th>\n",
              "      <th>rating</th>\n",
              "      <th>date</th>\n",
              "    </tr>\n",
              "  </thead>\n",
              "  <tbody>\n",
              "    <tr>\n",
              "      <th>0</th>\n",
              "      <td>5926</td>\n",
              "      <td>2294429</td>\n",
              "      <td>2</td>\n",
              "      <td>2005-08-08</td>\n",
              "    </tr>\n",
              "    <tr>\n",
              "      <th>1</th>\n",
              "      <td>10158</td>\n",
              "      <td>1743373</td>\n",
              "      <td>4</td>\n",
              "      <td>2005-08-08</td>\n",
              "    </tr>\n",
              "    <tr>\n",
              "      <th>2</th>\n",
              "      <td>17064</td>\n",
              "      <td>381625</td>\n",
              "      <td>5</td>\n",
              "      <td>2005-08-08</td>\n",
              "    </tr>\n",
              "    <tr>\n",
              "      <th>3</th>\n",
              "      <td>1443</td>\n",
              "      <td>1252933</td>\n",
              "      <td>5</td>\n",
              "      <td>2005-08-08</td>\n",
              "    </tr>\n",
              "    <tr>\n",
              "      <th>4</th>\n",
              "      <td>1201</td>\n",
              "      <td>1434500</td>\n",
              "      <td>4</td>\n",
              "      <td>2005-08-08</td>\n",
              "    </tr>\n",
              "  </tbody>\n",
              "</table>\n",
              "</div>\n",
              "      <button class=\"colab-df-convert\" onclick=\"convertToInteractive('df-dc4a50a1-15ff-43a9-bdf4-7ba39cc91322')\"\n",
              "              title=\"Convert this dataframe to an interactive table.\"\n",
              "              style=\"display:none;\">\n",
              "        \n",
              "  <svg xmlns=\"http://www.w3.org/2000/svg\" height=\"24px\"viewBox=\"0 0 24 24\"\n",
              "       width=\"24px\">\n",
              "    <path d=\"M0 0h24v24H0V0z\" fill=\"none\"/>\n",
              "    <path d=\"M18.56 5.44l.94 2.06.94-2.06 2.06-.94-2.06-.94-.94-2.06-.94 2.06-2.06.94zm-11 1L8.5 8.5l.94-2.06 2.06-.94-2.06-.94L8.5 2.5l-.94 2.06-2.06.94zm10 10l.94 2.06.94-2.06 2.06-.94-2.06-.94-.94-2.06-.94 2.06-2.06.94z\"/><path d=\"M17.41 7.96l-1.37-1.37c-.4-.4-.92-.59-1.43-.59-.52 0-1.04.2-1.43.59L10.3 9.45l-7.72 7.72c-.78.78-.78 2.05 0 2.83L4 21.41c.39.39.9.59 1.41.59.51 0 1.02-.2 1.41-.59l7.78-7.78 2.81-2.81c.8-.78.8-2.07 0-2.86zM5.41 20L4 18.59l7.72-7.72 1.47 1.35L5.41 20z\"/>\n",
              "  </svg>\n",
              "      </button>\n",
              "      \n",
              "  <style>\n",
              "    .colab-df-container {\n",
              "      display:flex;\n",
              "      flex-wrap:wrap;\n",
              "      gap: 12px;\n",
              "    }\n",
              "\n",
              "    .colab-df-convert {\n",
              "      background-color: #E8F0FE;\n",
              "      border: none;\n",
              "      border-radius: 50%;\n",
              "      cursor: pointer;\n",
              "      display: none;\n",
              "      fill: #1967D2;\n",
              "      height: 32px;\n",
              "      padding: 0 0 0 0;\n",
              "      width: 32px;\n",
              "    }\n",
              "\n",
              "    .colab-df-convert:hover {\n",
              "      background-color: #E2EBFA;\n",
              "      box-shadow: 0px 1px 2px rgba(60, 64, 67, 0.3), 0px 1px 3px 1px rgba(60, 64, 67, 0.15);\n",
              "      fill: #174EA6;\n",
              "    }\n",
              "\n",
              "    [theme=dark] .colab-df-convert {\n",
              "      background-color: #3B4455;\n",
              "      fill: #D2E3FC;\n",
              "    }\n",
              "\n",
              "    [theme=dark] .colab-df-convert:hover {\n",
              "      background-color: #434B5C;\n",
              "      box-shadow: 0px 1px 3px 1px rgba(0, 0, 0, 0.15);\n",
              "      filter: drop-shadow(0px 1px 2px rgba(0, 0, 0, 0.3));\n",
              "      fill: #FFFFFF;\n",
              "    }\n",
              "  </style>\n",
              "\n",
              "      <script>\n",
              "        const buttonEl =\n",
              "          document.querySelector('#df-dc4a50a1-15ff-43a9-bdf4-7ba39cc91322 button.colab-df-convert');\n",
              "        buttonEl.style.display =\n",
              "          google.colab.kernel.accessAllowed ? 'block' : 'none';\n",
              "\n",
              "        async function convertToInteractive(key) {\n",
              "          const element = document.querySelector('#df-dc4a50a1-15ff-43a9-bdf4-7ba39cc91322');\n",
              "          const dataTable =\n",
              "            await google.colab.kernel.invokeFunction('convertToInteractive',\n",
              "                                                     [key], {});\n",
              "          if (!dataTable) return;\n",
              "\n",
              "          const docLinkHtml = 'Like what you see? Visit the ' +\n",
              "            '<a target=\"_blank\" href=https://colab.research.google.com/notebooks/data_table.ipynb>data table notebook</a>'\n",
              "            + ' to learn more about interactive tables.';\n",
              "          element.innerHTML = '';\n",
              "          dataTable['output_type'] = 'display_data';\n",
              "          await google.colab.output.renderOutput(dataTable, element);\n",
              "          const docLink = document.createElement('div');\n",
              "          docLink.innerHTML = docLinkHtml;\n",
              "          element.appendChild(docLink);\n",
              "        }\n",
              "      </script>\n",
              "    </div>\n",
              "  </div>\n",
              "  "
            ]
          },
          "metadata": {},
          "execution_count": 12
        }
      ],
      "source": [
        "df.head()"
      ]
    },
    {
      "cell_type": "code",
      "execution_count": null,
      "metadata": {
        "id": "7GpOuZNknzk9",
        "colab": {
          "base_uri": "https://localhost:8080/"
        },
        "outputId": "b559806f-5c3a-40de-c057-1207287e4b7d"
      },
      "outputs": [
        {
          "output_type": "stream",
          "name": "stdout",
          "text": [
            "The training data is of size: 80384405\n",
            "##################################################\n",
            "The no of unique user in training data is: 405041\n",
            "The no of unique movie in training data is: 17424\n",
            "The starting and ending date of the training data is: 1999-11-11 00:00:00 2005-08-08 00:00:00\n"
          ]
        }
      ],
      "source": [
        "train_df=pd.read_csv(\"/content/train.csv\",parse_dates=['date'])\n",
        "\n",
        "##Basic stats\n",
        "print(\"The training data is of size:\",train_df.shape[0])\n",
        "print(\"#\"*50)\n",
        "print(\"The no of unique user in training data is:\",len(np.unique(train_df.user)))\n",
        "print(\"The no of unique movie in training data is:\",len(np.unique(train_df.movie)))\n",
        "print(\"The starting and ending date of the training data is:\",train_df.date[0],train_df.date[len(train_df)-1])"
      ]
    },
    {
      "cell_type": "code",
      "execution_count": null,
      "metadata": {
        "id": "tQ2et4Sco9HC",
        "colab": {
          "base_uri": "https://localhost:8080/"
        },
        "outputId": "2c5d83d2-d034-4b68-9117-01b633b6a199"
      },
      "outputs": [
        {
          "output_type": "stream",
          "name": "stdout",
          "text": [
            "The testing data is of size: 20096102\n",
            "##################################################\n",
            "The number of unique user in testing data is: 349312\n",
            "The number of unique movie in testing data is: 349312\n",
            "The starting and ending date of the testing data is: 2005-08-08 00:00:00 2005-12-31 00:00:00\n"
          ]
        }
      ],
      "source": [
        "test_df=pd.read_csv(\"/content/test.csv\",parse_dates=['date'])\n",
        "\n",
        "print(\"The testing data is of size:\",test_df.shape[0])\n",
        "print(\"#\"*50)\n",
        "print(\"The number of unique user in testing data is:\",len(np.unique(test_df.user)))\n",
        "print(\"The number of unique movie in testing data is:\",len(np.unique(test_df.user)))\n",
        "print(\"The starting and ending date of the testing data is:\",test_df.date[0],test_df.date[len(test_df)-1])"
      ]
    },
    {
      "cell_type": "code",
      "execution_count": null,
      "metadata": {
        "id": "MTCNZ43SM7Iv"
      },
      "outputs": [],
      "source": [
        "def human(item,units=\"m\"):\n",
        "  units=units.lower()\n",
        "  if units==\"k\":\n",
        "    return str(item/10**3)+\"K\"\n",
        "  elif units==\"m\":\n",
        "    return str(item/10**6)+\"M\"\n",
        "  elif units==\"b\":\n",
        "    return str(item/10**9)+\"b\"\n",
        "  "
      ]
    },
    {
      "cell_type": "code",
      "execution_count": null,
      "metadata": {
        "id": "TRDJc3ebNYQZ",
        "colab": {
          "base_uri": "https://localhost:8080/",
          "height": 313
        },
        "outputId": "46fe4fcc-28ae-4cc1-e255-35162befb6e9"
      },
      "outputs": [
        {
          "output_type": "execute_result",
          "data": {
            "text/plain": [
              "Text(0.5, 0, 'No rating in dataset')"
            ]
          },
          "metadata": {},
          "execution_count": 16
        },
        {
          "output_type": "display_data",
          "data": {
            "text/plain": [
              "<Figure size 960x288 with 1 Axes>"
            ],
            "image/png": "[encoded data removed]"
          },
          "metadata": {}
        }
      ],
      "source": [
        "fig,ax=plt.subplots(figsize=plt.figaspect(0.3))\n",
        "plt.title(\"rating vs user\")\n",
        "\n",
        "sns.countplot(x=train_df.rating)\n",
        "ax.set_yticklabels([human(items,'m') for items in ax.get_yticks()])\n",
        "ax.set_ylabel(\"No of user in dataset[millions]\")\n",
        "ax.set_xlabel(\"No rating in dataset\")"
      ]
    },
    {
      "cell_type": "markdown",
      "source": [
        "From this we can observe that the average rating is good also almost 28 million users gave the rating of 4 which shows the netflix provides the good content."
      ],
      "metadata": {
        "id": "9pCXEQlaCNDe"
      }
    },
    {
      "cell_type": "code",
      "execution_count": null,
      "metadata": {
        "id": "6gGZE0V13tfS",
        "colab": {
          "base_uri": "https://localhost:8080/",
          "height": 206
        },
        "outputId": "8cd0336b-c661-43f0-f4af-46dda68d95f7"
      },
      "outputs": [
        {
          "output_type": "execute_result",
          "data": {
            "text/plain": [
              "   movie    user  rating       date week_days\n",
              "0  10341  510180       4 1999-11-11  Thursday\n",
              "1   1798  510180       5 1999-11-11  Thursday\n",
              "2  10774  510180       3 1999-11-11  Thursday\n",
              "3   8651  510180       2 1999-11-11  Thursday\n",
              "4  14660  510180       2 1999-11-11  Thursday"
            ],
            "text/html": [
              "\n",
              "  <div id=\"df-ea5493f5-27d1-4790-8950-7940eadd5ef3\">\n",
              "    <div class=\"colab-df-container\">\n",
              "      <div>\n",
              "<style scoped>\n",
              "    .dataframe tbody tr th:only-of-type {\n",
              "        vertical-align: middle;\n",
              "    }\n",
              "\n",
              "    .dataframe tbody tr th {\n",
              "        vertical-align: top;\n",
              "    }\n",
              "\n",
              "    .dataframe thead th {\n",
              "        text-align: right;\n",
              "    }\n",
              "</style>\n",
              "<table border=\"1\" class=\"dataframe\">\n",
              "  <thead>\n",
              "    <tr style=\"text-align: right;\">\n",
              "      <th></th>\n",
              "      <th>movie</th>\n",
              "      <th>user</th>\n",
              "      <th>rating</th>\n",
              "      <th>date</th>\n",
              "      <th>week_days</th>\n",
              "    </tr>\n",
              "  </thead>\n",
              "  <tbody>\n",
              "    <tr>\n",
              "      <th>0</th>\n",
              "      <td>10341</td>\n",
              "      <td>510180</td>\n",
              "      <td>4</td>\n",
              "      <td>1999-11-11</td>\n",
              "      <td>Thursday</td>\n",
              "    </tr>\n",
              "    <tr>\n",
              "      <th>1</th>\n",
              "      <td>1798</td>\n",
              "      <td>510180</td>\n",
              "      <td>5</td>\n",
              "      <td>1999-11-11</td>\n",
              "      <td>Thursday</td>\n",
              "    </tr>\n",
              "    <tr>\n",
              "      <th>2</th>\n",
              "      <td>10774</td>\n",
              "      <td>510180</td>\n",
              "      <td>3</td>\n",
              "      <td>1999-11-11</td>\n",
              "      <td>Thursday</td>\n",
              "    </tr>\n",
              "    <tr>\n",
              "      <th>3</th>\n",
              "      <td>8651</td>\n",
              "      <td>510180</td>\n",
              "      <td>2</td>\n",
              "      <td>1999-11-11</td>\n",
              "      <td>Thursday</td>\n",
              "    </tr>\n",
              "    <tr>\n",
              "      <th>4</th>\n",
              "      <td>14660</td>\n",
              "      <td>510180</td>\n",
              "      <td>2</td>\n",
              "      <td>1999-11-11</td>\n",
              "      <td>Thursday</td>\n",
              "    </tr>\n",
              "  </tbody>\n",
              "</table>\n",
              "</div>\n",
              "      <button class=\"colab-df-convert\" onclick=\"convertToInteractive('df-ea5493f5-27d1-4790-8950-7940eadd5ef3')\"\n",
              "              title=\"Convert this dataframe to an interactive table.\"\n",
              "              style=\"display:none;\">\n",
              "        \n",
              "  <svg xmlns=\"http://www.w3.org/2000/svg\" height=\"24px\"viewBox=\"0 0 24 24\"\n",
              "       width=\"24px\">\n",
              "    <path d=\"M0 0h24v24H0V0z\" fill=\"none\"/>\n",
              "    <path d=\"M18.56 5.44l.94 2.06.94-2.06 2.06-.94-2.06-.94-.94-2.06-.94 2.06-2.06.94zm-11 1L8.5 8.5l.94-2.06 2.06-.94-2.06-.94L8.5 2.5l-.94 2.06-2.06.94zm10 10l.94 2.06.94-2.06 2.06-.94-2.06-.94-.94-2.06-.94 2.06-2.06.94z\"/><path d=\"M17.41 7.96l-1.37-1.37c-.4-.4-.92-.59-1.43-.59-.52 0-1.04.2-1.43.59L10.3 9.45l-7.72 7.72c-.78.78-.78 2.05 0 2.83L4 21.41c.39.39.9.59 1.41.59.51 0 1.02-.2 1.41-.59l7.78-7.78 2.81-2.81c.8-.78.8-2.07 0-2.86zM5.41 20L4 18.59l7.72-7.72 1.47 1.35L5.41 20z\"/>\n",
              "  </svg>\n",
              "      </button>\n",
              "      \n",
              "  <style>\n",
              "    .colab-df-container {\n",
              "      display:flex;\n",
              "      flex-wrap:wrap;\n",
              "      gap: 12px;\n",
              "    }\n",
              "\n",
              "    .colab-df-convert {\n",
              "      background-color: #E8F0FE;\n",
              "      border: none;\n",
              "      border-radius: 50%;\n",
              "      cursor: pointer;\n",
              "      display: none;\n",
              "      fill: #1967D2;\n",
              "      height: 32px;\n",
              "      padding: 0 0 0 0;\n",
              "      width: 32px;\n",
              "    }\n",
              "\n",
              "    .colab-df-convert:hover {\n",
              "      background-color: #E2EBFA;\n",
              "      box-shadow: 0px 1px 2px rgba(60, 64, 67, 0.3), 0px 1px 3px 1px rgba(60, 64, 67, 0.15);\n",
              "      fill: #174EA6;\n",
              "    }\n",
              "\n",
              "    [theme=dark] .colab-df-convert {\n",
              "      background-color: #3B4455;\n",
              "      fill: #D2E3FC;\n",
              "    }\n",
              "\n",
              "    [theme=dark] .colab-df-convert:hover {\n",
              "      background-color: #434B5C;\n",
              "      box-shadow: 0px 1px 3px 1px rgba(0, 0, 0, 0.15);\n",
              "      filter: drop-shadow(0px 1px 2px rgba(0, 0, 0, 0.3));\n",
              "      fill: #FFFFFF;\n",
              "    }\n",
              "  </style>\n",
              "\n",
              "      <script>\n",
              "        const buttonEl =\n",
              "          document.querySelector('#df-ea5493f5-27d1-4790-8950-7940eadd5ef3 button.colab-df-convert');\n",
              "        buttonEl.style.display =\n",
              "          google.colab.kernel.accessAllowed ? 'block' : 'none';\n",
              "\n",
              "        async function convertToInteractive(key) {\n",
              "          const element = document.querySelector('#df-ea5493f5-27d1-4790-8950-7940eadd5ef3');\n",
              "          const dataTable =\n",
              "            await google.colab.kernel.invokeFunction('convertToInteractive',\n",
              "                                                     [key], {});\n",
              "          if (!dataTable) return;\n",
              "\n",
              "          const docLinkHtml = 'Like what you see? Visit the ' +\n",
              "            '<a target=\"_blank\" href=https://colab.research.google.com/notebooks/data_table.ipynb>data table notebook</a>'\n",
              "            + ' to learn more about interactive tables.';\n",
              "          element.innerHTML = '';\n",
              "          dataTable['output_type'] = 'display_data';\n",
              "          await google.colab.output.renderOutput(dataTable, element);\n",
              "          const docLink = document.createElement('div');\n",
              "          docLink.innerHTML = docLinkHtml;\n",
              "          element.appendChild(docLink);\n",
              "        }\n",
              "      </script>\n",
              "    </div>\n",
              "  </div>\n",
              "  "
            ]
          },
          "metadata": {},
          "execution_count": 5
        }
      ],
      "source": [
        "##Adding the weekday column into the dataframe\n",
        "train_df['week_days']=train_df.date.dt.day_name()\n",
        "train_df.head()"
      ]
    },
    {
      "cell_type": "code",
      "execution_count": null,
      "metadata": {
        "id": "YbPclVfeAfmk",
        "colab": {
          "base_uri": "https://localhost:8080/",
          "height": 206
        },
        "outputId": "383636cd-2766-42d6-dbc1-addd90665aae"
      },
      "outputs": [
        {
          "output_type": "execute_result",
          "data": {
            "text/plain": [
              "          movie     user  rating       date week_days\n",
              "80384400  12074  2033618       4 2005-08-08    Monday\n",
              "80384401    862  1797061       3 2005-08-08    Monday\n",
              "80384402  10986  1498715       5 2005-08-08    Monday\n",
              "80384403  14861   500016       4 2005-08-08    Monday\n",
              "80384404   5926  1044015       5 2005-08-08    Monday"
            ],
            "text/html": [
              "\n",
              "  <div id=\"df-ce5e9097-7401-42a4-a963-1d43bb62ee59\">\n",
              "    <div class=\"colab-df-container\">\n",
              "      <div>\n",
              "<style scoped>\n",
              "    .dataframe tbody tr th:only-of-type {\n",
              "        vertical-align: middle;\n",
              "    }\n",
              "\n",
              "    .dataframe tbody tr th {\n",
              "        vertical-align: top;\n",
              "    }\n",
              "\n",
              "    .dataframe thead th {\n",
              "        text-align: right;\n",
              "    }\n",
              "</style>\n",
              "<table border=\"1\" class=\"dataframe\">\n",
              "  <thead>\n",
              "    <tr style=\"text-align: right;\">\n",
              "      <th></th>\n",
              "      <th>movie</th>\n",
              "      <th>user</th>\n",
              "      <th>rating</th>\n",
              "      <th>date</th>\n",
              "      <th>week_days</th>\n",
              "    </tr>\n",
              "  </thead>\n",
              "  <tbody>\n",
              "    <tr>\n",
              "      <th>80384400</th>\n",
              "      <td>12074</td>\n",
              "      <td>2033618</td>\n",
              "      <td>4</td>\n",
              "      <td>2005-08-08</td>\n",
              "      <td>Monday</td>\n",
              "    </tr>\n",
              "    <tr>\n",
              "      <th>80384401</th>\n",
              "      <td>862</td>\n",
              "      <td>1797061</td>\n",
              "      <td>3</td>\n",
              "      <td>2005-08-08</td>\n",
              "      <td>Monday</td>\n",
              "    </tr>\n",
              "    <tr>\n",
              "      <th>80384402</th>\n",
              "      <td>10986</td>\n",
              "      <td>1498715</td>\n",
              "      <td>5</td>\n",
              "      <td>2005-08-08</td>\n",
              "      <td>Monday</td>\n",
              "    </tr>\n",
              "    <tr>\n",
              "      <th>80384403</th>\n",
              "      <td>14861</td>\n",
              "      <td>500016</td>\n",
              "      <td>4</td>\n",
              "      <td>2005-08-08</td>\n",
              "      <td>Monday</td>\n",
              "    </tr>\n",
              "    <tr>\n",
              "      <th>80384404</th>\n",
              "      <td>5926</td>\n",
              "      <td>1044015</td>\n",
              "      <td>5</td>\n",
              "      <td>2005-08-08</td>\n",
              "      <td>Monday</td>\n",
              "    </tr>\n",
              "  </tbody>\n",
              "</table>\n",
              "</div>\n",
              "      <button class=\"colab-df-convert\" onclick=\"convertToInteractive('df-ce5e9097-7401-42a4-a963-1d43bb62ee59')\"\n",
              "              title=\"Convert this dataframe to an interactive table.\"\n",
              "              style=\"display:none;\">\n",
              "        \n",
              "  <svg xmlns=\"http://www.w3.org/2000/svg\" height=\"24px\"viewBox=\"0 0 24 24\"\n",
              "       width=\"24px\">\n",
              "    <path d=\"M0 0h24v24H0V0z\" fill=\"none\"/>\n",
              "    <path d=\"M18.56 5.44l.94 2.06.94-2.06 2.06-.94-2.06-.94-.94-2.06-.94 2.06-2.06.94zm-11 1L8.5 8.5l.94-2.06 2.06-.94-2.06-.94L8.5 2.5l-.94 2.06-2.06.94zm10 10l.94 2.06.94-2.06 2.06-.94-2.06-.94-.94-2.06-.94 2.06-2.06.94z\"/><path d=\"M17.41 7.96l-1.37-1.37c-.4-.4-.92-.59-1.43-.59-.52 0-1.04.2-1.43.59L10.3 9.45l-7.72 7.72c-.78.78-.78 2.05 0 2.83L4 21.41c.39.39.9.59 1.41.59.51 0 1.02-.2 1.41-.59l7.78-7.78 2.81-2.81c.8-.78.8-2.07 0-2.86zM5.41 20L4 18.59l7.72-7.72 1.47 1.35L5.41 20z\"/>\n",
              "  </svg>\n",
              "      </button>\n",
              "      \n",
              "  <style>\n",
              "    .colab-df-container {\n",
              "      display:flex;\n",
              "      flex-wrap:wrap;\n",
              "      gap: 12px;\n",
              "    }\n",
              "\n",
              "    .colab-df-convert {\n",
              "      background-color: #E8F0FE;\n",
              "      border: none;\n",
              "      border-radius: 50%;\n",
              "      cursor: pointer;\n",
              "      display: none;\n",
              "      fill: #1967D2;\n",
              "      height: 32px;\n",
              "      padding: 0 0 0 0;\n",
              "      width: 32px;\n",
              "    }\n",
              "\n",
              "    .colab-df-convert:hover {\n",
              "      background-color: #E2EBFA;\n",
              "      box-shadow: 0px 1px 2px rgba(60, 64, 67, 0.3), 0px 1px 3px 1px rgba(60, 64, 67, 0.15);\n",
              "      fill: #174EA6;\n",
              "    }\n",
              "\n",
              "    [theme=dark] .colab-df-convert {\n",
              "      background-color: #3B4455;\n",
              "      fill: #D2E3FC;\n",
              "    }\n",
              "\n",
              "    [theme=dark] .colab-df-convert:hover {\n",
              "      background-color: #434B5C;\n",
              "      box-shadow: 0px 1px 3px 1px rgba(0, 0, 0, 0.15);\n",
              "      filter: drop-shadow(0px 1px 2px rgba(0, 0, 0, 0.3));\n",
              "      fill: #FFFFFF;\n",
              "    }\n",
              "  </style>\n",
              "\n",
              "      <script>\n",
              "        const buttonEl =\n",
              "          document.querySelector('#df-ce5e9097-7401-42a4-a963-1d43bb62ee59 button.colab-df-convert');\n",
              "        buttonEl.style.display =\n",
              "          google.colab.kernel.accessAllowed ? 'block' : 'none';\n",
              "\n",
              "        async function convertToInteractive(key) {\n",
              "          const element = document.querySelector('#df-ce5e9097-7401-42a4-a963-1d43bb62ee59');\n",
              "          const dataTable =\n",
              "            await google.colab.kernel.invokeFunction('convertToInteractive',\n",
              "                                                     [key], {});\n",
              "          if (!dataTable) return;\n",
              "\n",
              "          const docLinkHtml = 'Like what you see? Visit the ' +\n",
              "            '<a target=\"_blank\" href=https://colab.research.google.com/notebooks/data_table.ipynb>data table notebook</a>'\n",
              "            + ' to learn more about interactive tables.';\n",
              "          element.innerHTML = '';\n",
              "          dataTable['output_type'] = 'display_data';\n",
              "          await google.colab.output.renderOutput(dataTable, element);\n",
              "          const docLink = document.createElement('div');\n",
              "          docLink.innerHTML = docLinkHtml;\n",
              "          element.appendChild(docLink);\n",
              "        }\n",
              "      </script>\n",
              "    </div>\n",
              "  </div>\n",
              "  "
            ]
          },
          "metadata": {},
          "execution_count": 5
        }
      ],
      "source": [
        "train_df.tail()"
      ]
    },
    {
      "cell_type": "code",
      "execution_count": null,
      "metadata": {
        "id": "MUnTlP3CCZeU",
        "colab": {
          "base_uri": "https://localhost:8080/",
          "height": 497
        },
        "outputId": "ff51e6b8-e3a8-4766-8587-228e58387ac5"
      },
      "outputs": [
        {
          "output_type": "display_data",
          "data": {
            "text/plain": [
              "<Figure size 720x576 with 1 Axes>"
            ],
            "image/png": "[encoded data removed]"
          },
          "metadata": {}
        }
      ],
      "source": [
        "##Number of rattings per month\n",
        "ax=train_df.resample(\"m\",on='date').count().plot(figsize=(10,8))\n",
        "ax.set_xlabel('No of rating per month')\n",
        "ax.set_ylabel('No of user[millions]')\n",
        "ax.set_yticklabels([human(items,'m') for items in ax.get_yticks()])\n",
        "plt.show()\n",
        "\n"
      ]
    },
    {
      "cell_type": "markdown",
      "metadata": {
        "id": "BemBJUzUSd59"
      },
      "source": [
        "From this we can see that netflix got higest rating in 2003 to 2005 means it got more no of user in this period [getting popular this time period]"
      ]
    },
    {
      "cell_type": "code",
      "execution_count": null,
      "metadata": {
        "id": "x8fUdprnEHwM",
        "colab": {
          "base_uri": "https://localhost:8080/",
          "height": 497
        },
        "outputId": "09df163c-8c06-4396-aeb7-f6af45c36689"
      },
      "outputs": [
        {
          "output_type": "display_data",
          "data": {
            "text/plain": [
              "<Figure size 576x576 with 1 Axes>"
            ],
            "image/png": "[encoded data removed]"
          },
          "metadata": {}
        }
      ],
      "source": [
        "ax=train_df.resample('y',on='date').count().plot(figsize=(8,8))\n",
        "ax.set_ylabel(\"No of user in millions\")\n",
        "ax.set_xlabel('No of rattings in years')\n",
        "ax.set_yticklabels([human(items,'m') for items in ax.get_yticks()])\n",
        "plt.show()"
      ]
    },
    {
      "cell_type": "markdown",
      "metadata": {
        "id": "6UBcTJbyTOoM"
      },
      "source": [
        "Analysis on the rating given by the user"
      ]
    },
    {
      "cell_type": "code",
      "execution_count": null,
      "metadata": {
        "id": "67_5h6G3Frg2"
      },
      "outputs": [],
      "source": [
        "no_of_rated_movie_per_user=train_df.groupby(by='user')['rating'].count().sort_values(ascending=False)"
      ]
    },
    {
      "cell_type": "code",
      "execution_count": null,
      "metadata": {
        "id": "ub1kfDVXTxmg",
        "colab": {
          "base_uri": "https://localhost:8080/"
        },
        "outputId": "e2919054-9a1c-4125-d987-c830dae2c17a"
      },
      "outputs": [
        {
          "output_type": "execute_result",
          "data": {
            "text/plain": [
              "user\n",
              "305344     17112\n",
              "2439493    15896\n",
              "387418     15402\n",
              "1639792     9767\n",
              "1461435     9447\n",
              "Name: rating, dtype: int64"
            ]
          },
          "metadata": {},
          "execution_count": 12
        }
      ],
      "source": [
        "no_of_rated_movie_per_user.head()"
      ]
    },
    {
      "cell_type": "markdown",
      "source": [
        "This indicates the top 5 movies who got rated in highest in descending form.This shows that user 305344 rated 17112 movies."
      ],
      "metadata": {
        "id": "aElxEYYUBsiH"
      }
    },
    {
      "cell_type": "code",
      "source": [
        "sum(no_of_rated_movie_per_user==False)"
      ],
      "metadata": {
        "colab": {
          "base_uri": "https://localhost:8080/"
        },
        "id": "rNc5f2QKFOkB",
        "outputId": "02cf3e7c-15e0-4138-aa38-346bff199a95"
      },
      "execution_count": null,
      "outputs": [
        {
          "output_type": "execute_result",
          "data": {
            "text/plain": [
              "0"
            ]
          },
          "metadata": {},
          "execution_count": 20
        }
      ]
    },
    {
      "cell_type": "code",
      "source": [
        "len(no_of_rated_movie_per_user)"
      ],
      "metadata": {
        "colab": {
          "base_uri": "https://localhost:8080/"
        },
        "id": "2Q-ppKbOFaoU",
        "outputId": "9cff7c4b-4e02-42a8-eee0-f5d2df7ca8f8"
      },
      "execution_count": null,
      "outputs": [
        {
          "output_type": "execute_result",
          "data": {
            "text/plain": [
              "405041"
            ]
          },
          "metadata": {},
          "execution_count": 21
        }
      ]
    },
    {
      "cell_type": "code",
      "source": [
        "min(no_of_rated_movie_per_user)"
      ],
      "metadata": {
        "colab": {
          "base_uri": "https://localhost:8080/"
        },
        "id": "r3YFy_55FglG",
        "outputId": "e1c6d1b7-6f43-4af5-d0a4-dfc8d398c31b"
      },
      "execution_count": null,
      "outputs": [
        {
          "output_type": "execute_result",
          "data": {
            "text/plain": [
              "1"
            ]
          },
          "metadata": {},
          "execution_count": 22
        }
      ]
    },
    {
      "cell_type": "markdown",
      "source": [
        "The above three code snippets indicate that every user rated atleast one movie.How ever the one who rated less movies might also lead to cold start problem as we can't able to computr user-user similarity."
      ],
      "metadata": {
        "id": "k773FybzFk4d"
      }
    },
    {
      "cell_type": "code",
      "execution_count": null,
      "metadata": {
        "id": "ykuAOwDQU3yo",
        "colab": {
          "base_uri": "https://localhost:8080/",
          "height": 313
        },
        "outputId": "87ceedfd-a7bd-421d-bc35-62d534adc303"
      },
      "outputs": [
        {
          "output_type": "execute_result",
          "data": {
            "text/plain": [
              "Text(0.5, 0, 'No of rating given by the user')"
            ]
          },
          "metadata": {},
          "execution_count": 19
        },
        {
          "output_type": "display_data",
          "data": {
            "text/plain": [
              "<Figure size 576x288 with 2 Axes>"
            ],
            "image/png": "[encoded data removed]"
          },
          "metadata": {}
        }
      ],
      "source": [
        "fig=plt.figure(figsize=plt.figaspect(0.5))\n",
        "ax1=plt.subplot(121)\n",
        "plt.title(\"PDF\")\n",
        "sns.kdeplot(no_of_rated_movie_per_user,shade=True,ax=ax1,gridsize=1800)\n",
        "ax1.set_xlabel(\"No of rating given by the user\")\n",
        "\n",
        "ax2=plt.subplot(122)\n",
        "plt.title(\"CDF\")\n",
        "sns.kdeplot(no_of_rated_movie_per_user,shade=True,cumulative=True,gridsize=1800,ax=ax2)\n",
        "ax2.set_xlabel(\"No of rating given by the user\")"
      ]
    },
    {
      "cell_type": "markdown",
      "source": [
        "This indicates that 17k movies got rated.which prefers to say that item-item similarity is best for the recommendation."
      ],
      "metadata": {
        "id": "WQnaEmaSGJ1d"
      }
    },
    {
      "cell_type": "code",
      "execution_count": null,
      "metadata": {
        "id": "1u__sQVTDbqH",
        "colab": {
          "base_uri": "https://localhost:8080/",
          "height": 354
        },
        "outputId": "025ce124-1ba7-4b72-c608-4ea106a9097d"
      },
      "outputs": [
        {
          "output_type": "stream",
          "name": "stderr",
          "text": [
            "/usr/local/lib/python3.7/dist-packages/seaborn/_decorators.py:43: FutureWarning: Pass the following variable as a keyword arg: x. From version 0.12, the only valid positional argument will be `data`, and passing other arguments without an explicit keyword will result in an error or misinterpretation.\n",
            "  FutureWarning\n"
          ]
        },
        {
          "output_type": "execute_result",
          "data": {
            "text/plain": [
              "<matplotlib.axes._subplots.AxesSubplot at 0x7efd56a7c550>"
            ]
          },
          "metadata": {},
          "execution_count": 14
        },
        {
          "output_type": "display_data",
          "data": {
            "text/plain": [
              "<Figure size 432x288 with 1 Axes>"
            ],
            "image/png": "[encoded data removed]"
          },
          "metadata": {}
        }
      ],
      "source": [
        "sns.boxplot(no_of_rated_movie_per_user)"
      ]
    },
    {
      "cell_type": "markdown",
      "source": [
        "The above plot indicates that there are some outliers but as the given data is somewhat sparse we can't destroy the outliers untill it is changing the accuracy."
      ],
      "metadata": {
        "id": "kRNL2uf9D15Q"
      }
    },
    {
      "cell_type": "code",
      "execution_count": null,
      "metadata": {
        "id": "gyeMtMhqn8uj",
        "colab": {
          "base_uri": "https://localhost:8080/"
        },
        "outputId": "003f251a-2bd1-4679-edc6-e7615028994f"
      },
      "outputs": [
        {
          "output_type": "execute_result",
          "data": {
            "text/plain": [
              "count    405041.000000\n",
              "mean        198.459921\n",
              "std         290.793238\n",
              "min           1.000000\n",
              "25%          34.000000\n",
              "50%          89.000000\n",
              "75%         245.000000\n",
              "max       17112.000000\n",
              "Name: rating, dtype: float64"
            ]
          },
          "metadata": {},
          "execution_count": 15
        }
      ],
      "source": [
        "no_of_rated_movie_per_user.describe()"
      ]
    },
    {
      "cell_type": "code",
      "source": [
        "#calculating the IQR\n",
        "Q1=34\n",
        "Q3=245\n",
        "IQR=Q3-Q1\n",
        "LowestFense=Q1-(1.5*IQR)\n",
        "HighestFense=Q3+(1.5*IQR)\n",
        "print(LowestFense,HighestFense)"
      ],
      "metadata": {
        "colab": {
          "base_uri": "https://localhost:8080/"
        },
        "id": "McHwCWVJGgwA",
        "outputId": "c0ab3152-db2b-4ee9-e63f-f7af238e0cde"
      },
      "execution_count": null,
      "outputs": [
        {
          "output_type": "stream",
          "name": "stdout",
          "text": [
            "-282.5 561.5\n"
          ]
        }
      ]
    },
    {
      "cell_type": "markdown",
      "source": [
        "However,as the lowest rating is of 0 so we ignore -282.5 and lets consider the highest fense 561.5.There are so many ratings above the 561 which also shown in boxplot but we can't ignore as 1.5 const may also get changed in domain knowledge way."
      ],
      "metadata": {
        "id": "OZ9NUOe5HRJy"
      }
    },
    {
      "cell_type": "code",
      "execution_count": null,
      "metadata": {
        "id": "5hnM4NIKq9iI"
      },
      "outputs": [],
      "source": [
        "quantiles=no_of_rated_movie_per_user.quantile(np.arange(0,1.01,0.01),interpolation=\"higher\")"
      ]
    },
    {
      "cell_type": "code",
      "execution_count": null,
      "metadata": {
        "id": "Wrenr8_4s8Mc",
        "colab": {
          "base_uri": "https://localhost:8080/"
        },
        "outputId": "43ce0e61-9dc2-4e17-fa1b-9d947a9ed36c"
      },
      "outputs": [
        {
          "output_type": "execute_result",
          "data": {
            "text/plain": [
              "0.00        1\n",
              "0.01        1\n",
              "0.02        2\n",
              "0.03        4\n",
              "0.04        5\n",
              "        ...  \n",
              "0.96      829\n",
              "0.97      934\n",
              "0.98     1079\n",
              "0.99     1341\n",
              "1.00    17112\n",
              "Name: rating, Length: 101, dtype: int64"
            ]
          },
          "metadata": {},
          "execution_count": 28
        }
      ],
      "source": [
        "quantiles"
      ]
    },
    {
      "cell_type": "code",
      "execution_count": null,
      "metadata": {
        "id": "lROwHGQKYuzT",
        "colab": {
          "base_uri": "https://localhost:8080/"
        },
        "outputId": "c3e48192-c834-4cab-93e9-692bfd0e3109"
      },
      "outputs": [
        {
          "output_type": "execute_result",
          "data": {
            "text/plain": [
              "pandas.core.series.Series"
            ]
          },
          "metadata": {},
          "execution_count": 29
        }
      ],
      "source": [
        "type(quantiles)"
      ]
    },
    {
      "cell_type": "code",
      "execution_count": null,
      "metadata": {
        "id": "tcylrBxps_9o",
        "colab": {
          "base_uri": "https://localhost:8080/",
          "height": 299
        },
        "outputId": "9f7aa00d-29df-4450-b5c9-20c4e400db4d"
      },
      "outputs": [
        {
          "output_type": "execute_result",
          "data": {
            "text/plain": [
              "<matplotlib.axes._subplots.AxesSubplot at 0x7efd55b87bd0>"
            ]
          },
          "metadata": {},
          "execution_count": 30
        },
        {
          "output_type": "display_data",
          "data": {
            "text/plain": [
              "<Figure size 432x288 with 1 Axes>"
            ],
            "image/png": "[encoded data removed]"
          },
          "metadata": {}
        }
      ],
      "source": [
        "plt.title(\"Quantiles and their values\")\n",
        "quantiles.plot()"
      ]
    },
    {
      "cell_type": "code",
      "execution_count": null,
      "metadata": {
        "id": "-2k8UmjJtXEz",
        "colab": {
          "base_uri": "https://localhost:8080/",
          "height": 295
        },
        "outputId": "9ae6aa60-1b9c-42c6-ccd4-865e546f44aa"
      },
      "outputs": [
        {
          "output_type": "display_data",
          "data": {
            "text/plain": [
              "<Figure size 432x288 with 1 Axes>"
            ],
            "image/png": "[encoded data removed]"
          },
          "metadata": {}
        }
      ],
      "source": [
        "plt.title(\"Quantiles and their values\")\n",
        "quantiles.plot()\n",
        "plt.scatter(x=quantiles.index[::5],y=quantiles.values[::5],color='orange',label='quntiles with 0.5 values')\n",
        "plt.scatter(x=quantiles.index[::25,],y=quantiles.values[::25],color='m',label='quantiles with .25 values')\n",
        "plt.ylabel(\"No of rating given by the user\")\n",
        "plt.xlabel(\"value at the quantile\")\n",
        "plt.legend(loc='best')\n",
        "\n",
        "for x,y in zip(quantiles.index[::25],quantiles.values[::25]):\n",
        "  plt.annotate(\"({},{})\".format(x,y),xy=(x,y),xytext=(x-0.05,y+500))"
      ]
    },
    {
      "cell_type": "markdown",
      "source": [
        "This indicates that 25% of movies have less than 34 ratings,50 % of movies have less than or equal to 89 ratings,75% movie have less than or equal to 245 ratings and 100% movies have less or equalto 17112 ratings.Also the higest rating is of 17112 and the lowest rating is of 1."
      ],
      "metadata": {
        "id": "c--hA1eeIL67"
      }
    },
    {
      "cell_type": "code",
      "execution_count": null,
      "metadata": {
        "id": "oTjMAAWDZO8j",
        "colab": {
          "base_uri": "https://localhost:8080/"
        },
        "outputId": "3d423576-0c81-4909-8464-2c9c049bf1d9"
      },
      "outputs": [
        {
          "output_type": "execute_result",
          "data": {
            "text/plain": [
              "array([    1,    34,    89,   245, 17112])"
            ]
          },
          "metadata": {},
          "execution_count": 32
        }
      ],
      "source": [
        "quantiles.values[::25]"
      ]
    },
    {
      "cell_type": "code",
      "execution_count": null,
      "metadata": {
        "id": "xctEgfTSvKq8",
        "colab": {
          "base_uri": "https://localhost:8080/"
        },
        "outputId": "0b8becff-4e01-4757-8674-b225ff2dc318"
      },
      "outputs": [
        {
          "output_type": "execute_result",
          "data": {
            "text/plain": [
              "0.00        1\n",
              "0.05        7\n",
              "0.10       15\n",
              "0.15       21\n",
              "0.20       27\n",
              "0.25       34\n",
              "0.30       41\n",
              "0.35       50\n",
              "0.40       60\n",
              "0.45       73\n",
              "0.50       89\n",
              "0.55      109\n",
              "0.60      133\n",
              "0.65      163\n",
              "0.70      199\n",
              "0.75      245\n",
              "0.80      307\n",
              "0.85      392\n",
              "0.90      520\n",
              "0.95      749\n",
              "1.00    17112\n",
              "Name: rating, dtype: int64"
            ]
          },
          "metadata": {},
          "execution_count": 33
        }
      ],
      "source": [
        "quantiles[::5]"
      ]
    },
    {
      "cell_type": "markdown",
      "source": [
        "Takeaways:\n",
        "Almost 95% user are rated movie in a less than 800 where as 5 % user rated the movie in a high number"
      ],
      "metadata": {
        "id": "-bgPbW-uI89L"
      }
    },
    {
      "cell_type": "code",
      "execution_count": null,
      "metadata": {
        "id": "cawoyQq9wd7t",
        "colab": {
          "base_uri": "https://localhost:8080/"
        },
        "outputId": "b0876499-b854-4907-e7e3-221757a1924a"
      },
      "outputs": [
        {
          "output_type": "stream",
          "name": "stdout",
          "text": [
            "No of movie rated by the last 5 % users is of: 20305\n"
          ]
        }
      ],
      "source": [
        "## Last 5% user rating\n",
        "print(\"No of movie rated by the last 5 % users is of:\",sum(no_of_rated_movie_per_user>=749))"
      ]
    },
    {
      "cell_type": "markdown",
      "metadata": {
        "id": "wpG1Ks3TyLwx"
      },
      "source": [
        "Takeaways:\n",
        "20305 movie are rated by the last 5 percent of user"
      ]
    },
    {
      "cell_type": "markdown",
      "metadata": {
        "id": "agtNNo831-Ky"
      },
      "source": [
        "DataAnalysis on the movie"
      ]
    },
    {
      "cell_type": "code",
      "execution_count": null,
      "metadata": {
        "id": "zRdFzbsg2Akt"
      },
      "outputs": [],
      "source": [
        "no_of_rating_per_movie=train_df.groupby(by='movie')['rating'].count().sort_values(ascending=False)"
      ]
    },
    {
      "cell_type": "code",
      "execution_count": null,
      "metadata": {
        "id": "XLokePZI2R2R",
        "colab": {
          "base_uri": "https://localhost:8080/"
        },
        "outputId": "85c81499-d01f-458c-d177-9490439d8d47"
      },
      "outputs": [
        {
          "output_type": "execute_result",
          "data": {
            "text/plain": [
              "movie\n",
              "5317     179684\n",
              "15124    176811\n",
              "1905     160062\n",
              "6287     155787\n",
              "14313    153899\n",
              "          ...  \n",
              "16410         1\n",
              "14318         1\n",
              "2534          1\n",
              "933           1\n",
              "15331         1\n",
              "Name: rating, Length: 17424, dtype: int64"
            ]
          },
          "metadata": {},
          "execution_count": 36
        }
      ],
      "source": [
        "no_of_rating_per_movie"
      ]
    },
    {
      "cell_type": "markdown",
      "source": [
        "movie no 5317 got the higest ratings of 179684 where as the movie no 15124 got the 176811 ratings.All these ratings are provided by the users thats why no movie rating shouldn't exceeded the no of 405041.May be the higest rated movie might be titanic,avatar,avengers,RRR like that."
      ],
      "metadata": {
        "id": "jHGlEdUrJfLA"
      }
    },
    {
      "cell_type": "code",
      "execution_count": null,
      "metadata": {
        "id": "EnwVDMpI2a5f",
        "colab": {
          "base_uri": "https://localhost:8080/",
          "height": 313
        },
        "outputId": "212f2a7b-05af-4ce1-ab80-1fd19bf18c6a"
      },
      "outputs": [
        {
          "output_type": "execute_result",
          "data": {
            "text/plain": [
              "Text(0.5, 1.0, 'CDF')"
            ]
          },
          "metadata": {},
          "execution_count": 37
        },
        {
          "output_type": "display_data",
          "data": {
            "text/plain": [
              "<Figure size 960x288 with 2 Axes>"
            ],
            "image/png": "[encoded data removed]"
          },
          "metadata": {}
        }
      ],
      "source": [
        "fig=plt.figure(figsize=plt.figaspect(0.3))\n",
        "ax1=plt.subplot(121)\n",
        "#ax1.set_yticklabels([human(items,'k') for items in ax1.get_yticks()])\n",
        "\n",
        "sns.kdeplot(no_of_rating_per_movie,shade=True,ax=ax1)\n",
        "plt.title(\"PDF\")\n",
        "ax2=plt.subplot(122)\n",
        "sns.kdeplot(no_of_rating_per_movie,shade=True,cumulative=True,ax=ax2)\n",
        "#ax2.set_yticklabels([human(items,'k') for items in ax2.get_yticks()])\n",
        "\n",
        "ax2.set_title(\"CDF\")\n"
      ]
    },
    {
      "cell_type": "markdown",
      "source": [
        "Which indicates that every movie present got rated atleast one user of minimum of one rating."
      ],
      "metadata": {
        "id": "EqpBytJPKmUo"
      }
    },
    {
      "cell_type": "code",
      "execution_count": null,
      "metadata": {
        "id": "k-Kbl8n43bwg",
        "colab": {
          "base_uri": "https://localhost:8080/",
          "height": 313
        },
        "outputId": "4c9e7c95-54f9-497b-8510-bc881dac9b47"
      },
      "outputs": [
        {
          "output_type": "execute_result",
          "data": {
            "text/plain": [
              "Text(0.5, 0, 'CDF')"
            ]
          },
          "metadata": {},
          "execution_count": 40
        },
        {
          "output_type": "display_data",
          "data": {
            "text/plain": [
              "<Figure size 960x288 with 4 Axes>"
            ],
            "image/png": "[encoded data removed]"
          },
          "metadata": {}
        }
      ],
      "source": [
        "##comaparing no_of_movie_rated vs no_of_rated_movie_per_user\n",
        "fig=plt.figure(figsize=plt.figaspect(0.3))\n",
        "ax1=plt.subplot(221)\n",
        "sns.kdeplot(no_of_rated_movie_per_user,shade=True,ax=ax1)\n",
        "#ax1.set_yticklabels([human(items,'m') for items in ax1.get_yticks()])\n",
        "plt.title(\"CDF\")\n",
        "plt.title(\"PDF\")\n",
        "\n",
        "ax2=plt.subplot(222)\n",
        "sns.kdeplot(no_of_rated_movie_per_user,shade=True,cumulative=True,ax=ax2)\n",
        "#ax2.set_yticklabels([human(items,'m') for items in ax2.get_yticks()])\n",
        "plt.title(\"CDF\")\n",
        "\n",
        "ax3=plt.subplot(223)\n",
        "sns.kdeplot(no_of_rating_per_movie,shade=True,ax=ax3)\n",
        "#ax3.set_yticklabels([human(items,'m') for items in ax3.get_yticks()])\n",
        "plt.xlabel(\"PDF\")\n",
        "\n",
        "ax4=plt.subplot(224)\n",
        "sns.kdeplot(no_of_rating_per_movie,shade=True,cumulative=True,ax=ax4)\n",
        "#ax4.set_yticklabels([human(items,'m') for items in ax4.get_yticks()])\n",
        "plt.xlabel(\"CDF\")\n"
      ]
    },
    {
      "cell_type": "code",
      "execution_count": null,
      "metadata": {
        "id": "mLpYfUgGcNcY",
        "colab": {
          "base_uri": "https://localhost:8080/"
        },
        "outputId": "734315d9-1dca-4dbf-be82-a3dd74df7d3e"
      },
      "outputs": [
        {
          "output_type": "execute_result",
          "data": {
            "text/plain": [
              "count     17424.000000\n",
              "mean       4613.430039\n",
              "std       13736.048971\n",
              "min           1.000000\n",
              "25%         147.000000\n",
              "50%         435.000000\n",
              "75%        2188.500000\n",
              "max      179684.000000\n",
              "Name: rating, dtype: float64"
            ]
          },
          "metadata": {},
          "execution_count": 41
        }
      ],
      "source": [
        "no_of_rating_per_movie.describe()"
      ]
    },
    {
      "cell_type": "code",
      "execution_count": null,
      "metadata": {
        "id": "1nmE9CwUfQ_I"
      },
      "outputs": [],
      "source": [
        "quantiles=no_of_rating_per_movie.quantile(np.arange(0,1.01,0.01),interpolation='higher')"
      ]
    },
    {
      "cell_type": "code",
      "execution_count": null,
      "metadata": {
        "id": "tQV7qR1Ngcne",
        "colab": {
          "base_uri": "https://localhost:8080/"
        },
        "outputId": "1e03e1eb-fe8d-4058-f214-8d246d98fcd9"
      },
      "outputs": [
        {
          "output_type": "execute_result",
          "data": {
            "text/plain": [
              "0.00         1\n",
              "0.01         6\n",
              "0.02        21\n",
              "0.03        39\n",
              "0.04        52\n",
              "         ...  \n",
              "0.96     30365\n",
              "0.97     38336\n",
              "0.98     54303\n",
              "0.99     78879\n",
              "1.00    179684\n",
              "Name: rating, Length: 101, dtype: int64"
            ]
          },
          "metadata": {},
          "execution_count": 43
        }
      ],
      "source": [
        "quantiles"
      ]
    },
    {
      "cell_type": "code",
      "execution_count": null,
      "metadata": {
        "id": "Rl0BvLmgggN4",
        "colab": {
          "base_uri": "https://localhost:8080/"
        },
        "outputId": "926cbfbd-3ae4-43e5-bf42-9443540963c0"
      },
      "outputs": [
        {
          "output_type": "execute_result",
          "data": {
            "text/plain": [
              "0.00         1\n",
              "0.05        63\n",
              "0.10        87\n",
              "0.15       105\n",
              "0.20       124\n",
              "0.25       147\n",
              "0.30       178\n",
              "0.35       217\n",
              "0.40       271\n",
              "0.45       342\n",
              "0.50       435\n",
              "0.55       577\n",
              "0.60       784\n",
              "0.65      1086\n",
              "0.70      1574\n",
              "0.75      2190\n",
              "0.80      3296\n",
              "0.85      5478\n",
              "0.90     10139\n",
              "0.95     24454\n",
              "1.00    179684\n",
              "Name: rating, dtype: int64"
            ]
          },
          "metadata": {},
          "execution_count": 44
        }
      ],
      "source": [
        "quantiles[::5]"
      ]
    },
    {
      "cell_type": "code",
      "execution_count": null,
      "metadata": {
        "id": "ojle-IaSglOH",
        "colab": {
          "base_uri": "https://localhost:8080/"
        },
        "outputId": "035692c4-98b6-4359-fdf1-86b054d94ab9"
      },
      "outputs": [
        {
          "output_type": "stream",
          "name": "stdout",
          "text": [
            "The last 5% of movie having rating are: 872\n",
            "The last 10% of movie having rating are: 1743\n"
          ]
        }
      ],
      "source": [
        "print(\"The last 5% of movie having rating are:\",sum(no_of_rating_per_movie>=24454))\n",
        "print(\"The last 10% of movie having rating are:\",sum(no_of_rating_per_movie>=10139))\n"
      ]
    },
    {
      "cell_type": "markdown",
      "source": [
        "Which indicates that 872 movies have rating of greater than 24454 and also 1743 movies have ratings of greater than 10139.The 1743 which also includes 872."
      ],
      "metadata": {
        "id": "RsM77CQ3OnQQ"
      }
    },
    {
      "cell_type": "markdown",
      "metadata": {
        "id": "7XP3mWSthKhl"
      },
      "source": [
        "Almost 90% of movie are having approx 0f less than or equal to 10139 rating \n",
        "\n",
        "Last 10 % of movie are of having rating of 8000 which indicates that some popular movie got rated by many user."
      ]
    },
    {
      "cell_type": "code",
      "execution_count": null,
      "metadata": {
        "id": "snvxZzjFiBK4",
        "colab": {
          "base_uri": "https://localhost:8080/"
        },
        "outputId": "1f60fa4e-b647-4cd9-e18c-6b8dd0108e5b"
      },
      "outputs": [
        {
          "output_type": "execute_result",
          "data": {
            "text/plain": [
              "Index(['movie', 'user', 'rating', 'date', 'week_days'], dtype='object')"
            ]
          },
          "metadata": {},
          "execution_count": 57
        }
      ],
      "source": [
        "train_df.columns"
      ]
    },
    {
      "cell_type": "code",
      "execution_count": null,
      "metadata": {
        "id": "ivV1wjjKhAH6"
      },
      "outputs": [],
      "source": [
        "##Analysis on the weekday of the traindataset\n",
        "fig,ax=plt.subplots(figsize=plt.figaspect(0.3))\n",
        "sns.countplot(x='week_days',data=train_df)\n",
        "plt.title(\"No of rating on each day\")\n",
        "plt.xlabel(\"Day of the week\")\n",
        "plt.ylabel(\"Total No of rating\")\n",
        "plt.show()"
      ]
    },
    {
      "cell_type": "code",
      "execution_count": null,
      "metadata": {
        "id": "2myIWC6uh-e1"
      },
      "outputs": [],
      "source": [
        "##Box plot on the weekday and rating\n",
        "sns.boxplot(y='rating',x='week_days',data=train_df)\n",
        "plt.show()"
      ]
    },
    {
      "cell_type": "code",
      "execution_count": null,
      "metadata": {
        "id": "sgGUae7kjwZM",
        "colab": {
          "base_uri": "https://localhost:8080/"
        },
        "outputId": "bdd2b5a8-f99f-46a6-a6cc-e7e12794c362"
      },
      "outputs": [
        {
          "output_type": "stream",
          "name": "stdout",
          "text": [
            "Avg rating\n",
            "##################################################\n",
            "week_days\n",
            "Friday       3.585274\n",
            "Monday       3.577250\n",
            "Saturday     3.591791\n",
            "Sunday       3.594144\n",
            "Thursday     3.582463\n",
            "Tuesday      3.574438\n",
            "Wednesday    3.583751\n",
            "Name: rating, dtype: float64\n"
          ]
        }
      ],
      "source": [
        "##Average week df\n",
        "avg_week_df=train_df.groupby(by='week_days')['rating'].mean()\n",
        "print('Avg rating')\n",
        "print('#'*50)\n",
        "print(avg_week_df)"
      ]
    },
    {
      "cell_type": "code",
      "execution_count": null,
      "metadata": {
        "id": "G9nKKHpEDVnB"
      },
      "outputs": [],
      "source": [
        "train_df=train_df.drop(['week_days'],axis=1)"
      ]
    },
    {
      "cell_type": "code",
      "execution_count": null,
      "metadata": {
        "id": "VJva8bfPIlnX",
        "colab": {
          "base_uri": "https://localhost:8080/"
        },
        "outputId": "9c3d09a9-77a4-46a7-88d2-e1d9117733d5"
      },
      "outputs": [
        {
          "output_type": "execute_result",
          "data": {
            "text/plain": [
              "Index(['movie', 'user', 'rating', 'date'], dtype='object')"
            ]
          },
          "metadata": {},
          "execution_count": 6
        }
      ],
      "source": [
        "train_df.columns"
      ]
    },
    {
      "cell_type": "markdown",
      "metadata": {
        "id": "OWqcQILbYMPF"
      },
      "source": [
        "**Creating sparse matrix from dataframe**\n",
        "\n"
      ]
    },
    {
      "cell_type": "code",
      "execution_count": null,
      "metadata": {
        "id": "OoYrYcIAIpyk",
        "colab": {
          "base_uri": "https://localhost:8080/"
        },
        "outputId": "371e6112-1169-4c78-bd4d-5f556fa4cc86"
      },
      "outputs": [
        {
          "output_type": "stream",
          "name": "stdout",
          "text": [
            "The file is in pwd so extracting it...... \n",
            "Done...\n",
            "The time taken to run this module is of 0:00:05.334131\n"
          ]
        }
      ],
      "source": [
        "start_time=datetime.now()\n",
        "if os.path.isfile('/content/drive/MyDrive/netflix files/train_sparse_matrix.npz'):\n",
        "  print(\"The file is in pwd so extracting it...... \")\n",
        "  train_sparse_matrix=sparse.load_npz('/content/drive/MyDrive/netflix files/train_sparse_matrix.npz')\n",
        "  print('Done...')\n",
        "\n",
        "else:\n",
        "  print(\"The sparse matrix is now creating...\")\n",
        "  train_sparse_matrix=sparse.csr_matrix((train_df.rating,(train_df.user,train_df.movie)))\n",
        "  print('saving it into the disk for futher usage')\n",
        "  sparse.save_npz('train_sparse_matrix.npz',train_sparse_matrix)\n",
        "  print('Done....')\n",
        "print(\"The time taken to run this module is of\",datetime.now()-start_time)\n"
      ]
    },
    {
      "cell_type": "code",
      "execution_count": null,
      "metadata": {
        "id": "Tgq0RLW2KcwF",
        "colab": {
          "base_uri": "https://localhost:8080/"
        },
        "outputId": "c99350d1-c89c-4166-ddb4-ba88487e6753"
      },
      "outputs": [
        {
          "output_type": "stream",
          "name": "stdout",
          "text": [
            "The file is found in your pwd extracting it....\n",
            "Done....\n"
          ]
        }
      ],
      "source": [
        "##creating the sparse matrix for the test_data.csv\n",
        "if os.path.isfile('/content/drive/MyDrive/netflix files/test_sparse_matrix.npz'):\n",
        "  print('The file is found in your pwd extracting it....')\n",
        "  test_sparse_matrix=sparse.load_npz('/content/drive/MyDrive/netflix files/test_sparse_matrix.npz')\n",
        "  print('Done....')\n",
        "else:\n",
        "  print('The file is not found in your hard disk..... ')\n",
        "  print('Creating the new sparse matrix for the test data')\n",
        "  test_sparse_matrix=sparse.csr_matrix((test_df.rating,(test_df.user,test_df.movie)))\n",
        "  print('Saving it into the disk for future purposes')\n",
        "  sparse.save_npz('test_sparse_matrix',test_sparse_matrix)\n",
        "  print('Done.....')"
      ]
    },
    {
      "cell_type": "code",
      "execution_count": null,
      "metadata": {
        "id": "gmQjki9vdLSb",
        "colab": {
          "base_uri": "https://localhost:8080/"
        },
        "outputId": "bc726c31-b2b0-47ce-8e1d-ef3ebace8f7b"
      },
      "outputs": [
        {
          "output_type": "stream",
          "name": "stdout",
          "text": [
            "(2649430, 17771)\n",
            "(2649430, 17771)\n"
          ]
        }
      ],
      "source": [
        "print(train_sparse_matrix.shape)\n",
        "print(test_sparse_matrix.shape)"
      ]
    },
    {
      "cell_type": "markdown",
      "source": [
        "The sparse matrix stores in its form to reduce the memory space.However it never corrupt the shapes of the orginal matrix(train_matrix and test_matrix) in this case."
      ],
      "metadata": {
        "id": "0EwF1V1bYsPq"
      }
    },
    {
      "cell_type": "markdown",
      "metadata": {
        "id": "gEVu-I2-dp1p"
      },
      "source": [
        "The sparsity of the train_sparse_matrix and test_sparse_matrix"
      ]
    },
    {
      "cell_type": "code",
      "execution_count": null,
      "metadata": {
        "id": "YxHtZlRwdejn",
        "colab": {
          "base_uri": "https://localhost:8080/"
        },
        "outputId": "0757d1d8-355e-4fa4-e2c1-5729144d4362"
      },
      "outputs": [
        {
          "output_type": "stream",
          "name": "stdout",
          "text": [
            "The sparsity over the train_df is of  99.8292709259195\n",
            "The sparsity over the test_df is of  99.95731772988694\n"
          ]
        }
      ],
      "source": [
        "r1,c1=train_sparse_matrix.shape\n",
        "r2,c2=test_sparse_matrix.shape\n",
        "not_sparse_train=train_sparse_matrix.count_nonzero()\n",
        "not_sparse_test=test_sparse_matrix.count_nonzero()\n",
        "print('The sparsity over the train_df is of ',(1-((not_sparse_train)/(r1*c1)))*100)\n",
        "print('The sparsity over the test_df is of ',(1-(not_sparse_test)/(r2*c2))*100)"
      ]
    },
    {
      "cell_type": "markdown",
      "metadata": {
        "id": "rZeIXngVfMff"
      },
      "source": [
        "Takeaway:The sparsity of the train_df and test_df is almost 99.9percent and 99.9 percent But if we created the orginal matrix the memomry would have been exhausted for the entire matrix creation "
      ]
    },
    {
      "cell_type": "markdown",
      "metadata": {
        "id": "FOEfql1egfyW"
      },
      "source": [
        "<h3>Finding the global average of all the movie rating,Average rating per user,Average rating per movie</h3>"
      ]
    },
    {
      "cell_type": "code",
      "execution_count": null,
      "metadata": {
        "id": "yc0th95ffp_6",
        "colab": {
          "base_uri": "https://localhost:8080/"
        },
        "outputId": "e9d7c09c-e08e-4af1-dd1a-0c5990f27c11"
      },
      "outputs": [
        {
          "output_type": "stream",
          "name": "stdout",
          "text": [
            "{'global': 3.582890686321557}\n"
          ]
        }
      ],
      "source": [
        "train_average=dict()\n",
        "train_global_average=train_sparse_matrix.sum()/train_sparse_matrix.count_nonzero()\n",
        "train_average['global']=train_global_average\n",
        "print(train_average)"
      ]
    },
    {
      "cell_type": "markdown",
      "metadata": {
        "id": "XlNcgSXHs77m"
      },
      "source": [
        "**Finding average rating per user**"
      ]
    },
    {
      "cell_type": "code",
      "execution_count": null,
      "metadata": {
        "id": "rfpscyKXBTSD"
      },
      "outputs": [],
      "source": [
        "\n",
        "# get the user averages in dictionary (key: user_id/movie_id, value: avg rating)\n",
        "\n",
        "def get_average_rating(sparse_matrix, of_user):\n",
        "    \n",
        "    # average rating of user/axes\n",
        "    ax = 1 if of_user else 0 \n",
        "    # 1 - User axes showing that the ag rating of user on movies,0 - Movie axes indicates that the avg movie raiting on by all users.\n",
        "\n",
        "    # \".A1\" is for converting Column_Matrix to 1-D numpy array \n",
        "    sum_of_rating = sparse_matrix.sum(axis=ax).A1\n",
        "    is_rated = sparse_matrix!=0\n",
        "    no_of_rating = is_rated.sum(axis=ax).A1\n",
        "\n",
        "    u,m = sparse_matrix.shape\n",
        "    average_rating = { i : sum_of_rating[i]/no_of_rating[i]\n",
        "                                 for i in range(u if of_user else m) \n",
        "                                    if no_of_rating[i] !=0}\n",
        "\n",
        "    return average_rating\n"
      ]
    },
    {
      "cell_type": "code",
      "execution_count": null,
      "metadata": {
        "id": "zGDlyIVrdKDa",
        "colab": {
          "base_uri": "https://localhost:8080/"
        },
        "outputId": "4f796805-e77c-45f2-f438-f51d2bd41dc4"
      },
      "outputs": [
        {
          "output_type": "stream",
          "name": "stdout",
          "text": [
            "\n",
            "Average rating of user 10 : 3.3781094527363185\n",
            "0:00:02.034615\n"
          ]
        }
      ],
      "source": [
        "starttime=datetime.now()\n",
        "train_average['user'] = get_average_rating(train_sparse_matrix, of_user=True)\n",
        "print('\\nAverage rating of user 10 :',train_average['user'][10])\n",
        "print(datetime.now()-starttime)\n"
      ]
    },
    {
      "cell_type": "code",
      "execution_count": null,
      "metadata": {
        "id": "nGQiclDueGuy",
        "colab": {
          "base_uri": "https://localhost:8080/"
        },
        "outputId": "6f03a61e-709d-49ad-e497-3924a9eedb84"
      },
      "outputs": [
        {
          "output_type": "execute_result",
          "data": {
            "text/plain": [
              "405041"
            ]
          },
          "metadata": {},
          "execution_count": 17
        }
      ],
      "source": [
        "len(train_average['user'])"
      ]
    },
    {
      "cell_type": "code",
      "execution_count": null,
      "metadata": {
        "id": "3yK_UzrCZgFw",
        "colab": {
          "base_uri": "https://localhost:8080/"
        },
        "outputId": "88f988e7-2597-4bd1-b5fc-65534e602ee4"
      },
      "outputs": [
        {
          "output_type": "stream",
          "name": "stdout",
          "text": [
            "the average movie rating of 15 th movie is: 3.3038461538461537\n",
            "0:00:00.826383\n"
          ]
        }
      ],
      "source": [
        "start_time=datetime.now()\n",
        "train_average['movie']=get_average_rating(train_sparse_matrix,of_user=False)\n",
        "print('the average movie rating of 15 th movie is:',train_average['movie'][15])\n",
        "print(datetime.now()-start_time)"
      ]
    },
    {
      "cell_type": "markdown",
      "metadata": {
        "id": "o1IbLVwnuOb3"
      },
      "source": [
        "PDf and cdf of avg rating"
      ]
    },
    {
      "cell_type": "code",
      "execution_count": null,
      "metadata": {
        "id": "Y24zWvEYMDF8",
        "colab": {
          "base_uri": "https://localhost:8080/",
          "height": 465
        },
        "outputId": "f24a968f-3f0a-4204-dd0d-15577e87def2"
      },
      "outputs": [
        {
          "output_type": "stream",
          "name": "stderr",
          "text": [
            "/usr/local/lib/python3.7/dist-packages/seaborn/distributions.py:2619: FutureWarning: `distplot` is a deprecated function and will be removed in a future version. Please adapt your code to use either `displot` (a figure-level function with similar flexibility) or `kdeplot` (an axes-level function for kernel density plots).\n",
            "  warnings.warn(msg, FutureWarning)\n",
            "/usr/local/lib/python3.7/dist-packages/seaborn/distributions.py:2619: FutureWarning: `distplot` is a deprecated function and will be removed in a future version. Please adapt your code to use either `displot` (a figure-level function with similar flexibility) or `kdeplot` (an axes-level function for kernel density plots).\n",
            "  warnings.warn(msg, FutureWarning)\n",
            "/usr/local/lib/python3.7/dist-packages/seaborn/distributions.py:2619: FutureWarning: `distplot` is a deprecated function and will be removed in a future version. Please adapt your code to use either `displot` (a figure-level function with similar flexibility) or `kdeplot` (an axes-level function for kernel density plots).\n",
            "  warnings.warn(msg, FutureWarning)\n",
            "/usr/local/lib/python3.7/dist-packages/seaborn/distributions.py:2619: FutureWarning: `distplot` is a deprecated function and will be removed in a future version. Please adapt your code to use either `displot` (a figure-level function with similar flexibility) or `kdeplot` (an axes-level function for kernel density plots).\n",
            "  warnings.warn(msg, FutureWarning)\n"
          ]
        },
        {
          "output_type": "execute_result",
          "data": {
            "text/plain": [
              "<matplotlib.axes._subplots.AxesSubplot at 0x7f46551a0f10>"
            ]
          },
          "metadata": {},
          "execution_count": 22
        },
        {
          "output_type": "display_data",
          "data": {
            "text/plain": [
              "<Figure size 960x288 with 2 Axes>"
            ],
            "image/png": "[encoded data removed]"
          },
          "metadata": {}
        }
      ],
      "source": [
        "fig,(ax1,ax2)=plt.subplots(1,2,figsize=plt.figaspect(0.3))\n",
        "plt.title('Avg rating of the user and movie',fontsize=15)\n",
        "ax1.set_title('Avg_rating of user')\n",
        "ax2.set_title('Avg_rating of movie')\n",
        "user_avgs=[rati for rati in train_average['user'].values()]\n",
        "sns.distplot(user_avgs,hist=False,kde_kws=dict(cumulative=True),label='CDF',ax=ax1)\n",
        "sns.distplot(user_avgs,hist=False,label='PDF',ax=ax1)\n",
        "movie_avgs=[rati for rati in train_average['movie'].values()]\n",
        "sns.distplot(movie_avgs,hist=False,kde_kws=dict(cumulative=True),label='CDF',ax=ax2)\n",
        "sns.distplot(movie_avgs,hist=False,ax=ax2)\n"
      ]
    },
    {
      "cell_type": "markdown",
      "metadata": {
        "id": "HBxiHDI8xF65"
      },
      "source": [
        "Take aways:\n",
        "The plot looks like bernolli distribution but tail looks some what long (pdf)"
      ]
    },
    {
      "cell_type": "markdown",
      "metadata": {
        "id": "UhPGamatx898"
      },
      "source": [
        "Cold start problem"
      ]
    },
    {
      "cell_type": "code",
      "source": [
        "df=pd.read_csv('/content/data.csv',sep=',',names=['movie','user','rating','date'])"
      ],
      "metadata": {
        "id": "7e6v3pRObfQZ"
      },
      "execution_count": null,
      "outputs": []
    },
    {
      "cell_type": "code",
      "source": [
        "total_users = len(np.unique(df.user))\n",
        "users_train = len(train_average['user'])\n",
        "new_users = total_users - users_train\n",
        "\n",
        "print('\\nTotal number of Users  :', total_users)\n",
        "print('\\nNumber of Users in Train data :', users_train)\n",
        "print(\"\\nNo of Users that didn't appear in train data: {}({} %) \\n \".format(new_users,\n",
        "                                                                        np.round((new_users/total_users)*100, 2)))"
      ],
      "metadata": {
        "colab": {
          "base_uri": "https://localhost:8080/"
        },
        "id": "noz2PI5QZ7rV",
        "outputId": "72477d75-988e-4b93-b4b1-edf2411f5f8e"
      },
      "execution_count": null,
      "outputs": [
        {
          "output_type": "stream",
          "name": "stdout",
          "text": [
            "\n",
            "Total number of Users  : 480189\n",
            "\n",
            "Number of Users in Train data : 405041\n",
            "\n",
            "No of Users that didn't appear in train data: 75148(15.65 %) \n",
            " \n"
          ]
        }
      ]
    },
    {
      "cell_type": "markdown",
      "source": [
        " We might have to handle __new users__ ( ___75148___ ) who didn't appear in train data."
      ],
      "metadata": {
        "id": "JCPwGOJQaQP7"
      }
    },
    {
      "cell_type": "markdown",
      "source": [
        "__Cold start problem with movies__"
      ],
      "metadata": {
        "id": "X8hTcvXGaWV_"
      }
    },
    {
      "cell_type": "code",
      "source": [
        "total_movies = len(np.unique(df.movie))\n",
        "movies_train = len(train_average['movie'])\n",
        "new_movies = total_movies - movies_train\n",
        "\n",
        "print('\\nTotal number of Movies  :', total_movies)\n",
        "print('\\nNumber of Users in Train data :', movies_train)\n",
        "print(\"\\nNo of Movies that didn't appear in train data: {}({} %) \\n \".format(new_movies,\n",
        "                                                                        np.round((new_movies/total_movies)*100, 2)))"
      ],
      "metadata": {
        "colab": {
          "base_uri": "https://localhost:8080/"
        },
        "id": "MeiGyDxuaVhR",
        "outputId": "85a87c60-ff36-40ea-86b9-303ea1c9832b"
      },
      "execution_count": null,
      "outputs": [
        {
          "output_type": "stream",
          "name": "stdout",
          "text": [
            "\n",
            "Total number of Movies  : 17770\n",
            "\n",
            "Number of Users in Train data : 17424\n",
            "\n",
            "No of Movies that didn't appear in train data: 346(1.95 %) \n",
            " \n"
          ]
        }
      ]
    },
    {
      "cell_type": "markdown",
      "metadata": {
        "id": "HTTrCPy31GnP"
      },
      "source": [
        "<h3> Computing Similarity matrices</h3>\n",
        "Computing User-User Similarity matrix\n",
        "\n",
        "Calculating User User Similarity_Matrix is not very easy(unless you have huge Computing Power and lots of time) because of number of userbeing lare."
      ]
    },
    {
      "cell_type": "code",
      "execution_count": null,
      "metadata": {
        "id": "zftqPOsC1FxD"
      },
      "outputs": [],
      "source": [
        "from sklearn.metrics.pairwise import cosine_similarity\n",
        "\n",
        "\n",
        "def compute_user_user_similarity(sparse_matrix, compute_for_few=False, top = 100, verbose=False, verb_for_n_rows = 20,\n",
        "                            draw_time_taken=True):\n",
        "  \n",
        "  no_of_users, _ = sparse_matrix.shape\n",
        "  # get the indices of  non zero rows(users) from our sparse matrix\n",
        "  row_ind, col_ind = sparse_matrix.nonzero()\n",
        "  row_ind = sorted(set(row_ind)) # we don't have to\n",
        "  time_taken = list() #  time taken for finding similar users for an user..\n",
        "    \n",
        "    # we create rows, cols, and data lists.., which can be used to create sparse matrices\n",
        "  rows, cols, data = list(), list(), list()\n",
        "  if verbose: print(\"Computing top\",top,\"similarities for each user..\")\n",
        "    \n",
        "  start = datetime.now()\n",
        "  temp = 0\n",
        "    \n",
        "  for row in row_ind[:top] if compute_for_few else row_ind:\n",
        "    temp = temp+1\n",
        "    prev = datetime.now()\n",
        "        \n",
        "    # get the similarity row for this user with all other users\n",
        "    sim = cosine_similarity(sparse_matrix.getrow(row), sparse_matrix).ravel()\n",
        "    # We will get only the top ''top'' most similar users and ignore rest of them..\n",
        "    top_sim_ind = sim.argsort()[-top:]\n",
        "    top_sim_val = sim[top_sim_ind]\n",
        "        \n",
        "    # add them to our rows, cols and data\n",
        "    rows.extend([row]*top)\n",
        "    cols.extend(top_sim_ind)\n",
        "    data.extend(top_sim_val)\n",
        "    time_taken.append(datetime.now().timestamp() - prev.timestamp())\n",
        "    if verbose:\n",
        "\n",
        "      if temp%verb_for_n_rows == 0:\n",
        "\n",
        "        print(\"computing done for {} users [  time elapsed : {}  ]\"\n",
        "                      .format(temp, datetime.now()-start))\n",
        "            \n",
        "        \n",
        "  # lets create sparse matrix out of these and return it\n",
        "  if verbose: print('Creating Sparse matrix from the computed similarities')\n",
        "  #return rows, cols, data\n",
        "    \n",
        "  if draw_time_taken:\n",
        "\n",
        "    plt.plot(time_taken, label = 'time taken for each user')\n",
        "    plt.plot(np.cumsum(time_taken), label='Total time')\n",
        "    plt.legend(loc='best')\n",
        "    plt.xlabel('User')\n",
        "    plt.ylabel('Time (seconds)')\n",
        "    plt.show()\n",
        "        \n",
        "  return sparse.csr_matrix((data, (rows, cols)), shape=(no_of_users, no_of_users)), time_taken      "
      ]
    },
    {
      "cell_type": "code",
      "execution_count": null,
      "metadata": {
        "id": "FNZRr19Rghnu",
        "colab": {
          "base_uri": "https://localhost:8080/",
          "height": 409
        },
        "outputId": "f7ca138e-6d36-4039-d2ee-33fd5f656581"
      },
      "outputs": [
        {
          "output_type": "stream",
          "name": "stdout",
          "text": [
            "Computing top 50 similarities for each user..\n",
            "computing done for 20 users [  time elapsed : 0:02:01.725834  ]\n",
            "computing done for 40 users [  time elapsed : 0:03:58.537281  ]\n",
            "Creating Sparse matrix from the computed similarities\n"
          ]
        },
        {
          "output_type": "display_data",
          "data": {
            "text/plain": [
              "<Figure size 432x288 with 1 Axes>"
            ],
            "image/png": "[encoded data removed]"
          },
          "metadata": {}
        },
        {
          "output_type": "stream",
          "name": "stdout",
          "text": [
            "______________________________________________________________________________________________________________________________________________________\n",
            "total_time taken for computing 100 user is of:  0:05:06.589066\n"
          ]
        }
      ],
      "source": [
        "start=datetime.now()\n",
        "u_u_similarity, _ =compute_user_user_similarity(train_sparse_matrix,compute_for_few=True,top=50,verbose=True)\n",
        "print(\"_\"*150)\n",
        "print('total_time taken for computing 100 user is of: ',datetime.now()-start)"
      ]
    },
    {
      "cell_type": "markdown",
      "source": [
        "So for computing for the 100 user of the top 50 similar users take almost5 mins so if we try to compute for 405 k users of 50 similar users then it is going to take 20250 mins which is equal to 337 hours which in turn equal 14+days.So its not an easy task so user user similarity is not preferred.However if we have high resources,on computing parallely on 4 core we acqurire the result in 3+days."
      ],
      "metadata": {
        "id": "3SaHBy-seH9N"
      }
    },
    {
      "cell_type": "markdown",
      "source": [
        "Solution:Whenever we recommending a particular user then we compute for that particular user only so that it can be processed in almost 1 to 2 mins."
      ],
      "metadata": {
        "id": "rNnRMJy7fPCg"
      }
    },
    {
      "cell_type": "markdown",
      "metadata": {
        "id": "12FrUCiaJiTX"
      },
      "source": [
        "<h3> Computing movie movie similarity</h3>"
      ]
    },
    {
      "cell_type": "code",
      "execution_count": null,
      "metadata": {
        "id": "UFbE7vABre7-",
        "colab": {
          "base_uri": "https://localhost:8080/"
        },
        "outputId": "9d6ecaa2-96a9-409c-f282-d292f7c7fa7f"
      },
      "outputs": [
        {
          "output_type": "stream",
          "name": "stdout",
          "text": [
            "The file is present in your pwd....\n",
            "Loading the file....\n",
            "Done\n",
            "It is a  (17771, 17771) dimension matrix\n",
            "The time taken is : 0:00:36.260117\n"
          ]
        }
      ],
      "source": [
        "start=datetime.now()\n",
        "if not os.path.isfile('m_m_sim.npz'):\n",
        "  print('There is no file present in your pwd so,creating the file of m_m_sim.npz')\n",
        "  m_m_sim=cosine_similarity(X=train_sparse_matrix.T,dense_output=False)\n",
        "  print('saving it into the disk for future purposes')\n",
        "  sparse.save_npz('m_m_sim',m_m_sim)\n",
        "  print('The file got saved...')\n",
        "else:\n",
        "  print('The file is present in your pwd....')\n",
        "  print('Loading the file....')\n",
        "  m_m_sim=sparse.load_npz('m_m_sim.npz')\n",
        "  print('Done')\n",
        "print('It is a ',m_m_sim.shape,'dimension matrix')\n",
        "print('The time taken is :',datetime.now()-start)\n"
      ]
    },
    {
      "cell_type": "code",
      "execution_count": null,
      "metadata": {
        "id": "YJ0nmzm_LKF1"
      },
      "outputs": [],
      "source": [
        "movie_ids=np.unique(m_m_sim.nonzero()[0])"
      ]
    },
    {
      "cell_type": "code",
      "execution_count": null,
      "metadata": {
        "id": "JzOa_4qCNtOd",
        "colab": {
          "base_uri": "https://localhost:8080/"
        },
        "outputId": "29a67b17-1c27-4f28-ab27-c5a5f44ae4ec"
      },
      "outputs": [
        {
          "output_type": "stream",
          "name": "stdout",
          "text": [
            "0:00:31.287687\n"
          ]
        },
        {
          "output_type": "execute_result",
          "data": {
            "text/plain": [
              "array([ 8279,  8013, 16528,  5927, 13105, 12049,  4424, 10193, 17590,\n",
              "        4549,  3755,   590, 14059, 15144, 15054,  9584,  9071,  6349,\n",
              "       16402,  3973,  1720,  5370, 16309,  9376,  6116,  4706,  2818,\n",
              "         778, 15331,  1416, 12979, 17139, 17710,  5452,  2534,   164,\n",
              "       15188,  8323,  2450, 16331,  9566, 15301, 13213, 14308, 15984,\n",
              "       10597,  6426,  5500,  7068,  7328,  5720,  9802,   376, 13013,\n",
              "        8003, 10199,  3338, 15390,  9688, 16455, 11730,  4513,   598,\n",
              "       12762,  2187,   509,  5865,  9166, 17115, 16334,  1942,  7282,\n",
              "       17584,  4376,  8988,  8873,  5921,  2716, 14679, 11947, 11981,\n",
              "        4649,   565, 12954, 10788, 10220, 10963,  9427,  1690,  5107,\n",
              "        7859,  5969,  1510,  2429,   847,  7845,  6410, 13931,  9840,\n",
              "        3706])"
            ]
          },
          "metadata": {},
          "execution_count": 5
        }
      ],
      "source": [
        "start=datetime.now()\n",
        "similar_movie=dict()\n",
        "for movie in movie_ids:\n",
        "  sim_movie=m_m_sim[movie].toarray().ravel().argsort()[::-1][1:]\n",
        "  similar_movie[movie]=sim_movie[:100]\n",
        "print(datetime.now()-start)\n",
        "similar_movie[15]\n"
      ]
    },
    {
      "cell_type": "markdown",
      "metadata": {
        "id": "VT4vXgnZSfto"
      },
      "source": [
        ":<h2>Finding the similarity movie using movie movie similarity</h2>\n",
        "\n",
        "To check lets use the movie title.csv which is got extracted in netflix prize dataset"
      ]
    },
    {
      "cell_type": "code",
      "execution_count": null,
      "metadata": {
        "id": "zz2K-NZCSLF8",
        "colab": {
          "base_uri": "https://localhost:8080/"
        },
        "outputId": "d3dc7936-c7da-449a-e195-c53d69d96be1"
      },
      "outputs": [
        {
          "output_type": "stream",
          "name": "stdout",
          "text": [
            "Tokenization took: 3.89 ms\n",
            "Type conversion took: 9.52 ms\n",
            "Parser memory cleanup took: 0.01 ms\n"
          ]
        }
      ],
      "source": [
        "movie_titles=pd.read_csv('/content/movie_titles.csv',names=['movie_id', 'year_of_release', 'title'],encoding=\"ISO-8859-1\",index_col='movie_id',verbose=True,header=None)"
      ]
    },
    {
      "cell_type": "code",
      "execution_count": null,
      "metadata": {
        "id": "xhB4rOlXUY5X",
        "colab": {
          "base_uri": "https://localhost:8080/",
          "height": 237
        },
        "outputId": "d9d992a5-e819-4f4b-d6df-2eebdad6393e"
      },
      "outputs": [
        {
          "output_type": "execute_result",
          "data": {
            "text/plain": [
              "          year_of_release                         title\n",
              "movie_id                                               \n",
              "1                  2003.0               Dinosaur Planet\n",
              "2                  2004.0    Isle of Man TT 2004 Review\n",
              "3                  1997.0                     Character\n",
              "4                  1994.0  Paula Abdul's Get Up & Dance\n",
              "5                  2004.0      The Rise and Fall of ECW"
            ],
            "text/html": [
              "\n",
              "  <div id=\"df-f4a56f83-15dc-4986-87ce-37bae0024f64\">\n",
              "    <div class=\"colab-df-container\">\n",
              "      <div>\n",
              "<style scoped>\n",
              "    .dataframe tbody tr th:only-of-type {\n",
              "        vertical-align: middle;\n",
              "    }\n",
              "\n",
              "    .dataframe tbody tr th {\n",
              "        vertical-align: top;\n",
              "    }\n",
              "\n",
              "    .dataframe thead th {\n",
              "        text-align: right;\n",
              "    }\n",
              "</style>\n",
              "<table border=\"1\" class=\"dataframe\">\n",
              "  <thead>\n",
              "    <tr style=\"text-align: right;\">\n",
              "      <th></th>\n",
              "      <th>year_of_release</th>\n",
              "      <th>title</th>\n",
              "    </tr>\n",
              "    <tr>\n",
              "      <th>movie_id</th>\n",
              "      <th></th>\n",
              "      <th></th>\n",
              "    </tr>\n",
              "  </thead>\n",
              "  <tbody>\n",
              "    <tr>\n",
              "      <th>1</th>\n",
              "      <td>2003.0</td>\n",
              "      <td>Dinosaur Planet</td>\n",
              "    </tr>\n",
              "    <tr>\n",
              "      <th>2</th>\n",
              "      <td>2004.0</td>\n",
              "      <td>Isle of Man TT 2004 Review</td>\n",
              "    </tr>\n",
              "    <tr>\n",
              "      <th>3</th>\n",
              "      <td>1997.0</td>\n",
              "      <td>Character</td>\n",
              "    </tr>\n",
              "    <tr>\n",
              "      <th>4</th>\n",
              "      <td>1994.0</td>\n",
              "      <td>Paula Abdul's Get Up &amp; Dance</td>\n",
              "    </tr>\n",
              "    <tr>\n",
              "      <th>5</th>\n",
              "      <td>2004.0</td>\n",
              "      <td>The Rise and Fall of ECW</td>\n",
              "    </tr>\n",
              "  </tbody>\n",
              "</table>\n",
              "</div>\n",
              "      <button class=\"colab-df-convert\" onclick=\"convertToInteractive('df-f4a56f83-15dc-4986-87ce-37bae0024f64')\"\n",
              "              title=\"Convert this dataframe to an interactive table.\"\n",
              "              style=\"display:none;\">\n",
              "        \n",
              "  <svg xmlns=\"http://www.w3.org/2000/svg\" height=\"24px\"viewBox=\"0 0 24 24\"\n",
              "       width=\"24px\">\n",
              "    <path d=\"M0 0h24v24H0V0z\" fill=\"none\"/>\n",
              "    <path d=\"M18.56 5.44l.94 2.06.94-2.06 2.06-.94-2.06-.94-.94-2.06-.94 2.06-2.06.94zm-11 1L8.5 8.5l.94-2.06 2.06-.94-2.06-.94L8.5 2.5l-.94 2.06-2.06.94zm10 10l.94 2.06.94-2.06 2.06-.94-2.06-.94-.94-2.06-.94 2.06-2.06.94z\"/><path d=\"M17.41 7.96l-1.37-1.37c-.4-.4-.92-.59-1.43-.59-.52 0-1.04.2-1.43.59L10.3 9.45l-7.72 7.72c-.78.78-.78 2.05 0 2.83L4 21.41c.39.39.9.59 1.41.59.51 0 1.02-.2 1.41-.59l7.78-7.78 2.81-2.81c.8-.78.8-2.07 0-2.86zM5.41 20L4 18.59l7.72-7.72 1.47 1.35L5.41 20z\"/>\n",
              "  </svg>\n",
              "      </button>\n",
              "      \n",
              "  <style>\n",
              "    .colab-df-container {\n",
              "      display:flex;\n",
              "      flex-wrap:wrap;\n",
              "      gap: 12px;\n",
              "    }\n",
              "\n",
              "    .colab-df-convert {\n",
              "      background-color: #E8F0FE;\n",
              "      border: none;\n",
              "      border-radius: 50%;\n",
              "      cursor: pointer;\n",
              "      display: none;\n",
              "      fill: #1967D2;\n",
              "      height: 32px;\n",
              "      padding: 0 0 0 0;\n",
              "      width: 32px;\n",
              "    }\n",
              "\n",
              "    .colab-df-convert:hover {\n",
              "      background-color: #E2EBFA;\n",
              "      box-shadow: 0px 1px 2px rgba(60, 64, 67, 0.3), 0px 1px 3px 1px rgba(60, 64, 67, 0.15);\n",
              "      fill: #174EA6;\n",
              "    }\n",
              "\n",
              "    [theme=dark] .colab-df-convert {\n",
              "      background-color: #3B4455;\n",
              "      fill: #D2E3FC;\n",
              "    }\n",
              "\n",
              "    [theme=dark] .colab-df-convert:hover {\n",
              "      background-color: #434B5C;\n",
              "      box-shadow: 0px 1px 3px 1px rgba(0, 0, 0, 0.15);\n",
              "      filter: drop-shadow(0px 1px 2px rgba(0, 0, 0, 0.3));\n",
              "      fill: #FFFFFF;\n",
              "    }\n",
              "  </style>\n",
              "\n",
              "      <script>\n",
              "        const buttonEl =\n",
              "          document.querySelector('#df-f4a56f83-15dc-4986-87ce-37bae0024f64 button.colab-df-convert');\n",
              "        buttonEl.style.display =\n",
              "          google.colab.kernel.accessAllowed ? 'block' : 'none';\n",
              "\n",
              "        async function convertToInteractive(key) {\n",
              "          const element = document.querySelector('#df-f4a56f83-15dc-4986-87ce-37bae0024f64');\n",
              "          const dataTable =\n",
              "            await google.colab.kernel.invokeFunction('convertToInteractive',\n",
              "                                                     [key], {});\n",
              "          if (!dataTable) return;\n",
              "\n",
              "          const docLinkHtml = 'Like what you see? Visit the ' +\n",
              "            '<a target=\"_blank\" href=https://colab.research.google.com/notebooks/data_table.ipynb>data table notebook</a>'\n",
              "            + ' to learn more about interactive tables.';\n",
              "          element.innerHTML = '';\n",
              "          dataTable['output_type'] = 'display_data';\n",
              "          await google.colab.output.renderOutput(dataTable, element);\n",
              "          const docLink = document.createElement('div');\n",
              "          docLink.innerHTML = docLinkHtml;\n",
              "          element.appendChild(docLink);\n",
              "        }\n",
              "      </script>\n",
              "    </div>\n",
              "  </div>\n",
              "  "
            ]
          },
          "metadata": {},
          "execution_count": 6
        }
      ],
      "source": [
        "movie_titles.head()"
      ]
    },
    {
      "cell_type": "code",
      "execution_count": null,
      "metadata": {
        "id": "Z2tF99Q9VJ3_"
      },
      "outputs": [],
      "source": [
        "dataframe=movie_titles[movie_titles['title']=='Vampire Journals']"
      ]
    },
    {
      "cell_type": "code",
      "execution_count": null,
      "metadata": {
        "id": "nwgkjdFFWFmx",
        "colab": {
          "base_uri": "https://localhost:8080/",
          "height": 112
        },
        "outputId": "e89d5b90-c6c5-40b4-88ac-a3f26e958f19"
      },
      "outputs": [
        {
          "output_type": "execute_result",
          "data": {
            "text/plain": [
              "          year_of_release             title\n",
              "movie_id                                   \n",
              "67                 1997.0  Vampire Journals"
            ],
            "text/html": [
              "\n",
              "  <div id=\"df-a9c90f0a-31b1-4b97-8fa0-6bf86aa6c0b0\">\n",
              "    <div class=\"colab-df-container\">\n",
              "      <div>\n",
              "<style scoped>\n",
              "    .dataframe tbody tr th:only-of-type {\n",
              "        vertical-align: middle;\n",
              "    }\n",
              "\n",
              "    .dataframe tbody tr th {\n",
              "        vertical-align: top;\n",
              "    }\n",
              "\n",
              "    .dataframe thead th {\n",
              "        text-align: right;\n",
              "    }\n",
              "</style>\n",
              "<table border=\"1\" class=\"dataframe\">\n",
              "  <thead>\n",
              "    <tr style=\"text-align: right;\">\n",
              "      <th></th>\n",
              "      <th>year_of_release</th>\n",
              "      <th>title</th>\n",
              "    </tr>\n",
              "    <tr>\n",
              "      <th>movie_id</th>\n",
              "      <th></th>\n",
              "      <th></th>\n",
              "    </tr>\n",
              "  </thead>\n",
              "  <tbody>\n",
              "    <tr>\n",
              "      <th>67</th>\n",
              "      <td>1997.0</td>\n",
              "      <td>Vampire Journals</td>\n",
              "    </tr>\n",
              "  </tbody>\n",
              "</table>\n",
              "</div>\n",
              "      <button class=\"colab-df-convert\" onclick=\"convertToInteractive('df-a9c90f0a-31b1-4b97-8fa0-6bf86aa6c0b0')\"\n",
              "              title=\"Convert this dataframe to an interactive table.\"\n",
              "              style=\"display:none;\">\n",
              "        \n",
              "  <svg xmlns=\"http://www.w3.org/2000/svg\" height=\"24px\"viewBox=\"0 0 24 24\"\n",
              "       width=\"24px\">\n",
              "    <path d=\"M0 0h24v24H0V0z\" fill=\"none\"/>\n",
              "    <path d=\"M18.56 5.44l.94 2.06.94-2.06 2.06-.94-2.06-.94-.94-2.06-.94 2.06-2.06.94zm-11 1L8.5 8.5l.94-2.06 2.06-.94-2.06-.94L8.5 2.5l-.94 2.06-2.06.94zm10 10l.94 2.06.94-2.06 2.06-.94-2.06-.94-.94-2.06-.94 2.06-2.06.94z\"/><path d=\"M17.41 7.96l-1.37-1.37c-.4-.4-.92-.59-1.43-.59-.52 0-1.04.2-1.43.59L10.3 9.45l-7.72 7.72c-.78.78-.78 2.05 0 2.83L4 21.41c.39.39.9.59 1.41.59.51 0 1.02-.2 1.41-.59l7.78-7.78 2.81-2.81c.8-.78.8-2.07 0-2.86zM5.41 20L4 18.59l7.72-7.72 1.47 1.35L5.41 20z\"/>\n",
              "  </svg>\n",
              "      </button>\n",
              "      \n",
              "  <style>\n",
              "    .colab-df-container {\n",
              "      display:flex;\n",
              "      flex-wrap:wrap;\n",
              "      gap: 12px;\n",
              "    }\n",
              "\n",
              "    .colab-df-convert {\n",
              "      background-color: #E8F0FE;\n",
              "      border: none;\n",
              "      border-radius: 50%;\n",
              "      cursor: pointer;\n",
              "      display: none;\n",
              "      fill: #1967D2;\n",
              "      height: 32px;\n",
              "      padding: 0 0 0 0;\n",
              "      width: 32px;\n",
              "    }\n",
              "\n",
              "    .colab-df-convert:hover {\n",
              "      background-color: #E2EBFA;\n",
              "      box-shadow: 0px 1px 2px rgba(60, 64, 67, 0.3), 0px 1px 3px 1px rgba(60, 64, 67, 0.15);\n",
              "      fill: #174EA6;\n",
              "    }\n",
              "\n",
              "    [theme=dark] .colab-df-convert {\n",
              "      background-color: #3B4455;\n",
              "      fill: #D2E3FC;\n",
              "    }\n",
              "\n",
              "    [theme=dark] .colab-df-convert:hover {\n",
              "      background-color: #434B5C;\n",
              "      box-shadow: 0px 1px 3px 1px rgba(0, 0, 0, 0.15);\n",
              "      filter: drop-shadow(0px 1px 2px rgba(0, 0, 0, 0.3));\n",
              "      fill: #FFFFFF;\n",
              "    }\n",
              "  </style>\n",
              "\n",
              "      <script>\n",
              "        const buttonEl =\n",
              "          document.querySelector('#df-a9c90f0a-31b1-4b97-8fa0-6bf86aa6c0b0 button.colab-df-convert');\n",
              "        buttonEl.style.display =\n",
              "          google.colab.kernel.accessAllowed ? 'block' : 'none';\n",
              "\n",
              "        async function convertToInteractive(key) {\n",
              "          const element = document.querySelector('#df-a9c90f0a-31b1-4b97-8fa0-6bf86aa6c0b0');\n",
              "          const dataTable =\n",
              "            await google.colab.kernel.invokeFunction('convertToInteractive',\n",
              "                                                     [key], {});\n",
              "          if (!dataTable) return;\n",
              "\n",
              "          const docLinkHtml = 'Like what you see? Visit the ' +\n",
              "            '<a target=\"_blank\" href=https://colab.research.google.com/notebooks/data_table.ipynb>data table notebook</a>'\n",
              "            + ' to learn more about interactive tables.';\n",
              "          element.innerHTML = '';\n",
              "          dataTable['output_type'] = 'display_data';\n",
              "          await google.colab.output.renderOutput(dataTable, element);\n",
              "          const docLink = document.createElement('div');\n",
              "          docLink.innerHTML = docLinkHtml;\n",
              "          element.appendChild(docLink);\n",
              "        }\n",
              "      </script>\n",
              "    </div>\n",
              "  </div>\n",
              "  "
            ]
          },
          "metadata": {},
          "execution_count": 16
        }
      ],
      "source": [
        "dataframe"
      ]
    },
    {
      "cell_type": "code",
      "execution_count": null,
      "metadata": {
        "id": "9TEuz_rtYCYC",
        "colab": {
          "base_uri": "https://localhost:8080/"
        },
        "outputId": "2fded3f4-097c-4145-f83e-e2c41fb0a307"
      },
      "outputs": [
        {
          "output_type": "execute_result",
          "data": {
            "text/plain": [
              "array([  323,  4044,  1688, 13962, 12053, 16279,  4667,  1900, 13873,\n",
              "       15867,  6743,  7573, 16315,  2004, 14338, 14292, 13905,   415,\n",
              "       13812,  5373,  3496, 15237,  7520, 15961, 12749,  9911,   938,\n",
              "       12898,  2948, 10649, 11609,  4111, 11627, 14541, 12790,  4173,\n",
              "        2633,  9674, 13262, 11345,  6306,  9045, 14765, 10960,  2670,\n",
              "       17243,  6022,  8565,  6818,  9304,   399,  5131, 10370, 13616,\n",
              "         408, 14520,  6208,  2233,  9151,  5197,  3043,  4021,  8180,\n",
              "        1570, 13637, 10653, 12990, 16290, 13333,  1624, 15438,  3828,\n",
              "        6130,  1723, 15414,  5568,  8686, 12814, 13445,  1768,   887,\n",
              "       16804, 17648,  9157, 12659,  6411,  9308, 13917,  8952,  8936,\n",
              "        2231,  2667, 15108,  8439,  4469, 11536,  9338, 15728, 14931,\n",
              "         726])"
            ]
          },
          "metadata": {},
          "execution_count": 9
        }
      ],
      "source": [
        "similar_movie[67]"
      ]
    },
    {
      "cell_type": "code",
      "execution_count": null,
      "metadata": {
        "id": "JkOLUNXzYQff",
        "colab": {
          "base_uri": "https://localhost:8080/"
        },
        "outputId": "7838577e-8dd7-4873-94c2-ef2ab698df3a"
      },
      "outputs": [
        {
          "output_type": "stream",
          "name": "stdout",
          "text": [
            "The movie of movie_id 67-------> Vampire Journals\n",
            "The number of user rated this movie is of:270\n",
            "The number of similar movie for this movie is of:17284\n"
          ]
        }
      ],
      "source": [
        "movie_id=67\n",
        "print('The movie of movie_id 67------->',movie_titles.loc[movie_id].values[1])\n",
        "print('The number of user rated this movie is of:{}'.format(train_sparse_matrix[:,67].getnnz()))\n",
        "print('The number of similar movie for this movie is of:{}'.format(m_m_sim[:,67].getnnz()))"
      ]
    },
    {
      "cell_type": "code",
      "execution_count": null,
      "metadata": {
        "id": "R7Pk1PNVa1Fo"
      },
      "outputs": [],
      "source": [
        "similarities=m_m_sim[movie_id].toarray().ravel()\n",
        "sim_ind=similarities.argsort()[::-1][1:]\n"
      ]
    },
    {
      "cell_type": "code",
      "execution_count": null,
      "metadata": {
        "id": "45TjuhZ_cLJl",
        "colab": {
          "base_uri": "https://localhost:8080/"
        },
        "outputId": "86d7f4fb-7650-46b3-b53f-3e67e290f7e2"
      },
      "outputs": [
        {
          "output_type": "execute_result",
          "data": {
            "text/plain": [
              "(17770,)"
            ]
          },
          "metadata": {},
          "execution_count": 22
        }
      ],
      "source": [
        "sim_ind.shape"
      ]
    },
    {
      "cell_type": "code",
      "execution_count": null,
      "metadata": {
        "id": "qnw9yfh3cwfh",
        "colab": {
          "base_uri": "https://localhost:8080/",
          "height": 307
        },
        "outputId": "dae8ddd8-04a0-4b77-b6be-0300fa2ba429"
      },
      "outputs": [
        {
          "output_type": "display_data",
          "data": {
            "text/plain": [
              "<Figure size 432x288 with 1 Axes>"
            ],
            "image/png": "[encoded data removed]"
          },
          "metadata": {}
        }
      ],
      "source": [
        "plt.plot(similarities[sim_ind],label='All the rating')\n",
        "plt.plot(similarities[sim_ind[:100]],label='Only top 100 similarities')\n",
        "plt.title(\"Similar movie of {}(movie_id)\".format(movie_id), fontsize=20)\n",
        "plt.xlabel(\"movie (Not Movie_Ids)\", fontsize=15)\n",
        "plt.ylabel(\"Cosine Similarity\",fontsize=15)\n",
        "plt.legend()\n",
        "plt.show()"
      ]
    },
    {
      "cell_type": "code",
      "execution_count": null,
      "metadata": {
        "id": "X18K1eV5dQv2",
        "colab": {
          "base_uri": "https://localhost:8080/",
          "height": 551
        },
        "outputId": "76c763b3-6e09-43bc-e88a-54c4e50cb8b4"
      },
      "outputs": [
        {
          "output_type": "execute_result",
          "data": {
            "text/plain": [
              "          year_of_release                                              title\n",
              "movie_id                                                                    \n",
              "323                1999.0                                    Modern Vampires\n",
              "4044               1998.0                           Subspecies 4: Bloodstorm\n",
              "1688               1993.0                            To Sleep With a Vampire\n",
              "13962              2001.0                           Dracula: The Dark Prince\n",
              "12053              1993.0                                     Dracula Rising\n",
              "16279              2002.0                              Vampires: Los Muertos\n",
              "4667               1996.0                                         Vampirella\n",
              "1900               1997.0                                       Club Vampire\n",
              "13873              2001.0                                          The Breed\n",
              "15867              2003.0                              Dracula II: Ascension\n",
              "6743               1970.0                                   Scars of Dracula\n",
              "7573               2000.0  Kindred: The Embraced: The Complete Vampire Co...\n",
              "16315              1992.0                                     Innocent Blood\n",
              "2004               2001.0                                       She Creature\n",
              "14338              2001.0                                         Blood Moon"
            ],
            "text/html": [
              "\n",
              "  <div id=\"df-c5e0da3b-10a9-42bd-be83-7c60c9fa9a52\">\n",
              "    <div class=\"colab-df-container\">\n",
              "      <div>\n",
              "<style scoped>\n",
              "    .dataframe tbody tr th:only-of-type {\n",
              "        vertical-align: middle;\n",
              "    }\n",
              "\n",
              "    .dataframe tbody tr th {\n",
              "        vertical-align: top;\n",
              "    }\n",
              "\n",
              "    .dataframe thead th {\n",
              "        text-align: right;\n",
              "    }\n",
              "</style>\n",
              "<table border=\"1\" class=\"dataframe\">\n",
              "  <thead>\n",
              "    <tr style=\"text-align: right;\">\n",
              "      <th></th>\n",
              "      <th>year_of_release</th>\n",
              "      <th>title</th>\n",
              "    </tr>\n",
              "    <tr>\n",
              "      <th>movie_id</th>\n",
              "      <th></th>\n",
              "      <th></th>\n",
              "    </tr>\n",
              "  </thead>\n",
              "  <tbody>\n",
              "    <tr>\n",
              "      <th>323</th>\n",
              "      <td>1999.0</td>\n",
              "      <td>Modern Vampires</td>\n",
              "    </tr>\n",
              "    <tr>\n",
              "      <th>4044</th>\n",
              "      <td>1998.0</td>\n",
              "      <td>Subspecies 4: Bloodstorm</td>\n",
              "    </tr>\n",
              "    <tr>\n",
              "      <th>1688</th>\n",
              "      <td>1993.0</td>\n",
              "      <td>To Sleep With a Vampire</td>\n",
              "    </tr>\n",
              "    <tr>\n",
              "      <th>13962</th>\n",
              "      <td>2001.0</td>\n",
              "      <td>Dracula: The Dark Prince</td>\n",
              "    </tr>\n",
              "    <tr>\n",
              "      <th>12053</th>\n",
              "      <td>1993.0</td>\n",
              "      <td>Dracula Rising</td>\n",
              "    </tr>\n",
              "    <tr>\n",
              "      <th>16279</th>\n",
              "      <td>2002.0</td>\n",
              "      <td>Vampires: Los Muertos</td>\n",
              "    </tr>\n",
              "    <tr>\n",
              "      <th>4667</th>\n",
              "      <td>1996.0</td>\n",
              "      <td>Vampirella</td>\n",
              "    </tr>\n",
              "    <tr>\n",
              "      <th>1900</th>\n",
              "      <td>1997.0</td>\n",
              "      <td>Club Vampire</td>\n",
              "    </tr>\n",
              "    <tr>\n",
              "      <th>13873</th>\n",
              "      <td>2001.0</td>\n",
              "      <td>The Breed</td>\n",
              "    </tr>\n",
              "    <tr>\n",
              "      <th>15867</th>\n",
              "      <td>2003.0</td>\n",
              "      <td>Dracula II: Ascension</td>\n",
              "    </tr>\n",
              "    <tr>\n",
              "      <th>6743</th>\n",
              "      <td>1970.0</td>\n",
              "      <td>Scars of Dracula</td>\n",
              "    </tr>\n",
              "    <tr>\n",
              "      <th>7573</th>\n",
              "      <td>2000.0</td>\n",
              "      <td>Kindred: The Embraced: The Complete Vampire Co...</td>\n",
              "    </tr>\n",
              "    <tr>\n",
              "      <th>16315</th>\n",
              "      <td>1992.0</td>\n",
              "      <td>Innocent Blood</td>\n",
              "    </tr>\n",
              "    <tr>\n",
              "      <th>2004</th>\n",
              "      <td>2001.0</td>\n",
              "      <td>She Creature</td>\n",
              "    </tr>\n",
              "    <tr>\n",
              "      <th>14338</th>\n",
              "      <td>2001.0</td>\n",
              "      <td>Blood Moon</td>\n",
              "    </tr>\n",
              "  </tbody>\n",
              "</table>\n",
              "</div>\n",
              "      <button class=\"colab-df-convert\" onclick=\"convertToInteractive('df-c5e0da3b-10a9-42bd-be83-7c60c9fa9a52')\"\n",
              "              title=\"Convert this dataframe to an interactive table.\"\n",
              "              style=\"display:none;\">\n",
              "        \n",
              "  <svg xmlns=\"http://www.w3.org/2000/svg\" height=\"24px\"viewBox=\"0 0 24 24\"\n",
              "       width=\"24px\">\n",
              "    <path d=\"M0 0h24v24H0V0z\" fill=\"none\"/>\n",
              "    <path d=\"M18.56 5.44l.94 2.06.94-2.06 2.06-.94-2.06-.94-.94-2.06-.94 2.06-2.06.94zm-11 1L8.5 8.5l.94-2.06 2.06-.94-2.06-.94L8.5 2.5l-.94 2.06-2.06.94zm10 10l.94 2.06.94-2.06 2.06-.94-2.06-.94-.94-2.06-.94 2.06-2.06.94z\"/><path d=\"M17.41 7.96l-1.37-1.37c-.4-.4-.92-.59-1.43-.59-.52 0-1.04.2-1.43.59L10.3 9.45l-7.72 7.72c-.78.78-.78 2.05 0 2.83L4 21.41c.39.39.9.59 1.41.59.51 0 1.02-.2 1.41-.59l7.78-7.78 2.81-2.81c.8-.78.8-2.07 0-2.86zM5.41 20L4 18.59l7.72-7.72 1.47 1.35L5.41 20z\"/>\n",
              "  </svg>\n",
              "      </button>\n",
              "      \n",
              "  <style>\n",
              "    .colab-df-container {\n",
              "      display:flex;\n",
              "      flex-wrap:wrap;\n",
              "      gap: 12px;\n",
              "    }\n",
              "\n",
              "    .colab-df-convert {\n",
              "      background-color: #E8F0FE;\n",
              "      border: none;\n",
              "      border-radius: 50%;\n",
              "      cursor: pointer;\n",
              "      display: none;\n",
              "      fill: #1967D2;\n",
              "      height: 32px;\n",
              "      padding: 0 0 0 0;\n",
              "      width: 32px;\n",
              "    }\n",
              "\n",
              "    .colab-df-convert:hover {\n",
              "      background-color: #E2EBFA;\n",
              "      box-shadow: 0px 1px 2px rgba(60, 64, 67, 0.3), 0px 1px 3px 1px rgba(60, 64, 67, 0.15);\n",
              "      fill: #174EA6;\n",
              "    }\n",
              "\n",
              "    [theme=dark] .colab-df-convert {\n",
              "      background-color: #3B4455;\n",
              "      fill: #D2E3FC;\n",
              "    }\n",
              "\n",
              "    [theme=dark] .colab-df-convert:hover {\n",
              "      background-color: #434B5C;\n",
              "      box-shadow: 0px 1px 3px 1px rgba(0, 0, 0, 0.15);\n",
              "      filter: drop-shadow(0px 1px 2px rgba(0, 0, 0, 0.3));\n",
              "      fill: #FFFFFF;\n",
              "    }\n",
              "  </style>\n",
              "\n",
              "      <script>\n",
              "        const buttonEl =\n",
              "          document.querySelector('#df-c5e0da3b-10a9-42bd-be83-7c60c9fa9a52 button.colab-df-convert');\n",
              "        buttonEl.style.display =\n",
              "          google.colab.kernel.accessAllowed ? 'block' : 'none';\n",
              "\n",
              "        async function convertToInteractive(key) {\n",
              "          const element = document.querySelector('#df-c5e0da3b-10a9-42bd-be83-7c60c9fa9a52');\n",
              "          const dataTable =\n",
              "            await google.colab.kernel.invokeFunction('convertToInteractive',\n",
              "                                                     [key], {});\n",
              "          if (!dataTable) return;\n",
              "\n",
              "          const docLinkHtml = 'Like what you see? Visit the ' +\n",
              "            '<a target=\"_blank\" href=https://colab.research.google.com/notebooks/data_table.ipynb>data table notebook</a>'\n",
              "            + ' to learn more about interactive tables.';\n",
              "          element.innerHTML = '';\n",
              "          dataTable['output_type'] = 'display_data';\n",
              "          await google.colab.output.renderOutput(dataTable, element);\n",
              "          const docLink = document.createElement('div');\n",
              "          docLink.innerHTML = docLinkHtml;\n",
              "          element.appendChild(docLink);\n",
              "        }\n",
              "      </script>\n",
              "    </div>\n",
              "  </div>\n",
              "  "
            ]
          },
          "metadata": {},
          "execution_count": 21
        }
      ],
      "source": [
        "movie_titles.loc[sim_ind[:15]]"
      ]
    },
    {
      "cell_type": "markdown",
      "metadata": {
        "id": "Pbd1wdjwgtQh"
      },
      "source": [
        "Take aways:\n",
        "These are the movie which are similar to the movie of 67(vampire journals).."
      ]
    },
    {
      "cell_type": "markdown",
      "source": [
        "Future doubt reference for the csr matrix"
      ],
      "metadata": {
        "id": "BiN22QSmkxU_"
      }
    },
    {
      "cell_type": "code",
      "execution_count": null,
      "metadata": {
        "id": "MM7dhHuLdmZw"
      },
      "outputs": [],
      "source": [
        "a=csr_matrix([[1,2,3,4,5,5],[0,0,0,0,0,0],[5,6,0,8,9,0]])"
      ]
    },
    {
      "cell_type": "code",
      "execution_count": null,
      "metadata": {
        "id": "WdgVGDxgudjM"
      },
      "outputs": [],
      "source": []
    },
    {
      "cell_type": "code",
      "execution_count": null,
      "metadata": {
        "id": "2zzgDOeodwI4",
        "colab": {
          "base_uri": "https://localhost:8080/"
        },
        "outputId": "087231d1-6dfe-48e2-d099-e708fed16c7a"
      },
      "outputs": [
        {
          "output_type": "execute_result",
          "data": {
            "text/plain": [
              "(array([0, 2, 0, 2, 0, 0, 2, 0, 2, 0], dtype=int32),\n",
              " array([0, 0, 1, 1, 2, 3, 3, 4, 4, 5], dtype=int32),\n",
              " array([1, 5, 2, 6, 3, 4, 8, 5, 9, 5]))"
            ]
          },
          "metadata": {},
          "execution_count": 23
        }
      ],
      "source": [
        "sparse.find(a)"
      ]
    },
    {
      "cell_type": "code",
      "execution_count": null,
      "metadata": {
        "id": "W99Vha9dYLD6",
        "colab": {
          "base_uri": "https://localhost:8080/"
        },
        "outputId": "08f06f90-a975-4aa5-c6e6-52012c7dc3f7"
      },
      "outputs": [
        {
          "output_type": "execute_result",
          "data": {
            "text/plain": [
              "array([[1, 2, 3, 4, 5, 5],\n",
              "       [0, 0, 0, 0, 0, 0],\n",
              "       [5, 6, 0, 8, 9, 0]])"
            ]
          },
          "metadata": {},
          "execution_count": 24
        }
      ],
      "source": [
        "a.toarray()"
      ]
    },
    {
      "cell_type": "code",
      "execution_count": null,
      "metadata": {
        "id": "5vg4438SZSk6"
      },
      "outputs": [],
      "source": [
        "row_ind,col_ind,rating=sparse.find(a)"
      ]
    },
    {
      "cell_type": "code",
      "execution_count": null,
      "metadata": {
        "id": "VlP92tnyYOYw"
      },
      "outputs": [],
      "source": [
        "user=np.unique(row_ind)"
      ]
    },
    {
      "cell_type": "code",
      "execution_count": null,
      "metadata": {
        "id": "wqHilW79ZX1F",
        "colab": {
          "base_uri": "https://localhost:8080/"
        },
        "outputId": "df3d5cf0-0f3a-4f5b-accf-4c0b7fa843fb"
      },
      "outputs": [
        {
          "output_type": "execute_result",
          "data": {
            "text/plain": [
              "array([0, 2], dtype=int32)"
            ]
          },
          "metadata": {},
          "execution_count": 27
        }
      ],
      "source": [
        "user"
      ]
    },
    {
      "cell_type": "code",
      "execution_count": null,
      "metadata": {
        "id": "65T9hm4CBdSv"
      },
      "outputs": [],
      "source": [
        "movie=np.unique(col_ind)"
      ]
    },
    {
      "cell_type": "code",
      "execution_count": null,
      "metadata": {
        "id": "rMNRoHbcZYrP"
      },
      "outputs": [],
      "source": [
        "m=np.unique(col_ind)"
      ]
    },
    {
      "cell_type": "code",
      "execution_count": null,
      "metadata": {
        "id": "KInqDKx3Ztxs",
        "colab": {
          "base_uri": "https://localhost:8080/"
        },
        "outputId": "673c8adf-c5be-45e2-c695-f7299fa7055a"
      },
      "outputs": [
        {
          "output_type": "stream",
          "name": "stdout",
          "text": [
            "[0 2]\n",
            "[0 2 0 2 0 0 2 0 2 0]\n",
            "[0 1 2 3 4 5]\n",
            "[0 0 1 1 2 3 3 4 4 5]\n",
            "[ True  True  True  True  True  True  True  True  True  True]\n",
            "[ True  True  True  True  True  True  True  True  True  True]\n",
            "[ True  True  True  True  True  True  True  True  True  True]\n"
          ]
        }
      ],
      "source": [
        " mask=np.logical_and(np.isin(row_ind,user),np.isin(col_ind,movie))\n",
        " print(user)\n",
        " print(row_ind)\n",
        " print(movie)\n",
        " print(col_ind)\n",
        " print(mask)\n",
        " print(np.isin(row_ind,user))\n",
        " print(np.isin(col_ind,movie))"
      ]
    },
    {
      "cell_type": "markdown",
      "metadata": {
        "id": "CqeSE8e3pVsC"
      },
      "source": [
        "<h3>Machine Learning Models</h3>"
      ]
    },
    {
      "cell_type": "markdown",
      "source": [
        "Time for regression based recommendation system\n",
        "(__content Based Recommendation System__)"
      ],
      "metadata": {
        "id": "ZBj0u7xSlBH6"
      }
    },
    {
      "cell_type": "code",
      "execution_count": null,
      "metadata": {
        "id": "bPPFK3tBZuvi"
      },
      "outputs": [],
      "source": [
        "def get_sample_sparse_matrix(sparse_matrix,no_of_user,no_of_movie,path,verbose=True):\n",
        "  row_ind,col_ind,rating=sparse.find(sparse_matrix)\n",
        "  user=np.unique(row_ind)\n",
        "  movie=np.unique(col_ind)\n",
        "  print('user',user)\n",
        "  print('movie',movie)\n",
        "\n",
        "  print('The orginal matrix is of size({},{})'.format(len(user),len(movie)))\n",
        "  print('The orginal matrix rattings is of {}'.format(len(rating)))\n",
        "  ##To get the same random choices we use seed\n",
        "  np.random.seed(15)\n",
        "  sample_user=np.random.choice(user,no_of_user,replace=False)\n",
        "  sample_movie=np.random.choice(movie,no_of_movie,replace=False)\n",
        "  \n",
        "  #print('sample_movie',sample_movie)\n",
        "  #print('sample_user',sample_user)\n",
        "\n",
        "  ##get the boolean mask or these sampled items in orginal rows/cols\n",
        "  mask=np.logical_and(np.isin(row_ind,sample_user),np.isin(col_ind,sample_movie))\n",
        "  print(len(mask))\n",
        "\n",
        "  sample_sparse_matrix=sparse.csr_matrix((rating[mask],(row_ind[mask],col_ind[mask])),shape=(max(sample_user)+1,max(sample_movie)+1))\n",
        "  if verbose:\n",
        "        print(\"Sampled Matrix : (user, movie) -- ({} {})\".format(len(sample_user), len(sample_movie)))\n",
        "        print(\"Sampled Matrix : rating --\", format(rating[mask].shape[0]))\n",
        "\n",
        "  #print('Saving it into disk for furthur usage..')\n",
        "  # save it into disk\n",
        "  sparse.save_npz(path, sample_sparse_matrix)\n",
        "\n",
        "  if verbose:\n",
        "\n",
        "    print('Done..\\n')\n",
        "    \n",
        "  return sample_sparse_matrix\n",
        "\n",
        "\n"
      ]
    },
    {
      "cell_type": "markdown",
      "metadata": {
        "id": "XwxkvTevvra4"
      },
      "source": [
        "<h3>Sampling data</h3>\n",
        "why:\n",
        "As the computation is not supported so we are taking the random samples of the train and test data."
      ]
    },
    {
      "cell_type": "code",
      "execution_count": null,
      "metadata": {
        "id": "80rrSUDaqr_i",
        "colab": {
          "base_uri": "https://localhost:8080/"
        },
        "outputId": "d25e011a-2bbc-4dec-d664-4bfcf5d4522b"
      },
      "outputs": [
        {
          "output_type": "stream",
          "name": "stdout",
          "text": [
            "The file is present in yout pwd....\n",
            "Loading the file.....\n",
            "0:00:00.054324\n"
          ]
        }
      ],
      "source": [
        "start=datetime.now()\n",
        "if os.path.isfile('/content/drive/MyDrive/netflix files/sample_train_sparse_matrix.npz'):\n",
        "  print('The file is present in yout pwd....')\n",
        "  print('Loading the file.....')\n",
        "  sampled_train_sparse_matrix=sparse.load_npz('/content/drive/MyDrive/netflix files/sample_train_sparse_matrix.npz')\n",
        "else:\n",
        "  print('The file is not present in your pwd so creating the new one...')\n",
        "  sampled_train_sparse_matrix=get_sample_sparse_matrix(train_sparse_matrix,no_of_user=10000,no_of_movie=1000,verbose=True,path='/content/drive/MyDrive/netflix files/sample_train_sparse_matrix.npz')\n",
        "  sparse.save_npz('sampled_train_sparse_matrix',sampled_train_sparse_matrix)\n",
        "print(datetime.now()-start)"
      ]
    },
    {
      "cell_type": "code",
      "execution_count": null,
      "metadata": {
        "id": "cEsqQbmGxfFT",
        "colab": {
          "base_uri": "https://localhost:8080/"
        },
        "outputId": "1a1efbf6-ad45-4ce7-cc47-63e53c76a049"
      },
      "outputs": [
        {
          "output_type": "stream",
          "name": "stdout",
          "text": [
            "The file is present in your pwd....\n",
            "Loading the file\n",
            "done\n",
            "0:00:00.476008\n"
          ]
        }
      ],
      "source": [
        "##Creating the sampling data to the test data\n",
        "start=datetime.now()\n",
        "path='/content/drive/MyDrive/netflix files/sample_test_sparse_matrix.npz'\n",
        "if os.path.isfile(path):\n",
        "  print('The file is present in your pwd....')\n",
        "  print('Loading the file')\n",
        "  sampled_test_sparse_matrix=sparse.load_npz(path)\n",
        "  print('done')\n",
        "else:\n",
        "  print('The file is not present in your pwd so creating the new one...')\n",
        "  sampled_test_sparse_matrix=get_sample_sparse_matrix(test_sparse_matrix,no_of_user=5000,no_of_movie=500,verbose=True,path=path)\n",
        "  print('Done.....')\n",
        "print(datetime.now()-start)"
      ]
    },
    {
      "cell_type": "code",
      "execution_count": null,
      "metadata": {
        "id": "ed0LNw4UAdyR"
      },
      "outputs": [],
      "source": [
        "sample_train_averages=dict()"
      ]
    },
    {
      "cell_type": "markdown",
      "metadata": {
        "id": "NAfwHSsggj7l"
      },
      "source": [
        "Finding Global avg of all sample_train_rating"
      ]
    },
    {
      "cell_type": "code",
      "execution_count": null,
      "metadata": {
        "id": "i_vn6kXigWmp"
      },
      "outputs": [],
      "source": [
        "global_avg=sampled_train_sparse_matrix.sum()/sampled_train_sparse_matrix.count_nonzero()\n",
        "sample_train_averages['global_avg_rating']=global_avg"
      ]
    },
    {
      "cell_type": "code",
      "execution_count": null,
      "metadata": {
        "id": "fDA4F-xZhPf5",
        "colab": {
          "base_uri": "https://localhost:8080/"
        },
        "outputId": "6caf28b8-7a60-42d5-da54-a078057f8f30"
      },
      "outputs": [
        {
          "output_type": "execute_result",
          "data": {
            "text/plain": [
              "3.581679377504138"
            ]
          },
          "metadata": {},
          "execution_count": 38
        }
      ],
      "source": [
        "sample_train_averages['global_avg_rating']"
      ]
    },
    {
      "cell_type": "code",
      "execution_count": null,
      "metadata": {
        "id": "gdH1vZIcheZT",
        "colab": {
          "base_uri": "https://localhost:8080/"
        },
        "outputId": "21c7757c-aa58-43ed-d95c-2eb14007312c"
      },
      "outputs": [
        {
          "output_type": "stream",
          "name": "stdout",
          "text": [
            "\n",
            "Average rating of user 1515220 : 3.9655172413793105\n"
          ]
        }
      ],
      "source": [
        "sample_train_averages['user'] =get_average_rating(sampled_train_sparse_matrix, of_user=True)\n",
        "print('\\nAverage rating of user 1515220 :',sample_train_averages['user'][1515220])"
      ]
    },
    {
      "cell_type": "code",
      "execution_count": null,
      "metadata": {
        "id": "YF4y17fYhopb",
        "colab": {
          "base_uri": "https://localhost:8080/"
        },
        "outputId": "597379af-0d45-400e-e89a-ddc28de97f04"
      },
      "outputs": [
        {
          "output_type": "stream",
          "name": "stdout",
          "text": [
            "\n",
            "Average rating of user 1515220 : 2.6458333333333335\n"
          ]
        }
      ],
      "source": [
        "sample_train_averages['movie'] =get_average_rating(sampled_train_sparse_matrix, of_user=False)\n",
        "print('\\nAverage rating of user 1515220 :',sample_train_averages['movie'][15153])"
      ]
    },
    {
      "cell_type": "markdown",
      "metadata": {
        "id": "lEnE-TEYilXu"
      },
      "source": [
        "Featurizing Data"
      ]
    },
    {
      "cell_type": "code",
      "execution_count": null,
      "metadata": {
        "id": "ZZLB31OoibHh",
        "colab": {
          "base_uri": "https://localhost:8080/"
        },
        "outputId": "5de2f8a1-8f98-47da-89db-226caad34d44"
      },
      "outputs": [
        {
          "output_type": "stream",
          "name": "stdout",
          "text": [
            "No of rating in our sample train sparse matrix  129286\n",
            "No of rating in our sampled test sparse matrix  7333\n"
          ]
        }
      ],
      "source": [
        "print('No of rating in our sample train sparse matrix  {}'.format(sampled_train_sparse_matrix.count_nonzero()))\n",
        "print('No of rating in our sampled test sparse matrix  {}'.format(sampled_test_sparse_matrix.count_nonzero()))\n"
      ]
    },
    {
      "cell_type": "markdown",
      "metadata": {
        "id": "GE--2D7kjMW8"
      },
      "source": [
        "Featurizing data for regressio problem"
      ]
    },
    {
      "cell_type": "markdown",
      "metadata": {
        "id": "oMDEd_pZjRZC"
      },
      "source": [
        "Train data featurizing"
      ]
    },
    {
      "cell_type": "code",
      "execution_count": null,
      "metadata": {
        "id": "8MCwEq4wjGOn"
      },
      "outputs": [],
      "source": [
        "sample_train_user,sample_train_movie,sample_train_rating=sparse.find(sampled_train_sparse_matrix)"
      ]
    },
    {
      "cell_type": "code",
      "execution_count": null,
      "metadata": {
        "id": "7u_FWSAMjkWK",
        "colab": {
          "base_uri": "https://localhost:8080/"
        },
        "outputId": "5641dc4b-a0a0-4a4e-9125-d58480f79695"
      },
      "outputs": [
        {
          "output_type": "stream",
          "name": "stdout",
          "text": [
            "The file is already present in the pwd no need to create a new one.....\n",
            "0:00:00.001814\n"
          ]
        }
      ],
      "source": [
        "################################################\n",
        "##It took me 7 hours to run this tuples.......##\n",
        "################################################\n",
        "global_start=datetime.now()\n",
        "if os.path.isfile('/content/drive/MyDrive/netflix files/reg_train.csv'):\n",
        "  print('The file is already present in the pwd no need to create a new one.....')\n",
        "else:\n",
        "  count=0\n",
        "  with open('/content/drive/MyDrive/netflix files/reg_train.csv',mode='w') as reg_data_file:\n",
        "    print('Preparing {} tuples for the dataset........'.format(len(sample_train_rating)))\n",
        "    start=datetime.now()\n",
        "    for (user,movie,rating) in zip(sample_train_user,sample_train_movie,sample_train_rating):\n",
        "      sim_user=cosine_similarity(sampled_train_sparse_matrix[user],sampled_train_sparse_matrix).ravel()\n",
        "      top_sim_user=sim_user.argsort()[::-1][1:]\n",
        "      ##finding out who are the top user who rated the movie also top 5 sim user\n",
        "      top_rating=sampled_train_sparse_matrix[top_sim_user,movie].toarray().ravel()\n",
        "      top_sim_user_rating=list(top_rating[top_rating!=0][:5])\n",
        "      top_sim_user_rating.extend([sample_train_averages['movie'][movie]]*(5-len(top_rating)))\n",
        "\n",
        "      ##---------------------------------movie file creation----------------------------------##\n",
        "      sim_movie=cosine_similarity(sampled_train_sparse_matrix[:,movie].T,sampled_train_sparse_matrix.T).ravel()\n",
        "      top_sim_movie=sim_movie.argsort()[::-1][1:]\n",
        "      # get the rating of most similar movie rated by this user..\n",
        "      top_rating=sampled_train_sparse_matrix[user,top_sim_movie].toarray().ravel()\n",
        "      top_sim_movie_rating=list(top_rating[top_rating!=0][:5])\n",
        "      top_sim_movie_rating.extend([sample_train_averages['user'][user]]*(5-len(top_rating)))\n",
        "\n",
        "      ##-------------------------------------creating the reg_data_file-------------------------##\n",
        "\n",
        "      row=list()\n",
        "      row.append(user)\n",
        "      row.append(movie)\n",
        "      row.append(sample_train_averages['global_avg_rating'])\n",
        "      #Adding the similar usrs\n",
        "      row.extend(top_sim_user_rating)\n",
        "      #Adding the similar movie\n",
        "      row.extend(top_sim_movie_rating)\n",
        "      #Avg user rating\n",
        "      row.append(sample_train_averages['user'][user])\n",
        "      #Avg movie rating\n",
        "      row.append(sample_train_averages['movie'][movie])\n",
        "\n",
        "      row.append(rating)\n",
        "      count+=1\n",
        "\n",
        "      # add rows to the file opened..\n",
        "      reg_data_file.write(','.join(map(str, row)))\n",
        "      reg_data_file.write('\\n')        \n",
        "      if count%10000==0:\n",
        "        print('Done for {}---rows{}'.format(count,datetime.now()-start))\n",
        "print(datetime.now()-global_start)\n",
        "\n",
        "\n",
        "  \n",
        "\n",
        "\n",
        "\n",
        "\n",
        "\n",
        "\n",
        "\n",
        "\n"
      ]
    },
    {
      "cell_type": "code",
      "execution_count": null,
      "metadata": {
        "id": "IrKNTQyqDRlS",
        "colab": {
          "base_uri": "https://localhost:8080/",
          "height": 206
        },
        "outputId": "f685984d-c764-40b9-9c2d-66e6f8d9789f"
      },
      "outputs": [
        {
          "output_type": "execute_result",
          "data": {
            "text/plain": [
              "     user  movie      GAvg  sur1  sur2  sur3  sur4  sur5  smr1  smr2  smr3  \\\n",
              "0   53406     33  3.581679   4.0   5.0   5.0   4.0   1.0   5.0   2.0   5.0   \n",
              "1   99540     33  3.581679   5.0   5.0   5.0   4.0   5.0   3.0   4.0   4.0   \n",
              "2   99865     33  3.581679   5.0   5.0   4.0   5.0   3.0   5.0   4.0   4.0   \n",
              "3  101620     33  3.581679   2.0   3.0   5.0   5.0   4.0   4.0   3.0   3.0   \n",
              "4  112974     33  3.581679   5.0   5.0   5.0   5.0   5.0   3.0   5.0   5.0   \n",
              "\n",
              "   smr4  smr5      UAvg      MAvg  rating  \n",
              "0   3.0   1.0  3.370370  4.092437       4  \n",
              "1   3.0   5.0  3.555556  4.092437       3  \n",
              "2   5.0   4.0  3.714286  4.092437       5  \n",
              "3   4.0   5.0  3.584416  4.092437       5  \n",
              "4   5.0   3.0  3.750000  4.092437       5  "
            ],
            "text/html": [
              "\n",
              "  <div id=\"df-2e7f0190-3e3d-4adc-a973-a237ebc8eadc\">\n",
              "    <div class=\"colab-df-container\">\n",
              "      <div>\n",
              "<style scoped>\n",
              "    .dataframe tbody tr th:only-of-type {\n",
              "        vertical-align: middle;\n",
              "    }\n",
              "\n",
              "    .dataframe tbody tr th {\n",
              "        vertical-align: top;\n",
              "    }\n",
              "\n",
              "    .dataframe thead th {\n",
              "        text-align: right;\n",
              "    }\n",
              "</style>\n",
              "<table border=\"1\" class=\"dataframe\">\n",
              "  <thead>\n",
              "    <tr style=\"text-align: right;\">\n",
              "      <th></th>\n",
              "      <th>user</th>\n",
              "      <th>movie</th>\n",
              "      <th>GAvg</th>\n",
              "      <th>sur1</th>\n",
              "      <th>sur2</th>\n",
              "      <th>sur3</th>\n",
              "      <th>sur4</th>\n",
              "      <th>sur5</th>\n",
              "      <th>smr1</th>\n",
              "      <th>smr2</th>\n",
              "      <th>smr3</th>\n",
              "      <th>smr4</th>\n",
              "      <th>smr5</th>\n",
              "      <th>UAvg</th>\n",
              "      <th>MAvg</th>\n",
              "      <th>rating</th>\n",
              "    </tr>\n",
              "  </thead>\n",
              "  <tbody>\n",
              "    <tr>\n",
              "      <th>0</th>\n",
              "      <td>53406</td>\n",
              "      <td>33</td>\n",
              "      <td>3.581679</td>\n",
              "      <td>4.0</td>\n",
              "      <td>5.0</td>\n",
              "      <td>5.0</td>\n",
              "      <td>4.0</td>\n",
              "      <td>1.0</td>\n",
              "      <td>5.0</td>\n",
              "      <td>2.0</td>\n",
              "      <td>5.0</td>\n",
              "      <td>3.0</td>\n",
              "      <td>1.0</td>\n",
              "      <td>3.370370</td>\n",
              "      <td>4.092437</td>\n",
              "      <td>4</td>\n",
              "    </tr>\n",
              "    <tr>\n",
              "      <th>1</th>\n",
              "      <td>99540</td>\n",
              "      <td>33</td>\n",
              "      <td>3.581679</td>\n",
              "      <td>5.0</td>\n",
              "      <td>5.0</td>\n",
              "      <td>5.0</td>\n",
              "      <td>4.0</td>\n",
              "      <td>5.0</td>\n",
              "      <td>3.0</td>\n",
              "      <td>4.0</td>\n",
              "      <td>4.0</td>\n",
              "      <td>3.0</td>\n",
              "      <td>5.0</td>\n",
              "      <td>3.555556</td>\n",
              "      <td>4.092437</td>\n",
              "      <td>3</td>\n",
              "    </tr>\n",
              "    <tr>\n",
              "      <th>2</th>\n",
              "      <td>99865</td>\n",
              "      <td>33</td>\n",
              "      <td>3.581679</td>\n",
              "      <td>5.0</td>\n",
              "      <td>5.0</td>\n",
              "      <td>4.0</td>\n",
              "      <td>5.0</td>\n",
              "      <td>3.0</td>\n",
              "      <td>5.0</td>\n",
              "      <td>4.0</td>\n",
              "      <td>4.0</td>\n",
              "      <td>5.0</td>\n",
              "      <td>4.0</td>\n",
              "      <td>3.714286</td>\n",
              "      <td>4.092437</td>\n",
              "      <td>5</td>\n",
              "    </tr>\n",
              "    <tr>\n",
              "      <th>3</th>\n",
              "      <td>101620</td>\n",
              "      <td>33</td>\n",
              "      <td>3.581679</td>\n",
              "      <td>2.0</td>\n",
              "      <td>3.0</td>\n",
              "      <td>5.0</td>\n",
              "      <td>5.0</td>\n",
              "      <td>4.0</td>\n",
              "      <td>4.0</td>\n",
              "      <td>3.0</td>\n",
              "      <td>3.0</td>\n",
              "      <td>4.0</td>\n",
              "      <td>5.0</td>\n",
              "      <td>3.584416</td>\n",
              "      <td>4.092437</td>\n",
              "      <td>5</td>\n",
              "    </tr>\n",
              "    <tr>\n",
              "      <th>4</th>\n",
              "      <td>112974</td>\n",
              "      <td>33</td>\n",
              "      <td>3.581679</td>\n",
              "      <td>5.0</td>\n",
              "      <td>5.0</td>\n",
              "      <td>5.0</td>\n",
              "      <td>5.0</td>\n",
              "      <td>5.0</td>\n",
              "      <td>3.0</td>\n",
              "      <td>5.0</td>\n",
              "      <td>5.0</td>\n",
              "      <td>5.0</td>\n",
              "      <td>3.0</td>\n",
              "      <td>3.750000</td>\n",
              "      <td>4.092437</td>\n",
              "      <td>5</td>\n",
              "    </tr>\n",
              "  </tbody>\n",
              "</table>\n",
              "</div>\n",
              "      <button class=\"colab-df-convert\" onclick=\"convertToInteractive('df-2e7f0190-3e3d-4adc-a973-a237ebc8eadc')\"\n",
              "              title=\"Convert this dataframe to an interactive table.\"\n",
              "              style=\"display:none;\">\n",
              "        \n",
              "  <svg xmlns=\"http://www.w3.org/2000/svg\" height=\"24px\"viewBox=\"0 0 24 24\"\n",
              "       width=\"24px\">\n",
              "    <path d=\"M0 0h24v24H0V0z\" fill=\"none\"/>\n",
              "    <path d=\"M18.56 5.44l.94 2.06.94-2.06 2.06-.94-2.06-.94-.94-2.06-.94 2.06-2.06.94zm-11 1L8.5 8.5l.94-2.06 2.06-.94-2.06-.94L8.5 2.5l-.94 2.06-2.06.94zm10 10l.94 2.06.94-2.06 2.06-.94-2.06-.94-.94-2.06-.94 2.06-2.06.94z\"/><path d=\"M17.41 7.96l-1.37-1.37c-.4-.4-.92-.59-1.43-.59-.52 0-1.04.2-1.43.59L10.3 9.45l-7.72 7.72c-.78.78-.78 2.05 0 2.83L4 21.41c.39.39.9.59 1.41.59.51 0 1.02-.2 1.41-.59l7.78-7.78 2.81-2.81c.8-.78.8-2.07 0-2.86zM5.41 20L4 18.59l7.72-7.72 1.47 1.35L5.41 20z\"/>\n",
              "  </svg>\n",
              "      </button>\n",
              "      \n",
              "  <style>\n",
              "    .colab-df-container {\n",
              "      display:flex;\n",
              "      flex-wrap:wrap;\n",
              "      gap: 12px;\n",
              "    }\n",
              "\n",
              "    .colab-df-convert {\n",
              "      background-color: #E8F0FE;\n",
              "      border: none;\n",
              "      border-radius: 50%;\n",
              "      cursor: pointer;\n",
              "      display: none;\n",
              "      fill: #1967D2;\n",
              "      height: 32px;\n",
              "      padding: 0 0 0 0;\n",
              "      width: 32px;\n",
              "    }\n",
              "\n",
              "    .colab-df-convert:hover {\n",
              "      background-color: #E2EBFA;\n",
              "      box-shadow: 0px 1px 2px rgba(60, 64, 67, 0.3), 0px 1px 3px 1px rgba(60, 64, 67, 0.15);\n",
              "      fill: #174EA6;\n",
              "    }\n",
              "\n",
              "    [theme=dark] .colab-df-convert {\n",
              "      background-color: #3B4455;\n",
              "      fill: #D2E3FC;\n",
              "    }\n",
              "\n",
              "    [theme=dark] .colab-df-convert:hover {\n",
              "      background-color: #434B5C;\n",
              "      box-shadow: 0px 1px 3px 1px rgba(0, 0, 0, 0.15);\n",
              "      filter: drop-shadow(0px 1px 2px rgba(0, 0, 0, 0.3));\n",
              "      fill: #FFFFFF;\n",
              "    }\n",
              "  </style>\n",
              "\n",
              "      <script>\n",
              "        const buttonEl =\n",
              "          document.querySelector('#df-2e7f0190-3e3d-4adc-a973-a237ebc8eadc button.colab-df-convert');\n",
              "        buttonEl.style.display =\n",
              "          google.colab.kernel.accessAllowed ? 'block' : 'none';\n",
              "\n",
              "        async function convertToInteractive(key) {\n",
              "          const element = document.querySelector('#df-2e7f0190-3e3d-4adc-a973-a237ebc8eadc');\n",
              "          const dataTable =\n",
              "            await google.colab.kernel.invokeFunction('convertToInteractive',\n",
              "                                                     [key], {});\n",
              "          if (!dataTable) return;\n",
              "\n",
              "          const docLinkHtml = 'Like what you see? Visit the ' +\n",
              "            '<a target=\"_blank\" href=https://colab.research.google.com/notebooks/data_table.ipynb>data table notebook</a>'\n",
              "            + ' to learn more about interactive tables.';\n",
              "          element.innerHTML = '';\n",
              "          dataTable['output_type'] = 'display_data';\n",
              "          await google.colab.output.renderOutput(dataTable, element);\n",
              "          const docLink = document.createElement('div');\n",
              "          docLink.innerHTML = docLinkHtml;\n",
              "          element.appendChild(docLink);\n",
              "        }\n",
              "      </script>\n",
              "    </div>\n",
              "  </div>\n",
              "  "
            ]
          },
          "metadata": {},
          "execution_count": 48
        }
      ],
      "source": [
        "reg_train = pd.read_csv('/content/drive/MyDrive/netflix files/reg_train.csv', names = ['user', 'movie', 'GAvg', 'sur1', 'sur2', 'sur3', 'sur4', 'sur5','smr1', 'smr2', 'smr3', 'smr4', 'smr5', 'UAvg', 'MAvg', 'rating'], header=None)\n",
        "reg_train.head()"
      ]
    },
    {
      "cell_type": "code",
      "execution_count": null,
      "metadata": {
        "id": "VxQdlSUEFwzJ",
        "colab": {
          "base_uri": "https://localhost:8080/",
          "height": 206
        },
        "outputId": "d15b3994-ad42-4363-efbd-cdd7f2c8f8c7"
      },
      "outputs": [
        {
          "output_type": "execute_result",
          "data": {
            "text/plain": [
              "           user  movie      GAvg  sur1  sur2  sur3  sur4  sur5  smr1  smr2  \\\n",
              "129281  2585154  17723  3.581679   3.0   3.0   4.0   4.0   4.0   3.0   5.0   \n",
              "129282  2604824  17723  3.581679   5.0   3.0   4.0   2.0   3.0   3.0   4.0   \n",
              "129283  2622281  17723  3.581679   4.0   3.0   3.0   5.0   3.0   3.0   3.0   \n",
              "129284  2627366  17723  3.581679   4.0   3.0   4.0   3.0   3.0   4.0   3.0   \n",
              "129285  2629799  17723  3.581679   3.0   4.0   4.0   5.0   5.0   4.0   3.0   \n",
              "\n",
              "        smr3  smr4  smr5      UAvg      MAvg  rating  \n",
              "129281   4.0   5.0   4.0  4.204819  3.811765       5  \n",
              "129282   5.0   5.0   3.0  4.057471  3.811765       5  \n",
              "129283   3.0   3.0   2.0  3.166667  3.811765       3  \n",
              "129284   3.0   3.0   4.0  3.594203  3.811765       4  \n",
              "129285   4.0   4.0   3.0  3.631579  3.811765       4  "
            ],
            "text/html": [
              "\n",
              "  <div id=\"df-85b586ea-b69d-4fb1-921f-15358d8055ec\">\n",
              "    <div class=\"colab-df-container\">\n",
              "      <div>\n",
              "<style scoped>\n",
              "    .dataframe tbody tr th:only-of-type {\n",
              "        vertical-align: middle;\n",
              "    }\n",
              "\n",
              "    .dataframe tbody tr th {\n",
              "        vertical-align: top;\n",
              "    }\n",
              "\n",
              "    .dataframe thead th {\n",
              "        text-align: right;\n",
              "    }\n",
              "</style>\n",
              "<table border=\"1\" class=\"dataframe\">\n",
              "  <thead>\n",
              "    <tr style=\"text-align: right;\">\n",
              "      <th></th>\n",
              "      <th>user</th>\n",
              "      <th>movie</th>\n",
              "      <th>GAvg</th>\n",
              "      <th>sur1</th>\n",
              "      <th>sur2</th>\n",
              "      <th>sur3</th>\n",
              "      <th>sur4</th>\n",
              "      <th>sur5</th>\n",
              "      <th>smr1</th>\n",
              "      <th>smr2</th>\n",
              "      <th>smr3</th>\n",
              "      <th>smr4</th>\n",
              "      <th>smr5</th>\n",
              "      <th>UAvg</th>\n",
              "      <th>MAvg</th>\n",
              "      <th>rating</th>\n",
              "    </tr>\n",
              "  </thead>\n",
              "  <tbody>\n",
              "    <tr>\n",
              "      <th>129281</th>\n",
              "      <td>2585154</td>\n",
              "      <td>17723</td>\n",
              "      <td>3.581679</td>\n",
              "      <td>3.0</td>\n",
              "      <td>3.0</td>\n",
              "      <td>4.0</td>\n",
              "      <td>4.0</td>\n",
              "      <td>4.0</td>\n",
              "      <td>3.0</td>\n",
              "      <td>5.0</td>\n",
              "      <td>4.0</td>\n",
              "      <td>5.0</td>\n",
              "      <td>4.0</td>\n",
              "      <td>4.204819</td>\n",
              "      <td>3.811765</td>\n",
              "      <td>5</td>\n",
              "    </tr>\n",
              "    <tr>\n",
              "      <th>129282</th>\n",
              "      <td>2604824</td>\n",
              "      <td>17723</td>\n",
              "      <td>3.581679</td>\n",
              "      <td>5.0</td>\n",
              "      <td>3.0</td>\n",
              "      <td>4.0</td>\n",
              "      <td>2.0</td>\n",
              "      <td>3.0</td>\n",
              "      <td>3.0</td>\n",
              "      <td>4.0</td>\n",
              "      <td>5.0</td>\n",
              "      <td>5.0</td>\n",
              "      <td>3.0</td>\n",
              "      <td>4.057471</td>\n",
              "      <td>3.811765</td>\n",
              "      <td>5</td>\n",
              "    </tr>\n",
              "    <tr>\n",
              "      <th>129283</th>\n",
              "      <td>2622281</td>\n",
              "      <td>17723</td>\n",
              "      <td>3.581679</td>\n",
              "      <td>4.0</td>\n",
              "      <td>3.0</td>\n",
              "      <td>3.0</td>\n",
              "      <td>5.0</td>\n",
              "      <td>3.0</td>\n",
              "      <td>3.0</td>\n",
              "      <td>3.0</td>\n",
              "      <td>3.0</td>\n",
              "      <td>3.0</td>\n",
              "      <td>2.0</td>\n",
              "      <td>3.166667</td>\n",
              "      <td>3.811765</td>\n",
              "      <td>3</td>\n",
              "    </tr>\n",
              "    <tr>\n",
              "      <th>129284</th>\n",
              "      <td>2627366</td>\n",
              "      <td>17723</td>\n",
              "      <td>3.581679</td>\n",
              "      <td>4.0</td>\n",
              "      <td>3.0</td>\n",
              "      <td>4.0</td>\n",
              "      <td>3.0</td>\n",
              "      <td>3.0</td>\n",
              "      <td>4.0</td>\n",
              "      <td>3.0</td>\n",
              "      <td>3.0</td>\n",
              "      <td>3.0</td>\n",
              "      <td>4.0</td>\n",
              "      <td>3.594203</td>\n",
              "      <td>3.811765</td>\n",
              "      <td>4</td>\n",
              "    </tr>\n",
              "    <tr>\n",
              "      <th>129285</th>\n",
              "      <td>2629799</td>\n",
              "      <td>17723</td>\n",
              "      <td>3.581679</td>\n",
              "      <td>3.0</td>\n",
              "      <td>4.0</td>\n",
              "      <td>4.0</td>\n",
              "      <td>5.0</td>\n",
              "      <td>5.0</td>\n",
              "      <td>4.0</td>\n",
              "      <td>3.0</td>\n",
              "      <td>4.0</td>\n",
              "      <td>4.0</td>\n",
              "      <td>3.0</td>\n",
              "      <td>3.631579</td>\n",
              "      <td>3.811765</td>\n",
              "      <td>4</td>\n",
              "    </tr>\n",
              "  </tbody>\n",
              "</table>\n",
              "</div>\n",
              "      <button class=\"colab-df-convert\" onclick=\"convertToInteractive('df-85b586ea-b69d-4fb1-921f-15358d8055ec')\"\n",
              "              title=\"Convert this dataframe to an interactive table.\"\n",
              "              style=\"display:none;\">\n",
              "        \n",
              "  <svg xmlns=\"http://www.w3.org/2000/svg\" height=\"24px\"viewBox=\"0 0 24 24\"\n",
              "       width=\"24px\">\n",
              "    <path d=\"M0 0h24v24H0V0z\" fill=\"none\"/>\n",
              "    <path d=\"M18.56 5.44l.94 2.06.94-2.06 2.06-.94-2.06-.94-.94-2.06-.94 2.06-2.06.94zm-11 1L8.5 8.5l.94-2.06 2.06-.94-2.06-.94L8.5 2.5l-.94 2.06-2.06.94zm10 10l.94 2.06.94-2.06 2.06-.94-2.06-.94-.94-2.06-.94 2.06-2.06.94z\"/><path d=\"M17.41 7.96l-1.37-1.37c-.4-.4-.92-.59-1.43-.59-.52 0-1.04.2-1.43.59L10.3 9.45l-7.72 7.72c-.78.78-.78 2.05 0 2.83L4 21.41c.39.39.9.59 1.41.59.51 0 1.02-.2 1.41-.59l7.78-7.78 2.81-2.81c.8-.78.8-2.07 0-2.86zM5.41 20L4 18.59l7.72-7.72 1.47 1.35L5.41 20z\"/>\n",
              "  </svg>\n",
              "      </button>\n",
              "      \n",
              "  <style>\n",
              "    .colab-df-container {\n",
              "      display:flex;\n",
              "      flex-wrap:wrap;\n",
              "      gap: 12px;\n",
              "    }\n",
              "\n",
              "    .colab-df-convert {\n",
              "      background-color: #E8F0FE;\n",
              "      border: none;\n",
              "      border-radius: 50%;\n",
              "      cursor: pointer;\n",
              "      display: none;\n",
              "      fill: #1967D2;\n",
              "      height: 32px;\n",
              "      padding: 0 0 0 0;\n",
              "      width: 32px;\n",
              "    }\n",
              "\n",
              "    .colab-df-convert:hover {\n",
              "      background-color: #E2EBFA;\n",
              "      box-shadow: 0px 1px 2px rgba(60, 64, 67, 0.3), 0px 1px 3px 1px rgba(60, 64, 67, 0.15);\n",
              "      fill: #174EA6;\n",
              "    }\n",
              "\n",
              "    [theme=dark] .colab-df-convert {\n",
              "      background-color: #3B4455;\n",
              "      fill: #D2E3FC;\n",
              "    }\n",
              "\n",
              "    [theme=dark] .colab-df-convert:hover {\n",
              "      background-color: #434B5C;\n",
              "      box-shadow: 0px 1px 3px 1px rgba(0, 0, 0, 0.15);\n",
              "      filter: drop-shadow(0px 1px 2px rgba(0, 0, 0, 0.3));\n",
              "      fill: #FFFFFF;\n",
              "    }\n",
              "  </style>\n",
              "\n",
              "      <script>\n",
              "        const buttonEl =\n",
              "          document.querySelector('#df-85b586ea-b69d-4fb1-921f-15358d8055ec button.colab-df-convert');\n",
              "        buttonEl.style.display =\n",
              "          google.colab.kernel.accessAllowed ? 'block' : 'none';\n",
              "\n",
              "        async function convertToInteractive(key) {\n",
              "          const element = document.querySelector('#df-85b586ea-b69d-4fb1-921f-15358d8055ec');\n",
              "          const dataTable =\n",
              "            await google.colab.kernel.invokeFunction('convertToInteractive',\n",
              "                                                     [key], {});\n",
              "          if (!dataTable) return;\n",
              "\n",
              "          const docLinkHtml = 'Like what you see? Visit the ' +\n",
              "            '<a target=\"_blank\" href=https://colab.research.google.com/notebooks/data_table.ipynb>data table notebook</a>'\n",
              "            + ' to learn more about interactive tables.';\n",
              "          element.innerHTML = '';\n",
              "          dataTable['output_type'] = 'display_data';\n",
              "          await google.colab.output.renderOutput(dataTable, element);\n",
              "          const docLink = document.createElement('div');\n",
              "          docLink.innerHTML = docLinkHtml;\n",
              "          element.appendChild(docLink);\n",
              "        }\n",
              "      </script>\n",
              "    </div>\n",
              "  </div>\n",
              "  "
            ]
          },
          "metadata": {},
          "execution_count": 49
        }
      ],
      "source": [
        "reg_train.tail()"
      ]
    },
    {
      "cell_type": "markdown",
      "metadata": {
        "id": "R7wTQb2lNfhh"
      },
      "source": [
        "-----------------------\n",
        "\n",
        "- __GAvg__ : Average rating of all the rating \n",
        "\n",
        "\n",
        "- __Similar user rating of this movie__:\n",
        "    - sur1, sur2, sur3, sur4, sur5 ( top 5 similar user who rated that movie.. )\n",
        "    \n",
        "\n",
        "\n",
        "- __Similar movie rated by this user__:\n",
        "    - smr1, smr2, smr3, smr4, smr5 ( top 5 similar movie rated by this movie.. )\n",
        "\n",
        "\n",
        "- __UAvg__ : User's Average rating\n",
        "\n",
        "\n",
        "- __MAvg__ : Average rating of this movie\n",
        "\n",
        "\n",
        "- __rating__ : Rating of this movie by this user.\n",
        "\n",
        "-----------------------"
      ]
    },
    {
      "cell_type": "markdown",
      "metadata": {
        "id": "jCQcoGCoNi_K"
      },
      "source": [
        "**Featurizing the test data**"
      ]
    },
    {
      "cell_type": "code",
      "execution_count": null,
      "metadata": {
        "id": "szNBM0fwNWzP"
      },
      "outputs": [],
      "source": [
        "# get user, movie and rating from the Sampled Test \n",
        "sample_test_user, sample_test_movie, sample_test_rating = sparse.find(sampled_test_sparse_matrix)"
      ]
    },
    {
      "cell_type": "code",
      "execution_count": null,
      "metadata": {
        "id": "5XY5C2SYNqyG",
        "colab": {
          "base_uri": "https://localhost:8080/"
        },
        "outputId": "05f143e7-2a2c-4e63-9a59-dfbadbcb913f"
      },
      "outputs": [
        {
          "output_type": "stream",
          "name": "stdout",
          "text": [
            "It is already created...\n"
          ]
        }
      ],
      "source": [
        "global_start = datetime.now()\n",
        "\n",
        "if os.path.isfile('/content/drive/MyDrive/netflix files/reg_test.csv'):\n",
        "    print(\"It is already created...\")\n",
        "else:\n",
        "    print('preparing {} tuples for the dataset..\\n'.format(len(sample_test_rating)))\n",
        "    with open('/content/drive/MyDrive/netflix files/reg_test.csv', mode='w') as reg_data_file:\n",
        "        count = 0 \n",
        "        for (user, movie, rating)  in zip(sample_test_user, sample_test_movie, sample_test_rating):\n",
        "            st = datetime.now()\n",
        "\n",
        "        #--------------------- rating of \"movie\" by similar user of \"user\" ---------------------#\n",
        "            #print(user, movie)\n",
        "            try:\n",
        "                user_sim = cosine_similarity(sampled_train_sparse_matrix[user], sampled_train_sparse_matrix).ravel()\n",
        "                top_sim_user = user_sim.argsort()[::-1][1:] # we are ignoring 'The User' from its similar user.\n",
        "                # get the rating of most similar user for this movie\n",
        "                top_rating = sampled_train_sparse_matrix[top_sim_user, movie].toarray().ravel()\n",
        "                top_sim_user_rating = list(top_rating[top_rating != 0][:5])\n",
        "                top_sim_user_rating.extend([sample_train_averages['movie'][movie]]*(5 - len(top_sim_user_rating)))\n",
        "\n",
        "            except (IndexError, KeyError):\n",
        "                # It is a new User or new Movie or there are no rating for given user for top similar movie...\n",
        "                ########## Cold STart Problem ##########\n",
        "                top_sim_user_rating.extend([sample_train_averages['global_avg_rating']]*(5 - len(top_sim_user_rating)))\n",
        "            except:\n",
        "                print(user, movie)\n",
        "                raise\n",
        "\n",
        "\n",
        "\n",
        "            #--------------------- rating by \"user\"  to similar movie of \"movie\" ---------------------\n",
        "            try:\n",
        "                movie_sim = cosine_similarity(sampled_train_sparse_matrix[:,movie].T, sampled_train_sparse_matrix.T).ravel()\n",
        "                top_sim_movie = movie_sim.argsort()[::-1][1:] \n",
        "                top_rating = sampled_train_sparse_matrix[user, top_sim_movie].toarray().ravel()\n",
        "                top_sim_movie_rating = list(top_rating[top_rating != 0][:5])\n",
        "                top_sim_movie_rating.extend([sample_train_averages['user'][user]]*(5-len(top_sim_movie_rating))) \n",
        "            except (IndexError, KeyError):\n",
        "                \n",
        "                top_sim_movie_rating.extend([sample_train_averages['global_avg_rating']]*(5-len(top_sim_movie_rating)))\n",
        "  \n",
        "            except :\n",
        "                raise\n",
        "\n",
        "            #-----------------prepare the row to be stores in a file-----------------#\n",
        "            row = list()\n",
        "            # add usser and movie name first\n",
        "            row.append(user)\n",
        "            row.append(movie)\n",
        "            row.append(sample_train_averages['global_avg_rating']) # first feature\n",
        "            #print(row)\n",
        "            # next 5 features are similar_user \"movie\" rating\n",
        "            row.extend(top_sim_user_rating)\n",
        "            #print(row)\n",
        "            # next 5 features are \"user\" rating for similar_movie\n",
        "            row.extend(top_sim_movie_rating)\n",
        "            #print(row)\n",
        "            # Avg_user rating\n",
        "            try:\n",
        "                row.append(sample_train_averages['user'][user])\n",
        "            except KeyError:\n",
        "                row.append(sample_train_averages['global_avg_rating'])\n",
        "            except:\n",
        "                raise\n",
        "            #print(row)\n",
        "            # Avg_movie rating\n",
        "            try:\n",
        "                row.append(sample_train_averages['movie'][movie])\n",
        "            except KeyError:\n",
        "                row.append(sample_train_averages['global_avg_rating'])\n",
        "            except:\n",
        "                raise\n",
        "            #print(row)\n",
        "            # finalley, The actual Rating of this user-movie pair...\n",
        "            row.append(rating)\n",
        "            #print(row)\n",
        "            count = count + 1\n",
        "\n",
        "            # add rows to the file opened..\n",
        "            reg_data_file.write(','.join(map(str, row)))\n",
        "            reg_data_file.write('\\n')        \n",
        "            if (count)%1000 == 0:\n",
        "                print(\"Done for {} rows----- {}\".format(count, datetime.now() - start))\n",
        "    print(\"\",datetime.now() - global_start)  "
      ]
    },
    {
      "cell_type": "code",
      "execution_count": null,
      "metadata": {
        "id": "CSDRdpDfN0KH",
        "colab": {
          "base_uri": "https://localhost:8080/",
          "height": 270
        },
        "outputId": "f20860b8-e220-443b-970b-e16c6c411a50"
      },
      "outputs": [
        {
          "output_type": "execute_result",
          "data": {
            "text/plain": [
              "      user  movie      GAvg      sur1      sur2      sur3      sur4      sur5  \\\n",
              "0   808635     71  3.581679  3.581679  3.581679  3.581679  3.581679  3.581679   \n",
              "1   941866     71  3.581679  3.581679  3.581679  3.581679  3.581679  3.581679   \n",
              "2  1737912     71  3.581679  3.581679  3.581679  3.581679  3.581679  3.581679   \n",
              "3  1849204     71  3.581679  3.581679  3.581679  3.581679  3.581679  3.581679   \n",
              "4    28572    111  3.581679  3.581679  3.581679  3.581679  3.581679  3.581679   \n",
              "\n",
              "       smr1      smr2      smr3      smr4      smr5      UAvg      MAvg  \\\n",
              "0  3.581679  3.581679  3.581679  3.581679  3.581679  3.581679  3.581679   \n",
              "1  3.581679  3.581679  3.581679  3.581679  3.581679  3.581679  3.581679   \n",
              "2  3.581679  3.581679  3.581679  3.581679  3.581679  3.581679  3.581679   \n",
              "3  3.581679  3.581679  3.581679  3.581679  3.581679  3.581679  3.581679   \n",
              "4  3.581679  3.581679  3.581679  3.581679  3.581679  3.581679  3.581679   \n",
              "\n",
              "   rating  \n",
              "0       5  \n",
              "1       4  \n",
              "2       3  \n",
              "3       4  \n",
              "4       1  "
            ],
            "text/html": [
              "\n",
              "  <div id=\"df-97434e63-4d69-4e4e-a622-a0c28dd11a5a\">\n",
              "    <div class=\"colab-df-container\">\n",
              "      <div>\n",
              "<style scoped>\n",
              "    .dataframe tbody tr th:only-of-type {\n",
              "        vertical-align: middle;\n",
              "    }\n",
              "\n",
              "    .dataframe tbody tr th {\n",
              "        vertical-align: top;\n",
              "    }\n",
              "\n",
              "    .dataframe thead th {\n",
              "        text-align: right;\n",
              "    }\n",
              "</style>\n",
              "<table border=\"1\" class=\"dataframe\">\n",
              "  <thead>\n",
              "    <tr style=\"text-align: right;\">\n",
              "      <th></th>\n",
              "      <th>user</th>\n",
              "      <th>movie</th>\n",
              "      <th>GAvg</th>\n",
              "      <th>sur1</th>\n",
              "      <th>sur2</th>\n",
              "      <th>sur3</th>\n",
              "      <th>sur4</th>\n",
              "      <th>sur5</th>\n",
              "      <th>smr1</th>\n",
              "      <th>smr2</th>\n",
              "      <th>smr3</th>\n",
              "      <th>smr4</th>\n",
              "      <th>smr5</th>\n",
              "      <th>UAvg</th>\n",
              "      <th>MAvg</th>\n",
              "      <th>rating</th>\n",
              "    </tr>\n",
              "  </thead>\n",
              "  <tbody>\n",
              "    <tr>\n",
              "      <th>0</th>\n",
              "      <td>808635</td>\n",
              "      <td>71</td>\n",
              "      <td>3.581679</td>\n",
              "      <td>3.581679</td>\n",
              "      <td>3.581679</td>\n",
              "      <td>3.581679</td>\n",
              "      <td>3.581679</td>\n",
              "      <td>3.581679</td>\n",
              "      <td>3.581679</td>\n",
              "      <td>3.581679</td>\n",
              "      <td>3.581679</td>\n",
              "      <td>3.581679</td>\n",
              "      <td>3.581679</td>\n",
              "      <td>3.581679</td>\n",
              "      <td>3.581679</td>\n",
              "      <td>5</td>\n",
              "    </tr>\n",
              "    <tr>\n",
              "      <th>1</th>\n",
              "      <td>941866</td>\n",
              "      <td>71</td>\n",
              "      <td>3.581679</td>\n",
              "      <td>3.581679</td>\n",
              "      <td>3.581679</td>\n",
              "      <td>3.581679</td>\n",
              "      <td>3.581679</td>\n",
              "      <td>3.581679</td>\n",
              "      <td>3.581679</td>\n",
              "      <td>3.581679</td>\n",
              "      <td>3.581679</td>\n",
              "      <td>3.581679</td>\n",
              "      <td>3.581679</td>\n",
              "      <td>3.581679</td>\n",
              "      <td>3.581679</td>\n",
              "      <td>4</td>\n",
              "    </tr>\n",
              "    <tr>\n",
              "      <th>2</th>\n",
              "      <td>1737912</td>\n",
              "      <td>71</td>\n",
              "      <td>3.581679</td>\n",
              "      <td>3.581679</td>\n",
              "      <td>3.581679</td>\n",
              "      <td>3.581679</td>\n",
              "      <td>3.581679</td>\n",
              "      <td>3.581679</td>\n",
              "      <td>3.581679</td>\n",
              "      <td>3.581679</td>\n",
              "      <td>3.581679</td>\n",
              "      <td>3.581679</td>\n",
              "      <td>3.581679</td>\n",
              "      <td>3.581679</td>\n",
              "      <td>3.581679</td>\n",
              "      <td>3</td>\n",
              "    </tr>\n",
              "    <tr>\n",
              "      <th>3</th>\n",
              "      <td>1849204</td>\n",
              "      <td>71</td>\n",
              "      <td>3.581679</td>\n",
              "      <td>3.581679</td>\n",
              "      <td>3.581679</td>\n",
              "      <td>3.581679</td>\n",
              "      <td>3.581679</td>\n",
              "      <td>3.581679</td>\n",
              "      <td>3.581679</td>\n",
              "      <td>3.581679</td>\n",
              "      <td>3.581679</td>\n",
              "      <td>3.581679</td>\n",
              "      <td>3.581679</td>\n",
              "      <td>3.581679</td>\n",
              "      <td>3.581679</td>\n",
              "      <td>4</td>\n",
              "    </tr>\n",
              "    <tr>\n",
              "      <th>4</th>\n",
              "      <td>28572</td>\n",
              "      <td>111</td>\n",
              "      <td>3.581679</td>\n",
              "      <td>3.581679</td>\n",
              "      <td>3.581679</td>\n",
              "      <td>3.581679</td>\n",
              "      <td>3.581679</td>\n",
              "      <td>3.581679</td>\n",
              "      <td>3.581679</td>\n",
              "      <td>3.581679</td>\n",
              "      <td>3.581679</td>\n",
              "      <td>3.581679</td>\n",
              "      <td>3.581679</td>\n",
              "      <td>3.581679</td>\n",
              "      <td>3.581679</td>\n",
              "      <td>1</td>\n",
              "    </tr>\n",
              "  </tbody>\n",
              "</table>\n",
              "</div>\n",
              "      <button class=\"colab-df-convert\" onclick=\"convertToInteractive('df-97434e63-4d69-4e4e-a622-a0c28dd11a5a')\"\n",
              "              title=\"Convert this dataframe to an interactive table.\"\n",
              "              style=\"display:none;\">\n",
              "        \n",
              "  <svg xmlns=\"http://www.w3.org/2000/svg\" height=\"24px\"viewBox=\"0 0 24 24\"\n",
              "       width=\"24px\">\n",
              "    <path d=\"M0 0h24v24H0V0z\" fill=\"none\"/>\n",
              "    <path d=\"M18.56 5.44l.94 2.06.94-2.06 2.06-.94-2.06-.94-.94-2.06-.94 2.06-2.06.94zm-11 1L8.5 8.5l.94-2.06 2.06-.94-2.06-.94L8.5 2.5l-.94 2.06-2.06.94zm10 10l.94 2.06.94-2.06 2.06-.94-2.06-.94-.94-2.06-.94 2.06-2.06.94z\"/><path d=\"M17.41 7.96l-1.37-1.37c-.4-.4-.92-.59-1.43-.59-.52 0-1.04.2-1.43.59L10.3 9.45l-7.72 7.72c-.78.78-.78 2.05 0 2.83L4 21.41c.39.39.9.59 1.41.59.51 0 1.02-.2 1.41-.59l7.78-7.78 2.81-2.81c.8-.78.8-2.07 0-2.86zM5.41 20L4 18.59l7.72-7.72 1.47 1.35L5.41 20z\"/>\n",
              "  </svg>\n",
              "      </button>\n",
              "      \n",
              "  <style>\n",
              "    .colab-df-container {\n",
              "      display:flex;\n",
              "      flex-wrap:wrap;\n",
              "      gap: 12px;\n",
              "    }\n",
              "\n",
              "    .colab-df-convert {\n",
              "      background-color: #E8F0FE;\n",
              "      border: none;\n",
              "      border-radius: 50%;\n",
              "      cursor: pointer;\n",
              "      display: none;\n",
              "      fill: #1967D2;\n",
              "      height: 32px;\n",
              "      padding: 0 0 0 0;\n",
              "      width: 32px;\n",
              "    }\n",
              "\n",
              "    .colab-df-convert:hover {\n",
              "      background-color: #E2EBFA;\n",
              "      box-shadow: 0px 1px 2px rgba(60, 64, 67, 0.3), 0px 1px 3px 1px rgba(60, 64, 67, 0.15);\n",
              "      fill: #174EA6;\n",
              "    }\n",
              "\n",
              "    [theme=dark] .colab-df-convert {\n",
              "      background-color: #3B4455;\n",
              "      fill: #D2E3FC;\n",
              "    }\n",
              "\n",
              "    [theme=dark] .colab-df-convert:hover {\n",
              "      background-color: #434B5C;\n",
              "      box-shadow: 0px 1px 3px 1px rgba(0, 0, 0, 0.15);\n",
              "      filter: drop-shadow(0px 1px 2px rgba(0, 0, 0, 0.3));\n",
              "      fill: #FFFFFF;\n",
              "    }\n",
              "  </style>\n",
              "\n",
              "      <script>\n",
              "        const buttonEl =\n",
              "          document.querySelector('#df-97434e63-4d69-4e4e-a622-a0c28dd11a5a button.colab-df-convert');\n",
              "        buttonEl.style.display =\n",
              "          google.colab.kernel.accessAllowed ? 'block' : 'none';\n",
              "\n",
              "        async function convertToInteractive(key) {\n",
              "          const element = document.querySelector('#df-97434e63-4d69-4e4e-a622-a0c28dd11a5a');\n",
              "          const dataTable =\n",
              "            await google.colab.kernel.invokeFunction('convertToInteractive',\n",
              "                                                     [key], {});\n",
              "          if (!dataTable) return;\n",
              "\n",
              "          const docLinkHtml = 'Like what you see? Visit the ' +\n",
              "            '<a target=\"_blank\" href=https://colab.research.google.com/notebooks/data_table.ipynb>data table notebook</a>'\n",
              "            + ' to learn more about interactive tables.';\n",
              "          element.innerHTML = '';\n",
              "          dataTable['output_type'] = 'display_data';\n",
              "          await google.colab.output.renderOutput(dataTable, element);\n",
              "          const docLink = document.createElement('div');\n",
              "          docLink.innerHTML = docLinkHtml;\n",
              "          element.appendChild(docLink);\n",
              "        }\n",
              "      </script>\n",
              "    </div>\n",
              "  </div>\n",
              "  "
            ]
          },
          "metadata": {},
          "execution_count": 52
        }
      ],
      "source": [
        "reg_test = pd.read_csv('/content/drive/MyDrive/netflix files/reg_test.csv', names = ['user', 'movie', 'GAvg', 'sur1', 'sur2', 'sur3', 'sur4', 'sur5',\n",
        "                                                          'smr1', 'smr2', 'smr3', 'smr4', 'smr5',\n",
        "                                                          'UAvg', 'MAvg', 'rating'], header=None)\n",
        "reg_test.head(5)"
      ]
    },
    {
      "cell_type": "markdown",
      "metadata": {
        "id": "X31jzSqjdvcn"
      },
      "source": [
        "-----------------------\n",
        "\n",
        "- __GAvg__ : Average rating of all the rating \n",
        "\n",
        "\n",
        "- __Similar user rating of this movie__:\n",
        "    - sur1, sur2, sur3, sur4, sur5 ( top 5 simiular user who rated that movie.. )\n",
        "    \n",
        "\n",
        "\n",
        "- __Similar movie rated by this user__:\n",
        "    - smr1, smr2, smr3, smr4, smr5 ( top 5 simiular movie rated by this movie.. )\n",
        "\n",
        "\n",
        "- __UAvg__ : User AVerage rating\n",
        "\n",
        "\n",
        "- __MAvg__ : Average rating of this movie\n",
        "\n",
        "\n",
        "- __rating__ : Rating of this movie by this user.\n",
        "\n",
        "-----------------------"
      ]
    },
    {
      "cell_type": "markdown",
      "metadata": {
        "id": "dPK_kcYMd2OB"
      },
      "source": [
        "**Transforming data for surprise models**"
      ]
    },
    {
      "cell_type": "markdown",
      "metadata": {
        "id": "f9kV218BqhJA"
      },
      "source": [
        "**Using the surprise models**"
      ]
    },
    {
      "cell_type": "code",
      "execution_count": null,
      "metadata": {
        "id": "wfMr_z8QdxRX",
        "colab": {
          "base_uri": "https://localhost:8080/"
        },
        "outputId": "a8128b25-c404-458a-91fc-4616aa3bd9fc"
      },
      "outputs": [
        {
          "output_type": "stream",
          "name": "stdout",
          "text": [
            "Looking in indexes: https://pypi.org/simple, https://us-python.pkg.dev/colab-wheels/public/simple/\n",
            "Collecting scikit-surprise\n",
            "  Downloading scikit-surprise-1.1.1.tar.gz (11.8 MB)\n",
            "\u001b[K     |████████████████████████████████| 11.8 MB 5.3 MB/s \n",
            "\u001b[?25hRequirement already satisfied: joblib>=0.11 in /usr/local/lib/python3.7/dist-packages (from scikit-surprise) (1.1.0)\n",
            "Requirement already satisfied: numpy>=1.11.2 in /usr/local/lib/python3.7/dist-packages (from scikit-surprise) (1.21.6)\n",
            "Requirement already satisfied: scipy>=1.0.0 in /usr/local/lib/python3.7/dist-packages (from scikit-surprise) (1.7.3)\n",
            "Requirement already satisfied: six>=1.10.0 in /usr/local/lib/python3.7/dist-packages (from scikit-surprise) (1.15.0)\n",
            "Building wheels for collected packages: scikit-surprise\n",
            "  Building wheel for scikit-surprise (setup.py) ... \u001b[?25l\u001b[?25hdone\n",
            "  Created wheel for scikit-surprise: filename=scikit_surprise-1.1.1-cp37-cp37m-linux_x86_64.whl size=1633988 sha256=399981def463c1cd2a849bb3a89e872d1c03d78d8be6c400364c4a7b5a4c9670\n",
            "  Stored in directory: /root/.cache/pip/wheels/76/44/74/b498c42be47b2406bd27994e16c5188e337c657025ab400c1c\n",
            "Successfully built scikit-surprise\n",
            "Installing collected packages: scikit-surprise\n",
            "Successfully installed scikit-surprise-1.1.1\n"
          ]
        }
      ],
      "source": [
        "!pip install scikit-surprise"
      ]
    },
    {
      "cell_type": "code",
      "execution_count": null,
      "metadata": {
        "id": "0wPbnRFQrKY6"
      },
      "outputs": [],
      "source": [
        "from surprise import Reader,Dataset"
      ]
    },
    {
      "cell_type": "code",
      "execution_count": null,
      "metadata": {
        "id": "RKYjUeXgrdoV"
      },
      "outputs": [],
      "source": [
        "reader=Reader(rating_scale=(1,5))\n",
        "train_data=Dataset.load_from_df(reg_train[['user','movie','rating']],reader)\n",
        "\n",
        "train_set=train_data.build_full_trainset()"
      ]
    },
    {
      "cell_type": "markdown",
      "source": [
        "Data transformation for surprise library is not understood as it changes it to the form required for its faster and easy computation.For documentation look at surprise library docs."
      ],
      "metadata": {
        "id": "YbWOoNQlDdKU"
      }
    },
    {
      "cell_type": "code",
      "execution_count": null,
      "metadata": {
        "id": "6AWyKqcQ04A1",
        "colab": {
          "base_uri": "https://localhost:8080/"
        },
        "outputId": "8429766a-25b3-42f2-dc1d-16952b80c73d"
      },
      "outputs": [
        {
          "output_type": "execute_result",
          "data": {
            "text/plain": [
              "[(808635, 71, 5), (941866, 71, 4), (1737912, 71, 3)]"
            ]
          },
          "metadata": {},
          "execution_count": 57
        }
      ],
      "source": [
        "##Transforming the data for the test\n",
        "test_set=list(zip(reg_test.user.values,reg_test.movie.values,reg_test.rating.values))\n",
        "test_set[:3]"
      ]
    },
    {
      "cell_type": "code",
      "execution_count": null,
      "metadata": {
        "id": "6VwxjEKH17jw",
        "colab": {
          "base_uri": "https://localhost:8080/"
        },
        "outputId": "e3a3db35-8c22-4318-efa9-8b3651cd95fc"
      },
      "outputs": [
        {
          "output_type": "execute_result",
          "data": {
            "text/plain": [
              "76"
            ]
          },
          "metadata": {},
          "execution_count": 58
        }
      ],
      "source": [
        "len(test_set)"
      ]
    },
    {
      "cell_type": "code",
      "execution_count": null,
      "metadata": {
        "id": "a_l66Xj419p5",
        "colab": {
          "base_uri": "https://localhost:8080/"
        },
        "outputId": "c66ebfde-4f21-4e3a-def9-990d8dfa013b"
      },
      "outputs": [
        {
          "output_type": "execute_result",
          "data": {
            "text/plain": [
              "surprise.trainset.Trainset"
            ]
          },
          "metadata": {},
          "execution_count": 59
        }
      ],
      "source": [
        "type(train_set)"
      ]
    },
    {
      "cell_type": "code",
      "source": [
        "type(train_data)"
      ],
      "metadata": {
        "colab": {
          "base_uri": "https://localhost:8080/"
        },
        "id": "hGKYSmSiEW3A",
        "outputId": "de000c4e-3307-4b65-ddcc-7ee1e7bad4d0"
      },
      "execution_count": null,
      "outputs": [
        {
          "output_type": "execute_result",
          "data": {
            "text/plain": [
              "surprise.dataset.DatasetAutoFolds"
            ]
          },
          "metadata": {},
          "execution_count": 62
        }
      ]
    },
    {
      "cell_type": "markdown",
      "metadata": {
        "id": "XbS6lXyZ6ZzU"
      },
      "source": [
        "Global dictionary to store all the rmse and mape values (dictionary of dictionary)"
      ]
    },
    {
      "cell_type": "code",
      "execution_count": null,
      "metadata": {
        "id": "HjF6wmLL2AO3"
      },
      "outputs": [],
      "source": [
        "model_evaluation_train=dict()\n",
        "model_evaluation_test=dict()"
      ]
    },
    {
      "cell_type": "code",
      "execution_count": null,
      "metadata": {
        "id": "Nh0xjr6M2HV6",
        "colab": {
          "base_uri": "https://localhost:8080/"
        },
        "outputId": "d2e804d3-9f34-45c3-ee5f-f9dc699383b1"
      },
      "outputs": [
        {
          "output_type": "execute_result",
          "data": {
            "text/plain": [
              "({}, {})"
            ]
          },
          "metadata": {},
          "execution_count": 64
        }
      ],
      "source": [
        "model_evaluation_train,model_evaluation_test"
      ]
    },
    {
      "cell_type": "markdown",
      "metadata": {
        "id": "R180hjuz7PLu"
      },
      "source": [
        "Utility functions for running regression problems"
      ]
    },
    {
      "cell_type": "code",
      "execution_count": null,
      "metadata": {
        "id": "EUXel6jD7DMS"
      },
      "outputs": [],
      "source": [
        "def get_error_metrics(y_true,y_pred):\n",
        "   rmse = np.sqrt(np.mean([ (y_true[i] - y_pred[i])**2 for i in range(len(y_pred)) ]))\n",
        "   mape = np.mean(np.abs( (y_true - y_pred)/y_true )) * 100\n",
        "   return rmse, mape\n",
        "######################################################\n",
        "def run_xgboost(algo,x_train,y_train,x_test,y_test,verbose=True):\n",
        "  train_results=dict()\n",
        "  test_results=dict()\n",
        "\n",
        "  start=datetime.now()\n",
        "  print('Training the model')\n",
        "  algo.fit(x_train,y_train,eval_metric='rmse')\n",
        "  print('Done...')\n",
        "  print('Timetaken{}...'.format(datetime.now()-start))\n",
        "\n",
        "  # from the trained model, get the predictions....\n",
        "  print('Evaluating the model with TRAIN data...')\n",
        "  start =datetime.now()\n",
        "  y_train_pred = algo.predict(x_train)\n",
        "  # get the rmse and mape of train data...\n",
        "  rmse_train, mape_train = get_error_metrics(y_train.values, y_train_pred)\n",
        "\n",
        "\n",
        "  ##storing in the dictionary\n",
        "  train_results={\n",
        "      'rmse':rmse_train,\n",
        "      'mape':mape_train,\n",
        "      'predictions':y_train_pred\n",
        "  }\n",
        "\n",
        "  ##Predictig for the test data\n",
        "  print('Evaluating the test data')\n",
        "  start=datetime.now()\n",
        "  y_test_pred=algo.predict(x_test)\n",
        "  rmse_test,mape_test=get_error_metrics(y_test.values,y_test_pred)\n",
        "  print('Time taken to the test dataset{}'.format(datetime.now()-start))\n",
        "  test_results={\n",
        "      'rmse':rmse_test,\n",
        "      'mape':mape_test,\n",
        "      'predictions':y_test_pred\n",
        "  }\n",
        "   \n",
        "  if verbose:\n",
        "\n",
        "    print('\\nTEST DATA')\n",
        "    print('-'*30)\n",
        "    print('RMSE : ', rmse_test)\n",
        "    print('MAPE : ', mape_test)\n",
        "  \n",
        "\n",
        "  return train_results,test_results"
      ]
    },
    {
      "cell_type": "code",
      "execution_count": null,
      "metadata": {
        "id": "_6W2SKyMNl45"
      },
      "outputs": [],
      "source": []
    },
    {
      "cell_type": "markdown",
      "metadata": {
        "id": "gXiKBwp7-4mg"
      },
      "source": [
        "##Utility functions for surprise models"
      ]
    },
    {
      "cell_type": "code",
      "execution_count": null,
      "metadata": {
        "id": "n-ICflpj-q9P"
      },
      "outputs": [],
      "source": [
        "# it is just to makesure that all of our algorithms should produce same results\n",
        "# everytime they run...\n",
        "\n",
        "my_seed = 15\n",
        "random.seed(my_seed)\n",
        "np.random.seed(my_seed)\n",
        "\n",
        "# get (actual_list,predicted_list) rating given list \n",
        "# of predictions (prediction is a class in Surprise).    \n",
        "def get_rating(predictions):\n",
        "    actual = np.array([pred.r_ui for pred in predictions])\n",
        "    pred = np.array([pred.est for pred in predictions])\n",
        "    \n",
        "    return actual, pred\n",
        "\n",
        "# get ''rmse'' and ''mape'' , given list of prediction objecs \n",
        "def get_errors(predictions, print_them=False):\n",
        "\n",
        "    actual, pred = get_rating(predictions)\n",
        "    rmse = np.sqrt(np.mean((pred - actual)**2))\n",
        "    mape = np.mean(np.abs(pred - actual)/actual)\n",
        "\n",
        "    return rmse, mape*100\n",
        "\n",
        "# It will return predicted rating, rmse and mape of both train and test data   \n",
        "def run_surprise(algo, trainset, testset, verbose=True): \n",
        "\n",
        "        #return train_dict, test_dict\n",
        "    \n",
        "        #It returns two dictionaries, one for train and the other is for test\n",
        "        #Each of them have 3 key-value pairs, which specify ''rmse'', ''mape'', and ''predicted rating''.\n",
        "\n",
        "    start = datetime.now()\n",
        "    # dictionaries that stores metrics for train and test..\n",
        "    train = dict()\n",
        "    test = dict()\n",
        "    \n",
        "    # train the algorithm with the trainset\n",
        "    st = datetime.now()\n",
        "    print('Training the model...')\n",
        "    algo.fit(trainset)\n",
        "    print('Done. time taken : {} \\n'.format(datetime.now()-st))\n",
        "    \n",
        "    # ---------------- Evaluating train data--------------------#\n",
        "    st = datetime.now()\n",
        "    print('Evaluating the model with train data..')\n",
        "    train_preds = algo.test(trainset.build_testset())\n",
        "    train_actual_rating, train_pred_rating = get_rating(train_preds)\n",
        "\n",
        "\n",
        "    # get ''rmse'' and ''mape'' from the train predictions.\n",
        "    train_rmse, train_mape = get_errors(train_preds)\n",
        "    print('time taken : {}'.format(datetime.now()-st))\n",
        "    \n",
        "    if verbose:\n",
        "        print('-'*15)\n",
        "        print('Train Data')\n",
        "        print('-'*15)\n",
        "        print(\"RMSE : {}\\n\\nMAPE : {}\\n\".format(train_rmse, train_mape))\n",
        "    \n",
        "    #store them in the train dictionary\n",
        "    if verbose:\n",
        "      print('adding train results in the dictionary..')\n",
        "      train['rmse'] = train_rmse\n",
        "      train['mape'] = train_mape\n",
        "      train['predictions'] = train_pred_rating\n",
        "    \n",
        "    #------------ Evaluating Test data---------------#\n",
        "    st = datetime.now()\n",
        "    print('\\nEvaluating for test data...')\n",
        "    test_preds = algo.test(testset)\n",
        "    test_actual_rating, test_pred_rating = get_rating(test_preds)\n",
        "    # get error metrics from the predicted and actual rating\n",
        "    test_rmse, test_mape = get_errors(test_preds)\n",
        "    print('time taken : {}'.format(datetime.now()-st))\n",
        "    \n",
        "    if verbose:\n",
        "        print('-'*15)\n",
        "        print('Test Data')\n",
        "        print('-'*15)\n",
        "        print(\"RMSE : {}\\n\\nMAPE : {}\\n\".format(test_rmse, test_mape))\n",
        "    # store them in test dictionary\n",
        "    if verbose:\n",
        "        print('storing the test results in test dictionary...')\n",
        "    test['rmse'] = test_rmse\n",
        "    test['mape'] = test_mape\n",
        "    test['predictions'] = test_pred_rating\n",
        "    print('test_predictions',len(test['predictions']))\n",
        "    print('train_predictions',len(train['predictions']))\n",
        "    \n",
        "    print('\\n'+'-'*45)\n",
        "    print('Total time taken to run this algorithm :', datetime.now() - start)\n",
        "    \n",
        "    return train, test"
      ]
    },
    {
      "cell_type": "code",
      "execution_count": null,
      "metadata": {
        "id": "oKOzwFaiAnFo"
      },
      "outputs": [],
      "source": [
        "import xgboost as xgb"
      ]
    },
    {
      "cell_type": "code",
      "execution_count": null,
      "metadata": {
        "id": "3nzsMtmGLeef"
      },
      "outputs": [],
      "source": [
        "#!pip uninstall xgboost"
      ]
    },
    {
      "cell_type": "code",
      "execution_count": null,
      "metadata": {
        "id": "Lum8oXfKLp5O"
      },
      "outputs": [],
      "source": [
        "pip install xgboost"
      ]
    },
    {
      "cell_type": "markdown",
      "metadata": {
        "id": "d5QNYJT3xHqz"
      },
      "source": [
        "__Xgboost regressor__"
      ]
    },
    {
      "cell_type": "code",
      "execution_count": null,
      "metadata": {
        "id": "v5ojZnxRENxm",
        "colab": {
          "base_uri": "https://localhost:8080/",
          "height": 514
        },
        "outputId": "1c64c0a7-0050-46a4-8ad7-744c3aa38c46"
      },
      "outputs": [
        {
          "output_type": "stream",
          "name": "stdout",
          "text": [
            "Training the model\n",
            "[10:12:46] WARNING: /workspace/src/objective/regression_obj.cu:152: reg:linear is now deprecated in favor of reg:squarederror.\n",
            "Done...\n",
            "Timetaken0:00:06.690781...\n",
            "Evaluating the model with TRAIN data...\n",
            "Evaluating the test data\n",
            "Time taken to the test dataset0:00:00.003103\n",
            "\n",
            "TEST DATA\n",
            "------------------------------\n",
            "RMSE :  0.9941416273339712\n",
            "MAPE :  36.53556629231102\n"
          ]
        },
        {
          "output_type": "display_data",
          "data": {
            "text/plain": [
              "<Figure size 432x288 with 1 Axes>"
            ],
            "image/png": "[encoded data removed]"
          },
          "metadata": {}
        }
      ],
      "source": [
        "x_train=reg_train.drop(['user','movie','rating'],axis=1)\n",
        "y_train=reg_train['rating']\n",
        "\n",
        "x_test=reg_test.drop(['user','movie','rating'],axis=1)\n",
        "y_test=reg_test['rating']\n",
        "\n",
        "first_xgb=xgb.XGBRegressor(n_jobs=13,n_estimators=100,random_state=15)\n",
        "train_results,test_results=run_xgboost(first_xgb,x_train,y_train,x_test,y_test)\n",
        "\n",
        "##storing it to the global dictionary\n",
        "model_evaluation_train['first_algo']=train_results\n",
        "model_evaluation_test['first_algo']=test_results\n",
        "\n",
        "xgb.plot_importance(first_xgb)\n",
        "plt.show()\n"
      ]
    },
    {
      "cell_type": "markdown",
      "metadata": {
        "id": "TdtPaiodxPam"
      },
      "source": [
        "__surprise Baseline model__"
      ]
    },
    {
      "cell_type": "code",
      "execution_count": null,
      "metadata": {
        "id": "938aXpK0JhYt"
      },
      "outputs": [],
      "source": [
        "from surprise import BaselineOnly"
      ]
    },
    {
      "cell_type": "markdown",
      "metadata": {
        "id": "JJY3nGYUxtYS"
      },
      "source": [
        "__Predicted_rating : ( baseline prediction ) __\n",
        "\n",
        "    -  http://surprise.readthedocs.io/en/stable/basic_algorithms.html#surprise.prediction_algorithms.baseline_only.BaselineOnly \n",
        " >$   \\large {\\hat{r}_{ui} = b_{ui} =\\mu + b_u + b_i} $\n",
        "\n",
        "\n",
        "- $\\pmb \\mu $ : Average of all rating in training data.\n",
        "- $\\pmb b_u$ : User bias\n",
        "- $\\pmb b_i$ : Item bias (movie biases) "
      ]
    },
    {
      "cell_type": "markdown",
      "metadata": {
        "id": "moWE-ttJyA-H"
      },
      "source": [
        "__Optimization function ( Least Squares Problem ) __\n",
        "\n",
        "    - http://surprise.readthedocs.io/en/stable/prediction_algorithms.html#baselines-estimates-configuration \n",
        "\n",
        "> $ \\large \\sum_{r_{ui} \\in R_{train}} \\left(r_{ui} - (\\mu + b_u + b_i)\\right)^2 +\n",
        "\\lambda \\left(b_u^2 + b_i^2 \\right).\\text {        [mimimize } {b_u, b_i]}$ "
      ]
    },
    {
      "cell_type": "code",
      "execution_count": null,
      "metadata": {
        "id": "s2bPDBcfKkxN",
        "colab": {
          "base_uri": "https://localhost:8080/"
        },
        "outputId": "7e3e8667-defe-4af1-a8ad-b73dcda607c2"
      },
      "outputs": [
        {
          "output_type": "stream",
          "name": "stdout",
          "text": [
            "Training the model...\n",
            "Estimating biases using sgd...\n",
            "Done. time taken : 0:00:01.124892 \n",
            "\n",
            "Evaluating the model with train data..\n",
            "time taken : 0:00:01.186017\n",
            "---------------\n",
            "Train Data\n",
            "---------------\n",
            "RMSE : 0.9347153928678286\n",
            "\n",
            "MAPE : 29.389572652358183\n",
            "\n",
            "adding train results in the dictionary..\n",
            "\n",
            "Evaluating for test data...\n",
            "time taken : 0:00:00.000925\n",
            "---------------\n",
            "Test Data\n",
            "---------------\n",
            "RMSE : 1.0127958755414286\n",
            "\n",
            "MAPE : 37.70008017719995\n",
            "\n",
            "storing the test results in test dictionary...\n",
            "test_predictions 76\n",
            "train_predictions 129286\n",
            "\n",
            "---------------------------------------------\n",
            "Total time taken to run this algorithm : 0:00:02.313630\n"
          ]
        }
      ],
      "source": [
        "bsl_options={'method':'sgd',\n",
        "             'learning_rate':0.001}\n",
        "bsl_algo=BaselineOnly(bsl_options=bsl_options)\n",
        "\n",
        "bsl_train_results,bsl_test_results=run_surprise(bsl_algo,train_set,test_set,verbose=True)\n",
        "\n",
        "model_evaluation_train['bsl_algo']=bsl_train_results\n",
        "model_evaluation_test['bsl_algo']=bsl_test_results\n",
        "\n",
        "#print(len(bsl_train_results['predictions']))\n",
        "\n"
      ]
    },
    {
      "cell_type": "markdown",
      "metadata": {
        "id": "uTCAhezN1Y2W"
      },
      "source": [
        "__Xgboost +13 initial handcrafted featrues__+__Surprise Baseline model__"
      ]
    },
    {
      "cell_type": "code",
      "execution_count": null,
      "metadata": {
        "id": "s7X-Dl5KzuMR",
        "colab": {
          "base_uri": "https://localhost:8080/",
          "height": 206
        },
        "outputId": "0be610a0-a24b-4a0d-cff7-eb7065be5f8b"
      },
      "outputs": [
        {
          "output_type": "execute_result",
          "data": {
            "text/plain": [
              "     user  movie      GAvg  sur1  sur2  sur3  sur4  sur5  smr1  smr2  smr3  \\\n",
              "0   53406     33  3.581679   4.0   5.0   5.0   4.0   1.0   5.0   2.0   5.0   \n",
              "1   99540     33  3.581679   5.0   5.0   5.0   4.0   5.0   3.0   4.0   4.0   \n",
              "2   99865     33  3.581679   5.0   5.0   4.0   5.0   3.0   5.0   4.0   4.0   \n",
              "3  101620     33  3.581679   2.0   3.0   5.0   5.0   4.0   4.0   3.0   3.0   \n",
              "4  112974     33  3.581679   5.0   5.0   5.0   5.0   5.0   3.0   5.0   5.0   \n",
              "\n",
              "   smr4  smr5      UAvg      MAvg  rating     bslpr  \n",
              "0   3.0   1.0  3.370370  4.092437       4  3.898982  \n",
              "1   3.0   5.0  3.555556  4.092437       3  3.371403  \n",
              "2   5.0   4.0  3.714286  4.092437       5  3.323708  \n",
              "3   4.0   5.0  3.584416  4.092437       5  3.378411  \n",
              "4   5.0   3.0  3.750000  4.092437       5  3.691637  "
            ],
            "text/html": [
              "\n",
              "  <div id=\"df-cf6ce779-2bef-445b-a4b2-86f16b443e88\">\n",
              "    <div class=\"colab-df-container\">\n",
              "      <div>\n",
              "<style scoped>\n",
              "    .dataframe tbody tr th:only-of-type {\n",
              "        vertical-align: middle;\n",
              "    }\n",
              "\n",
              "    .dataframe tbody tr th {\n",
              "        vertical-align: top;\n",
              "    }\n",
              "\n",
              "    .dataframe thead th {\n",
              "        text-align: right;\n",
              "    }\n",
              "</style>\n",
              "<table border=\"1\" class=\"dataframe\">\n",
              "  <thead>\n",
              "    <tr style=\"text-align: right;\">\n",
              "      <th></th>\n",
              "      <th>user</th>\n",
              "      <th>movie</th>\n",
              "      <th>GAvg</th>\n",
              "      <th>sur1</th>\n",
              "      <th>sur2</th>\n",
              "      <th>sur3</th>\n",
              "      <th>sur4</th>\n",
              "      <th>sur5</th>\n",
              "      <th>smr1</th>\n",
              "      <th>smr2</th>\n",
              "      <th>smr3</th>\n",
              "      <th>smr4</th>\n",
              "      <th>smr5</th>\n",
              "      <th>UAvg</th>\n",
              "      <th>MAvg</th>\n",
              "      <th>rating</th>\n",
              "      <th>bslpr</th>\n",
              "    </tr>\n",
              "  </thead>\n",
              "  <tbody>\n",
              "    <tr>\n",
              "      <th>0</th>\n",
              "      <td>53406</td>\n",
              "      <td>33</td>\n",
              "      <td>3.581679</td>\n",
              "      <td>4.0</td>\n",
              "      <td>5.0</td>\n",
              "      <td>5.0</td>\n",
              "      <td>4.0</td>\n",
              "      <td>1.0</td>\n",
              "      <td>5.0</td>\n",
              "      <td>2.0</td>\n",
              "      <td>5.0</td>\n",
              "      <td>3.0</td>\n",
              "      <td>1.0</td>\n",
              "      <td>3.370370</td>\n",
              "      <td>4.092437</td>\n",
              "      <td>4</td>\n",
              "      <td>3.898982</td>\n",
              "    </tr>\n",
              "    <tr>\n",
              "      <th>1</th>\n",
              "      <td>99540</td>\n",
              "      <td>33</td>\n",
              "      <td>3.581679</td>\n",
              "      <td>5.0</td>\n",
              "      <td>5.0</td>\n",
              "      <td>5.0</td>\n",
              "      <td>4.0</td>\n",
              "      <td>5.0</td>\n",
              "      <td>3.0</td>\n",
              "      <td>4.0</td>\n",
              "      <td>4.0</td>\n",
              "      <td>3.0</td>\n",
              "      <td>5.0</td>\n",
              "      <td>3.555556</td>\n",
              "      <td>4.092437</td>\n",
              "      <td>3</td>\n",
              "      <td>3.371403</td>\n",
              "    </tr>\n",
              "    <tr>\n",
              "      <th>2</th>\n",
              "      <td>99865</td>\n",
              "      <td>33</td>\n",
              "      <td>3.581679</td>\n",
              "      <td>5.0</td>\n",
              "      <td>5.0</td>\n",
              "      <td>4.0</td>\n",
              "      <td>5.0</td>\n",
              "      <td>3.0</td>\n",
              "      <td>5.0</td>\n",
              "      <td>4.0</td>\n",
              "      <td>4.0</td>\n",
              "      <td>5.0</td>\n",
              "      <td>4.0</td>\n",
              "      <td>3.714286</td>\n",
              "      <td>4.092437</td>\n",
              "      <td>5</td>\n",
              "      <td>3.323708</td>\n",
              "    </tr>\n",
              "    <tr>\n",
              "      <th>3</th>\n",
              "      <td>101620</td>\n",
              "      <td>33</td>\n",
              "      <td>3.581679</td>\n",
              "      <td>2.0</td>\n",
              "      <td>3.0</td>\n",
              "      <td>5.0</td>\n",
              "      <td>5.0</td>\n",
              "      <td>4.0</td>\n",
              "      <td>4.0</td>\n",
              "      <td>3.0</td>\n",
              "      <td>3.0</td>\n",
              "      <td>4.0</td>\n",
              "      <td>5.0</td>\n",
              "      <td>3.584416</td>\n",
              "      <td>4.092437</td>\n",
              "      <td>5</td>\n",
              "      <td>3.378411</td>\n",
              "    </tr>\n",
              "    <tr>\n",
              "      <th>4</th>\n",
              "      <td>112974</td>\n",
              "      <td>33</td>\n",
              "      <td>3.581679</td>\n",
              "      <td>5.0</td>\n",
              "      <td>5.0</td>\n",
              "      <td>5.0</td>\n",
              "      <td>5.0</td>\n",
              "      <td>5.0</td>\n",
              "      <td>3.0</td>\n",
              "      <td>5.0</td>\n",
              "      <td>5.0</td>\n",
              "      <td>5.0</td>\n",
              "      <td>3.0</td>\n",
              "      <td>3.750000</td>\n",
              "      <td>4.092437</td>\n",
              "      <td>5</td>\n",
              "      <td>3.691637</td>\n",
              "    </tr>\n",
              "  </tbody>\n",
              "</table>\n",
              "</div>\n",
              "      <button class=\"colab-df-convert\" onclick=\"convertToInteractive('df-cf6ce779-2bef-445b-a4b2-86f16b443e88')\"\n",
              "              title=\"Convert this dataframe to an interactive table.\"\n",
              "              style=\"display:none;\">\n",
              "        \n",
              "  <svg xmlns=\"http://www.w3.org/2000/svg\" height=\"24px\"viewBox=\"0 0 24 24\"\n",
              "       width=\"24px\">\n",
              "    <path d=\"M0 0h24v24H0V0z\" fill=\"none\"/>\n",
              "    <path d=\"M18.56 5.44l.94 2.06.94-2.06 2.06-.94-2.06-.94-.94-2.06-.94 2.06-2.06.94zm-11 1L8.5 8.5l.94-2.06 2.06-.94-2.06-.94L8.5 2.5l-.94 2.06-2.06.94zm10 10l.94 2.06.94-2.06 2.06-.94-2.06-.94-.94-2.06-.94 2.06-2.06.94z\"/><path d=\"M17.41 7.96l-1.37-1.37c-.4-.4-.92-.59-1.43-.59-.52 0-1.04.2-1.43.59L10.3 9.45l-7.72 7.72c-.78.78-.78 2.05 0 2.83L4 21.41c.39.39.9.59 1.41.59.51 0 1.02-.2 1.41-.59l7.78-7.78 2.81-2.81c.8-.78.8-2.07 0-2.86zM5.41 20L4 18.59l7.72-7.72 1.47 1.35L5.41 20z\"/>\n",
              "  </svg>\n",
              "      </button>\n",
              "      \n",
              "  <style>\n",
              "    .colab-df-container {\n",
              "      display:flex;\n",
              "      flex-wrap:wrap;\n",
              "      gap: 12px;\n",
              "    }\n",
              "\n",
              "    .colab-df-convert {\n",
              "      background-color: #E8F0FE;\n",
              "      border: none;\n",
              "      border-radius: 50%;\n",
              "      cursor: pointer;\n",
              "      display: none;\n",
              "      fill: #1967D2;\n",
              "      height: 32px;\n",
              "      padding: 0 0 0 0;\n",
              "      width: 32px;\n",
              "    }\n",
              "\n",
              "    .colab-df-convert:hover {\n",
              "      background-color: #E2EBFA;\n",
              "      box-shadow: 0px 1px 2px rgba(60, 64, 67, 0.3), 0px 1px 3px 1px rgba(60, 64, 67, 0.15);\n",
              "      fill: #174EA6;\n",
              "    }\n",
              "\n",
              "    [theme=dark] .colab-df-convert {\n",
              "      background-color: #3B4455;\n",
              "      fill: #D2E3FC;\n",
              "    }\n",
              "\n",
              "    [theme=dark] .colab-df-convert:hover {\n",
              "      background-color: #434B5C;\n",
              "      box-shadow: 0px 1px 3px 1px rgba(0, 0, 0, 0.15);\n",
              "      filter: drop-shadow(0px 1px 2px rgba(0, 0, 0, 0.3));\n",
              "      fill: #FFFFFF;\n",
              "    }\n",
              "  </style>\n",
              "\n",
              "      <script>\n",
              "        const buttonEl =\n",
              "          document.querySelector('#df-cf6ce779-2bef-445b-a4b2-86f16b443e88 button.colab-df-convert');\n",
              "        buttonEl.style.display =\n",
              "          google.colab.kernel.accessAllowed ? 'block' : 'none';\n",
              "\n",
              "        async function convertToInteractive(key) {\n",
              "          const element = document.querySelector('#df-cf6ce779-2bef-445b-a4b2-86f16b443e88');\n",
              "          const dataTable =\n",
              "            await google.colab.kernel.invokeFunction('convertToInteractive',\n",
              "                                                     [key], {});\n",
              "          if (!dataTable) return;\n",
              "\n",
              "          const docLinkHtml = 'Like what you see? Visit the ' +\n",
              "            '<a target=\"_blank\" href=https://colab.research.google.com/notebooks/data_table.ipynb>data table notebook</a>'\n",
              "            + ' to learn more about interactive tables.';\n",
              "          element.innerHTML = '';\n",
              "          dataTable['output_type'] = 'display_data';\n",
              "          await google.colab.output.renderOutput(dataTable, element);\n",
              "          const docLink = document.createElement('div');\n",
              "          docLink.innerHTML = docLinkHtml;\n",
              "          element.appendChild(docLink);\n",
              "        }\n",
              "      </script>\n",
              "    </div>\n",
              "  </div>\n",
              "  "
            ]
          },
          "metadata": {},
          "execution_count": 71
        }
      ],
      "source": [
        "# add our baseline_predicted value as our feature..\n",
        "reg_train['bslpr'] = model_evaluation_train['bsl_algo']['predictions']\n",
        "reg_train.head() \n",
        "#len(reg_train)"
      ]
    },
    {
      "cell_type": "code",
      "execution_count": null,
      "metadata": {
        "id": "qD1O0Tlv2rrx",
        "colab": {
          "base_uri": "https://localhost:8080/",
          "height": 270
        },
        "outputId": "25fa9373-9b2a-4910-c6da-56788b6d1bc4"
      },
      "outputs": [
        {
          "output_type": "execute_result",
          "data": {
            "text/plain": [
              "      user  movie      GAvg      sur1      sur2      sur3      sur4      sur5  \\\n",
              "0   808635     71  3.581679  3.581679  3.581679  3.581679  3.581679  3.581679   \n",
              "1   941866     71  3.581679  3.581679  3.581679  3.581679  3.581679  3.581679   \n",
              "2  1737912     71  3.581679  3.581679  3.581679  3.581679  3.581679  3.581679   \n",
              "3  1849204     71  3.581679  3.581679  3.581679  3.581679  3.581679  3.581679   \n",
              "4    28572    111  3.581679  3.581679  3.581679  3.581679  3.581679  3.581679   \n",
              "\n",
              "       smr1      smr2      smr3      smr4      smr5      UAvg      MAvg  \\\n",
              "0  3.581679  3.581679  3.581679  3.581679  3.581679  3.581679  3.581679   \n",
              "1  3.581679  3.581679  3.581679  3.581679  3.581679  3.581679  3.581679   \n",
              "2  3.581679  3.581679  3.581679  3.581679  3.581679  3.581679  3.581679   \n",
              "3  3.581679  3.581679  3.581679  3.581679  3.581679  3.581679  3.581679   \n",
              "4  3.581679  3.581679  3.581679  3.581679  3.581679  3.581679  3.581679   \n",
              "\n",
              "   rating     bslpr  \n",
              "0       5  3.581679  \n",
              "1       4  3.581679  \n",
              "2       3  3.581679  \n",
              "3       4  3.581679  \n",
              "4       1  3.581679  "
            ],
            "text/html": [
              "\n",
              "  <div id=\"df-46c877da-7327-4c30-898b-b467fd2deebd\">\n",
              "    <div class=\"colab-df-container\">\n",
              "      <div>\n",
              "<style scoped>\n",
              "    .dataframe tbody tr th:only-of-type {\n",
              "        vertical-align: middle;\n",
              "    }\n",
              "\n",
              "    .dataframe tbody tr th {\n",
              "        vertical-align: top;\n",
              "    }\n",
              "\n",
              "    .dataframe thead th {\n",
              "        text-align: right;\n",
              "    }\n",
              "</style>\n",
              "<table border=\"1\" class=\"dataframe\">\n",
              "  <thead>\n",
              "    <tr style=\"text-align: right;\">\n",
              "      <th></th>\n",
              "      <th>user</th>\n",
              "      <th>movie</th>\n",
              "      <th>GAvg</th>\n",
              "      <th>sur1</th>\n",
              "      <th>sur2</th>\n",
              "      <th>sur3</th>\n",
              "      <th>sur4</th>\n",
              "      <th>sur5</th>\n",
              "      <th>smr1</th>\n",
              "      <th>smr2</th>\n",
              "      <th>smr3</th>\n",
              "      <th>smr4</th>\n",
              "      <th>smr5</th>\n",
              "      <th>UAvg</th>\n",
              "      <th>MAvg</th>\n",
              "      <th>rating</th>\n",
              "      <th>bslpr</th>\n",
              "    </tr>\n",
              "  </thead>\n",
              "  <tbody>\n",
              "    <tr>\n",
              "      <th>0</th>\n",
              "      <td>808635</td>\n",
              "      <td>71</td>\n",
              "      <td>3.581679</td>\n",
              "      <td>3.581679</td>\n",
              "      <td>3.581679</td>\n",
              "      <td>3.581679</td>\n",
              "      <td>3.581679</td>\n",
              "      <td>3.581679</td>\n",
              "      <td>3.581679</td>\n",
              "      <td>3.581679</td>\n",
              "      <td>3.581679</td>\n",
              "      <td>3.581679</td>\n",
              "      <td>3.581679</td>\n",
              "      <td>3.581679</td>\n",
              "      <td>3.581679</td>\n",
              "      <td>5</td>\n",
              "      <td>3.581679</td>\n",
              "    </tr>\n",
              "    <tr>\n",
              "      <th>1</th>\n",
              "      <td>941866</td>\n",
              "      <td>71</td>\n",
              "      <td>3.581679</td>\n",
              "      <td>3.581679</td>\n",
              "      <td>3.581679</td>\n",
              "      <td>3.581679</td>\n",
              "      <td>3.581679</td>\n",
              "      <td>3.581679</td>\n",
              "      <td>3.581679</td>\n",
              "      <td>3.581679</td>\n",
              "      <td>3.581679</td>\n",
              "      <td>3.581679</td>\n",
              "      <td>3.581679</td>\n",
              "      <td>3.581679</td>\n",
              "      <td>3.581679</td>\n",
              "      <td>4</td>\n",
              "      <td>3.581679</td>\n",
              "    </tr>\n",
              "    <tr>\n",
              "      <th>2</th>\n",
              "      <td>1737912</td>\n",
              "      <td>71</td>\n",
              "      <td>3.581679</td>\n",
              "      <td>3.581679</td>\n",
              "      <td>3.581679</td>\n",
              "      <td>3.581679</td>\n",
              "      <td>3.581679</td>\n",
              "      <td>3.581679</td>\n",
              "      <td>3.581679</td>\n",
              "      <td>3.581679</td>\n",
              "      <td>3.581679</td>\n",
              "      <td>3.581679</td>\n",
              "      <td>3.581679</td>\n",
              "      <td>3.581679</td>\n",
              "      <td>3.581679</td>\n",
              "      <td>3</td>\n",
              "      <td>3.581679</td>\n",
              "    </tr>\n",
              "    <tr>\n",
              "      <th>3</th>\n",
              "      <td>1849204</td>\n",
              "      <td>71</td>\n",
              "      <td>3.581679</td>\n",
              "      <td>3.581679</td>\n",
              "      <td>3.581679</td>\n",
              "      <td>3.581679</td>\n",
              "      <td>3.581679</td>\n",
              "      <td>3.581679</td>\n",
              "      <td>3.581679</td>\n",
              "      <td>3.581679</td>\n",
              "      <td>3.581679</td>\n",
              "      <td>3.581679</td>\n",
              "      <td>3.581679</td>\n",
              "      <td>3.581679</td>\n",
              "      <td>3.581679</td>\n",
              "      <td>4</td>\n",
              "      <td>3.581679</td>\n",
              "    </tr>\n",
              "    <tr>\n",
              "      <th>4</th>\n",
              "      <td>28572</td>\n",
              "      <td>111</td>\n",
              "      <td>3.581679</td>\n",
              "      <td>3.581679</td>\n",
              "      <td>3.581679</td>\n",
              "      <td>3.581679</td>\n",
              "      <td>3.581679</td>\n",
              "      <td>3.581679</td>\n",
              "      <td>3.581679</td>\n",
              "      <td>3.581679</td>\n",
              "      <td>3.581679</td>\n",
              "      <td>3.581679</td>\n",
              "      <td>3.581679</td>\n",
              "      <td>3.581679</td>\n",
              "      <td>3.581679</td>\n",
              "      <td>1</td>\n",
              "      <td>3.581679</td>\n",
              "    </tr>\n",
              "  </tbody>\n",
              "</table>\n",
              "</div>\n",
              "      <button class=\"colab-df-convert\" onclick=\"convertToInteractive('df-46c877da-7327-4c30-898b-b467fd2deebd')\"\n",
              "              title=\"Convert this dataframe to an interactive table.\"\n",
              "              style=\"display:none;\">\n",
              "        \n",
              "  <svg xmlns=\"http://www.w3.org/2000/svg\" height=\"24px\"viewBox=\"0 0 24 24\"\n",
              "       width=\"24px\">\n",
              "    <path d=\"M0 0h24v24H0V0z\" fill=\"none\"/>\n",
              "    <path d=\"M18.56 5.44l.94 2.06.94-2.06 2.06-.94-2.06-.94-.94-2.06-.94 2.06-2.06.94zm-11 1L8.5 8.5l.94-2.06 2.06-.94-2.06-.94L8.5 2.5l-.94 2.06-2.06.94zm10 10l.94 2.06.94-2.06 2.06-.94-2.06-.94-.94-2.06-.94 2.06-2.06.94z\"/><path d=\"M17.41 7.96l-1.37-1.37c-.4-.4-.92-.59-1.43-.59-.52 0-1.04.2-1.43.59L10.3 9.45l-7.72 7.72c-.78.78-.78 2.05 0 2.83L4 21.41c.39.39.9.59 1.41.59.51 0 1.02-.2 1.41-.59l7.78-7.78 2.81-2.81c.8-.78.8-2.07 0-2.86zM5.41 20L4 18.59l7.72-7.72 1.47 1.35L5.41 20z\"/>\n",
              "  </svg>\n",
              "      </button>\n",
              "      \n",
              "  <style>\n",
              "    .colab-df-container {\n",
              "      display:flex;\n",
              "      flex-wrap:wrap;\n",
              "      gap: 12px;\n",
              "    }\n",
              "\n",
              "    .colab-df-convert {\n",
              "      background-color: #E8F0FE;\n",
              "      border: none;\n",
              "      border-radius: 50%;\n",
              "      cursor: pointer;\n",
              "      display: none;\n",
              "      fill: #1967D2;\n",
              "      height: 32px;\n",
              "      padding: 0 0 0 0;\n",
              "      width: 32px;\n",
              "    }\n",
              "\n",
              "    .colab-df-convert:hover {\n",
              "      background-color: #E2EBFA;\n",
              "      box-shadow: 0px 1px 2px rgba(60, 64, 67, 0.3), 0px 1px 3px 1px rgba(60, 64, 67, 0.15);\n",
              "      fill: #174EA6;\n",
              "    }\n",
              "\n",
              "    [theme=dark] .colab-df-convert {\n",
              "      background-color: #3B4455;\n",
              "      fill: #D2E3FC;\n",
              "    }\n",
              "\n",
              "    [theme=dark] .colab-df-convert:hover {\n",
              "      background-color: #434B5C;\n",
              "      box-shadow: 0px 1px 3px 1px rgba(0, 0, 0, 0.15);\n",
              "      filter: drop-shadow(0px 1px 2px rgba(0, 0, 0, 0.3));\n",
              "      fill: #FFFFFF;\n",
              "    }\n",
              "  </style>\n",
              "\n",
              "      <script>\n",
              "        const buttonEl =\n",
              "          document.querySelector('#df-46c877da-7327-4c30-898b-b467fd2deebd button.colab-df-convert');\n",
              "        buttonEl.style.display =\n",
              "          google.colab.kernel.accessAllowed ? 'block' : 'none';\n",
              "\n",
              "        async function convertToInteractive(key) {\n",
              "          const element = document.querySelector('#df-46c877da-7327-4c30-898b-b467fd2deebd');\n",
              "          const dataTable =\n",
              "            await google.colab.kernel.invokeFunction('convertToInteractive',\n",
              "                                                     [key], {});\n",
              "          if (!dataTable) return;\n",
              "\n",
              "          const docLinkHtml = 'Like what you see? Visit the ' +\n",
              "            '<a target=\"_blank\" href=https://colab.research.google.com/notebooks/data_table.ipynb>data table notebook</a>'\n",
              "            + ' to learn more about interactive tables.';\n",
              "          element.innerHTML = '';\n",
              "          dataTable['output_type'] = 'display_data';\n",
              "          await google.colab.output.renderOutput(dataTable, element);\n",
              "          const docLink = document.createElement('div');\n",
              "          docLink.innerHTML = docLinkHtml;\n",
              "          element.appendChild(docLink);\n",
              "        }\n",
              "      </script>\n",
              "    </div>\n",
              "  </div>\n",
              "  "
            ]
          },
          "metadata": {},
          "execution_count": 74
        }
      ],
      "source": [
        "##adding the new column to the test data\n",
        "reg_test['bslpr']=model_evaluation_test['bsl_algo']['predictions']\n",
        "reg_test.head()\n",
        "#len(reg_test)"
      ]
    },
    {
      "cell_type": "code",
      "execution_count": null,
      "metadata": {
        "id": "kaSKQPe3-DTt",
        "colab": {
          "base_uri": "https://localhost:8080/"
        },
        "outputId": "23e7bf68-f8fe-4c0c-8f45-dba17a1a7730"
      },
      "outputs": [
        {
          "output_type": "execute_result",
          "data": {
            "text/plain": [
              "Index(['user', 'movie', 'GAvg', 'sur1', 'sur2', 'sur3', 'sur4', 'sur5', 'smr1',\n",
              "       'smr2', 'smr3', 'smr4', 'smr5', 'UAvg', 'MAvg', 'rating', 'bslpr'],\n",
              "      dtype='object')"
            ]
          },
          "metadata": {},
          "execution_count": 75
        }
      ],
      "source": [
        "reg_train.columns"
      ]
    },
    {
      "cell_type": "code",
      "execution_count": null,
      "metadata": {
        "id": "GL-zQKuf6SM_",
        "colab": {
          "base_uri": "https://localhost:8080/",
          "height": 514
        },
        "outputId": "085a2001-4c85-413a-f8f7-843001e8e687"
      },
      "outputs": [
        {
          "output_type": "stream",
          "name": "stdout",
          "text": [
            "Training the model\n",
            "[10:18:05] WARNING: /workspace/src/objective/regression_obj.cu:152: reg:linear is now deprecated in favor of reg:squarederror.\n",
            "Done...\n",
            "Timetaken0:00:07.785673...\n",
            "Evaluating the model with TRAIN data...\n",
            "Evaluating the test data\n",
            "Time taken to the test dataset0:00:00.002078\n",
            "\n",
            "TEST DATA\n",
            "------------------------------\n",
            "RMSE :  0.9936561473679958\n",
            "MAPE :  36.49951172502418\n"
          ]
        },
        {
          "output_type": "display_data",
          "data": {
            "text/plain": [
              "<Figure size 432x288 with 1 Axes>"
            ],
            "image/png": "[encoded data removed]"
          },
          "metadata": {}
        }
      ],
      "source": [
        "#prepare the train and test data\n",
        "x_train=reg_train.drop(['user','movie','rating'],axis=1)\n",
        "y_train=reg_train['rating']\n",
        "\n",
        "#print(x_train.columns)\n",
        "\n",
        "x_test=reg_test.drop(['user','movie','rating'],axis=1)\n",
        "y_train=reg_train['rating']\n",
        "\n",
        "#initialize our first xgboost model\n",
        "xgb_bsl=xgb.XGBRegressor(njobs=13,n_estimators=100,random_state=15)\n",
        "train_results,test_results=run_xgboost(xgb_bsl,x_train,y_train,x_test,y_test)\n",
        "\n",
        "model_evaluation_train['xgb_bsl']=train_results\n",
        "model_evaluation_test['xgb_bsl']=test_results\n",
        "\n",
        "#print(model_evaluation_train['xgb_bsl'])\n",
        "\n",
        "xgb.plot_importance(xgb_bsl)\n",
        "plt.show()"
      ]
    },
    {
      "cell_type": "markdown",
      "metadata": {
        "id": "ZCwFqXIH3FHT"
      },
      "source": [
        "__Surprise KNN baseline with user-user similarity__"
      ]
    },
    {
      "cell_type": "code",
      "execution_count": null,
      "metadata": {
        "id": "DqOXAPwC5sf-"
      },
      "outputs": [],
      "source": [
        "from surprise import KNNBaseline"
      ]
    },
    {
      "cell_type": "code",
      "execution_count": null,
      "metadata": {
        "id": "q2yHeHPT8wL_",
        "colab": {
          "base_uri": "https://localhost:8080/"
        },
        "outputId": "c9681919-c82e-4c9a-871f-219ff7b613df"
      },
      "outputs": [
        {
          "output_type": "stream",
          "name": "stdout",
          "text": [
            "Training the model...\n",
            "Estimating biases using sgd...\n",
            "Computing the pearson_baseline similarity matrix...\n",
            "Done computing similarity matrix.\n",
            "Done. time taken : 0:00:35.661598 \n",
            "\n",
            "Evaluating the model with train data..\n",
            "time taken : 0:01:50.075844\n",
            "---------------\n",
            "Train Data\n",
            "---------------\n",
            "RMSE : 0.3535546871957972\n",
            "\n",
            "MAPE : 9.649106273315809\n",
            "\n",
            "adding train results in the dictionary..\n",
            "\n",
            "Evaluating for test data...\n",
            "time taken : 0:00:00.001001\n",
            "---------------\n",
            "Test Data\n",
            "---------------\n",
            "RMSE : 1.0127958755414286\n",
            "\n",
            "MAPE : 37.70008017719995\n",
            "\n",
            "storing the test results in test dictionary...\n",
            "test_predictions 76\n",
            "train_predictions 129286\n",
            "\n",
            "---------------------------------------------\n",
            "Total time taken to run this algorithm : 0:02:25.741100\n"
          ]
        }
      ],
      "source": [
        "sim_options={'user_based':True,\n",
        "             'name':'pearson_baseline',\n",
        "             'shrinkage':100,\n",
        "             'min_support':2\n",
        "}\n",
        "bsl_options={'method':'sgd'}\n",
        "\n",
        "knn_bsl_u=KNNBaseline(k=50,sim_options=sim_options,bsl_options=bsl_options)\n",
        "knn_bsl_u_train_results,knn_bsl_u_test_results=run_surprise(knn_bsl_u,train_set,test_set,verbose=True)\n",
        "\n",
        "model_evaluation_train['knn_bsl_u']=knn_bsl_u_train_results\n",
        "model_evaluation_test['knn_bsl_u']=knn_bsl_u_test_results\n",
        "                                                            \n",
        "            "
      ]
    },
    {
      "cell_type": "markdown",
      "metadata": {
        "id": "eAqNYjGe6tRc"
      },
      "source": [
        "__Take away:\n",
        "As the traindata and test data RMSE are some what having huge difference there might be chances of overfiting og the model..__"
      ]
    },
    {
      "cell_type": "markdown",
      "metadata": {
        "id": "Hem5mqYZ58NW"
      },
      "source": [
        "__surprise KNN baseline with movie movie similarity__"
      ]
    },
    {
      "cell_type": "code",
      "execution_count": null,
      "metadata": {
        "id": "idtCBmYl54Gt",
        "colab": {
          "base_uri": "https://localhost:8080/"
        },
        "outputId": "afda9d7c-2cf6-4ae7-f762-61d85771469a"
      },
      "outputs": [
        {
          "output_type": "stream",
          "name": "stdout",
          "text": [
            "Training the model...\n",
            "Estimating biases using als...\n",
            "Computing the pearson_baseline similarity matrix...\n",
            "Done computing similarity matrix.\n",
            "Done. time taken : 0:00:00.709626 \n",
            "\n",
            "Evaluating the model with train data..\n",
            "time taken : 0:00:08.475679\n",
            "---------------\n",
            "Train Data\n",
            "---------------\n",
            "RMSE : 0.3576376914112193\n",
            "\n",
            "MAPE : 9.435891931250264\n",
            "\n",
            "adding train results in the dictionary..\n",
            "\n",
            "Evaluating for test data...\n",
            "time taken : 0:00:00.001613\n",
            "---------------\n",
            "Test Data\n",
            "---------------\n",
            "RMSE : 1.0127958755414286\n",
            "\n",
            "MAPE : 37.70008017719995\n",
            "\n",
            "storing the test results in test dictionary...\n",
            "test_predictions 76\n",
            "train_predictions 129286\n",
            "\n",
            "---------------------------------------------\n",
            "Total time taken to run this algorithm : 0:00:09.189744\n"
          ]
        }
      ],
      "source": [
        "sim_options={'user_based':False,\n",
        "             'name':'pearson_baseline',\n",
        "             'shrinkage':100,\n",
        "             'min_support':2}\n",
        "bsl_options={'model':'sgd'}\n",
        "\n",
        "knn_bsl_m=KNNBaseline(k=40,sim_options=sim_options,bsl_options=bsl_options)\n",
        "knn_bsl_m_train_results,knn_bsl_m_test_results=run_surprise(knn_bsl_m,train_set,test_set,verbose=True)\n",
        "\n",
        "model_evaluation_train['knn_bsl_m']=knn_bsl_m_train_results\n",
        "model_evaluation_test['knn_bsl_m']=knn_bsl_m_test_results"
      ]
    },
    {
      "cell_type": "markdown",
      "metadata": {
        "id": "4sD22l7U8tHI"
      },
      "source": [
        "__Take away:\n",
        "Here also same that RMSE of train and test is of having some considerable diff which might gone to overfitting..__"
      ]
    },
    {
      "cell_type": "markdown",
      "metadata": {
        "id": "gUgGWmH88-d8"
      },
      "source": [
        "__XGBoost with initial 13 features + Surprise Baseline predictor + KNNBaseline predictor__"
      ]
    },
    {
      "cell_type": "markdown",
      "metadata": {
        "id": "w7o8vww-9FGo"
      },
      "source": [
        "First we will run XGBoost with predictions from both KNN's ( that uses User_User and Item_Item similarities along with our previous features.\n"
      ]
    },
    {
      "cell_type": "code",
      "execution_count": null,
      "metadata": {
        "id": "y8rzWs3C71lq"
      },
      "outputs": [],
      "source": [
        "##Adding the prediction to the regtrain\n",
        "reg_train['knn_bsl_u']=model_evaluation_train['knn_bsl_u']['predictions']\n",
        "reg_train['knn_bsl_m']=model_evaluation_train['knn_bsl_m']['predictions']"
      ]
    },
    {
      "cell_type": "code",
      "execution_count": null,
      "metadata": {
        "id": "kvVU1o269qKx"
      },
      "outputs": [],
      "source": [
        "#Adding the prediction to the reg_test\n",
        "reg_test['knn_bsl_u']=model_evaluation_test['knn_bsl_m']['predictions']\n",
        "reg_test['knn_bsl_m']=model_evaluation_test['knn_bsl_m']['predictions']"
      ]
    },
    {
      "cell_type": "code",
      "execution_count": null,
      "metadata": {
        "id": "Zt379H009_ho",
        "colab": {
          "base_uri": "https://localhost:8080/"
        },
        "outputId": "ca589280-345a-4d99-8503-750e673706d0"
      },
      "outputs": [
        {
          "output_type": "execute_result",
          "data": {
            "text/plain": [
              "Index(['user', 'movie', 'GAvg', 'sur1', 'sur2', 'sur3', 'sur4', 'sur5', 'smr1',\n",
              "       'smr2', 'smr3', 'smr4', 'smr5', 'UAvg', 'MAvg', 'rating', 'bslpr',\n",
              "       'knn_bsl_u', 'knn_bsl_m'],\n",
              "      dtype='object')"
            ]
          },
          "metadata": {},
          "execution_count": 89
        }
      ],
      "source": [
        "reg_train.columns"
      ]
    },
    {
      "cell_type": "code",
      "execution_count": null,
      "metadata": {
        "id": "HVQUSFtH-B4Z",
        "colab": {
          "base_uri": "https://localhost:8080/"
        },
        "outputId": "a73359ec-4875-464d-c8f5-2aa2e7bd6d95"
      },
      "outputs": [
        {
          "output_type": "execute_result",
          "data": {
            "text/plain": [
              "Index(['user', 'movie', 'GAvg', 'sur1', 'sur2', 'sur3', 'sur4', 'sur5', 'smr1',\n",
              "       'smr2', 'smr3', 'smr4', 'smr5', 'UAvg', 'MAvg', 'rating', 'bslpr',\n",
              "       'knn_bsl_u', 'knn_bsl_m'],\n",
              "      dtype='object')"
            ]
          },
          "metadata": {},
          "execution_count": 90
        }
      ],
      "source": [
        "reg_test.columns"
      ]
    },
    {
      "cell_type": "code",
      "execution_count": null,
      "metadata": {
        "id": "X3Ol9TeaCHh2",
        "colab": {
          "base_uri": "https://localhost:8080/",
          "height": 514
        },
        "outputId": "e89d39f7-8e51-4d49-e04d-3c8dec23493a"
      },
      "outputs": [
        {
          "output_type": "stream",
          "name": "stdout",
          "text": [
            "Training the model\n",
            "[10:40:47] WARNING: /workspace/src/objective/regression_obj.cu:152: reg:linear is now deprecated in favor of reg:squarederror.\n",
            "Done...\n",
            "Timetaken0:00:08.560087...\n",
            "Evaluating the model with TRAIN data...\n",
            "Evaluating the test data\n",
            "Time taken to the test dataset0:00:00.003543\n",
            "\n",
            "TEST DATA\n",
            "------------------------------\n",
            "RMSE :  0.992718665374202\n",
            "MAPE :  36.4286701616488\n"
          ]
        },
        {
          "output_type": "display_data",
          "data": {
            "text/plain": [
              "<Figure size 432x288 with 1 Axes>"
            ],
            "image/png": "[encoded data removed]"
          },
          "metadata": {}
        }
      ],
      "source": [
        "# prepare the train data....\n",
        "x_train = reg_train.drop(['user', 'movie', 'rating'], axis=1)\n",
        "y_train = reg_train['rating']\n",
        "\n",
        "# prepare the train data....\n",
        "x_test = reg_test.drop(['user','movie','rating'], axis=1)\n",
        "y_test = reg_test['rating']\n",
        "\n",
        "# declare the model\n",
        "xgb_knn_bsl = xgb.XGBRegressor(n_jobs=10, random_state=15)\n",
        "train_results, test_results = run_xgboost(xgb_knn_bsl, x_train, y_train, x_test, y_test)\n",
        "\n",
        "# store the results in models_evaluations dictionaries\n",
        "model_evaluation_train['xgb_knn_bsl'] = train_results\n",
        "model_evaluation_test['xgb_knn_bsl'] = test_results\n",
        "\n",
        "\n",
        "xgb.plot_importance(xgb_knn_bsl)\n",
        "plt.show()"
      ]
    },
    {
      "cell_type": "markdown",
      "metadata": {
        "id": "pfu6PrfaKhdw"
      },
      "source": [
        "<h3> Matrix Factorization Techniques </h3>"
      ]
    },
    {
      "cell_type": "markdown",
      "metadata": {
        "id": "60GJahkJKlmU"
      },
      "source": [
        "SVD Matrix Factorization User Movie intractions </h4>"
      ]
    },
    {
      "cell_type": "markdown",
      "metadata": {
        "id": "_Re5H8ABRPGN"
      },
      "source": [
        "__ Predicted Rating : __\n",
        "\n",
        "$ \\large \\hat r_{ui} = \\mu + b_u + b_i + q_i^Tp_u $\n",
        "\n",
        "$\\pmb q_i$ - Representation of item(movie) in latent factor space\n",
        "\n",
        "$\\pmb p_u$ - Representation of user in new latent factor space"
      ]
    },
    {
      "cell_type": "markdown",
      "metadata": {
        "id": "f_uiZ6tzSStJ"
      },
      "source": [
        " __Optimization problem with user item interactions and regularization (to avoid overfitting)__\n",
        "    - \n",
        "$ \\large \\sum_{r_{ui} \\in R_{train}} \\left(r_{ui} - \\hat{r}_{ui} \\right)^2 +\n",
        "\\lambda\\left(b_i^2 + b_u^2 + ||q_i||^2 + ||p_u||^2 + ||y_j||^2\\right) $ \n",
        "\n",
        "\n"
      ]
    },
    {
      "cell_type": "code",
      "execution_count": null,
      "metadata": {
        "id": "DEzkGR3fIk8D"
      },
      "outputs": [],
      "source": [
        "from surprise import SVDpp"
      ]
    },
    {
      "cell_type": "code",
      "execution_count": null,
      "metadata": {
        "id": "6xJYBruZShL0",
        "colab": {
          "base_uri": "https://localhost:8080/"
        },
        "outputId": "fca7bb9b-cf0d-4279-83bc-13fde6def055"
      },
      "outputs": [
        {
          "output_type": "stream",
          "name": "stdout",
          "text": [
            "Training the model...\n",
            "Done. time taken : 0:02:10.856911 \n",
            "\n",
            "Evaluating the model with train data..\n",
            "time taken : 0:00:08.740110\n",
            "---------------\n",
            "Train Data\n",
            "---------------\n",
            "RMSE : 0.6032438403305899\n",
            "\n",
            "MAPE : 17.49285063490268\n",
            "\n",
            "adding train results in the dictionary..\n",
            "\n",
            "Evaluating for test data...\n",
            "time taken : 0:00:00.002082\n",
            "---------------\n",
            "Test Data\n",
            "---------------\n",
            "RMSE : 1.0127958755414286\n",
            "\n",
            "MAPE : 37.70008017719995\n",
            "\n",
            "storing the test results in test dictionary...\n",
            "test_predictions 76\n",
            "train_predictions 129286\n",
            "\n",
            "---------------------------------------------\n",
            "Total time taken to run this algorithm : 0:02:19.607559\n"
          ]
        }
      ],
      "source": [
        "\n",
        "svdpp=SVDpp(n_factors=50,random_state=15)\n",
        "train_results_svd,test_results_svd=run_surprise(svdpp,train_set,test_set,verbose=True)\n",
        "\n",
        "model_evaluation_train['svdpp_train']=train_results_svd\n",
        "model_evaluation_test['svdpp_test']=test_results_svd"
      ]
    },
    {
      "cell_type": "code",
      "execution_count": null,
      "metadata": {
        "id": "gUsiLWm9TaLz"
      },
      "outputs": [],
      "source": [
        "from surprise import SVD"
      ]
    },
    {
      "cell_type": "code",
      "execution_count": null,
      "metadata": {
        "id": "qNVzo4s4UNGm",
        "colab": {
          "base_uri": "https://localhost:8080/"
        },
        "outputId": "884b279b-e6c5-40a0-acca-77c329ffff54"
      },
      "outputs": [
        {
          "output_type": "stream",
          "name": "stdout",
          "text": [
            "Training the model...\n",
            "Done. time taken : 0:00:05.206667 \n",
            "\n",
            "Evaluating the model with train data..\n",
            "time taken : 0:00:01.416257\n",
            "---------------\n",
            "Train Data\n",
            "---------------\n",
            "RMSE : 0.7321358234779256\n",
            "\n",
            "MAPE : 22.076350745298114\n",
            "\n",
            "adding train results in the dictionary..\n",
            "\n",
            "Evaluating for test data...\n",
            "time taken : 0:00:00.000904\n",
            "---------------\n",
            "Test Data\n",
            "---------------\n",
            "RMSE : 1.0127958755414286\n",
            "\n",
            "MAPE : 37.70008017719995\n",
            "\n",
            "storing the test results in test dictionary...\n",
            "test_predictions 76\n",
            "train_predictions 129286\n",
            "\n",
            "---------------------------------------------\n",
            "Total time taken to run this algorithm : 0:00:06.626498\n"
          ]
        }
      ],
      "source": [
        "svd=SVD(n_factors=50,random_state=15)\n",
        "\n",
        "train_results_svd_new,test_results_svd_new=run_surprise(svd,train_set,test_set,verbose=True)\n",
        "\n",
        "model_evaluation_train['svd']=train_results_svd_new\n",
        "model_evaluation_test['svd']=test_results_svd_new"
      ]
    },
    {
      "cell_type": "markdown",
      "metadata": {
        "id": "ZVo-FCrmWUL5"
      },
      "source": [
        "<h3> 4.4.7 XgBoost with 13 features + Surprise Baseline + Surprise KNNbaseline + MF Techniques </h3>"
      ]
    },
    {
      "cell_type": "markdown",
      "metadata": {
        "id": "DCFyE1SkWYip"
      },
      "source": [
        "__Preparing Train data__"
      ]
    },
    {
      "cell_type": "code",
      "execution_count": null,
      "metadata": {
        "id": "JS9j-t44U_kQ",
        "colab": {
          "base_uri": "https://localhost:8080/",
          "height": 205
        },
        "outputId": "c116a74c-eb75-4842-eec9-c759b47ba3ac"
      },
      "outputs": [
        {
          "output_type": "execute_result",
          "data": {
            "text/plain": [
              "    user  movie      GAvg  sur1  sur2  sur3  sur4  sur5  smr1  smr2  ...  \\\n",
              "0  53406     33  3.581679   4.0   5.0   5.0   4.0   1.0   5.0   2.0  ...   \n",
              "1  99540     33  3.581679   5.0   5.0   5.0   4.0   5.0   3.0   4.0  ...   \n",
              "\n",
              "   smr4  smr5      UAvg      MAvg  rating     bslpr  knn_bsl_u  knn_bsl_m  \\\n",
              "0   3.0   1.0  3.370370  4.092437       4  3.898982   3.927878   3.833507   \n",
              "1   3.0   5.0  3.555556  4.092437       3  3.371403   3.177330   3.069762   \n",
              "\n",
              "        svd     svdpp  \n",
              "0  3.756269  3.621664  \n",
              "1  3.410149  3.538247  \n",
              "\n",
              "[2 rows x 21 columns]"
            ],
            "text/html": [
              "\n",
              "  <div id=\"df-c620e290-ce93-4612-b41f-c9a3907bbf0f\">\n",
              "    <div class=\"colab-df-container\">\n",
              "      <div>\n",
              "<style scoped>\n",
              "    .dataframe tbody tr th:only-of-type {\n",
              "        vertical-align: middle;\n",
              "    }\n",
              "\n",
              "    .dataframe tbody tr th {\n",
              "        vertical-align: top;\n",
              "    }\n",
              "\n",
              "    .dataframe thead th {\n",
              "        text-align: right;\n",
              "    }\n",
              "</style>\n",
              "<table border=\"1\" class=\"dataframe\">\n",
              "  <thead>\n",
              "    <tr style=\"text-align: right;\">\n",
              "      <th></th>\n",
              "      <th>user</th>\n",
              "      <th>movie</th>\n",
              "      <th>GAvg</th>\n",
              "      <th>sur1</th>\n",
              "      <th>sur2</th>\n",
              "      <th>sur3</th>\n",
              "      <th>sur4</th>\n",
              "      <th>sur5</th>\n",
              "      <th>smr1</th>\n",
              "      <th>smr2</th>\n",
              "      <th>...</th>\n",
              "      <th>smr4</th>\n",
              "      <th>smr5</th>\n",
              "      <th>UAvg</th>\n",
              "      <th>MAvg</th>\n",
              "      <th>rating</th>\n",
              "      <th>bslpr</th>\n",
              "      <th>knn_bsl_u</th>\n",
              "      <th>knn_bsl_m</th>\n",
              "      <th>svd</th>\n",
              "      <th>svdpp</th>\n",
              "    </tr>\n",
              "  </thead>\n",
              "  <tbody>\n",
              "    <tr>\n",
              "      <th>0</th>\n",
              "      <td>53406</td>\n",
              "      <td>33</td>\n",
              "      <td>3.581679</td>\n",
              "      <td>4.0</td>\n",
              "      <td>5.0</td>\n",
              "      <td>5.0</td>\n",
              "      <td>4.0</td>\n",
              "      <td>1.0</td>\n",
              "      <td>5.0</td>\n",
              "      <td>2.0</td>\n",
              "      <td>...</td>\n",
              "      <td>3.0</td>\n",
              "      <td>1.0</td>\n",
              "      <td>3.370370</td>\n",
              "      <td>4.092437</td>\n",
              "      <td>4</td>\n",
              "      <td>3.898982</td>\n",
              "      <td>3.927878</td>\n",
              "      <td>3.833507</td>\n",
              "      <td>3.756269</td>\n",
              "      <td>3.621664</td>\n",
              "    </tr>\n",
              "    <tr>\n",
              "      <th>1</th>\n",
              "      <td>99540</td>\n",
              "      <td>33</td>\n",
              "      <td>3.581679</td>\n",
              "      <td>5.0</td>\n",
              "      <td>5.0</td>\n",
              "      <td>5.0</td>\n",
              "      <td>4.0</td>\n",
              "      <td>5.0</td>\n",
              "      <td>3.0</td>\n",
              "      <td>4.0</td>\n",
              "      <td>...</td>\n",
              "      <td>3.0</td>\n",
              "      <td>5.0</td>\n",
              "      <td>3.555556</td>\n",
              "      <td>4.092437</td>\n",
              "      <td>3</td>\n",
              "      <td>3.371403</td>\n",
              "      <td>3.177330</td>\n",
              "      <td>3.069762</td>\n",
              "      <td>3.410149</td>\n",
              "      <td>3.538247</td>\n",
              "    </tr>\n",
              "  </tbody>\n",
              "</table>\n",
              "<p>2 rows × 21 columns</p>\n",
              "</div>\n",
              "      <button class=\"colab-df-convert\" onclick=\"convertToInteractive('df-c620e290-ce93-4612-b41f-c9a3907bbf0f')\"\n",
              "              title=\"Convert this dataframe to an interactive table.\"\n",
              "              style=\"display:none;\">\n",
              "        \n",
              "  <svg xmlns=\"http://www.w3.org/2000/svg\" height=\"24px\"viewBox=\"0 0 24 24\"\n",
              "       width=\"24px\">\n",
              "    <path d=\"M0 0h24v24H0V0z\" fill=\"none\"/>\n",
              "    <path d=\"M18.56 5.44l.94 2.06.94-2.06 2.06-.94-2.06-.94-.94-2.06-.94 2.06-2.06.94zm-11 1L8.5 8.5l.94-2.06 2.06-.94-2.06-.94L8.5 2.5l-.94 2.06-2.06.94zm10 10l.94 2.06.94-2.06 2.06-.94-2.06-.94-.94-2.06-.94 2.06-2.06.94z\"/><path d=\"M17.41 7.96l-1.37-1.37c-.4-.4-.92-.59-1.43-.59-.52 0-1.04.2-1.43.59L10.3 9.45l-7.72 7.72c-.78.78-.78 2.05 0 2.83L4 21.41c.39.39.9.59 1.41.59.51 0 1.02-.2 1.41-.59l7.78-7.78 2.81-2.81c.8-.78.8-2.07 0-2.86zM5.41 20L4 18.59l7.72-7.72 1.47 1.35L5.41 20z\"/>\n",
              "  </svg>\n",
              "      </button>\n",
              "      \n",
              "  <style>\n",
              "    .colab-df-container {\n",
              "      display:flex;\n",
              "      flex-wrap:wrap;\n",
              "      gap: 12px;\n",
              "    }\n",
              "\n",
              "    .colab-df-convert {\n",
              "      background-color: #E8F0FE;\n",
              "      border: none;\n",
              "      border-radius: 50%;\n",
              "      cursor: pointer;\n",
              "      display: none;\n",
              "      fill: #1967D2;\n",
              "      height: 32px;\n",
              "      padding: 0 0 0 0;\n",
              "      width: 32px;\n",
              "    }\n",
              "\n",
              "    .colab-df-convert:hover {\n",
              "      background-color: #E2EBFA;\n",
              "      box-shadow: 0px 1px 2px rgba(60, 64, 67, 0.3), 0px 1px 3px 1px rgba(60, 64, 67, 0.15);\n",
              "      fill: #174EA6;\n",
              "    }\n",
              "\n",
              "    [theme=dark] .colab-df-convert {\n",
              "      background-color: #3B4455;\n",
              "      fill: #D2E3FC;\n",
              "    }\n",
              "\n",
              "    [theme=dark] .colab-df-convert:hover {\n",
              "      background-color: #434B5C;\n",
              "      box-shadow: 0px 1px 3px 1px rgba(0, 0, 0, 0.15);\n",
              "      filter: drop-shadow(0px 1px 2px rgba(0, 0, 0, 0.3));\n",
              "      fill: #FFFFFF;\n",
              "    }\n",
              "  </style>\n",
              "\n",
              "      <script>\n",
              "        const buttonEl =\n",
              "          document.querySelector('#df-c620e290-ce93-4612-b41f-c9a3907bbf0f button.colab-df-convert');\n",
              "        buttonEl.style.display =\n",
              "          google.colab.kernel.accessAllowed ? 'block' : 'none';\n",
              "\n",
              "        async function convertToInteractive(key) {\n",
              "          const element = document.querySelector('#df-c620e290-ce93-4612-b41f-c9a3907bbf0f');\n",
              "          const dataTable =\n",
              "            await google.colab.kernel.invokeFunction('convertToInteractive',\n",
              "                                                     [key], {});\n",
              "          if (!dataTable) return;\n",
              "\n",
              "          const docLinkHtml = 'Like what you see? Visit the ' +\n",
              "            '<a target=\"_blank\" href=https://colab.research.google.com/notebooks/data_table.ipynb>data table notebook</a>'\n",
              "            + ' to learn more about interactive tables.';\n",
              "          element.innerHTML = '';\n",
              "          dataTable['output_type'] = 'display_data';\n",
              "          await google.colab.output.renderOutput(dataTable, element);\n",
              "          const docLink = document.createElement('div');\n",
              "          docLink.innerHTML = docLinkHtml;\n",
              "          element.appendChild(docLink);\n",
              "        }\n",
              "      </script>\n",
              "    </div>\n",
              "  </div>\n",
              "  "
            ]
          },
          "metadata": {},
          "execution_count": 97
        }
      ],
      "source": [
        "reg_train['svd'] = model_evaluation_train['svd']['predictions']\n",
        "reg_train['svdpp'] = model_evaluation_train['svdpp_train']['predictions']\n",
        "\n",
        "reg_train.head(2) "
      ]
    },
    {
      "cell_type": "code",
      "execution_count": null,
      "metadata": {
        "id": "BTQkbg5JWc6f",
        "colab": {
          "base_uri": "https://localhost:8080/",
          "height": 205
        },
        "outputId": "763a24ae-9ada-4cde-d6fe-b0be70b3f83b"
      },
      "outputs": [
        {
          "output_type": "execute_result",
          "data": {
            "text/plain": [
              "     user  movie      GAvg      sur1      sur2      sur3      sur4      sur5  \\\n",
              "0  808635     71  3.581679  3.581679  3.581679  3.581679  3.581679  3.581679   \n",
              "1  941866     71  3.581679  3.581679  3.581679  3.581679  3.581679  3.581679   \n",
              "\n",
              "       smr1      smr2  ...      smr4      smr5      UAvg      MAvg  rating  \\\n",
              "0  3.581679  3.581679  ...  3.581679  3.581679  3.581679  3.581679       5   \n",
              "1  3.581679  3.581679  ...  3.581679  3.581679  3.581679  3.581679       4   \n",
              "\n",
              "      bslpr  knn_bsl_u  knn_bsl_m       svd     svdpp  \n",
              "0  3.581679   3.581679   3.581679  3.581679  3.581679  \n",
              "1  3.581679   3.581679   3.581679  3.581679  3.581679  \n",
              "\n",
              "[2 rows x 21 columns]"
            ],
            "text/html": [
              "\n",
              "  <div id=\"df-b7b775b2-39d7-4702-b9fa-c3e6258960cf\">\n",
              "    <div class=\"colab-df-container\">\n",
              "      <div>\n",
              "<style scoped>\n",
              "    .dataframe tbody tr th:only-of-type {\n",
              "        vertical-align: middle;\n",
              "    }\n",
              "\n",
              "    .dataframe tbody tr th {\n",
              "        vertical-align: top;\n",
              "    }\n",
              "\n",
              "    .dataframe thead th {\n",
              "        text-align: right;\n",
              "    }\n",
              "</style>\n",
              "<table border=\"1\" class=\"dataframe\">\n",
              "  <thead>\n",
              "    <tr style=\"text-align: right;\">\n",
              "      <th></th>\n",
              "      <th>user</th>\n",
              "      <th>movie</th>\n",
              "      <th>GAvg</th>\n",
              "      <th>sur1</th>\n",
              "      <th>sur2</th>\n",
              "      <th>sur3</th>\n",
              "      <th>sur4</th>\n",
              "      <th>sur5</th>\n",
              "      <th>smr1</th>\n",
              "      <th>smr2</th>\n",
              "      <th>...</th>\n",
              "      <th>smr4</th>\n",
              "      <th>smr5</th>\n",
              "      <th>UAvg</th>\n",
              "      <th>MAvg</th>\n",
              "      <th>rating</th>\n",
              "      <th>bslpr</th>\n",
              "      <th>knn_bsl_u</th>\n",
              "      <th>knn_bsl_m</th>\n",
              "      <th>svd</th>\n",
              "      <th>svdpp</th>\n",
              "    </tr>\n",
              "  </thead>\n",
              "  <tbody>\n",
              "    <tr>\n",
              "      <th>0</th>\n",
              "      <td>808635</td>\n",
              "      <td>71</td>\n",
              "      <td>3.581679</td>\n",
              "      <td>3.581679</td>\n",
              "      <td>3.581679</td>\n",
              "      <td>3.581679</td>\n",
              "      <td>3.581679</td>\n",
              "      <td>3.581679</td>\n",
              "      <td>3.581679</td>\n",
              "      <td>3.581679</td>\n",
              "      <td>...</td>\n",
              "      <td>3.581679</td>\n",
              "      <td>3.581679</td>\n",
              "      <td>3.581679</td>\n",
              "      <td>3.581679</td>\n",
              "      <td>5</td>\n",
              "      <td>3.581679</td>\n",
              "      <td>3.581679</td>\n",
              "      <td>3.581679</td>\n",
              "      <td>3.581679</td>\n",
              "      <td>3.581679</td>\n",
              "    </tr>\n",
              "    <tr>\n",
              "      <th>1</th>\n",
              "      <td>941866</td>\n",
              "      <td>71</td>\n",
              "      <td>3.581679</td>\n",
              "      <td>3.581679</td>\n",
              "      <td>3.581679</td>\n",
              "      <td>3.581679</td>\n",
              "      <td>3.581679</td>\n",
              "      <td>3.581679</td>\n",
              "      <td>3.581679</td>\n",
              "      <td>3.581679</td>\n",
              "      <td>...</td>\n",
              "      <td>3.581679</td>\n",
              "      <td>3.581679</td>\n",
              "      <td>3.581679</td>\n",
              "      <td>3.581679</td>\n",
              "      <td>4</td>\n",
              "      <td>3.581679</td>\n",
              "      <td>3.581679</td>\n",
              "      <td>3.581679</td>\n",
              "      <td>3.581679</td>\n",
              "      <td>3.581679</td>\n",
              "    </tr>\n",
              "  </tbody>\n",
              "</table>\n",
              "<p>2 rows × 21 columns</p>\n",
              "</div>\n",
              "      <button class=\"colab-df-convert\" onclick=\"convertToInteractive('df-b7b775b2-39d7-4702-b9fa-c3e6258960cf')\"\n",
              "              title=\"Convert this dataframe to an interactive table.\"\n",
              "              style=\"display:none;\">\n",
              "        \n",
              "  <svg xmlns=\"http://www.w3.org/2000/svg\" height=\"24px\"viewBox=\"0 0 24 24\"\n",
              "       width=\"24px\">\n",
              "    <path d=\"M0 0h24v24H0V0z\" fill=\"none\"/>\n",
              "    <path d=\"M18.56 5.44l.94 2.06.94-2.06 2.06-.94-2.06-.94-.94-2.06-.94 2.06-2.06.94zm-11 1L8.5 8.5l.94-2.06 2.06-.94-2.06-.94L8.5 2.5l-.94 2.06-2.06.94zm10 10l.94 2.06.94-2.06 2.06-.94-2.06-.94-.94-2.06-.94 2.06-2.06.94z\"/><path d=\"M17.41 7.96l-1.37-1.37c-.4-.4-.92-.59-1.43-.59-.52 0-1.04.2-1.43.59L10.3 9.45l-7.72 7.72c-.78.78-.78 2.05 0 2.83L4 21.41c.39.39.9.59 1.41.59.51 0 1.02-.2 1.41-.59l7.78-7.78 2.81-2.81c.8-.78.8-2.07 0-2.86zM5.41 20L4 18.59l7.72-7.72 1.47 1.35L5.41 20z\"/>\n",
              "  </svg>\n",
              "      </button>\n",
              "      \n",
              "  <style>\n",
              "    .colab-df-container {\n",
              "      display:flex;\n",
              "      flex-wrap:wrap;\n",
              "      gap: 12px;\n",
              "    }\n",
              "\n",
              "    .colab-df-convert {\n",
              "      background-color: #E8F0FE;\n",
              "      border: none;\n",
              "      border-radius: 50%;\n",
              "      cursor: pointer;\n",
              "      display: none;\n",
              "      fill: #1967D2;\n",
              "      height: 32px;\n",
              "      padding: 0 0 0 0;\n",
              "      width: 32px;\n",
              "    }\n",
              "\n",
              "    .colab-df-convert:hover {\n",
              "      background-color: #E2EBFA;\n",
              "      box-shadow: 0px 1px 2px rgba(60, 64, 67, 0.3), 0px 1px 3px 1px rgba(60, 64, 67, 0.15);\n",
              "      fill: #174EA6;\n",
              "    }\n",
              "\n",
              "    [theme=dark] .colab-df-convert {\n",
              "      background-color: #3B4455;\n",
              "      fill: #D2E3FC;\n",
              "    }\n",
              "\n",
              "    [theme=dark] .colab-df-convert:hover {\n",
              "      background-color: #434B5C;\n",
              "      box-shadow: 0px 1px 3px 1px rgba(0, 0, 0, 0.15);\n",
              "      filter: drop-shadow(0px 1px 2px rgba(0, 0, 0, 0.3));\n",
              "      fill: #FFFFFF;\n",
              "    }\n",
              "  </style>\n",
              "\n",
              "      <script>\n",
              "        const buttonEl =\n",
              "          document.querySelector('#df-b7b775b2-39d7-4702-b9fa-c3e6258960cf button.colab-df-convert');\n",
              "        buttonEl.style.display =\n",
              "          google.colab.kernel.accessAllowed ? 'block' : 'none';\n",
              "\n",
              "        async function convertToInteractive(key) {\n",
              "          const element = document.querySelector('#df-b7b775b2-39d7-4702-b9fa-c3e6258960cf');\n",
              "          const dataTable =\n",
              "            await google.colab.kernel.invokeFunction('convertToInteractive',\n",
              "                                                     [key], {});\n",
              "          if (!dataTable) return;\n",
              "\n",
              "          const docLinkHtml = 'Like what you see? Visit the ' +\n",
              "            '<a target=\"_blank\" href=https://colab.research.google.com/notebooks/data_table.ipynb>data table notebook</a>'\n",
              "            + ' to learn more about interactive tables.';\n",
              "          element.innerHTML = '';\n",
              "          dataTable['output_type'] = 'display_data';\n",
              "          await google.colab.output.renderOutput(dataTable, element);\n",
              "          const docLink = document.createElement('div');\n",
              "          docLink.innerHTML = docLinkHtml;\n",
              "          element.appendChild(docLink);\n",
              "        }\n",
              "      </script>\n",
              "    </div>\n",
              "  </div>\n",
              "  "
            ]
          },
          "metadata": {},
          "execution_count": 98
        }
      ],
      "source": [
        "reg_test['svd'] = model_evaluation_test['svd']['predictions']\n",
        "reg_test['svdpp'] = model_evaluation_test['svdpp_test']['predictions']\n",
        "\n",
        "reg_test.head(2) "
      ]
    },
    {
      "cell_type": "code",
      "execution_count": null,
      "metadata": {
        "id": "-bbyY2TdWuoj",
        "colab": {
          "base_uri": "https://localhost:8080/",
          "height": 514
        },
        "outputId": "2490b7d3-be0a-4df3-bb42-ce39999e7d2d"
      },
      "outputs": [
        {
          "output_type": "stream",
          "name": "stdout",
          "text": [
            "Training the model\n",
            "[10:44:19] WARNING: /workspace/src/objective/regression_obj.cu:152: reg:linear is now deprecated in favor of reg:squarederror.\n",
            "Done...\n",
            "Timetaken0:00:10.180223...\n",
            "Evaluating the model with TRAIN data...\n",
            "Evaluating the test data\n",
            "Time taken to the test dataset0:00:00.002791\n",
            "\n",
            "TEST DATA\n",
            "------------------------------\n",
            "RMSE :  0.9936473301015222\n",
            "MAPE :  36.49885301527224\n"
          ]
        },
        {
          "output_type": "display_data",
          "data": {
            "text/plain": [
              "<Figure size 432x288 with 1 Axes>"
            ],
            "image/png": "[encoded data removed]"
          },
          "metadata": {}
        }
      ],
      "source": [
        "# prepare x_train and y_train\n",
        "x_train = reg_train.drop(['user', 'movie', 'rating',], axis=1)\n",
        "y_train = reg_train['rating']\n",
        "\n",
        "# prepare test data\n",
        "x_test = reg_test.drop(['user', 'movie', 'rating'], axis=1)\n",
        "y_test = reg_test['rating']\n",
        "\n",
        "\n",
        "\n",
        "xgb_final = xgb.XGBRegressor(n_jobs=10, random_state=15)\n",
        "train_results, test_results = run_xgboost(xgb_final, x_train, y_train, x_test, y_test)\n",
        "\n",
        "# store the results in models_evaluations dictionaries\n",
        "model_evaluation_train['xgb_final'] = train_results\n",
        "model_evaluation_test['xgb_final'] = test_results\n",
        "\n",
        "\n",
        "xgb.plot_importance(xgb_final)\n",
        "plt.show()"
      ]
    },
    {
      "cell_type": "markdown",
      "metadata": {
        "id": "xlGM9mbVW_92"
      },
      "source": [
        "<h3> 4.4.8 XgBoost with Surprise Baseline + Surprise KNNbaseline + MF \n",
        "\n",
        "---\n",
        "\n",
        "Techniques(3+4+5+6) </h3>"
      ]
    },
    {
      "cell_type": "code",
      "execution_count": null,
      "metadata": {
        "id": "xTY_5EiKWxcs",
        "colab": {
          "base_uri": "https://localhost:8080/",
          "height": 514
        },
        "outputId": "7b593914-d0a5-4ee4-b56b-9c5b200120e7"
      },
      "outputs": [
        {
          "output_type": "stream",
          "name": "stdout",
          "text": [
            "Training the model\n",
            "[10:44:30] WARNING: /workspace/src/objective/regression_obj.cu:152: reg:linear is now deprecated in favor of reg:squarederror.\n",
            "Done...\n",
            "Timetaken0:00:06.031793...\n",
            "Evaluating the model with TRAIN data...\n",
            "Evaluating the test data\n",
            "Time taken to the test dataset0:00:00.001666\n",
            "\n",
            "TEST DATA\n",
            "------------------------------\n",
            "RMSE :  1.0095543490349246\n",
            "MAPE :  37.520803809165955\n"
          ]
        },
        {
          "output_type": "display_data",
          "data": {
            "text/plain": [
              "<Figure size 432x288 with 1 Axes>"
            ],
            "image/png": "[encoded data removed]"
          },
          "metadata": {}
        }
      ],
      "source": [
        "# prepare train data\n",
        "x_train = reg_train[['knn_bsl_u', 'knn_bsl_m', 'svd', 'svdpp']]\n",
        "y_train = reg_train['rating']\n",
        "\n",
        "# test data\n",
        "x_test = reg_test[['knn_bsl_u', 'knn_bsl_m', 'svd', 'svdpp']]\n",
        "y_test = reg_test['rating']\n",
        "\n",
        "\n",
        "xgb_all_models = xgb.XGBRegressor(n_jobs=10, random_state=15)\n",
        "train_results, test_results = run_xgboost(xgb_all_models, x_train, y_train, x_test, y_test)\n",
        "\n",
        "# store the results in models_evaluations dictionaries\n",
        "model_evaluation_train['xgb_all_models'] = train_results\n",
        "model_evaluation_test['xgb_all_models'] = test_results\n",
        "\n",
        "xgb.plot_importance(xgb_all_models)\n",
        "plt.show()"
      ]
    },
    {
      "cell_type": "code",
      "execution_count": null,
      "metadata": {
        "id": "Dx8tDDdWZQ1_",
        "colab": {
          "base_uri": "https://localhost:8080/"
        },
        "outputId": "cfa5a8d3-aef0-4268-d012-2889d00b6d19"
      },
      "outputs": [
        {
          "output_type": "execute_result",
          "data": {
            "text/plain": [
              "Index(['user', 'movie', 'GAvg', 'sur1', 'sur2', 'sur3', 'sur4', 'sur5', 'smr1',\n",
              "       'smr2', 'smr3', 'smr4', 'smr5', 'UAvg', 'MAvg', 'rating', 'bslpr',\n",
              "       'knn_bsl_u', 'knn_bsl_m', 'svd', 'svdpp'],\n",
              "      dtype='object')"
            ]
          },
          "metadata": {},
          "execution_count": 101
        }
      ],
      "source": [
        "reg_train.columns"
      ]
    },
    {
      "cell_type": "code",
      "execution_count": null,
      "metadata": {
        "id": "qrPtHnxCbqba",
        "colab": {
          "base_uri": "https://localhost:8080/"
        },
        "outputId": "f99be27c-d794-4f5b-8b80-28f7a90befdf"
      },
      "outputs": [
        {
          "output_type": "execute_result",
          "data": {
            "text/plain": [
              "{'rmse': 0.9941416273339712,\n",
              " 'mape': 36.53556629231102,\n",
              " 'predictions': array([3.503703, 3.503703, 3.503703, 3.503703, 3.503703, 3.503703,\n",
              "        3.503703, 3.503703, 3.503703, 3.503703, 3.503703, 3.503703,\n",
              "        3.503703, 3.503703, 3.503703, 3.503703, 3.503703, 3.503703,\n",
              "        3.503703, 3.503703, 3.503703, 3.503703, 3.503703, 3.503703,\n",
              "        3.503703, 3.503703, 3.503703, 3.503703, 3.503703, 3.503703,\n",
              "        3.503703, 3.503703, 3.503703, 3.503703, 3.503703, 3.503703,\n",
              "        3.503703, 3.503703, 3.503703, 3.503703, 3.503703, 3.503703,\n",
              "        3.503703, 3.503703, 3.503703, 3.503703, 3.503703, 3.503703,\n",
              "        3.503703, 3.503703, 3.503703, 3.503703, 3.503703, 3.503703,\n",
              "        3.503703, 3.503703, 3.503703, 3.503703, 3.503703, 3.503703,\n",
              "        3.503703, 3.503703, 3.503703, 3.503703, 3.503703, 3.503703,\n",
              "        3.503703, 3.503703, 3.503703, 3.503703, 3.503703, 3.503703,\n",
              "        3.503703, 3.503703, 3.503703, 3.503703], dtype=float32)}"
            ]
          },
          "metadata": {},
          "execution_count": 102
        }
      ],
      "source": [
        "model_evaluation_test['first_algo']"
      ]
    },
    {
      "cell_type": "code",
      "execution_count": null,
      "metadata": {
        "id": "jxxM3deDZzXW",
        "colab": {
          "base_uri": "https://localhost:8080/"
        },
        "outputId": "989932d5-e02e-48d5-dadc-5986318b2872"
      },
      "outputs": [
        {
          "output_type": "stream",
          "name": "stdout",
          "text": [
            "xgb_knn_bsl        0.992718665374202\n",
            "xgb_final         0.9936473301015222\n",
            "first_algo        0.9941416273339712\n",
            "xgb_all_models    1.0095543490349246\n",
            "bsl_algo          1.0127958755414286\n",
            "knn_bsl_u         1.0127958755414286\n",
            "knn_bsl_m         1.0127958755414286\n",
            "svdpp_test        1.0127958755414286\n",
            "svd               1.0127958755414286\n",
            "xgb_bsl           1.0441717946976472\n",
            "Name: rmse, dtype: object\n",
            "##################################################\n",
            "xgb_knn_bsl         36.4286701616488\n",
            "xgb_final          36.49885301527224\n",
            "first_algo         36.53556629231102\n",
            "xgb_all_models    37.520803809165955\n",
            "bsl_algo           37.70008017719995\n",
            "knn_bsl_u          37.70008017719995\n",
            "knn_bsl_m          37.70008017719995\n",
            "svdpp_test         37.70008017719995\n",
            "svd                37.70008017719995\n",
            "xgb_bsl            39.16842105263157\n",
            "Name: mape, dtype: object\n"
          ]
        }
      ],
      "source": [
        "##storing it into the dataframe\n",
        "pd.DataFrame(model_evaluation_test).to_csv('/content/drive/MyDrive/netflix files/final_results_test.csv')\n",
        "models=pd.read_csv('/content/drive/MyDrive/netflix files/final_results_test.csv',index_col=0)\n",
        "print(models.loc['rmse'].sort_values())\n",
        "print(\"#\"*50)\n",
        "print(models.loc['mape'].sort_values())"
      ]
    },
    {
      "cell_type": "markdown",
      "metadata": {
        "id": "rSzsE2wsdJf_"
      },
      "source": [
        "__FinalTakeaway:\n",
        "xgb_knn_with baseline_user_movie is the best model for the prediction__"
      ]
    },
    {
      "cell_type": "code",
      "source": [],
      "metadata": {
        "id": "BolQ7ENw30UD"
      },
      "execution_count": null,
      "outputs": []
    },
    {
      "cell_type": "code",
      "source": [],
      "metadata": {
        "id": "I9XpA_cf3z5B"
      },
      "execution_count": null,
      "outputs": []
    },
    {
      "cell_type": "markdown",
      "source": [
        "__DEPLOYMENT__:"
      ],
      "metadata": {
        "id": "hypzvA99398_"
      }
    },
    {
      "cell_type": "markdown",
      "source": [
        "creating the frontend of the model using streamlit and deploying the model."
      ],
      "metadata": {
        "id": "wq-8GG5w3019"
      }
    },
    {
      "cell_type": "code",
      "source": [
        "##first we need to get the input \n",
        "def recommend(movie):\n",
        "  movie_id=movie_titles[movie_titles.title==movie].index[0]\n",
        "  recommended_movie_ids=similar_movie[movie_id]\n",
        "  recommend_movies_dataframe=movie_titles.loc[recommended_movie_ids]\n",
        "  #print(recommend_movies)\n",
        "  for i in recommend_movies_dataframe.title:\n",
        "    print(i)\n"
      ],
      "metadata": {
        "id": "TC61Il8WBH8q"
      },
      "execution_count": null,
      "outputs": []
    },
    {
      "cell_type": "code",
      "source": [
        "#testing the function along with scratchcode on the right side of the m_m_sim[67]\n",
        "recommend('Vampire Journals')"
      ],
      "metadata": {
        "colab": {
          "base_uri": "https://localhost:8080/"
        },
        "id": "wCvRTKPyB0RR",
        "outputId": "97c05c21-76f9-4498-9861-ef71954f5207"
      },
      "execution_count": null,
      "outputs": [
        {
          "output_type": "stream",
          "name": "stdout",
          "text": [
            "Modern Vampires\n",
            "Subspecies 4: Bloodstorm\n",
            "To Sleep With a Vampire\n",
            "Dracula: The Dark Prince\n",
            "Dracula Rising\n",
            "Vampires: Los Muertos\n",
            "Vampirella\n",
            "Club Vampire\n",
            "The Breed\n",
            "Dracula II: Ascension\n",
            "Scars of Dracula\n",
            "Kindred: The Embraced: The Complete Vampire Collection\n",
            "Innocent Blood\n",
            "She Creature\n",
            "Blood Moon\n",
            "Earth vs. The Spider\n",
            "Captain Kronos: Vampire Hunter\n",
            "Reign in Darkness\n",
            "The Locals\n",
            "The Shiver of the Vampires\n",
            "Vampires\n",
            "The Forsaken\n",
            "The Creeps\n",
            "Dead and Rotting\n",
            "Carnosaur\n",
            "Wishmaster 4: The Prophecy Fulfilled\n",
            "Scarecrow\n",
            "Fright Night Part II\n",
            "Razor Blade Smile\n",
            "Count Yorga\n",
            "The Fear\n",
            "Bram Stoker's Shadowbuilder\n",
            "Warlock 3: The End of Innocence\n",
            "Dracula 2000\n",
            "Phantom of the Opera\n",
            "From Dusk Till Dawn 2: Texas Blood Money\n",
            "Wishmaster 3: Beyond The Gates of Hell\n",
            "Night Flier\n",
            "Children of the Night\n",
            "Corpses\n",
            "Dagon\n",
            "Howling 3: The Marsupials\n",
            "Surgeon\n",
            "Bad Moon\n",
            "The Eighteenth Angel\n",
            "Warlock\n",
            "Frost: Portrait of a Vampire\n",
            "Blood Ties\n",
            "From Dusk Till Dawn 3: The Hangman's Daughter\n",
            "Phantasm IV: Oblivion\n",
            "Fangs\n",
            "Sometimes They Come Back For More\n",
            "Embrace the Darkness\n",
            "Circuitry Man / Circuitry Man 2: Plughead Rewired\n",
            "Nightbreed\n",
            "Vamp\n",
            "Desecration\n",
            "Dracula's Curse\n",
            "Wishcraft\n",
            "Wishmaster / Wishmaster 2: Evil Never Dies\n",
            "Lord of Illusions\n",
            "The Dead Hate the Living\n",
            "Warlock: The Armageddon\n",
            "School's Out\n",
            "Angel of the Night\n",
            "Werewolf\n",
            "Carnivore\n",
            "In Search of Dracula\n",
            "Transylvania Twist\n",
            "The Minion\n",
            "The Off Season\n",
            "Ginger Snaps Back: The Beginning\n",
            "Curse of the Puppet Master\n",
            "Spiders\n",
            "The Mangler 2\n",
            "Not of This Earth\n",
            "Return of the Vampire\n",
            "Faust: Love of the Damned\n",
            "Kiss of the Vampire\n",
            "Hellraiser: Hellworld\n",
            "Monster-in-Law: Bonus Material\n",
            "The Dead Next Door\n",
            "Beyond Re-Animator\n",
            "Fear Faith Revenge 303\n",
            "Cut\n",
            "Ripper: Letter from Hell\n",
            "Rumpelstiltskin\n",
            "Monster in the Closet\n",
            "Soulkeeper\n",
            "Bram Stoker's The Mummy\n",
            "Wes Craven's Chiller\n",
            "Devil's Nightmare\n",
            "Witchboard: The Possession\n",
            "Shark Attack 2\n",
            "Demon Slayer\n",
            "IFC TV Uncut: New Season Sneak Preview\n",
            "Waxwork / Waxwork II: Double Feature\n",
            "Dead Creatures\n",
            "Near Dark\n",
            "The Haunting of Morella\n"
          ]
        }
      ]
    },
    {
      "cell_type": "code",
      "execution_count": null,
      "metadata": {
        "id": "bnERRQoFm2Tb"
      },
      "outputs": [],
      "source": [
        "import pickle"
      ]
    },
    {
      "cell_type": "code",
      "execution_count": null,
      "metadata": {
        "id": "al3Psypem4mZ"
      },
      "outputs": [],
      "source": [
        "pickle.dump(movie_titles,open('movies.pkl','wb'))"
      ]
    },
    {
      "cell_type": "code",
      "source": [
        "pickle.dump(movie_titles.to_dict(),open('movies_dict.pkl','wb'))"
      ],
      "metadata": {
        "id": "6H9BmRk0myvK"
      },
      "execution_count": null,
      "outputs": []
    },
    {
      "cell_type": "code",
      "source": [
        "df=pd.DataFrame(movie_titles.to_dict())"
      ],
      "metadata": {
        "id": "neTjpR3VoSCS"
      },
      "execution_count": null,
      "outputs": []
    },
    {
      "cell_type": "code",
      "source": [
        "movie_titles.to_dict()"
      ],
      "metadata": {
        "colab": {
          "base_uri": "https://localhost:8080/"
        },
        "id": "3pxTs38Rm8yF",
        "outputId": "117f620c-1ee8-4707-e60e-345ce6fe01d9"
      },
      "execution_count": null,
      "outputs": [
        {
          "output_type": "execute_result",
          "data": {
            "text/plain": [
              "{'year_of_release': {1: 2003.0,\n",
              "  2: 2004.0,\n",
              "  3: 1997.0,\n",
              "  4: 1994.0,\n",
              "  5: 2004.0,\n",
              "  6: 1997.0,\n",
              "  7: 1992.0,\n",
              "  8: 2004.0,\n",
              "  9: 1991.0,\n",
              "  10: 2001.0,\n",
              "  11: 1999.0,\n",
              "  12: 1947.0,\n",
              "  13: 2003.0,\n",
              "  14: 1982.0,\n",
              "  15: 1988.0,\n",
              "  16: 1996.0,\n",
              "  17: 2005.0,\n",
              "  18: 1994.0,\n",
              "  19: 2000.0,\n",
              "  20: 1972.0,\n",
              "  21: 2002.0,\n",
              "  22: 2000.0,\n",
              "  23: 2001.0,\n",
              "  24: 1981.0,\n",
              "  25: 1997.0,\n",
              "  26: 2004.0,\n",
              "  27: 1962.0,\n",
              "  28: 2002.0,\n",
              "  29: 2001.0,\n",
              "  30: 2003.0,\n",
              "  31: 1999.0,\n",
              "  32: 2004.0,\n",
              "  33: 2000.0,\n",
              "  34: 2003.0,\n",
              "  35: 2000.0,\n",
              "  36: 1992.0,\n",
              "  37: 1973.0,\n",
              "  38: 2003.0,\n",
              "  39: 2000.0,\n",
              "  40: 2004.0,\n",
              "  41: 2000.0,\n",
              "  42: 2002.0,\n",
              "  43: 2000.0,\n",
              "  44: 1996.0,\n",
              "  45: 1999.0,\n",
              "  46: 1964.0,\n",
              "  47: 1952.0,\n",
              "  48: 2001.0,\n",
              "  49: 2003.0,\n",
              "  50: 1941.0,\n",
              "  51: 2002.0,\n",
              "  52: 2002.0,\n",
              "  53: 2003.0,\n",
              "  54: 1952.0,\n",
              "  55: 1995.0,\n",
              "  56: 2004.0,\n",
              "  57: 1995.0,\n",
              "  58: 1996.0,\n",
              "  59: 2003.0,\n",
              "  60: 1969.0,\n",
              "  61: 1999.0,\n",
              "  62: 1991.0,\n",
              "  63: 1943.0,\n",
              "  64: 2001.0,\n",
              "  65: 2000.0,\n",
              "  66: 1989.0,\n",
              "  67: 1997.0,\n",
              "  68: 2004.0,\n",
              "  69: 2003.0,\n",
              "  70: 1999.0,\n",
              "  71: 1995.0,\n",
              "  72: 1974.0,\n",
              "  73: 1954.0,\n",
              "  74: 1999.0,\n",
              "  75: 1997.0,\n",
              "  76: 1952.0,\n",
              "  77: 1995.0,\n",
              "  78: 1996.0,\n",
              "  79: 1956.0,\n",
              "  80: 1979.0,\n",
              "  81: 1991.0,\n",
              "  82: 1951.0,\n",
              "  83: 1983.0,\n",
              "  84: 2002.0,\n",
              "  85: 2005.0,\n",
              "  86: 1996.0,\n",
              "  87: 2002.0,\n",
              "  88: 1998.0,\n",
              "  89: 2000.0,\n",
              "  90: 1951.0,\n",
              "  91: 2005.0,\n",
              "  92: 2002.0,\n",
              "  93: 2004.0,\n",
              "  94: 2000.0,\n",
              "  95: 1985.0,\n",
              "  96: 2000.0,\n",
              "  97: 2002.0,\n",
              "  98: 1965.0,\n",
              "  99: 1989.0,\n",
              "  100: 1993.0,\n",
              "  101: 1997.0,\n",
              "  102: 2004.0,\n",
              "  103: 1976.0,\n",
              "  104: 1965.0,\n",
              "  105: 2002.0,\n",
              "  106: 2004.0,\n",
              "  107: 2000.0,\n",
              "  108: 2004.0,\n",
              "  109: 1996.0,\n",
              "  110: 1989.0,\n",
              "  111: 2003.0,\n",
              "  112: 1993.0,\n",
              "  113: 2000.0,\n",
              "  114: 1989.0,\n",
              "  115: 1973.0,\n",
              "  116: 2004.0,\n",
              "  117: 1957.0,\n",
              "  118: 1985.0,\n",
              "  119: 1999.0,\n",
              "  120: 2004.0,\n",
              "  121: 2003.0,\n",
              "  122: 2002.0,\n",
              "  123: 2000.0,\n",
              "  124: 2000.0,\n",
              "  125: 1981.0,\n",
              "  126: 2003.0,\n",
              "  127: 1987.0,\n",
              "  128: 1985.0,\n",
              "  129: 2003.0,\n",
              "  130: 1999.0,\n",
              "  131: 2002.0,\n",
              "  132: 1981.0,\n",
              "  133: 2003.0,\n",
              "  134: 1996.0,\n",
              "  135: 1998.0,\n",
              "  136: 1927.0,\n",
              "  137: 1998.0,\n",
              "  138: 1995.0,\n",
              "  139: 2001.0,\n",
              "  140: 1993.0,\n",
              "  141: 2004.0,\n",
              "  142: 2000.0,\n",
              "  143: 1997.0,\n",
              "  144: 2000.0,\n",
              "  145: 1978.0,\n",
              "  146: 1988.0,\n",
              "  147: 1992.0,\n",
              "  148: 2001.0,\n",
              "  149: 2005.0,\n",
              "  150: 2001.0,\n",
              "  151: 2005.0,\n",
              "  152: 1995.0,\n",
              "  153: 2002.0,\n",
              "  154: 2000.0,\n",
              "  155: 1975.0,\n",
              "  156: 1992.0,\n",
              "  157: 2004.0,\n",
              "  158: 2004.0,\n",
              "  159: 1971.0,\n",
              "  160: 2000.0,\n",
              "  161: 1939.0,\n",
              "  162: 1968.0,\n",
              "  163: 2002.0,\n",
              "  164: 2003.0,\n",
              "  165: 1982.0,\n",
              "  166: 1980.0,\n",
              "  167: 2004.0,\n",
              "  168: 1983.0,\n",
              "  169: 2004.0,\n",
              "  170: 1972.0,\n",
              "  171: 1957.0,\n",
              "  172: 2003.0,\n",
              "  173: 1968.0,\n",
              "  174: 1968.0,\n",
              "  175: 1992.0,\n",
              "  176: 2004.0,\n",
              "  177: 2002.0,\n",
              "  178: 1996.0,\n",
              "  179: 2003.0,\n",
              "  180: 2002.0,\n",
              "  181: 2004.0,\n",
              "  182: 2001.0,\n",
              "  183: 2005.0,\n",
              "  184: 2004.0,\n",
              "  185: 1985.0,\n",
              "  186: 1950.0,\n",
              "  187: 2002.0,\n",
              "  188: 2005.0,\n",
              "  189: 1982.0,\n",
              "  190: 1989.0,\n",
              "  191: 2003.0,\n",
              "  192: 2003.0,\n",
              "  193: 2005.0,\n",
              "  194: 1996.0,\n",
              "  195: 2004.0,\n",
              "  196: 1992.0,\n",
              "  197: 2004.0,\n",
              "  198: 1997.0,\n",
              "  199: 1978.0,\n",
              "  200: 1964.0,\n",
              "  201: 2001.0,\n",
              "  202: 2001.0,\n",
              "  203: 1997.0,\n",
              "  204: 2002.0,\n",
              "  205: 2004.0,\n",
              "  206: 2004.0,\n",
              "  207: 2001.0,\n",
              "  208: 1947.0,\n",
              "  209: 1996.0,\n",
              "  210: 2001.0,\n",
              "  211: 2004.0,\n",
              "  212: 1982.0,\n",
              "  213: 2001.0,\n",
              "  214: 2002.0,\n",
              "  215: 1998.0,\n",
              "  216: 2000.0,\n",
              "  217: 1988.0,\n",
              "  218: 1983.0,\n",
              "  219: 1995.0,\n",
              "  220: 1983.0,\n",
              "  221: 2005.0,\n",
              "  222: 1998.0,\n",
              "  223: 2003.0,\n",
              "  224: 1999.0,\n",
              "  225: 2004.0,\n",
              "  226: 1996.0,\n",
              "  227: 2001.0,\n",
              "  228: 1979.0,\n",
              "  229: 2003.0,\n",
              "  230: 1987.0,\n",
              "  231: 2002.0,\n",
              "  232: 1989.0,\n",
              "  233: 1971.0,\n",
              "  234: 1921.0,\n",
              "  235: 1996.0,\n",
              "  236: 1998.0,\n",
              "  237: 1918.0,\n",
              "  238: 1976.0,\n",
              "  239: 2004.0,\n",
              "  240: 1942.0,\n",
              "  241: 1959.0,\n",
              "  242: 1995.0,\n",
              "  243: 1962.0,\n",
              "  244: 2004.0,\n",
              "  245: 2002.0,\n",
              "  246: 1968.0,\n",
              "  247: 1994.0,\n",
              "  248: 2001.0,\n",
              "  249: 1958.0,\n",
              "  250: 1966.0,\n",
              "  251: 2000.0,\n",
              "  252: 2002.0,\n",
              "  253: 1935.0,\n",
              "  254: 2003.0,\n",
              "  255: 2001.0,\n",
              "  256: 2000.0,\n",
              "  257: 1973.0,\n",
              "  258: 1999.0,\n",
              "  259: 2004.0,\n",
              "  260: 1967.0,\n",
              "  261: 1948.0,\n",
              "  262: 1974.0,\n",
              "  263: 2001.0,\n",
              "  264: 2002.0,\n",
              "  265: 2002.0,\n",
              "  266: 2000.0,\n",
              "  267: 1994.0,\n",
              "  268: 1980.0,\n",
              "  269: 1989.0,\n",
              "  270: 2001.0,\n",
              "  271: 1943.0,\n",
              "  272: 1973.0,\n",
              "  273: 2004.0,\n",
              "  274: 2002.0,\n",
              "  275: 2002.0,\n",
              "  276: 1998.0,\n",
              "  277: 2003.0,\n",
              "  278: 1990.0,\n",
              "  279: 1984.0,\n",
              "  280: 1998.0,\n",
              "  281: 1993.0,\n",
              "  282: 2003.0,\n",
              "  283: 1996.0,\n",
              "  284: 2005.0,\n",
              "  285: 1997.0,\n",
              "  286: 1966.0,\n",
              "  287: 1994.0,\n",
              "  288: 2004.0,\n",
              "  289: 1998.0,\n",
              "  290: 2004.0,\n",
              "  291: 2000.0,\n",
              "  292: 2005.0,\n",
              "  293: 2003.0,\n",
              "  294: 2002.0,\n",
              "  295: 1995.0,\n",
              "  296: 2000.0,\n",
              "  297: 2003.0,\n",
              "  298: 2002.0,\n",
              "  299: 2001.0,\n",
              "  300: 1997.0,\n",
              "  301: 2003.0,\n",
              "  302: 2001.0,\n",
              "  303: 1959.0,\n",
              "  304: 1997.0,\n",
              "  305: 1996.0,\n",
              "  306: 2005.0,\n",
              "  307: 2002.0,\n",
              "  308: 1974.0,\n",
              "  309: 1975.0,\n",
              "  310: 2000.0,\n",
              "  311: 1994.0,\n",
              "  312: 2000.0,\n",
              "  313: 2000.0,\n",
              "  314: 1985.0,\n",
              "  315: 1964.0,\n",
              "  316: 1999.0,\n",
              "  317: 1997.0,\n",
              "  318: 1994.0,\n",
              "  319: 1987.0,\n",
              "  320: 1997.0,\n",
              "  321: 2004.0,\n",
              "  322: 1974.0,\n",
              "  323: 1999.0,\n",
              "  324: 1994.0,\n",
              "  325: 2004.0,\n",
              "  326: 1937.0,\n",
              "  327: 1997.0,\n",
              "  328: 2002.0,\n",
              "  329: 1999.0,\n",
              "  330: 1998.0,\n",
              "  331: 1997.0,\n",
              "  332: 2002.0,\n",
              "  333: 2003.0,\n",
              "  334: 2005.0,\n",
              "  335: 1981.0,\n",
              "  336: 1978.0,\n",
              "  337: 1983.0,\n",
              "  338: 1942.0,\n",
              "  339: 1968.0,\n",
              "  340: 1998.0,\n",
              "  341: 2004.0,\n",
              "  342: 2001.0,\n",
              "  343: 2000.0,\n",
              "  344: 1967.0,\n",
              "  345: 1998.0,\n",
              "  346: 2005.0,\n",
              "  347: 1989.0,\n",
              "  348: 1988.0,\n",
              "  349: 1978.0,\n",
              "  350: 1993.0,\n",
              "  351: 1969.0,\n",
              "  352: 1997.0,\n",
              "  353: 2002.0,\n",
              "  354: 1981.0,\n",
              "  355: 1973.0,\n",
              "  356: 2005.0,\n",
              "  357: 2003.0,\n",
              "  358: 1979.0,\n",
              "  359: 2003.0,\n",
              "  360: 1999.0,\n",
              "  361: 2004.0,\n",
              "  362: 2000.0,\n",
              "  363: 2002.0,\n",
              "  364: 2004.0,\n",
              "  365: 1989.0,\n",
              "  366: 2004.0,\n",
              "  367: 2003.0,\n",
              "  368: 1986.0,\n",
              "  369: 2000.0,\n",
              "  370: 1918.0,\n",
              "  371: 1966.0,\n",
              "  372: 1998.0,\n",
              "  373: 2000.0,\n",
              "  374: 1976.0,\n",
              "  375: 2003.0,\n",
              "  376: 2001.0,\n",
              "  377: 1979.0,\n",
              "  378: 2003.0,\n",
              "  379: 1996.0,\n",
              "  380: 1992.0,\n",
              "  381: 1991.0,\n",
              "  382: 2004.0,\n",
              "  383: 2001.0,\n",
              "  384: 1986.0,\n",
              "  385: 2002.0,\n",
              "  386: 1994.0,\n",
              "  387: 1984.0,\n",
              "  388: 1990.0,\n",
              "  389: 2002.0,\n",
              "  390: 1981.0,\n",
              "  391: 1967.0,\n",
              "  392: 1993.0,\n",
              "  393: 1998.0,\n",
              "  394: 1916.0,\n",
              "  395: 1935.0,\n",
              "  396: 2001.0,\n",
              "  397: 1946.0,\n",
              "  398: 1976.0,\n",
              "  399: 2001.0,\n",
              "  400: 1970.0,\n",
              "  401: 1989.0,\n",
              "  402: 1999.0,\n",
              "  403: 2000.0,\n",
              "  404: 2001.0,\n",
              "  405: 1987.0,\n",
              "  406: 2005.0,\n",
              "  407: 1972.0,\n",
              "  408: 1990.0,\n",
              "  409: 1966.0,\n",
              "  410: 1998.0,\n",
              "  411: 1999.0,\n",
              "  412: 1999.0,\n",
              "  413: 2002.0,\n",
              "  414: 1999.0,\n",
              "  415: 2002.0,\n",
              "  416: 2003.0,\n",
              "  417: 1986.0,\n",
              "  418: 2004.0,\n",
              "  419: 2005.0,\n",
              "  420: 1999.0,\n",
              "  421: 2003.0,\n",
              "  422: 1964.0,\n",
              "  423: 1963.0,\n",
              "  424: 1998.0,\n",
              "  425: 2000.0,\n",
              "  426: 2001.0,\n",
              "  427: 1990.0,\n",
              "  428: 2004.0,\n",
              "  429: 1997.0,\n",
              "  430: 2002.0,\n",
              "  431: 2002.0,\n",
              "  432: 1996.0,\n",
              "  433: 1993.0,\n",
              "  434: 2004.0,\n",
              "  435: 1996.0,\n",
              "  436: 1985.0,\n",
              "  437: 2005.0,\n",
              "  438: 1997.0,\n",
              "  439: 1961.0,\n",
              "  440: 2003.0,\n",
              "  441: 1968.0,\n",
              "  442: 1988.0,\n",
              "  443: 2002.0,\n",
              "  444: 2001.0,\n",
              "  445: 1996.0,\n",
              "  446: 1995.0,\n",
              "  447: 1986.0,\n",
              "  448: 2001.0,\n",
              "  449: 2003.0,\n",
              "  450: 2000.0,\n",
              "  451: 1993.0,\n",
              "  452: 2002.0,\n",
              "  453: 1992.0,\n",
              "  454: 1995.0,\n",
              "  455: 1999.0,\n",
              "  456: 1996.0,\n",
              "  457: 2004.0,\n",
              "  458: 2001.0,\n",
              "  459: 1996.0,\n",
              "  460: 1971.0,\n",
              "  461: 2000.0,\n",
              "  462: 2005.0,\n",
              "  463: 1962.0,\n",
              "  464: 1987.0,\n",
              "  465: 1995.0,\n",
              "  466: 1990.0,\n",
              "  467: 1941.0,\n",
              "  468: 2003.0,\n",
              "  469: 1998.0,\n",
              "  470: 2001.0,\n",
              "  471: 1931.0,\n",
              "  472: 1998.0,\n",
              "  473: 1997.0,\n",
              "  474: 1998.0,\n",
              "  475: 1993.0,\n",
              "  476: 2004.0,\n",
              "  477: 1990.0,\n",
              "  478: 1962.0,\n",
              "  479: 1988.0,\n",
              "  480: 1997.0,\n",
              "  481: 2002.0,\n",
              "  482: 2002.0,\n",
              "  483: 2001.0,\n",
              "  484: 1992.0,\n",
              "  485: 1967.0,\n",
              "  486: 1959.0,\n",
              "  487: 1968.0,\n",
              "  488: 2001.0,\n",
              "  489: 1998.0,\n",
              "  490: 1999.0,\n",
              "  491: 1966.0,\n",
              "  492: 1984.0,\n",
              "  493: 1972.0,\n",
              "  494: 1983.0,\n",
              "  495: 2000.0,\n",
              "  496: 2004.0,\n",
              "  497: 2003.0,\n",
              "  498: 1989.0,\n",
              "  499: 2000.0,\n",
              "  500: 2002.0,\n",
              "  501: 1975.0,\n",
              "  502: 2003.0,\n",
              "  503: 2005.0,\n",
              "  504: 1964.0,\n",
              "  505: 1997.0,\n",
              "  506: 1976.0,\n",
              "  507: 1966.0,\n",
              "  508: 1979.0,\n",
              "  509: 2004.0,\n",
              "  510: 2004.0,\n",
              "  511: 2002.0,\n",
              "  512: 2000.0,\n",
              "  513: 1995.0,\n",
              "  514: 2000.0,\n",
              "  515: 2005.0,\n",
              "  516: 2001.0,\n",
              "  517: 2001.0,\n",
              "  518: 1969.0,\n",
              "  519: 1979.0,\n",
              "  520: 2004.0,\n",
              "  521: 1927.0,\n",
              "  522: 1999.0,\n",
              "  523: 1969.0,\n",
              "  524: 1999.0,\n",
              "  525: 1999.0,\n",
              "  526: 1994.0,\n",
              "  527: 1985.0,\n",
              "  528: 2005.0,\n",
              "  529: 1998.0,\n",
              "  530: 1987.0,\n",
              "  531: 1996.0,\n",
              "  532: 1988.0,\n",
              "  533: 1991.0,\n",
              "  534: 2000.0,\n",
              "  535: 1960.0,\n",
              "  536: 2001.0,\n",
              "  537: 1991.0,\n",
              "  538: 2003.0,\n",
              "  539: 1987.0,\n",
              "  540: 2003.0,\n",
              "  541: 1998.0,\n",
              "  542: 1997.0,\n",
              "  543: 1999.0,\n",
              "  544: 1987.0,\n",
              "  545: 2002.0,\n",
              "  546: 2005.0,\n",
              "  547: 1992.0,\n",
              "  548: 1991.0,\n",
              "  549: 1955.0,\n",
              "  550: 1995.0,\n",
              "  551: 1994.0,\n",
              "  552: 1994.0,\n",
              "  553: 1995.0,\n",
              "  554: 1972.0,\n",
              "  555: 1996.0,\n",
              "  556: 1999.0,\n",
              "  557: 1991.0,\n",
              "  558: 1994.0,\n",
              "  559: 1940.0,\n",
              "  560: 2003.0,\n",
              "  561: 1963.0,\n",
              "  562: 2002.0,\n",
              "  563: 2001.0,\n",
              "  564: 1990.0,\n",
              "  565: 2002.0,\n",
              "  566: 1996.0,\n",
              "  567: 2003.0,\n",
              "  568: 1999.0,\n",
              "  569: 1979.0,\n",
              "  570: 2000.0,\n",
              "  571: 1999.0,\n",
              "  572: 1962.0,\n",
              "  573: 1983.0,\n",
              "  574: 1960.0,\n",
              "  575: 1994.0,\n",
              "  576: 2000.0,\n",
              "  577: 1961.0,\n",
              "  578: 1963.0,\n",
              "  579: 1973.0,\n",
              "  580: 1971.0,\n",
              "  581: 1993.0,\n",
              "  582: 1986.0,\n",
              "  583: 1959.0,\n",
              "  584: 1998.0,\n",
              "  585: 1995.0,\n",
              "  586: 1995.0,\n",
              "  587: 1983.0,\n",
              "  588: 1990.0,\n",
              "  589: 2000.0,\n",
              "  590: 2001.0,\n",
              "  591: 2003.0,\n",
              "  592: 1974.0,\n",
              "  593: 2000.0,\n",
              "  594: 2002.0,\n",
              "  595: 2001.0,\n",
              "  596: 1999.0,\n",
              "  597: 1977.0,\n",
              "  598: 1973.0,\n",
              "  599: 1989.0,\n",
              "  600: 1966.0,\n",
              "  601: 1992.0,\n",
              "  602: 2000.0,\n",
              "  603: 1997.0,\n",
              "  604: 2005.0,\n",
              "  605: 2000.0,\n",
              "  606: 1968.0,\n",
              "  607: 1994.0,\n",
              "  608: 1970.0,\n",
              "  609: 2002.0,\n",
              "  610: 1999.0,\n",
              "  611: 2004.0,\n",
              "  612: 1946.0,\n",
              "  613: 1965.0,\n",
              "  614: 1993.0,\n",
              "  615: 1999.0,\n",
              "  616: 1983.0,\n",
              "  617: 2004.0,\n",
              "  618: 1994.0,\n",
              "  619: 1980.0,\n",
              "  620: 2003.0,\n",
              "  621: 1997.0,\n",
              "  622: 1991.0,\n",
              "  623: 1986.0,\n",
              "  624: 2004.0,\n",
              "  625: 1999.0,\n",
              "  626: 1941.0,\n",
              "  627: 1971.0,\n",
              "  628: 2003.0,\n",
              "  629: 1984.0,\n",
              "  630: 1977.0,\n",
              "  631: 2005.0,\n",
              "  632: 1972.0,\n",
              "  633: 1993.0,\n",
              "  634: 1989.0,\n",
              "  635: 1971.0,\n",
              "  636: 1980.0,\n",
              "  637: 2001.0,\n",
              "  638: 1985.0,\n",
              "  639: 2002.0,\n",
              "  640: 1992.0,\n",
              "  641: 1968.0,\n",
              "  642: 1990.0,\n",
              "  643: 2002.0,\n",
              "  644: 1994.0,\n",
              "  645: 2004.0,\n",
              "  646: 1987.0,\n",
              "  647: 1960.0,\n",
              "  648: 2003.0,\n",
              "  649: 1999.0,\n",
              "  650: 2002.0,\n",
              "  651: 1997.0,\n",
              "  652: 1996.0,\n",
              "  653: 2000.0,\n",
              "  654: 1975.0,\n",
              "  655: 1965.0,\n",
              "  656: 2004.0,\n",
              "  657: 1996.0,\n",
              "  658: 1991.0,\n",
              "  659: 1972.0,\n",
              "  660: 2000.0,\n",
              "  661: 2002.0,\n",
              "  662: 1995.0,\n",
              "  663: 1999.0,\n",
              "  664: 1997.0,\n",
              "  665: 1976.0,\n",
              "  666: 2000.0,\n",
              "  667: 1965.0,\n",
              "  668: 2004.0,\n",
              "  669: 1986.0,\n",
              "  670: 2002.0,\n",
              "  671: 1989.0,\n",
              "  672: 1991.0,\n",
              "  673: 1999.0,\n",
              "  674: 1988.0,\n",
              "  675: 2004.0,\n",
              "  676: 1998.0,\n",
              "  677: 2001.0,\n",
              "  678: 1965.0,\n",
              "  679: 1990.0,\n",
              "  680: 2000.0,\n",
              "  681: 1986.0,\n",
              "  682: 1998.0,\n",
              "  683: 1951.0,\n",
              "  684: 1995.0,\n",
              "  685: 1999.0,\n",
              "  686: 2000.0,\n",
              "  687: 2003.0,\n",
              "  688: 2003.0,\n",
              "  689: 1998.0,\n",
              "  690: 2004.0,\n",
              "  691: 1999.0,\n",
              "  692: 1992.0,\n",
              "  693: 1996.0,\n",
              "  694: 2000.0,\n",
              "  695: 2004.0,\n",
              "  696: 1996.0,\n",
              "  697: 2000.0,\n",
              "  698: 1997.0,\n",
              "  699: 2004.0,\n",
              "  700: 1997.0,\n",
              "  701: 2002.0,\n",
              "  702: 1996.0,\n",
              "  703: 2004.0,\n",
              "  704: 1998.0,\n",
              "  705: 1989.0,\n",
              "  706: 1991.0,\n",
              "  707: 2003.0,\n",
              "  708: 2000.0,\n",
              "  709: 1998.0,\n",
              "  710: 1993.0,\n",
              "  711: 1994.0,\n",
              "  712: 1998.0,\n",
              "  713: 1987.0,\n",
              "  714: 1988.0,\n",
              "  715: 1950.0,\n",
              "  716: 1958.0,\n",
              "  717: 2004.0,\n",
              "  718: 2003.0,\n",
              "  719: 1997.0,\n",
              "  720: 1989.0,\n",
              "  721: 1994.0,\n",
              "  722: 2003.0,\n",
              "  723: 1991.0,\n",
              "  724: 1992.0,\n",
              "  725: 2004.0,\n",
              "  726: 1990.0,\n",
              "  727: 1959.0,\n",
              "  728: 1977.0,\n",
              "  729: 2000.0,\n",
              "  730: 1988.0,\n",
              "  731: 1997.0,\n",
              "  732: 2005.0,\n",
              "  733: 1988.0,\n",
              "  734: 1992.0,\n",
              "  735: 2003.0,\n",
              "  736: 2002.0,\n",
              "  737: 2004.0,\n",
              "  738: 1999.0,\n",
              "  739: 2001.0,\n",
              "  740: 1988.0,\n",
              "  741: 1988.0,\n",
              "  742: 2002.0,\n",
              "  743: 1994.0,\n",
              "  744: 1998.0,\n",
              "  745: 1979.0,\n",
              "  746: 2001.0,\n",
              "  747: 1996.0,\n",
              "  748: 2002.0,\n",
              "  749: 1990.0,\n",
              "  750: 2004.0,\n",
              "  751: 1998.0,\n",
              "  752: 1993.0,\n",
              "  753: 1964.0,\n",
              "  754: 1984.0,\n",
              "  755: 1989.0,\n",
              "  756: 2000.0,\n",
              "  757: 1984.0,\n",
              "  758: 2004.0,\n",
              "  759: 2001.0,\n",
              "  760: 2005.0,\n",
              "  761: 2000.0,\n",
              "  762: 2004.0,\n",
              "  763: 1972.0,\n",
              "  764: 1983.0,\n",
              "  765: 1994.0,\n",
              "  766: 1959.0,\n",
              "  767: 2001.0,\n",
              "  768: 1995.0,\n",
              "  769: 1958.0,\n",
              "  770: 1996.0,\n",
              "  771: 1999.0,\n",
              "  772: 1998.0,\n",
              "  773: 2001.0,\n",
              "  774: 2003.0,\n",
              "  775: 1999.0,\n",
              "  776: 1953.0,\n",
              "  777: 1944.0,\n",
              "  778: 2003.0,\n",
              "  779: 2000.0,\n",
              "  780: 2003.0,\n",
              "  781: 2004.0,\n",
              "  782: 1998.0,\n",
              "  783: 2001.0,\n",
              "  784: 1995.0,\n",
              "  785: 1981.0,\n",
              "  786: 1966.0,\n",
              "  787: 1972.0,\n",
              "  788: 1994.0,\n",
              "  789: 1991.0,\n",
              "  790: 2000.0,\n",
              "  791: 2000.0,\n",
              "  792: 2004.0,\n",
              "  793: 2004.0,\n",
              "  794: 1992.0,\n",
              "  795: 1997.0,\n",
              "  796: 1976.0,\n",
              "  797: 1959.0,\n",
              "  798: 1975.0,\n",
              "  799: 2003.0,\n",
              "  800: 1971.0,\n",
              "  801: 2001.0,\n",
              "  802: 1928.0,\n",
              "  803: 2001.0,\n",
              "  804: 1944.0,\n",
              "  805: 1968.0,\n",
              "  806: 1960.0,\n",
              "  807: 1959.0,\n",
              "  808: 1998.0,\n",
              "  809: 2002.0,\n",
              "  810: 1958.0,\n",
              "  811: 1992.0,\n",
              "  812: 2001.0,\n",
              "  813: 2000.0,\n",
              "  814: 2000.0,\n",
              "  815: 1959.0,\n",
              "  816: 2001.0,\n",
              "  817: 1980.0,\n",
              "  818: 1976.0,\n",
              "  819: 1998.0,\n",
              "  820: 2005.0,\n",
              "  821: 1972.0,\n",
              "  822: 2001.0,\n",
              "  823: 1988.0,\n",
              "  824: 1977.0,\n",
              "  825: 1983.0,\n",
              "  826: 1998.0,\n",
              "  827: 1994.0,\n",
              "  828: 1991.0,\n",
              "  829: 1995.0,\n",
              "  830: 1994.0,\n",
              "  831: 1987.0,\n",
              "  832: 2003.0,\n",
              "  833: 1996.0,\n",
              "  834: 1999.0,\n",
              "  835: 1994.0,\n",
              "  836: 1991.0,\n",
              "  837: 1972.0,\n",
              "  838: 2003.0,\n",
              "  839: 1945.0,\n",
              "  840: 1941.0,\n",
              "  841: 1994.0,\n",
              "  842: 1942.0,\n",
              "  843: 1999.0,\n",
              "  844: 2001.0,\n",
              "  845: 2004.0,\n",
              "  846: 2004.0,\n",
              "  847: 2001.0,\n",
              "  848: 1994.0,\n",
              "  849: 1990.0,\n",
              "  850: 2002.0,\n",
              "  851: 1990.0,\n",
              "  852: 1989.0,\n",
              "  853: 1993.0,\n",
              "  854: 1984.0,\n",
              "  855: 2001.0,\n",
              "  856: 2000.0,\n",
              "  857: 1963.0,\n",
              "  858: 2002.0,\n",
              "  859: 1982.0,\n",
              "  860: 2001.0,\n",
              "  861: 2003.0,\n",
              "  862: 2002.0,\n",
              "  863: 1990.0,\n",
              "  864: 2001.0,\n",
              "  865: 2005.0,\n",
              "  866: 1975.0,\n",
              "  867: 2003.0,\n",
              "  868: 1996.0,\n",
              "  869: 1998.0,\n",
              "  870: 2005.0,\n",
              "  871: 1984.0,\n",
              "  872: 1954.0,\n",
              "  873: 2003.0,\n",
              "  874: 2004.0,\n",
              "  875: 1998.0,\n",
              "  876: 2001.0,\n",
              "  877: 1999.0,\n",
              "  878: 2000.0,\n",
              "  879: 1976.0,\n",
              "  880: 1994.0,\n",
              "  881: 1999.0,\n",
              "  882: 1996.0,\n",
              "  883: 1992.0,\n",
              "  884: 1991.0,\n",
              "  885: 2003.0,\n",
              "  886: 2004.0,\n",
              "  887: 2005.0,\n",
              "  888: 2001.0,\n",
              "  889: 2004.0,\n",
              "  890: 1999.0,\n",
              "  891: 2003.0,\n",
              "  892: 1965.0,\n",
              "  893: 2003.0,\n",
              "  894: 1999.0,\n",
              "  895: 1975.0,\n",
              "  896: 1995.0,\n",
              "  897: 2004.0,\n",
              "  898: 2000.0,\n",
              "  899: 2003.0,\n",
              "  900: 1994.0,\n",
              "  901: 1950.0,\n",
              "  902: 2004.0,\n",
              "  903: 2000.0,\n",
              "  904: 2004.0,\n",
              "  905: 2005.0,\n",
              "  906: 1969.0,\n",
              "  907: 1930.0,\n",
              "  908: 1981.0,\n",
              "  909: 1990.0,\n",
              "  910: 1940.0,\n",
              "  911: 1939.0,\n",
              "  912: 2002.0,\n",
              "  913: 1979.0,\n",
              "  914: 1996.0,\n",
              "  915: 2001.0,\n",
              "  916: 1994.0,\n",
              "  917: 2003.0,\n",
              "  918: 1964.0,\n",
              "  919: 2002.0,\n",
              "  920: 1968.0,\n",
              "  921: 1952.0,\n",
              "  922: 2004.0,\n",
              "  923: 2004.0,\n",
              "  924: 1981.0,\n",
              "  925: 1936.0,\n",
              "  926: 2002.0,\n",
              "  927: 1991.0,\n",
              "  928: 1997.0,\n",
              "  929: 2002.0,\n",
              "  930: 1987.0,\n",
              "  931: 1998.0,\n",
              "  932: 1992.0,\n",
              "  933: 2005.0,\n",
              "  934: 1954.0,\n",
              "  935: 2003.0,\n",
              "  936: 1990.0,\n",
              "  937: 1998.0,\n",
              "  938: 2002.0,\n",
              "  939: 2003.0,\n",
              "  940: 1997.0,\n",
              "  941: 1998.0,\n",
              "  942: 1994.0,\n",
              "  943: 2004.0,\n",
              "  944: 1975.0,\n",
              "  945: 1952.0,\n",
              "  946: 2002.0,\n",
              "  947: 1965.0,\n",
              "  948: 2002.0,\n",
              "  949: 1997.0,\n",
              "  950: 1998.0,\n",
              "  951: 2001.0,\n",
              "  952: 1940.0,\n",
              "  953: 1966.0,\n",
              "  954: 2003.0,\n",
              "  955: 1997.0,\n",
              "  956: 1994.0,\n",
              "  957: 1966.0,\n",
              "  958: 2003.0,\n",
              "  959: 2002.0,\n",
              "  960: 1960.0,\n",
              "  961: 1957.0,\n",
              "  962: 2002.0,\n",
              "  963: 1951.0,\n",
              "  964: 2001.0,\n",
              "  965: 1985.0,\n",
              "  966: 1996.0,\n",
              "  967: 2004.0,\n",
              "  968: 1993.0,\n",
              "  969: 1995.0,\n",
              "  970: 2004.0,\n",
              "  971: 2002.0,\n",
              "  972: 2003.0,\n",
              "  973: 1994.0,\n",
              "  974: 1941.0,\n",
              "  975: 1997.0,\n",
              "  976: 2003.0,\n",
              "  977: 2000.0,\n",
              "  978: 2000.0,\n",
              "  979: 1990.0,\n",
              "  980: 1994.0,\n",
              "  981: 1989.0,\n",
              "  982: 2001.0,\n",
              "  983: 1997.0,\n",
              "  984: 1958.0,\n",
              "  985: 1999.0,\n",
              "  986: 2002.0,\n",
              "  987: 1978.0,\n",
              "  988: 1951.0,\n",
              "  989: 2004.0,\n",
              "  990: 1941.0,\n",
              "  991: 1997.0,\n",
              "  992: 1972.0,\n",
              "  993: 1994.0,\n",
              "  994: 1984.0,\n",
              "  995: 2004.0,\n",
              "  996: 1961.0,\n",
              "  997: 1963.0,\n",
              "  998: 2002.0,\n",
              "  999: 1994.0,\n",
              "  1000: 2002.0,\n",
              "  ...},\n",
              " 'title': {1: 'Dinosaur Planet',\n",
              "  2: 'Isle of Man TT 2004 Review',\n",
              "  3: 'Character',\n",
              "  4: \"Paula Abdul's Get Up & Dance\",\n",
              "  5: 'The Rise and Fall of ECW',\n",
              "  6: 'Sick',\n",
              "  7: '8 Man',\n",
              "  8: 'What the #$*! Do We Know!?',\n",
              "  9: \"Class of Nuke 'Em High 2\",\n",
              "  10: 'Fighter',\n",
              "  11: 'Full Frame: Documentary Shorts',\n",
              "  12: 'My Favorite Brunette',\n",
              "  13: 'Lord of the Rings: The Return of the King: Extended Edition: Bonus Material',\n",
              "  14: 'Nature: Antarctica',\n",
              "  15: 'Neil Diamond: Greatest Hits Live',\n",
              "  16: 'Screamers',\n",
              "  17: '7 Seconds',\n",
              "  18: 'Immortal Beloved',\n",
              "  19: \"By Dawn's Early Light\",\n",
              "  20: 'Seeta Aur Geeta',\n",
              "  21: 'Strange Relations',\n",
              "  22: 'Chump Change',\n",
              "  23: \"Clifford: Clifford Saves the Day! / Clifford's Fluffiest Friend Cleo\",\n",
              "  24: 'My Bloody Valentine',\n",
              "  25: 'Inspector Morse 31: Death Is Now My Neighbour',\n",
              "  26: 'Never Die Alone',\n",
              "  27: \"Sesame Street: Elmo's World: The Street We Live On\",\n",
              "  28: 'Lilo and Stitch',\n",
              "  29: 'Boycott',\n",
              "  30: \"Something's Gotta Give\",\n",
              "  31: 'Classic Albums: Meat Loaf: Bat Out of Hell',\n",
              "  32: \"ABC Primetime: Mel Gibson's The Passion of the Christ\",\n",
              "  33: 'Aqua Teen Hunger Force: Vol. 1',\n",
              "  34: \"Ashtanga Yoga: Beginner's Practice with Nicki Doane\",\n",
              "  35: 'Ferngully 2: The Magical Rescue',\n",
              "  36: 'Lady Chatterley',\n",
              "  37: \"Zatoichi's Conspiracy\",\n",
              "  38: 'Daydream Obsession',\n",
              "  39: 'Love Reinvented',\n",
              "  40: 'Pitcher and the Pin-Up',\n",
              "  41: 'Horror Vision',\n",
              "  42: 'Searching for Paradise',\n",
              "  43: 'Silent Service',\n",
              "  44: 'Spitfire Grill',\n",
              "  45: 'The Love Letter',\n",
              "  46: 'Rudolph the Red-Nosed Reindeer',\n",
              "  47: 'The Bad and the Beautiful',\n",
              "  48: 'Justice League',\n",
              "  49: 'Devo: The Complete Truth About De-evolution',\n",
              "  50: 'A Yank in the R.A.F.',\n",
              "  51: 'Jonah: A VeggieTales Movie: Bonus Material',\n",
              "  52: 'The Weather Underground',\n",
              "  53: 'The Bonesetter',\n",
              "  54: \"We're Not Married\",\n",
              "  55: 'Jade',\n",
              "  56: 'Carandiru',\n",
              "  57: 'Richard III',\n",
              "  58: 'Dragonheart',\n",
              "  59: 'Sex and the Beauties',\n",
              "  60: 'The Libertine',\n",
              "  61: 'Ricky Martin: One Night Only',\n",
              "  62: \"Ken Burns' America: Empire of the Air\",\n",
              "  63: 'Crash Dive',\n",
              "  64: 'Outside the Law',\n",
              "  65: 'Lost in the Pershing Point Hotel',\n",
              "  66: 'Barbarian Queen 2',\n",
              "  67: 'Vampire Journals',\n",
              "  68: 'Invader Zim',\n",
              "  69: 'WWE: Armageddon 2003',\n",
              "  70: 'Tai Chi: The 24 Forms',\n",
              "  71: 'Maya Lin: A Strong Clear Vision',\n",
              "  72: 'At Home Among Strangers',\n",
              "  73: 'Davy Crockett: 50th Anniversary Double Feature',\n",
              "  74: '6ixtynin9',\n",
              "  75: 'Grind',\n",
              "  76: 'I Love Lucy: Season 2',\n",
              "  77: 'Congo',\n",
              "  78: 'Jingle All the Way',\n",
              "  79: 'The Killing',\n",
              "  80: 'Winter Kills',\n",
              "  81: 'Antarctica: IMAX',\n",
              "  82: 'The Frogmen',\n",
              "  83: 'Silkwood',\n",
              "  84: 'The Powerpuff Girls Movie',\n",
              "  85: 'Elfen Lied',\n",
              "  86: 'Iron Monkey 2',\n",
              "  87: 'Louder Than Bombs',\n",
              "  88: 'Record of Lodoss War: Chronicles of the Heroic Knight',\n",
              "  89: 'Chain of Command',\n",
              "  90: 'The Lemon Drop Kid',\n",
              "  91: 'WWE: Royal Rumble 2005',\n",
              "  92: \"ECW: Cyberslam '99\",\n",
              "  93: 'They Came Back',\n",
              "  94: 'G3: Live in Concert',\n",
              "  95: 'Dona Herlinda and Her Son',\n",
              "  96: 'Inside the Space Station',\n",
              "  97: 'Mostly Martha',\n",
              "  98: 'The Battle of Algiers: Bonus Material',\n",
              "  99: 'A Fishy Story',\n",
              "  100: 'Sam the Iron Bridge',\n",
              "  101: 'Complete Shamanic Princess',\n",
              "  102: 'Notre Musique',\n",
              "  103: 'Sanford and Son: Season 6',\n",
              "  104: 'The Great Race',\n",
              "  105: 'Obsessed',\n",
              "  106: 'Stevie Ray Vaughan and Double Trouble: Live at Montreux 1982 & 1985',\n",
              "  107: 'Magnolia: Bonus Material',\n",
              "  108: 'Spartan',\n",
              "  109: 'No Way Back',\n",
              "  110: 'Scandal',\n",
              "  111: 'Duplex (Widescreen)',\n",
              "  112: 'The Eye of Vichy',\n",
              "  113: \"Bruce Lee: A Warrior's Journey\",\n",
              "  114: 'Dominion Tank Police Part 1 & 2',\n",
              "  115: 'Lord Peter Wimsey: Murder Must Advertise',\n",
              "  116: 'Bear Cub',\n",
              "  117: 'Silk Stockings',\n",
              "  118: 'Rambo: First Blood Part II',\n",
              "  119: 'Travel the World by Train: Africa',\n",
              "  120: 'Plain Dirty',\n",
              "  121: 'Beyonce: Live at Wembley',\n",
              "  122: 'Cube 2: Hypercube',\n",
              "  123: 'Chain of Fools',\n",
              "  124: 'Cold Blooded',\n",
              "  125: 'Nighthawks',\n",
              "  126: 'Vampire Effect (aka Twins Effect)',\n",
              "  127: 'Fatal Beauty',\n",
              "  128: 'Mr. Vampire',\n",
              "  129: 'Darkwolf',\n",
              "  130: 'Drowning on Dry Land',\n",
              "  131: 'Arachnid',\n",
              "  132: 'Lucio Fulci: The Beyond',\n",
              "  133: 'Viva La Bam: Season 1',\n",
              "  134: 'Spirit Lost',\n",
              "  135: 'GTO: Great Teacher Onizuka: Set 2',\n",
              "  136: 'Cat and the Canary',\n",
              "  137: 'Naked Lies',\n",
              "  138: 'Star Trek: Voyager: Season 1',\n",
              "  139: 'Allergies: A Natural Approach',\n",
              "  140: 'Lost in the Wild',\n",
              "  141: 'Goddess of Mercy',\n",
              "  142: 'The Tricky Master',\n",
              "  143: 'The Game',\n",
              "  144: 'Deepak Chopra: The Way of the Wizard & Alchemy',\n",
              "  145: 'Get Out Your Handkerchiefs',\n",
              "  146: 'Cannibal Women in the Avocado Jungle of Death',\n",
              "  147: 'Where Sleeping Dogs Lie',\n",
              "  148: 'Sweet November',\n",
              "  149: 'The Edward R. Murrow Collection',\n",
              "  150: 'Firetrap',\n",
              "  151: 'Sleepover Nightmare',\n",
              "  152: 'A Little Princess',\n",
              "  153: 'MTV Yoga',\n",
              "  154: 'Demon Warrior Koji',\n",
              "  155: 'The Strongest Man in the World',\n",
              "  156: 'Husbands and Wives',\n",
              "  157: 'Laird: White Knuckle Extreme',\n",
              "  158: 'A Killer Within',\n",
              "  159: 'Gentlemen of Fortune',\n",
              "  160: 'Gormenghast',\n",
              "  161: 'Ninotchka',\n",
              "  162: 'John Cleese on How to Irritate People',\n",
              "  163: 'MTV: Making the Band 2: Best of Season 1',\n",
              "  164: 'One Last Dance',\n",
              "  165: 'Richard Pryor: Live on the Sunset Strip',\n",
              "  166: 'Fame',\n",
              "  167: 'The Chorus',\n",
              "  168: 'Smokey and the Bandit Part 3',\n",
              "  169: 'Cartoon Network Halloween: 9 Creepy Cartoon Capers',\n",
              "  170: 'Tomorrow',\n",
              "  171: 'Funny Face',\n",
              "  172: 'Jack',\n",
              "  173: \"The Devil's Brigade\",\n",
              "  174: 'Adam-12: Season 1',\n",
              "  175: 'Reservoir Dogs',\n",
              "  176: 'The History Channel Presents: Troy: Unearthing the Legend',\n",
              "  177: 'Pressure',\n",
              "  178: 'Regular Guys',\n",
              "  179: 'Bollywood Bound',\n",
              "  180: 'Scratch',\n",
              "  181: 'The Last Shot',\n",
              "  182: 'Moby: Play',\n",
              "  183: 'IFilm: Deranged',\n",
              "  184: 'Billy Blanks: Tae Bo: Cardio Circuit 1',\n",
              "  185: 'Missing in Action 2: The Beginning / Missing in Action 3: Braddock',\n",
              "  186: 'Panic in the Streets',\n",
              "  187: 'Death to Smoochy',\n",
              "  188: 'Dead Birds',\n",
              "  189: 'Airplane II: The Sequel',\n",
              "  190: 'Blood and Sand',\n",
              "  191: 'X2: X-Men United',\n",
              "  192: 'The SoulTaker',\n",
              "  193: 'Marilyn Manson: Fear of a Satanic Planet',\n",
              "  194: 'Arliss: The Best of Arliss',\n",
              "  195: 'Chasing Freedom',\n",
              "  196: 'Peter Tosh: Stepping Razor: Red X',\n",
              "  197: 'Taking Lives',\n",
              "  198: 'Gupt',\n",
              "  199: 'The Deer Hunter',\n",
              "  200: 'The Fall of the Roman Empire',\n",
              "  201: 'Home Movie',\n",
              "  202: \"Ruby's Bucket of Blood\",\n",
              "  203: 'Sports Illustrated Swimsuit Edition: 1997',\n",
              "  204: 'Venus Boyz',\n",
              "  205: 'Troy: Bonus Material',\n",
              "  206: 'Unconstitutional: The War on Our Civil Liberties',\n",
              "  207: 'Denise Austin: Ultimate Fat Burner',\n",
              "  208: 'The Three Stooges: Sing a Song of Six Pants',\n",
              "  209: 'Star Trek: Deep Space Nine: Season 5',\n",
              "  210: 'Onmyoji',\n",
              "  211: 'The Agronomist',\n",
              "  212: 'Querelle',\n",
              "  213: 'Dinner Rush',\n",
              "  214: 'Read-Along: Beauty and the Beast',\n",
              "  215: \"That '70s Show: Season 1\",\n",
              "  216: 'Impostor',\n",
              "  217: 'Cherry 2000',\n",
              "  218: 'Triumph: Live at the US Festival',\n",
              "  219: 'Neon Bible',\n",
              "  220: 'Winston Churchill: The Wilderness Years',\n",
              "  221: 'Voyage to the Planets and Beyond',\n",
              "  222: 'Yellow',\n",
              "  223: \"Chappelle's Show: Season 1\",\n",
              "  224: 'Midsomer Murders: Blood Will Out',\n",
              "  225: 'The Cookout',\n",
              "  226: 'Henry: Portrait of a Serial Killer 2',\n",
              "  227: 'The Carol Burnett Show: Show Stoppers',\n",
              "  228: 'Butch and Sundance: The Early Days',\n",
              "  229: 'Peter Gabriel: Growing Up Live',\n",
              "  230: 'Unsolved Mysteries: Psychics',\n",
              "  231: 'Marooned in Iraq',\n",
              "  232: 'Gross Anatomy',\n",
              "  233: \"Chato's Land\",\n",
              "  234: 'Animation Legend: Winsor McCay',\n",
              "  235: 'Unhook the Stars',\n",
              "  236: 'Cartoon Crazys Sci-Fi',\n",
              "  237: 'Broken Blossoms',\n",
              "  238: 'Led Zeppelin: The Song Remains the Same',\n",
              "  239: 'Winnie the Pooh: Springtime with Roo',\n",
              "  240: 'Woman of the Year',\n",
              "  241: 'North by Northwest',\n",
              "  242: 'Neon Genesis Evangelion: The End of Evangelion',\n",
              "  243: 'Pressure Point',\n",
              "  244: 'Stellvia',\n",
              "  245: 'Road Dogz',\n",
              "  246: 'The Boston Strangler',\n",
              "  247: 'Oleanna',\n",
              "  248: \"Michael Moore's The Awful Truth: Season 2\",\n",
              "  249: 'The Hunters',\n",
              "  250: 'Cast a Giant Shadow',\n",
              "  251: \"Midsomer Murders: Strangler's Wood\",\n",
              "  252: 'Stuart Little 2',\n",
              "  253: 'A Night at the Opera',\n",
              "  254: 'Westender',\n",
              "  255: 'The Hunchback of Notre Dame II',\n",
              "  256: 'Ghost Dog: The Way of the Samurai',\n",
              "  257: \"Charlotte's Web\",\n",
              "  258: 'Mann',\n",
              "  259: 'Animal',\n",
              "  260: 'Marat / Sade',\n",
              "  261: 'The Big Clock',\n",
              "  262: 'Herbie Rides Again',\n",
              "  263: 'Dragon Ball: Tournament Saga',\n",
              "  264: 'Angelina Ballerina: Lights',\n",
              "  265: 'The Jeff Corwin Experience: Costa Rica and the Amazon',\n",
              "  266: 'Saudade Do Futuro',\n",
              "  267: 'Touched by an Angel: Season 1',\n",
              "  268: 'The Final Countdown',\n",
              "  269: 'Parenthood',\n",
              "  270: 'Sex and the City: Season 4',\n",
              "  271: 'Saludos Amigos',\n",
              "  272: 'Female Yakuza Tale',\n",
              "  273: 'Taxi',\n",
              "  274: 'Crazy as Hell',\n",
              "  275: 'Evelyn',\n",
              "  276: 'Cold Harvest',\n",
              "  277: 'Enigma: MCMXC A.D',\n",
              "  278: '100 Days Before the Command',\n",
              "  279: 'Micki and Maude',\n",
              "  280: 'Sarah Brightman: In Concert',\n",
              "  281: 'The Legend',\n",
              "  282: 'Blue Seed: Beyond',\n",
              "  283: 'If These Walls Could Talk',\n",
              "  284: 'Sasquatch Hunters',\n",
              "  285: \"The Devil's Own\",\n",
              "  286: 'Thunderbirds Are Go',\n",
              "  287: 'Luther Vandross: Always and Forever: An Evening of Songs',\n",
              "  288: 'Saturday Night Live: The Best of Chris Kattan',\n",
              "  289: 'The Avengers',\n",
              "  290: 'Harold and Kumar Go to White Castle',\n",
              "  291: 'Chained Heat 3: Hell Mountain',\n",
              "  292: 'Saturday Night Live: The Best of Gilda Radner',\n",
              "  293: 'Lennon Legend: The Very Best of John Lennon',\n",
              "  294: 'Oasis',\n",
              "  295: 'Ace Ventura: When Nature Calls',\n",
              "  296: 'In His Life: The John Lennon Story',\n",
              "  297: 'The Hebrew Hammer',\n",
              "  298: 'Crunch: Pick Your Spot Pilates',\n",
              "  299: \"Bridget Jones's Diary\",\n",
              "  300: 'Option Zero',\n",
              "  301: 'Hard Ground',\n",
              "  302: 'The Isle',\n",
              "  303: 'Les Liaisons Dangereuses',\n",
              "  304: 'King of the Hill: Season 1',\n",
              "  305: 'Jack',\n",
              "  306: 'Sesame Street: Sing Yourself Silly!',\n",
              "  307: 'Godsmack: Smack This!',\n",
              "  308: 'The Legend of the 7 Golden Vampires/7 Brothers of Dracula',\n",
              "  309: 'The Day of the Locust',\n",
              "  310: 'Leila',\n",
              "  311: 'Ed Wood',\n",
              "  312: 'High Fidelity',\n",
              "  313: 'Pay It Forward',\n",
              "  314: 'Saturday Night Live: The Best of Jon Lovitz',\n",
              "  315: 'Combat! Season 3: Operation 2',\n",
              "  316: 'Futurama: Monster Robot Maniac Fun Collection',\n",
              "  317: 'Mandela and de Klerk',\n",
              "  318: 'Beyond Suspicion',\n",
              "  319: 'Straight to Hell',\n",
              "  320: 'Eat Your Heart Out',\n",
              "  321: 'Ju-Rei: The Uncanny',\n",
              "  322: 'Flesh Gordon',\n",
              "  323: 'Modern Vampires',\n",
              "  324: \"Mother's Boys\",\n",
              "  325: 'Ghosts of Rwanda: Frontline',\n",
              "  326: 'The Plainsman',\n",
              "  327: 'Storefront Hitchcock',\n",
              "  328: 'Deftones: Live in Hawaii',\n",
              "  329: 'Dogma',\n",
              "  330: 'Wild Things',\n",
              "  331: 'Chasing Amy',\n",
              "  332: 'They Crawl',\n",
              "  333: 'Mail Call: The Best of Season 2',\n",
              "  334: 'The Pacifier',\n",
              "  335: 'Fear No Evil',\n",
              "  336: 'The Driver',\n",
              "  337: 'Star 80',\n",
              "  338: 'The Three Stooges: Three Smart Saps',\n",
              "  339: 'Rolling Stones: Rock and Roll Circus',\n",
              "  340: 'Midnight: 2000 Seen By...',\n",
              "  341: 'Tremors 4: The Legend Begins',\n",
              "  342: 'Noir',\n",
              "  343: 'French and Saunders: Live',\n",
              "  344: 'The Taming of the Shrew',\n",
              "  345: 'Star Trek: Voyager: Season 5',\n",
              "  346: 'Up and Down',\n",
              "  347: 'Iceman Cometh',\n",
              "  348: 'The Last Temptation of Christ',\n",
              "  349: 'The Swarm',\n",
              "  350: 'Dr. Quinn',\n",
              "  351: 'Guns of the Magnificent Seven',\n",
              "  352: 'Pick a Card',\n",
              "  353: 'Life or Something Like It',\n",
              "  354: 'Sadomania',\n",
              "  355: 'Sinful Nuns of St. Valentine',\n",
              "  356: 'Look at Me',\n",
              "  357: 'House of Sand and Fog',\n",
              "  358: 'The Onion Field',\n",
              "  359: 'Absolutely Fabulous: Series 5',\n",
              "  360: 'Lies',\n",
              "  361: 'The Phantom of the Opera: Special Edition',\n",
              "  362: 'The Flintstones in Viva Rock Vegas',\n",
              "  363: 'Stark Raving Mad',\n",
              "  364: 'Billy Blanks: Tae Bo: Contact 2',\n",
              "  365: 'R.E.M.: Tourfilm',\n",
              "  366: 'Still',\n",
              "  367: 'Spun',\n",
              "  368: 'The Best of Designing Women',\n",
              "  369: 'Playing Mona Lisa',\n",
              "  370: 'Chaplin',\n",
              "  371: 'The Trouble with Angels',\n",
              "  372: 'Jeans',\n",
              "  373: 'Third World Cop',\n",
              "  374: 'The Little Girl Who Lives Down the Lane',\n",
              "  375: 'Nine Dead Gay Guys',\n",
              "  376: 'Genesis: The Way We Walk: Live in Concert',\n",
              "  377: 'Dick Francis: The Racing Game',\n",
              "  378: 'Party Monster',\n",
              "  379: 'Crash Dive',\n",
              "  380: 'Live Wire',\n",
              "  381: 'Out for Justice',\n",
              "  382: 'Buried in the Sand: The Deception of America',\n",
              "  383: 'Hit Team',\n",
              "  384: 'Crossroads',\n",
              "  385: 'The Santa Clause 2',\n",
              "  386: 'Princess Caraboo',\n",
              "  387: \"Bizet's Carmen\",\n",
              "  388: 'Body Chemistry',\n",
              "  389: 'Steal',\n",
              "  390: 'The Fan',\n",
              "  391: 'The Monkees: Season 2',\n",
              "  392: \"Danielle Steel's Heartbeat\",\n",
              "  393: 'The Replacement Killers',\n",
              "  394: '20',\n",
              "  395: 'Captain Blood',\n",
              "  396: 'Arjuna: Complete Collection',\n",
              "  397: 'A Night in Casablanca',\n",
              "  398: 'In the Realm of the Senses',\n",
              "  399: 'Fangs',\n",
              "  400: 'Rio Lobo',\n",
              "  401: 'Halloween 5: The Revenge of Michael Myers',\n",
              "  402: 'Pan Tadeusz',\n",
              "  403: 'Substitute 4: Failure is Not an Option',\n",
              "  404: 'The Shaft',\n",
              "  405: 'Wings of Desire',\n",
              "  406: 'Hostage',\n",
              "  407: 'The Abductors',\n",
              "  408: 'Nightbreed',\n",
              "  409: 'Godzilla vs. The Sea Monster',\n",
              "  410: 'Frank Lloyd Wright',\n",
              "  411: 'Vendetta',\n",
              "  412: 'Jay Jay the Jet Plane: Adventures in Learning',\n",
              "  413: 'Igby Goes Down',\n",
              "  414: 'Girl',\n",
              "  415: 'Reign in Darkness',\n",
              "  416: 'Elephant',\n",
              "  417: 'Transformers: Season 3: Part 1',\n",
              "  418: 'The Deal',\n",
              "  419: 'George Lopez: Why You Crying?',\n",
              "  420: 'Saturday Night Live: The Best of Dana Carvey',\n",
              "  421: \"Agatha Christie's Poirot: Sad Cypress\",\n",
              "  422: 'The Unsinkable Molly Brown',\n",
              "  423: 'My Favorite Martian #1',\n",
              "  424: 'Happiness',\n",
              "  425: 'The 10th Kingdom',\n",
              "  426: \"Recess: School's Out\",\n",
              "  427: 'Graveyard Shift',\n",
              "  428: \"Barney: Barney's Colorful World: Live\",\n",
              "  429: 'Zeus and Roxanne',\n",
              "  430: 'Chobits',\n",
              "  431: 'Millennium Actress',\n",
              "  432: 'Les Miserables in Concert',\n",
              "  433: 'Untamed Heart',\n",
              "  434: \"Extreme Engineering: Tokyo's Sky City\",\n",
              "  435: 'Love Can Seriously Damage Your Health',\n",
              "  436: 'Girls Just Want to Have Fun',\n",
              "  437: 'Beyblade: Fierce Battle',\n",
              "  438: 'Bean: The Movie',\n",
              "  439: 'Town Without Pity',\n",
              "  440: 'Just 4 Kicks',\n",
              "  441: 'Dark Shadows: Vol. 9',\n",
              "  442: 'Mississippi Burning',\n",
              "  443: 'Rabbit-Proof Fence',\n",
              "  444: 'The Inner Tour',\n",
              "  445: 'Michael Collins',\n",
              "  446: 'The Underneath',\n",
              "  447: 'The Making of Fanny and Alexander',\n",
              "  448: 'Oswald: Welcome to the Big City!',\n",
              "  449: 'Jimmy Buffett: MiniMatinee #1',\n",
              "  450: \"Isaac Stern: Life's Virtuoso\",\n",
              "  451: 'Batman the Animated Series: Vol. 3',\n",
              "  452: 'Scorched',\n",
              "  453: 'Simple Men',\n",
              "  454: 'Xena: Warrior Princess: Season 3',\n",
              "  455: 'Cardcaptor Sakura: The Movie',\n",
              "  456: 'Emma (Miniseries)',\n",
              "  457: 'Kill Bill: Vol. 2',\n",
              "  458: 'Blast',\n",
              "  459: 'Basquiat',\n",
              "  460: 'Pink Narcissus',\n",
              "  461: 'Nightwalker #1: Midnight Detective',\n",
              "  462: 'Classic Cartoon Favorites: Starring Donald',\n",
              "  463: 'The Twilight Zone: Vol. 12',\n",
              "  464: 'The Return of Ruben Blades',\n",
              "  465: 'Coolie No.1',\n",
              "  466: 'Doogie Howser',\n",
              "  467: 'Topper Returns',\n",
              "  468: 'The Matrix: Revolutions',\n",
              "  469: 'First Night of My Life: 2000 Seen By...',\n",
              "  470: 'Beneath Loch Ness',\n",
              "  471: 'City Lights',\n",
              "  472: 'Mr. Jealousy',\n",
              "  473: 'Princess Mononoke',\n",
              "  474: 'Legend of 1900',\n",
              "  475: 'Surf Ninjas',\n",
              "  476: \"VeggieTales Classics: Where's God When I'm Scared?\",\n",
              "  477: 'George Carlin: Personal Favorites',\n",
              "  478: 'The Beverly Hillbillies',\n",
              "  479: 'George Carlin: What Am I Doing in New Jersey?',\n",
              "  480: 'Flypaper',\n",
              "  481: 'Building the Great Pyramid',\n",
              "  482: 'Frida',\n",
              "  483: 'Rush Hour 2',\n",
              "  484: \"Danielle Steel's Jewels\",\n",
              "  485: \"The Avengers '67\",\n",
              "  486: 'Journey to the Center of the Earth',\n",
              "  487: 'Doctor Who: Lost in Time: The Patrick Troughton Years',\n",
              "  488: 'His Secret Life',\n",
              "  489: 'Return to Paradise',\n",
              "  490: 'The Passion of Ayn Rand',\n",
              "  491: 'Torn Curtain',\n",
              "  492: 'Mrs. Soffel',\n",
              "  493: 'The Giallo Collection: Who Saw Her Die?',\n",
              "  494: \"Monty Python's The Meaning of Life: Special Edition\",\n",
              "  495: 'Mission Kashmir',\n",
              "  496: 'Primus: Hallucino-Genetics Live 2004',\n",
              "  497: \"Broadway's Lost Treasures\",\n",
              "  498: 'Glory: Bonus Material',\n",
              "  499: 'Under Suspicion',\n",
              "  500: 'Mail Call: The Best of Season 1',\n",
              "  501: 'Three Days of the Condor',\n",
              "  502: 'Mitch Hedberg: Mitch All Together',\n",
              "  503: 'Max and Ruby: Springtime for Max and Ruby',\n",
              "  504: 'The Twilight Zone: Vol. 27',\n",
              "  505: 'A Thousand Acres',\n",
              "  506: \"Blank Generation / Dancin' Barefoot\",\n",
              "  507: 'Nevada Smith',\n",
              "  508: 'Saint Jack',\n",
              "  509: 'The Volcano Disaster',\n",
              "  510: \"Blue's Clues: Blue's Room: It's Hug Day\",\n",
              "  511: 'Avenging Angelo',\n",
              "  512: 'Bubblegum Crisis: Hurricane Live!',\n",
              "  513: 'Butterfly Kiss',\n",
              "  514: 'Santana: Supernatural Live',\n",
              "  515: 'Avia Vampire Hunter',\n",
              "  516: 'Monsoon Wedding',\n",
              "  517: 'Two Can Play That Game',\n",
              "  518: 'The Prime of Miss Jean Brodie',\n",
              "  519: 'From Mao to Mozart: Isaac Stern in China',\n",
              "  520: \"E's Otherwise\",\n",
              "  521: 'Presenting Felix the Cat',\n",
              "  522: 'Love Songs',\n",
              "  523: 'My Side of the Mountain',\n",
              "  524: 'Mumford',\n",
              "  525: 'The Last Seduction II',\n",
              "  526: 'Angie',\n",
              "  527: 'Barbarian Queen',\n",
              "  528: \"The Hitchhiker's Guide to the Galaxy\",\n",
              "  529: 'Summer of the Monkeys',\n",
              "  530: 'Return to Horror High',\n",
              "  531: \"You're Invited to Mary-Kate and Ashley's Vacation Parties\",\n",
              "  532: 'Young Einstein',\n",
              "  533: 'Drop Dead Fred',\n",
              "  534: 'With a Friend Like Harry',\n",
              "  535: 'The Alamo',\n",
              "  536: 'Sol Goode',\n",
              "  537: 'Here is Greenwood',\n",
              "  538: 'A Crime of Passion',\n",
              "  539: 'Rumpole of the Bailey: Series 4',\n",
              "  540: 'Ghosts of the Abyss: Bonus Material',\n",
              "  541: 'King Cobra',\n",
              "  542: 'The Blackout',\n",
              "  543: 'Roughnecks: The Starship Troopers Chronicles: The Pluto Campaign',\n",
              "  544: 'Maurice: Bonus Material',\n",
              "  545: 'Bob the Builder: The Big Game',\n",
              "  546: 'The Strip Game',\n",
              "  547: 'Kuffs',\n",
              "  548: 'Hudson Hawk',\n",
              "  549: 'Rage at Dawn',\n",
              "  550: 'First Knight',\n",
              "  551: 'The Santa Clause',\n",
              "  552: 'Radioland Murders',\n",
              "  553: 'Rangeela',\n",
              "  554: 'Solaris',\n",
              "  555: 'Cadfael: A Morbid Taste for Bones',\n",
              "  556: 'New Waterford Girl',\n",
              "  557: 'Liebestraum',\n",
              "  558: 'Fantastic Four',\n",
              "  559: 'Rebecca: Bonus Material',\n",
              "  560: 'Star Trek: Enterprise: Season 3',\n",
              "  561: 'High and Low',\n",
              "  562: 'Bloody Mallory',\n",
              "  563: 'Jimmy Neutron: Boy Genius',\n",
              "  564: 'Predator 2',\n",
              "  565: 'Tom Petty and the Heartbreakers: Live at the Olympic: The Last DJ',\n",
              "  566: 'Bullet',\n",
              "  567: 'Dunsmore',\n",
              "  568: 'Knights of Ramune',\n",
              "  569: 'The In-Laws',\n",
              "  570: 'The Visit',\n",
              "  571: 'American Beauty',\n",
              "  572: 'The Masque of the Red Death / The Premature Burial',\n",
              "  573: 'Winners & Sinners',\n",
              "  574: 'Strangers When We Meet',\n",
              "  575: 'Highlander: Season 4',\n",
              "  576: 'Popular: Season 2',\n",
              "  577: 'The Twilight Zone: Vol. 36',\n",
              "  578: 'The Terror',\n",
              "  579: 'The Autobiography of Miss Jane Pittman',\n",
              "  580: 'THX 1138: Special Edition',\n",
              "  581: 'Black Jack: The Movie',\n",
              "  582: 'Jo Jo Dancer',\n",
              "  583: 'Third Man on the Mountain',\n",
              "  584: 'The Curve',\n",
              "  585: 'My Family',\n",
              "  586: 'Shanghai Triad',\n",
              "  587: 'The Scarlet and the Black',\n",
              "  588: 'Blue Planet: IMAX',\n",
              "  589: 'Northanger Abbey',\n",
              "  590: 'Michael McDonald: A Gathering of Friends',\n",
              "  591: 'Particles of Truth',\n",
              "  592: 'House of Whipcord',\n",
              "  593: 'Baby Genius: Mozart and Friends',\n",
              "  594: 'By Hook or By Crook',\n",
              "  595: 'Monarch of the Glen: Series 2',\n",
              "  596: 'Alice in Wonderland (TV Version)',\n",
              "  597: 'The Brady Bunch Variety Hour',\n",
              "  598: 'Bobby Darin: Mack is Back',\n",
              "  599: 'Sea of Love',\n",
              "  600: \"What's Up\",\n",
              "  601: 'The Smiths: The Complete Picture',\n",
              "  602: 'Tokyo Raiders',\n",
              "  603: 'Burn Up Excess: Vol. 1: To Serve and Protect',\n",
              "  604: \"Walt Disney's Timeless Tales: Vol. 2\",\n",
              "  605: 'The Secrets of the Dead Sea Scrolls',\n",
              "  606: 'Quatermass and the Pit',\n",
              "  607: 'Speed',\n",
              "  608: 'The Lickerish Quartet',\n",
              "  609: 'Jimmy Neutron: Attack of the Twonkies',\n",
              "  610: 'Offspring: Americana',\n",
              "  611: 'Spooks & Creeps',\n",
              "  612: 'Cloak and Dagger',\n",
              "  613: 'The Dr. Who Collection',\n",
              "  614: 'Bad Boy Bubby',\n",
              "  615: 'An Ideal Husband',\n",
              "  616: 'SCTV Network 90: Vol. 4',\n",
              "  617: 'UFC: Ultimate Fighting Championship: Ultimate Knockouts 3',\n",
              "  618: 'Totally F***ed Up',\n",
              "  619: 'Doctor Who: The Leisure Hive',\n",
              "  620: 'Hot Wheels: World Race',\n",
              "  621: 'Armageddon',\n",
              "  622: \"Talkin' Dirty After Dark\",\n",
              "  623: 'Dario Argento Collection: Vol. 2: Demons 2',\n",
              "  624: 'My Mother Likes Women',\n",
              "  625: 'Underground Comedy Movie',\n",
              "  626: 'They Died with Their Boots On',\n",
              "  627: 'Beware of a Holy Whore',\n",
              "  628: 'Rescue Heroes: The Movie',\n",
              "  629: 'Firestarter',\n",
              "  630: 'Empire of the Ants',\n",
              "  631: 'Unleashed',\n",
              "  632: \"Shaft's Big Score!\",\n",
              "  633: 'Baazigar',\n",
              "  634: 'Christmas with The Simpsons',\n",
              "  635: 'The Fassbinder Collection: Pioneer in Ingolstadt',\n",
              "  636: 'Stir Crazy',\n",
              "  637: 'National Geographic: Inside American Power: Air Force One',\n",
              "  638: 'The Last Dragon',\n",
              "  639: 'Jim Brown: All-American',\n",
              "  640: 'To Catch a Killer',\n",
              "  641: 'Charly',\n",
              "  642: 'Mystery Science Theater 3000: The Hellcats',\n",
              "  643: 'Buying the Cow',\n",
              "  644: 'Cheyenne Warrior',\n",
              "  645: 'Dear Frankie',\n",
              "  646: 'Matewan',\n",
              "  647: 'Cinderfella',\n",
              "  648: 'John Mayall & The Bluesbreakers and Friends: 70th Birthday Concert',\n",
              "  649: 'Ricky Martin: The Ricky Martin Video Collection',\n",
              "  650: \"Elvira's Haunted Hills\",\n",
              "  651: 'The Rainbow Fish / Dazzle the Dinosaur',\n",
              "  652: \"Marvin's Room\",\n",
              "  653: 'American Tragedy',\n",
              "  654: 'Return of the Chinese Boxer',\n",
              "  655: 'Green Acres: Season 1',\n",
              "  656: 'Veronica 2030',\n",
              "  657: 'Highlander: Season 5',\n",
              "  658: 'Robin Hood: Prince of Thieves',\n",
              "  659: 'The Last House on the Left',\n",
              "  660: 'Saving Grace',\n",
              "  661: 'Who is Cletis Tout?',\n",
              "  662: 'Rob Roy',\n",
              "  663: 'La Femme Nikita: Season 3',\n",
              "  664: 'Office Killer',\n",
              "  665: 'Lipstick',\n",
              "  666: 'The Man Who Came to Dinner',\n",
              "  667: \"Gilligan's Island: Season 2\",\n",
              "  668: 'Saturday Night Live: The Best of Will Ferrell 2',\n",
              "  669: 'Real Kung Fu of Shaolin',\n",
              "  670: 'He Loves Me',\n",
              "  671: 'The Winter People',\n",
              "  672: 'He Said',\n",
              "  673: 'Fight Club: Bonus Material',\n",
              "  674: 'Hellbound: Hellraiser II',\n",
              "  675: \"Rugrats All Grown Up: O' Brother!\",\n",
              "  676: 'Mafia!',\n",
              "  677: 'In the Mood for Love',\n",
              "  678: 'Loves of a Blonde',\n",
              "  679: 'R.E.M.: Pop Screen',\n",
              "  680: 'Better Than Sex',\n",
              "  681: 'Police Academy 3: Back in Training',\n",
              "  682: 'The Mighty',\n",
              "  683: 'Cavalry Charge',\n",
              "  684: 'Visitors of the Night',\n",
              "  685: 'Running Out of Time',\n",
              "  686: 'Bedazzled',\n",
              "  687: 'Peter Jennings Reports: The Kennedy Assassination: Beyond Conspiracy',\n",
              "  688: 'The History Channel Presents: The Alamo',\n",
              "  689: 'One True Thing',\n",
              "  690: 'Baby Einstein: Baby Da Vinci',\n",
              "  691: \"Angel's Dance\",\n",
              "  692: 'The Hand that Rocks the Cradle',\n",
              "  693: 'The Quest',\n",
              "  694: 'When Dinosaurs Roamed America',\n",
              "  695: 'Koma',\n",
              "  696: 'Last Man Standing',\n",
              "  697: \"Caillou: Caillou's Treasure Hunt and Other Adventures\",\n",
              "  698: 'Daud',\n",
              "  699: 'Mahoromatic: Automatic Maiden: Summer Special',\n",
              "  700: \"Todd McFarlane's Spawn\",\n",
              "  701: 'Nine Lives',\n",
              "  702: 'For the Moment',\n",
              "  703: 'Japan: Memoirs of a Secret Empire',\n",
              "  704: 'A Change of Heart',\n",
              "  705: 'Major League',\n",
              "  706: 'Mobsters',\n",
              "  707: 'The Return',\n",
              "  708: 'The Perfect Storm',\n",
              "  709: \"Africans in America: America's Journey Through Slavery\",\n",
              "  710: 'Inspector Morse 9: The Last Enemy',\n",
              "  711: 'Dolores Claiborne',\n",
              "  712: 'Homicide: Life on the Street: Season 7',\n",
              "  713: 'Cause Celebre',\n",
              "  714: 'Whisper Kill',\n",
              "  715: 'Film Noir Collection: D.O.A.',\n",
              "  716: 'The Bravados',\n",
              "  717: 'Testosterone',\n",
              "  718: '44 Minutes',\n",
              "  719: 'City of Industry',\n",
              "  720: 'Roger & Me',\n",
              "  721: 'Royal Deceit',\n",
              "  722: 'The Wire: Season 1',\n",
              "  723: 'Curly Sue',\n",
              "  724: 'Yu Yu Hakusho',\n",
              "  725: 'Woman Thou Art Loosed',\n",
              "  726: 'The Haunting of Morella',\n",
              "  727: 'Carlton-Browne of the F.O.',\n",
              "  728: \"Abigail's Party\",\n",
              "  729: 'Fast Food',\n",
              "  730: 'Bagdad Cafe',\n",
              "  731: 'Mr. Magoo',\n",
              "  732: '11:14',\n",
              "  733: 'Dead Ringers',\n",
              "  734: 'Indochine',\n",
              "  735: 'Hillary & Tenzing: Climbing to the Roof of World',\n",
              "  736: 'The Last Man',\n",
              "  737: 'Great Pas de Deux',\n",
              "  738: 'A Slipping Down Life',\n",
              "  739: 'Treading Water',\n",
              "  740: 'The House on Carroll Street',\n",
              "  741: \"Ken Burns' America: The Congress\",\n",
              "  742: 'Sherlock: Case of Evil',\n",
              "  743: \"Widows' Peak\",\n",
              "  744: 'Hot War',\n",
              "  745: 'Fantasy Mission Force',\n",
              "  746: 'Domestic Disturbance',\n",
              "  747: 'Saber Marionette J',\n",
              "  748: 'I Can Do Bad All By Myself',\n",
              "  749: 'Ernest Goes to Jail',\n",
              "  750: 'The Librarian: Quest for the Spear',\n",
              "  751: 'Halloween: H2O',\n",
              "  752: 'Star Trek: The Next Generation: Season 7',\n",
              "  753: 'Mary Poppins: Bonus Material',\n",
              "  754: 'The Lonely Guy',\n",
              "  755: 'Music Box',\n",
              "  756: 'The Best of MusikLaden: Classic Rock',\n",
              "  757: 'Sherlock Hound',\n",
              "  758: 'Mean Girls',\n",
              "  759: 'Fifteen Minutes',\n",
              "  760: \"Pooh's Heffalump Movie\",\n",
              "  761: 'O Fantasma',\n",
              "  762: 'End of the Century: The Story of the Ramones',\n",
              "  763: 'The Poseidon Adventure',\n",
              "  764: 'Scarface: 20th Anniversary Edition: Bonus Material',\n",
              "  765: 'Grief',\n",
              "  766: 'A Hole in the Head',\n",
              "  767: 'Edges of the Lord',\n",
              "  768: 'The Star Maker',\n",
              "  769: 'The Crawling Eye',\n",
              "  770: 'A Perfect Candidate',\n",
              "  771: 'Man in the Iron Mask',\n",
              "  772: \"Gloria Estefan: Don't Stop!\",\n",
              "  773: 'He Died with a Felafel in His Hand',\n",
              "  774: \"Foyle's War: Set 2\",\n",
              "  775: 'Man Ray: Prophet of the Avant Garde',\n",
              "  776: \"Dr. Seuss's The 5\",\n",
              "  777: 'Sherlock Holmes and the Spider Woman',\n",
              "  778: 'A Touch of Frost: Seasons 7 & 8',\n",
              "  779: 'Loving Jezebel',\n",
              "  780: 'Churchill',\n",
              "  781: 'Care Bears: Journey to Joke-a-Lot',\n",
              "  782: 'Soldier of Fortune',\n",
              "  783: 'For Love or Country',\n",
              "  784: 'The Outer Limits: The New Series: Aliens Among Us',\n",
              "  785: 'American Pop',\n",
              "  786: 'Tokyo Drifter',\n",
              "  787: 'La Vallee',\n",
              "  788: 'Clerks',\n",
              "  789: 'Boyz N the Hood',\n",
              "  790: 'A Single Girl',\n",
              "  791: 'Don Henley: Live Inside Job',\n",
              "  792: 'Unsolved History: Salem Witch Trials',\n",
              "  793: 'By Brakhage: An Anthology',\n",
              "  794: 'A Stranger Among Us',\n",
              "  795: 'Landmarks of Early Film',\n",
              "  796: 'Rabid',\n",
              "  797: 'Look Back in Anger',\n",
              "  798: 'Jaws',\n",
              "  799: 'Teen Titans: Season 1',\n",
              "  800: 'Dracula Vs. Frankenstein',\n",
              "  801: 'We Know Where You Live. Live!',\n",
              "  802: 'Spies',\n",
              "  803: 'Soul Assassin',\n",
              "  804: 'Sherlock Holmes: The Scarlet Claw',\n",
              "  805: 'Dark Shadows: Vol. 11',\n",
              "  806: 'Eyes Without a Face',\n",
              "  807: 'The Mouse That Roared',\n",
              "  808: 'Dead Man on Campus',\n",
              "  809: 'Left Behind II: Tribulation Force',\n",
              "  810: 'The Matchmaker',\n",
              "  811: 'The Lawnmower Man',\n",
              "  812: 'The Saddle Club: Horse Crazy',\n",
              "  813: 'On Cukor',\n",
              "  814: 'Ruin Explorers',\n",
              "  815: 'Tiger Bay',\n",
              "  816: 'Marlene Dietrich: Her Own Song',\n",
              "  817: 'My Bodyguard',\n",
              "  818: \"Logan's Run\",\n",
              "  819: 'The Faculty',\n",
              "  820: 'Predator Island',\n",
              "  821: 'Slaughter',\n",
              "  822: 'Star Trek: Enterprise: Season 1',\n",
              "  823: 'Sleepaway Camp II: Unhappy Campers',\n",
              "  824: 'A Piece of the Action',\n",
              "  825: 'Bill Cosby: Himself',\n",
              "  826: 'Goosebumps: Cry of the Cat',\n",
              "  827: \"C'est La Vie\",\n",
              "  828: 'Atlantis',\n",
              "  829: 'Serial Mom',\n",
              "  830: 'Return to a Better Tomorrow',\n",
              "  831: 'Mannequin',\n",
              "  832: 'Tupac: Resurrection',\n",
              "  833: 'White Squall',\n",
              "  834: 'Niagara: Miracles',\n",
              "  835: 'Cirque du Soleil: A Baroque Odyssey',\n",
              "  836: 'Incident at Oglala: The Leonard Peltier Story',\n",
              "  837: 'All in the Family: Season 3',\n",
              "  838: 'Gang of Roses',\n",
              "  839: 'The Thin Man Goes Home',\n",
              "  840: 'The Lady Eve',\n",
              "  841: 'There Goes My Baby',\n",
              "  842: 'Reap the Wild Wind',\n",
              "  843: 'Mansfield Park',\n",
              "  844: 'La Cienaga',\n",
              "  845: 'If We Had No Moon',\n",
              "  846: 'Enduring Love',\n",
              "  847: 'Shania Twain: The Platinum Collection',\n",
              "  848: 'La Separation',\n",
              "  849: 'Mr. & Mrs. Bridge',\n",
              "  850: 'Stoked: The Rise and Fall of Gator',\n",
              "  851: 'Back to the Future Part III',\n",
              "  852: 'Disorganized Crime',\n",
              "  853: 'Dragonball: The Magic Begins',\n",
              "  854: \"Wes Craven's Invitation to Hell\",\n",
              "  855: 'Bruiser',\n",
              "  856: 'Devil in the Flesh 2',\n",
              "  857: 'The Three Stooges Go Around the World in a Daze',\n",
              "  858: 'Sports Illustrated Swimsuit Edition: 2002',\n",
              "  859: 'Creepshow',\n",
              "  860: 'Crime Partners',\n",
              "  861: 'Rush: Rush in Rio',\n",
              "  862: 'Tuck Everlasting',\n",
              "  863: 'King of New York: Special Edition (Full-screen)',\n",
              "  864: 'Laughing Out Loud: Vol. 1',\n",
              "  865: 'Elvis by the Presleys',\n",
              "  866: 'Starsky & Hutch: Season 1',\n",
              "  867: 'My Dream Girl',\n",
              "  868: 'La Promesse',\n",
              "  869: 'Without Limits: NASA Test Projects',\n",
              "  870: 'H.G. Wells and the War of the Worlds: A Documentary',\n",
              "  871: 'The Jewel in the Crown',\n",
              "  872: 'Seven Samurai',\n",
              "  873: 'Boys Life 4: Four Play',\n",
              "  874: 'Elvis Costello & the Imposters: Live in Memphis',\n",
              "  875: 'Zakhm',\n",
              "  876: 'Super Gals',\n",
              "  877: 'A Love Divided',\n",
              "  878: 'Short: International Release #2',\n",
              "  879: 'Mikey and Nicky',\n",
              "  880: \"Sharpe 4: Sharpe's Enemy\",\n",
              "  881: 'Mating Habits of the Earthbound Human',\n",
              "  882: 'Gloria Estefan: Evolution Tour: Live in Miami',\n",
              "  883: 'Deep Cover',\n",
              "  884: 'Cup Final',\n",
              "  885: 'The Maldonado Miracle',\n",
              "  886: 'Ray',\n",
              "  887: 'Monster-in-Law: Bonus Material',\n",
              "  888: 'Discovering Australia',\n",
              "  889: 'Reno 911: Season 2',\n",
              "  890: 'Harsh Realm: The Complete Series',\n",
              "  891: \"Zakk Wylde's Black Label Society: Boozed\",\n",
              "  892: 'The Bedford Incident',\n",
              "  893: \"Blue's Clues: Classic Clues\",\n",
              "  894: 'The Muse',\n",
              "  895: 'Dersu Uzala',\n",
              "  896: 'Dangerous Minds',\n",
              "  897: 'Bride and Prejudice',\n",
              "  898: 'The Body',\n",
              "  899: 'Out of Ireland: The Hit Songs and Artists of Irish Music',\n",
              "  900: 'Eat Drink Man Woman',\n",
              "  901: 'Diary of a Country Priest',\n",
              "  902: 'Fascination',\n",
              "  903: 'Hamlet',\n",
              "  904: 'Gargoyles',\n",
              "  905: 'Remedy',\n",
              "  906: 'Benny Hill: Complete and Unadulterated: The Naughty Early Years: Set 1',\n",
              "  907: 'Animal Crackers',\n",
              "  908: 'Sense and Sensibility',\n",
              "  909: 'Too Young to Die',\n",
              "  910: 'Santa Fe Trail',\n",
              "  911: 'Buck Rogers',\n",
              "  912: 'Angelina Ballerina: Friends Forever',\n",
              "  913: 'Dead Kennedys: In God We Trust',\n",
              "  914: 'R.E.M.: Road Movie',\n",
              "  915: 'Haven',\n",
              "  916: 'Earth 2: The Complete Series',\n",
              "  917: 'String Cheese Incident: Live at the Fillmore',\n",
              "  918: \"A Hard Day's Night: Collector's Series\",\n",
              "  919: 'Comedian',\n",
              "  920: \"Satanis: The Devil's Mass / Sinthia: The Devil's Doll: Double Feature\",\n",
              "  921: \"Don't Bother to Knock\",\n",
              "  922: 'Gojoe: Spirit War Chronicle',\n",
              "  923: 'Giant Robo',\n",
              "  924: 'Taxi Zum Klo',\n",
              "  925: 'Dodsworth',\n",
              "  926: 'Fear Of A Punk Planet',\n",
              "  927: \"Danielle Steel's Changes\",\n",
              "  928: 'The Night That Never Happened',\n",
              "  929: 'Journeys with George',\n",
              "  930: 'Back to the Beach',\n",
              "  931: 'Another Day in Paradise',\n",
              "  932: 'Where Are We?',\n",
              "  933: \"Backyardigans: It's Great to Be a Ghost\",\n",
              "  934: 'River of No Return',\n",
              "  935: 'Read Or Die',\n",
              "  936: 'A Dangerous Man: Lawrence After Arabia',\n",
              "  937: 'Fallen',\n",
              "  938: 'Scarecrow',\n",
              "  939: 'Midsomer Murders: A Tale of Two Hamlets',\n",
              "  940: 'Hercules',\n",
              "  941: 'Screw Loose',\n",
              "  942: 'The Pagemaster',\n",
              "  943: \"Dave Chappelle: For What It's Worth\",\n",
              "  944: 'Brother',\n",
              "  945: 'The Duel at Silver Creek',\n",
              "  946: 'Sex and the Teenage Mind',\n",
              "  947: 'The Cincinnati Kid',\n",
              "  948: 'Aap Mujhe Achche Lagne Lage',\n",
              "  949: 'Henry Fool',\n",
              "  950: 'Explosive Dance',\n",
              "  951: 'Richard Rodgers: The Sweetest Sounds',\n",
              "  952: 'My Favorite Wife',\n",
              "  953: 'Fahrenheit 451',\n",
              "  954: 'I Capture the Castle',\n",
              "  955: 'Rhyme & Reason',\n",
              "  956: 'Blankman',\n",
              "  957: 'Lost in Space: Season 2: Vol. 1',\n",
              "  958: 'World Cup Soccer Highlights: 1966-1974',\n",
              "  959: 'Jay Jay the Jet Plane: Lessons for All Seasons',\n",
              "  960: 'The Unforgiven',\n",
              "  961: 'Love in the Afternoon',\n",
              "  962: 'I Spy',\n",
              "  963: 'A Streetcar Named Desire',\n",
              "  964: 'The Tick: The Entire Series',\n",
              "  965: 'Metropolitan Opera: Puccini: Tosca',\n",
              "  966: 'Young and Dangerous 2',\n",
              "  967: 'Main Hoon Na',\n",
              "  968: 'Dottie Gets Spanked',\n",
              "  969: 'Stripteaser',\n",
              "  970: 'Yesterday Once More',\n",
              "  971: 'Unprecedented: The 2000 Presidential Election',\n",
              "  972: 'Ben Harper: Live at the Hollywood Bowl',\n",
              "  973: 'Dr. Martin Luther King',\n",
              "  974: 'The Devil and Daniel Webster',\n",
              "  975: 'Convict 762',\n",
              "  976: 'Tom and Jerry: Paws for a Holiday',\n",
              "  977: 'Our Lady of the Assassins',\n",
              "  978: 'Yi Yi',\n",
              "  979: 'A Moment of Romance',\n",
              "  980: 'The Swan Princess',\n",
              "  981: 'How I Got into College',\n",
              "  982: 'Dil Chahta Hai',\n",
              "  983: 'Wishful Thinking',\n",
              "  984: 'The Young Lions',\n",
              "  985: 'The Mummy',\n",
              "  986: 'The Trip',\n",
              "  987: \"Rescue from Gilligan's Island\",\n",
              "  988: 'Operation Pacific',\n",
              "  989: 'The Door in the Floor',\n",
              "  990: 'Meet John Doe',\n",
              "  991: 'Burn Up Excess: Vol. 2: Crimes and Missed Demeanors',\n",
              "  992: 'The Cowboys',\n",
              "  993: 'The Shadow',\n",
              "  994: 'Children of the Corn',\n",
              "  995: 'Dark Town',\n",
              "  996: 'Yojimbo',\n",
              "  997: 'Miracle of the White Stallions',\n",
              "  998: 'Frida: Bonus Material',\n",
              "  999: 'The Favor',\n",
              "  1000: 'Jim Breuer: Hardcore',\n",
              "  ...}}"
            ]
          },
          "metadata": {},
          "execution_count": 33
        }
      ]
    },
    {
      "cell_type": "code",
      "source": [
        "pickle.dump(similar_movie,open('similar_movie.pkl','wb'))"
      ],
      "metadata": {
        "id": "15S24v9FoA4_"
      },
      "execution_count": null,
      "outputs": []
    },
    {
      "cell_type": "code",
      "source": [
        "type(similar_movie)"
      ],
      "metadata": {
        "colab": {
          "base_uri": "https://localhost:8080/"
        },
        "id": "U-cPO-zUutwx",
        "outputId": "f01bd4af-494e-4c4a-87be-d5ab78dd31c7"
      },
      "execution_count": null,
      "outputs": [
        {
          "output_type": "execute_result",
          "data": {
            "text/plain": [
              "dict"
            ]
          },
          "metadata": {},
          "execution_count": 39
        }
      ]
    },
    {
      "cell_type": "code",
      "source": [],
      "metadata": {
        "id": "x_cUyfqNu3U4"
      },
      "execution_count": null,
      "outputs": []
    }
  ],
  "metadata": {
    "accelerator": "TPU",
    "colab": {
      "collapsed_sections": [],
      "provenance": [],
      "mount_file_id": "1NShCXBybDT4jtL5avJI7a4WpHVsCADqF",
      "authorship_tag": "ABX9TyO1EpKieUtCZWn4BbxMMLYS",
      "include_colab_link": true
    },
    "gpuClass": "standard",
    "kernelspec": {
      "display_name": "Python 3",
      "name": "python3"
    },
    "language_info": {
      "name": "python"
    }
  },
  "nbformat": 4,
  "nbformat_minor": 0
}